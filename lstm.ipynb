{
 "cells": [
  {
   "cell_type": "code",
   "execution_count": 1,
   "id": "0a7aac10",
   "metadata": {
    "_cell_guid": "b1076dfc-b9ad-4769-8c92-a6c4dae69d19",
    "_uuid": "8f2839f25d086af736a60e9eeb907d3b93b6e0e5",
    "execution": {
     "iopub.execute_input": "2023-06-02T05:06:07.915546Z",
     "iopub.status.busy": "2023-06-02T05:06:07.915139Z",
     "iopub.status.idle": "2023-06-02T05:06:07.938595Z",
     "shell.execute_reply": "2023-06-02T05:06:07.937527Z"
    },
    "papermill": {
     "duration": 0.045272,
     "end_time": "2023-06-02T05:06:07.940882",
     "exception": false,
     "start_time": "2023-06-02T05:06:07.895610",
     "status": "completed"
    },
    "tags": []
   },
   "outputs": [
    {
     "name": "stdout",
     "output_type": "stream",
     "text": [
      "/kaggle/input/translated-data-english-validation/translated_data_english_validation.tsv\n",
      "/kaggle/input/translated-data-english/translated_data_english.tsv\n",
      "/kaggle/input/translated-data-english-test/translated_data_english_test.tsv\n"
     ]
    }
   ],
   "source": [
    "# This Python 3 environment comes with many helpful analytics libraries installed\n",
    "# It is defined by the kaggle/python Docker image: https://github.com/kaggle/docker-python\n",
    "# For example, here's several helpful packages to load\n",
    "\n",
    "import numpy as np # linear algebra\n",
    "import pandas as pd # data processing, CSV file I/O (e.g. pd.read_csv)\n",
    "\n",
    "# Input data files are available in the read-only \"../input/\" directory\n",
    "# For example, running this (by clicking run or pressing Shift+Enter) will list all files under the input directory\n",
    "\n",
    "import os\n",
    "for dirname, _, filenames in os.walk('/kaggle/input'):\n",
    "    for filename in filenames:\n",
    "        print(os.path.join(dirname, filename))\n",
    "\n",
    "# You can write up to 20GB to the current directory (/kaggle/working/) that gets preserved as output when you create a version using \"Save & Run All\" \n",
    "# You can also write temporary files to /kaggle/temp/, but they won't be saved outside of the current session"
   ]
  },
  {
   "cell_type": "code",
   "execution_count": 2,
   "id": "231b1916",
   "metadata": {
    "execution": {
     "iopub.execute_input": "2023-06-02T05:06:07.976495Z",
     "iopub.status.busy": "2023-06-02T05:06:07.975780Z",
     "iopub.status.idle": "2023-06-02T05:06:10.023370Z",
     "shell.execute_reply": "2023-06-02T05:06:10.022374Z"
    },
    "papermill": {
     "duration": 2.067226,
     "end_time": "2023-06-02T05:06:10.025431",
     "exception": false,
     "start_time": "2023-06-02T05:06:07.958205",
     "status": "completed"
    },
    "tags": []
   },
   "outputs": [
    {
     "name": "stdout",
     "output_type": "stream",
     "text": [
      "[nltk_data] Downloading package punkt to /usr/share/nltk_data...\n",
      "[nltk_data]   Package punkt is already up-to-date!\n",
      "[nltk_data] Downloading package stopwords to /usr/share/nltk_data...\n",
      "[nltk_data]   Package stopwords is already up-to-date!\n"
     ]
    },
    {
     "data": {
      "text/plain": [
       "True"
      ]
     },
     "execution_count": 2,
     "metadata": {},
     "output_type": "execute_result"
    }
   ],
   "source": [
    "import nltk\n",
    "# The NLTK data package includes a pre-trained Punkt tokenizer for English.\n",
    "# punkt had to be manually downloaded using the command below\n",
    "# same with stopwords\n",
    "nltk.download('punkt')\n",
    "from nltk.tokenize import word_tokenize\n",
    "from nltk.corpus import stopwords\n",
    "nltk.download('stopwords')"
   ]
  },
  {
   "cell_type": "code",
   "execution_count": 3,
   "id": "e8145511",
   "metadata": {
    "execution": {
     "iopub.execute_input": "2023-06-02T05:06:10.062777Z",
     "iopub.status.busy": "2023-06-02T05:06:10.062465Z",
     "iopub.status.idle": "2023-06-02T05:06:10.440631Z",
     "shell.execute_reply": "2023-06-02T05:06:10.439558Z"
    },
    "papermill": {
     "duration": 0.399822,
     "end_time": "2023-06-02T05:06:10.443370",
     "exception": false,
     "start_time": "2023-06-02T05:06:10.043548",
     "status": "completed"
    },
    "tags": []
   },
   "outputs": [],
   "source": [
    "train = pd.read_csv('/kaggle/input/translated-data-english/translated_data_english.tsv', sep='\\t')\n",
    "validation = pd.read_csv('/kaggle/input/translated-data-english-validation/translated_data_english_validation.tsv', sep='\\t')\n",
    "test = pd.read_csv('/kaggle/input/translated-data-english-test/translated_data_english_test.tsv', sep='\\t')"
   ]
  },
  {
   "cell_type": "code",
   "execution_count": 4,
   "id": "c6122b53",
   "metadata": {
    "execution": {
     "iopub.execute_input": "2023-06-02T05:06:10.481011Z",
     "iopub.status.busy": "2023-06-02T05:06:10.480192Z",
     "iopub.status.idle": "2023-06-02T05:06:10.510789Z",
     "shell.execute_reply": "2023-06-02T05:06:10.509671Z"
    },
    "papermill": {
     "duration": 0.052038,
     "end_time": "2023-06-02T05:06:10.513155",
     "exception": false,
     "start_time": "2023-06-02T05:06:10.461117",
     "status": "completed"
    },
    "tags": []
   },
   "outputs": [
    {
     "data": {
      "text/html": [
       "<div>\n",
       "<style scoped>\n",
       "    .dataframe tbody tr th:only-of-type {\n",
       "        vertical-align: middle;\n",
       "    }\n",
       "\n",
       "    .dataframe tbody tr th {\n",
       "        vertical-align: top;\n",
       "    }\n",
       "\n",
       "    .dataframe thead th {\n",
       "        text-align: right;\n",
       "    }\n",
       "</style>\n",
       "<table border=\"1\" class=\"dataframe\">\n",
       "  <thead>\n",
       "    <tr style=\"text-align: right;\">\n",
       "      <th></th>\n",
       "      <th>id</th>\n",
       "      <th>label</th>\n",
       "      <th>statement</th>\n",
       "      <th>subjects</th>\n",
       "      <th>speaker</th>\n",
       "      <th>speaker_job_title</th>\n",
       "      <th>state_info</th>\n",
       "      <th>party_affilation</th>\n",
       "      <th>count_1</th>\n",
       "      <th>count_2</th>\n",
       "      <th>count_3</th>\n",
       "      <th>count_4</th>\n",
       "      <th>count_5</th>\n",
       "      <th>context</th>\n",
       "      <th>statement_removedpunctuation</th>\n",
       "      <th>nepali_translation</th>\n",
       "      <th>english_translation</th>\n",
       "    </tr>\n",
       "  </thead>\n",
       "  <tbody>\n",
       "    <tr>\n",
       "      <th>0</th>\n",
       "      <td>10540.json</td>\n",
       "      <td>half-true</td>\n",
       "      <td>When did the decline of coal start? It started...</td>\n",
       "      <td>energy,history,job-accomplishments</td>\n",
       "      <td>scott-surovell</td>\n",
       "      <td>State delegate</td>\n",
       "      <td>Virginia</td>\n",
       "      <td>democrat</td>\n",
       "      <td>0.0</td>\n",
       "      <td>0.0</td>\n",
       "      <td>1.0</td>\n",
       "      <td>1.0</td>\n",
       "      <td>0.0</td>\n",
       "      <td>a floor speech.</td>\n",
       "      <td>When did the decline of coal start It started ...</td>\n",
       "      <td>कोइलाको पतन कहिले सुरु भयो यो प्राकृतिक ग्यास ...</td>\n",
       "      <td>When did the decline of coal begin? It began w...</td>\n",
       "    </tr>\n",
       "    <tr>\n",
       "      <th>1</th>\n",
       "      <td>324.json</td>\n",
       "      <td>mostly-true</td>\n",
       "      <td>Hillary Clinton agrees with John McCain \"by vo...</td>\n",
       "      <td>foreign-policy</td>\n",
       "      <td>barack-obama</td>\n",
       "      <td>President</td>\n",
       "      <td>Illinois</td>\n",
       "      <td>democrat</td>\n",
       "      <td>70.0</td>\n",
       "      <td>71.0</td>\n",
       "      <td>160.0</td>\n",
       "      <td>163.0</td>\n",
       "      <td>9.0</td>\n",
       "      <td>Denver</td>\n",
       "      <td>Hillary Clinton agrees with John McCain by vot...</td>\n",
       "      <td>हिलारी क्लिन्टनले जर्ज बुशलाई इरानमा शंकाको फा...</td>\n",
       "      <td>Hillary Clinton agreed with John McCain by vot...</td>\n",
       "    </tr>\n",
       "    <tr>\n",
       "      <th>2</th>\n",
       "      <td>1123.json</td>\n",
       "      <td>false</td>\n",
       "      <td>Health care reform legislation is likely to ma...</td>\n",
       "      <td>health-care</td>\n",
       "      <td>blog-posting</td>\n",
       "      <td>NaN</td>\n",
       "      <td>NaN</td>\n",
       "      <td>none</td>\n",
       "      <td>7.0</td>\n",
       "      <td>19.0</td>\n",
       "      <td>3.0</td>\n",
       "      <td>5.0</td>\n",
       "      <td>44.0</td>\n",
       "      <td>a news release</td>\n",
       "      <td>Health care reform legislation is likely to ma...</td>\n",
       "      <td>स्वास्थ्य हेरचाह सुधार कानूनले नि: शुल्क लिंग ...</td>\n",
       "      <td>Health care reform legislation is likely to ma...</td>\n",
       "    </tr>\n",
       "    <tr>\n",
       "      <th>3</th>\n",
       "      <td>9028.json</td>\n",
       "      <td>half-true</td>\n",
       "      <td>The economic turnaround started at the end of ...</td>\n",
       "      <td>economy,jobs</td>\n",
       "      <td>charlie-crist</td>\n",
       "      <td>NaN</td>\n",
       "      <td>Florida</td>\n",
       "      <td>democrat</td>\n",
       "      <td>15.0</td>\n",
       "      <td>9.0</td>\n",
       "      <td>20.0</td>\n",
       "      <td>19.0</td>\n",
       "      <td>2.0</td>\n",
       "      <td>an interview on CNN</td>\n",
       "      <td>The economic turnaround started at the end of ...</td>\n",
       "      <td>मेरो कार्यकालको अन्त्यमा आर्थिक परिवर्तन सुरु भयो</td>\n",
       "      <td>Towards the end of my tenure, the economic tra...</td>\n",
       "    </tr>\n",
       "    <tr>\n",
       "      <th>4</th>\n",
       "      <td>12465.json</td>\n",
       "      <td>true</td>\n",
       "      <td>The Chicago Bears have had more starting quart...</td>\n",
       "      <td>education</td>\n",
       "      <td>robin-vos</td>\n",
       "      <td>Wisconsin Assembly speaker</td>\n",
       "      <td>Wisconsin</td>\n",
       "      <td>republican</td>\n",
       "      <td>0.0</td>\n",
       "      <td>3.0</td>\n",
       "      <td>2.0</td>\n",
       "      <td>5.0</td>\n",
       "      <td>1.0</td>\n",
       "      <td>a an online opinion-piece</td>\n",
       "      <td>The Chicago Bears have had more starting quart...</td>\n",
       "      <td>शिकागो बियर्सले विगत दुई दशकहरूमा बर्खास्त गरि...</td>\n",
       "      <td>The Chicago Bears have had more starting quart...</td>\n",
       "    </tr>\n",
       "  </tbody>\n",
       "</table>\n",
       "</div>"
      ],
      "text/plain": [
       "           id        label                                          statement  \\\n",
       "0  10540.json    half-true  When did the decline of coal start? It started...   \n",
       "1    324.json  mostly-true  Hillary Clinton agrees with John McCain \"by vo...   \n",
       "2   1123.json        false  Health care reform legislation is likely to ma...   \n",
       "3   9028.json    half-true  The economic turnaround started at the end of ...   \n",
       "4  12465.json         true  The Chicago Bears have had more starting quart...   \n",
       "\n",
       "                             subjects         speaker  \\\n",
       "0  energy,history,job-accomplishments  scott-surovell   \n",
       "1                      foreign-policy    barack-obama   \n",
       "2                         health-care    blog-posting   \n",
       "3                        economy,jobs   charlie-crist   \n",
       "4                           education       robin-vos   \n",
       "\n",
       "            speaker_job_title state_info party_affilation  count_1  count_2  \\\n",
       "0              State delegate   Virginia         democrat      0.0      0.0   \n",
       "1                   President   Illinois         democrat     70.0     71.0   \n",
       "2                         NaN        NaN             none      7.0     19.0   \n",
       "3                         NaN    Florida         democrat     15.0      9.0   \n",
       "4  Wisconsin Assembly speaker  Wisconsin       republican      0.0      3.0   \n",
       "\n",
       "   count_3  count_4  count_5                    context  \\\n",
       "0      1.0      1.0      0.0            a floor speech.   \n",
       "1    160.0    163.0      9.0                     Denver   \n",
       "2      3.0      5.0     44.0             a news release   \n",
       "3     20.0     19.0      2.0        an interview on CNN   \n",
       "4      2.0      5.0      1.0  a an online opinion-piece   \n",
       "\n",
       "                        statement_removedpunctuation  \\\n",
       "0  When did the decline of coal start It started ...   \n",
       "1  Hillary Clinton agrees with John McCain by vot...   \n",
       "2  Health care reform legislation is likely to ma...   \n",
       "3  The economic turnaround started at the end of ...   \n",
       "4  The Chicago Bears have had more starting quart...   \n",
       "\n",
       "                                  nepali_translation  \\\n",
       "0  कोइलाको पतन कहिले सुरु भयो यो प्राकृतिक ग्यास ...   \n",
       "1  हिलारी क्लिन्टनले जर्ज बुशलाई इरानमा शंकाको फा...   \n",
       "2  स्वास्थ्य हेरचाह सुधार कानूनले नि: शुल्क लिंग ...   \n",
       "3  मेरो कार्यकालको अन्त्यमा आर्थिक परिवर्तन सुरु भयो   \n",
       "4  शिकागो बियर्सले विगत दुई दशकहरूमा बर्खास्त गरि...   \n",
       "\n",
       "                                 english_translation  \n",
       "0  When did the decline of coal begin? It began w...  \n",
       "1  Hillary Clinton agreed with John McCain by vot...  \n",
       "2  Health care reform legislation is likely to ma...  \n",
       "3  Towards the end of my tenure, the economic tra...  \n",
       "4  The Chicago Bears have had more starting quart...  "
      ]
     },
     "execution_count": 4,
     "metadata": {},
     "output_type": "execute_result"
    }
   ],
   "source": [
    "train.head()"
   ]
  },
  {
   "cell_type": "code",
   "execution_count": 5,
   "id": "332e0057",
   "metadata": {
    "execution": {
     "iopub.execute_input": "2023-06-02T05:06:10.553317Z",
     "iopub.status.busy": "2023-06-02T05:06:10.552581Z",
     "iopub.status.idle": "2023-06-02T05:06:10.566606Z",
     "shell.execute_reply": "2023-06-02T05:06:10.565789Z"
    },
    "papermill": {
     "duration": 0.035086,
     "end_time": "2023-06-02T05:06:10.568576",
     "exception": false,
     "start_time": "2023-06-02T05:06:10.533490",
     "status": "completed"
    },
    "tags": []
   },
   "outputs": [],
   "source": [
    "train['english_translation'] = train['english_translation'].str.lower()\n",
    "validation['english_translation'] = validation['english_translation'].str.lower()\n",
    "test['english_translation'] = test['english_translation'].str.lower()\n"
   ]
  },
  {
   "cell_type": "code",
   "execution_count": 6,
   "id": "f3e345ea",
   "metadata": {
    "execution": {
     "iopub.execute_input": "2023-06-02T05:06:10.604621Z",
     "iopub.status.busy": "2023-06-02T05:06:10.603877Z",
     "iopub.status.idle": "2023-06-02T05:06:10.620445Z",
     "shell.execute_reply": "2023-06-02T05:06:10.619399Z"
    },
    "papermill": {
     "duration": 0.036811,
     "end_time": "2023-06-02T05:06:10.622550",
     "exception": false,
     "start_time": "2023-06-02T05:06:10.585739",
     "status": "completed"
    },
    "tags": []
   },
   "outputs": [
    {
     "data": {
      "text/html": [
       "<div>\n",
       "<style scoped>\n",
       "    .dataframe tbody tr th:only-of-type {\n",
       "        vertical-align: middle;\n",
       "    }\n",
       "\n",
       "    .dataframe tbody tr th {\n",
       "        vertical-align: top;\n",
       "    }\n",
       "\n",
       "    .dataframe thead th {\n",
       "        text-align: right;\n",
       "    }\n",
       "</style>\n",
       "<table border=\"1\" class=\"dataframe\">\n",
       "  <thead>\n",
       "    <tr style=\"text-align: right;\">\n",
       "      <th></th>\n",
       "      <th>id</th>\n",
       "      <th>label</th>\n",
       "      <th>statement</th>\n",
       "      <th>subjects</th>\n",
       "      <th>speaker</th>\n",
       "      <th>speaker_job_title</th>\n",
       "      <th>state_info</th>\n",
       "      <th>party_affilation</th>\n",
       "      <th>count_1</th>\n",
       "      <th>count_2</th>\n",
       "      <th>count_3</th>\n",
       "      <th>count_4</th>\n",
       "      <th>count_5</th>\n",
       "      <th>context</th>\n",
       "      <th>statement_removedpunctuation</th>\n",
       "      <th>nepali_translation</th>\n",
       "      <th>english_translation</th>\n",
       "    </tr>\n",
       "  </thead>\n",
       "  <tbody>\n",
       "    <tr>\n",
       "      <th>0</th>\n",
       "      <td>238.json</td>\n",
       "      <td>pants-fire</td>\n",
       "      <td>When Obama was sworn into office, he DID NOT u...</td>\n",
       "      <td>obama-birth-certificate,religion</td>\n",
       "      <td>chain-email</td>\n",
       "      <td>NaN</td>\n",
       "      <td>NaN</td>\n",
       "      <td>none</td>\n",
       "      <td>11</td>\n",
       "      <td>43</td>\n",
       "      <td>8</td>\n",
       "      <td>5</td>\n",
       "      <td>105</td>\n",
       "      <td>NaN</td>\n",
       "      <td>When Obama was sworn into office he DID NOT us...</td>\n",
       "      <td>ओबामाले पदमा सपथ लिँदा उनले पवित्र बाइबल प्रयो...</td>\n",
       "      <td>when obama took the oath of office he did not ...</td>\n",
       "    </tr>\n",
       "    <tr>\n",
       "      <th>1</th>\n",
       "      <td>7891.json</td>\n",
       "      <td>false</td>\n",
       "      <td>Says Having organizations parading as being so...</td>\n",
       "      <td>campaign-finance,congress,taxes</td>\n",
       "      <td>earl-blumenauer</td>\n",
       "      <td>U.S. representative</td>\n",
       "      <td>Oregon</td>\n",
       "      <td>democrat</td>\n",
       "      <td>0</td>\n",
       "      <td>1</td>\n",
       "      <td>1</td>\n",
       "      <td>1</td>\n",
       "      <td>0</td>\n",
       "      <td>a U.S. Ways and Means hearing</td>\n",
       "      <td>Says Having organizations parading as being so...</td>\n",
       "      <td>भन्छन्, ‘समाज कल्याणकारी संस्था भई परेड गर्ने ...</td>\n",
       "      <td>he says, 'when the society parades as a welfar...</td>\n",
       "    </tr>\n",
       "    <tr>\n",
       "      <th>2</th>\n",
       "      <td>8169.json</td>\n",
       "      <td>half-true</td>\n",
       "      <td>Says nearly half of Oregons children are poor.</td>\n",
       "      <td>poverty</td>\n",
       "      <td>jim-francesconi</td>\n",
       "      <td>Member of the State Board of Higher Education</td>\n",
       "      <td>Oregon</td>\n",
       "      <td>none</td>\n",
       "      <td>0</td>\n",
       "      <td>1</td>\n",
       "      <td>1</td>\n",
       "      <td>1</td>\n",
       "      <td>0</td>\n",
       "      <td>an opinion article</td>\n",
       "      <td>Says nearly half of Oregons children are poor</td>\n",
       "      <td>ओरेगनका झण्डै आधा बालबालिका गरिब रहेको बताउँछन्</td>\n",
       "      <td>nearly half of oregon's children say they are ...</td>\n",
       "    </tr>\n",
       "    <tr>\n",
       "      <th>3</th>\n",
       "      <td>929.json</td>\n",
       "      <td>half-true</td>\n",
       "      <td>On attacks by Republicans that various program...</td>\n",
       "      <td>economy,stimulus</td>\n",
       "      <td>barack-obama</td>\n",
       "      <td>President</td>\n",
       "      <td>Illinois</td>\n",
       "      <td>democrat</td>\n",
       "      <td>70</td>\n",
       "      <td>71</td>\n",
       "      <td>160</td>\n",
       "      <td>163</td>\n",
       "      <td>9</td>\n",
       "      <td>interview with CBS News</td>\n",
       "      <td>On attacks by Republicans that various program...</td>\n",
       "      <td>रिपब्लिकनहरूको आक्रमणमा कि आर्थिक प्रोत्साहन य...</td>\n",
       "      <td>republicans attack that the various programs i...</td>\n",
       "    </tr>\n",
       "    <tr>\n",
       "      <th>4</th>\n",
       "      <td>9416.json</td>\n",
       "      <td>false</td>\n",
       "      <td>Says when armed civilians stop mass shootings ...</td>\n",
       "      <td>guns</td>\n",
       "      <td>jim-rubens</td>\n",
       "      <td>Small business owner</td>\n",
       "      <td>New Hampshire</td>\n",
       "      <td>republican</td>\n",
       "      <td>1</td>\n",
       "      <td>1</td>\n",
       "      <td>0</td>\n",
       "      <td>1</td>\n",
       "      <td>0</td>\n",
       "      <td>in an interview at gun shop in Hudson, N.H.</td>\n",
       "      <td>Says when armed civilians stop mass shootings ...</td>\n",
       "      <td>भन्छन् जब सशस्त्र नागरिकहरूले बन्दुकको साथ साम...</td>\n",
       "      <td>says when armed citizens stop mass shootings w...</td>\n",
       "    </tr>\n",
       "  </tbody>\n",
       "</table>\n",
       "</div>"
      ],
      "text/plain": [
       "          id       label                                          statement  \\\n",
       "0   238.json  pants-fire  When Obama was sworn into office, he DID NOT u...   \n",
       "1  7891.json       false  Says Having organizations parading as being so...   \n",
       "2  8169.json   half-true     Says nearly half of Oregons children are poor.   \n",
       "3   929.json   half-true  On attacks by Republicans that various program...   \n",
       "4  9416.json       false  Says when armed civilians stop mass shootings ...   \n",
       "\n",
       "                           subjects          speaker  \\\n",
       "0  obama-birth-certificate,religion      chain-email   \n",
       "1   campaign-finance,congress,taxes  earl-blumenauer   \n",
       "2                           poverty  jim-francesconi   \n",
       "3                  economy,stimulus     barack-obama   \n",
       "4                              guns       jim-rubens   \n",
       "\n",
       "                               speaker_job_title     state_info  \\\n",
       "0                                            NaN            NaN   \n",
       "1                            U.S. representative         Oregon   \n",
       "2  Member of the State Board of Higher Education         Oregon   \n",
       "3                                      President       Illinois   \n",
       "4                           Small business owner  New Hampshire   \n",
       "\n",
       "  party_affilation  count_1  count_2  count_3  count_4  count_5  \\\n",
       "0             none       11       43        8        5      105   \n",
       "1         democrat        0        1        1        1        0   \n",
       "2             none        0        1        1        1        0   \n",
       "3         democrat       70       71      160      163        9   \n",
       "4       republican        1        1        0        1        0   \n",
       "\n",
       "                                       context  \\\n",
       "0                                          NaN   \n",
       "1                a U.S. Ways and Means hearing   \n",
       "2                           an opinion article   \n",
       "3                      interview with CBS News   \n",
       "4  in an interview at gun shop in Hudson, N.H.   \n",
       "\n",
       "                        statement_removedpunctuation  \\\n",
       "0  When Obama was sworn into office he DID NOT us...   \n",
       "1  Says Having organizations parading as being so...   \n",
       "2      Says nearly half of Oregons children are poor   \n",
       "3  On attacks by Republicans that various program...   \n",
       "4  Says when armed civilians stop mass shootings ...   \n",
       "\n",
       "                                  nepali_translation  \\\n",
       "0  ओबामाले पदमा सपथ लिँदा उनले पवित्र बाइबल प्रयो...   \n",
       "1  भन्छन्, ‘समाज कल्याणकारी संस्था भई परेड गर्ने ...   \n",
       "2    ओरेगनका झण्डै आधा बालबालिका गरिब रहेको बताउँछन्   \n",
       "3  रिपब्लिकनहरूको आक्रमणमा कि आर्थिक प्रोत्साहन य...   \n",
       "4  भन्छन् जब सशस्त्र नागरिकहरूले बन्दुकको साथ साम...   \n",
       "\n",
       "                                 english_translation  \n",
       "0  when obama took the oath of office he did not ...  \n",
       "1  he says, 'when the society parades as a welfar...  \n",
       "2  nearly half of oregon's children say they are ...  \n",
       "3  republicans attack that the various programs i...  \n",
       "4  says when armed citizens stop mass shootings w...  "
      ]
     },
     "execution_count": 6,
     "metadata": {},
     "output_type": "execute_result"
    }
   ],
   "source": [
    "validation.head()"
   ]
  },
  {
   "cell_type": "code",
   "execution_count": 7,
   "id": "5dec79e7",
   "metadata": {
    "execution": {
     "iopub.execute_input": "2023-06-02T05:06:10.660579Z",
     "iopub.status.busy": "2023-06-02T05:06:10.659769Z",
     "iopub.status.idle": "2023-06-02T05:06:10.665131Z",
     "shell.execute_reply": "2023-06-02T05:06:10.664365Z"
    },
    "papermill": {
     "duration": 0.025478,
     "end_time": "2023-06-02T05:06:10.667041",
     "exception": false,
     "start_time": "2023-06-02T05:06:10.641563",
     "status": "completed"
    },
    "tags": []
   },
   "outputs": [],
   "source": [
    "import string\n",
    "def removepunctuation(sentence):\n",
    "   new_text = sentence.replace(\"—\", \" \") # \"—\" in the text was not equivalent to \"-\" so we replcaed \"—\" with a space\n",
    "   print \n",
    "  #iterate over every single character to see if it is a punctuation or not, and then concatenate them using \"join\"\n",
    "   punctuationfree=\"\".join([i for i in new_text if i not in string.punctuation])\n",
    "   return punctuationfree"
   ]
  },
  {
   "cell_type": "code",
   "execution_count": 8,
   "id": "f96c41c0",
   "metadata": {
    "execution": {
     "iopub.execute_input": "2023-06-02T05:06:10.703696Z",
     "iopub.status.busy": "2023-06-02T05:06:10.702967Z",
     "iopub.status.idle": "2023-06-02T05:06:10.934116Z",
     "shell.execute_reply": "2023-06-02T05:06:10.933186Z"
    },
    "papermill": {
     "duration": 0.251889,
     "end_time": "2023-06-02T05:06:10.936581",
     "exception": false,
     "start_time": "2023-06-02T05:06:10.684692",
     "status": "completed"
    },
    "tags": []
   },
   "outputs": [],
   "source": [
    "train[\"statement_removedpunctuation\"] = train['english_translation'].apply(lambda x : removepunctuation(x))\n",
    "validation[\"statement_removedpunctuation\"] = validation['english_translation'].apply(lambda x : removepunctuation(x))\n",
    "test[\"statement_removedpunctuation\"] = test['english_translation'].apply(lambda x : removepunctuation(x))"
   ]
  },
  {
   "cell_type": "code",
   "execution_count": 9,
   "id": "4f4ce29c",
   "metadata": {
    "execution": {
     "iopub.execute_input": "2023-06-02T05:06:10.974546Z",
     "iopub.status.busy": "2023-06-02T05:06:10.974238Z",
     "iopub.status.idle": "2023-06-02T05:06:10.994583Z",
     "shell.execute_reply": "2023-06-02T05:06:10.993725Z"
    },
    "papermill": {
     "duration": 0.041928,
     "end_time": "2023-06-02T05:06:10.996948",
     "exception": false,
     "start_time": "2023-06-02T05:06:10.955020",
     "status": "completed"
    },
    "tags": []
   },
   "outputs": [
    {
     "data": {
      "text/html": [
       "<div>\n",
       "<style scoped>\n",
       "    .dataframe tbody tr th:only-of-type {\n",
       "        vertical-align: middle;\n",
       "    }\n",
       "\n",
       "    .dataframe tbody tr th {\n",
       "        vertical-align: top;\n",
       "    }\n",
       "\n",
       "    .dataframe thead th {\n",
       "        text-align: right;\n",
       "    }\n",
       "</style>\n",
       "<table border=\"1\" class=\"dataframe\">\n",
       "  <thead>\n",
       "    <tr style=\"text-align: right;\">\n",
       "      <th></th>\n",
       "      <th>id</th>\n",
       "      <th>label</th>\n",
       "      <th>statement</th>\n",
       "      <th>subjects</th>\n",
       "      <th>speaker</th>\n",
       "      <th>speaker_job_title</th>\n",
       "      <th>state_info</th>\n",
       "      <th>party_affilation</th>\n",
       "      <th>count_1</th>\n",
       "      <th>count_2</th>\n",
       "      <th>count_3</th>\n",
       "      <th>count_4</th>\n",
       "      <th>count_5</th>\n",
       "      <th>context</th>\n",
       "      <th>statement_removedpunctuation</th>\n",
       "      <th>nepali_translation</th>\n",
       "      <th>english_translation</th>\n",
       "    </tr>\n",
       "  </thead>\n",
       "  <tbody>\n",
       "    <tr>\n",
       "      <th>0</th>\n",
       "      <td>11685.json</td>\n",
       "      <td>false</td>\n",
       "      <td>Wisconsin is on pace to double the number of l...</td>\n",
       "      <td>jobs</td>\n",
       "      <td>katrina-shankland</td>\n",
       "      <td>State representative</td>\n",
       "      <td>Wisconsin</td>\n",
       "      <td>democrat</td>\n",
       "      <td>2</td>\n",
       "      <td>1</td>\n",
       "      <td>0</td>\n",
       "      <td>0</td>\n",
       "      <td>0</td>\n",
       "      <td>a news conference</td>\n",
       "      <td>wisconsin is on pace to double the number of l...</td>\n",
       "      <td>विस्कॉन्सिन यस वर्ष छटाउने संख्या दोब्बर गर्न ...</td>\n",
       "      <td>wisconsin is on pace to double the number of l...</td>\n",
       "    </tr>\n",
       "    <tr>\n",
       "      <th>1</th>\n",
       "      <td>11096.json</td>\n",
       "      <td>false</td>\n",
       "      <td>Says John McCain has done nothing to help the ...</td>\n",
       "      <td>military,veterans,voting-record</td>\n",
       "      <td>donald-trump</td>\n",
       "      <td>President-Elect</td>\n",
       "      <td>New York</td>\n",
       "      <td>republican</td>\n",
       "      <td>63</td>\n",
       "      <td>114</td>\n",
       "      <td>51</td>\n",
       "      <td>37</td>\n",
       "      <td>61</td>\n",
       "      <td>comments on ABC's This Week.</td>\n",
       "      <td>john mccain said nothing was done to help vets</td>\n",
       "      <td>जोन म्याककेनले पशु चिकित्सकहरूलाई मद्दत गर्न क...</td>\n",
       "      <td>john mccain said nothing was done to help vets</td>\n",
       "    </tr>\n",
       "    <tr>\n",
       "      <th>2</th>\n",
       "      <td>5209.json</td>\n",
       "      <td>half-true</td>\n",
       "      <td>Suzanne Bonamici supports a plan that will cut...</td>\n",
       "      <td>medicare,message-machine-2012,campaign-adverti...</td>\n",
       "      <td>rob-cornilles</td>\n",
       "      <td>consultant</td>\n",
       "      <td>Oregon</td>\n",
       "      <td>republican</td>\n",
       "      <td>1</td>\n",
       "      <td>1</td>\n",
       "      <td>3</td>\n",
       "      <td>1</td>\n",
       "      <td>1</td>\n",
       "      <td>a radio show</td>\n",
       "      <td>suzanne bonamici supports plan to cut medicare...</td>\n",
       "      <td>Suzanne Bonamici ले मेडिकेयर एडभान्टेज वरिष्ठह...</td>\n",
       "      <td>suzanne bonamici supports plan to cut medicare...</td>\n",
       "    </tr>\n",
       "    <tr>\n",
       "      <th>3</th>\n",
       "      <td>9524.json</td>\n",
       "      <td>pants-fire</td>\n",
       "      <td>When asked by a reporter whether hes at the ce...</td>\n",
       "      <td>campaign-finance,legal-issues,campaign-adverti...</td>\n",
       "      <td>state-democratic-party-wisconsin</td>\n",
       "      <td>NaN</td>\n",
       "      <td>Wisconsin</td>\n",
       "      <td>democrat</td>\n",
       "      <td>5</td>\n",
       "      <td>7</td>\n",
       "      <td>2</td>\n",
       "      <td>2</td>\n",
       "      <td>7</td>\n",
       "      <td>a web video</td>\n",
       "      <td>when a reporter asked if he was at the center ...</td>\n",
       "      <td>जब एक रिपोर्टरले सोध्यो कि उनी अभियान कानूनको ...</td>\n",
       "      <td>when a reporter asked if he was at the center ...</td>\n",
       "    </tr>\n",
       "    <tr>\n",
       "      <th>4</th>\n",
       "      <td>5962.json</td>\n",
       "      <td>true</td>\n",
       "      <td>Over the past five years the federal governmen...</td>\n",
       "      <td>federal-budget,pensions,retirement</td>\n",
       "      <td>brendan-doherty</td>\n",
       "      <td>NaN</td>\n",
       "      <td>Rhode Island</td>\n",
       "      <td>republican</td>\n",
       "      <td>1</td>\n",
       "      <td>2</td>\n",
       "      <td>1</td>\n",
       "      <td>1</td>\n",
       "      <td>0</td>\n",
       "      <td>a campaign website</td>\n",
       "      <td>in the last five years the federal government ...</td>\n",
       "      <td>विगत पाँच वर्षमा सङ्घीय सरकारले दिवंगत पूर्व स...</td>\n",
       "      <td>in the last five years, the federal government...</td>\n",
       "    </tr>\n",
       "  </tbody>\n",
       "</table>\n",
       "</div>"
      ],
      "text/plain": [
       "           id       label                                          statement  \\\n",
       "0  11685.json       false  Wisconsin is on pace to double the number of l...   \n",
       "1  11096.json       false  Says John McCain has done nothing to help the ...   \n",
       "2   5209.json   half-true  Suzanne Bonamici supports a plan that will cut...   \n",
       "3   9524.json  pants-fire  When asked by a reporter whether hes at the ce...   \n",
       "4   5962.json        true  Over the past five years the federal governmen...   \n",
       "\n",
       "                                            subjects  \\\n",
       "0                                               jobs   \n",
       "1                    military,veterans,voting-record   \n",
       "2  medicare,message-machine-2012,campaign-adverti...   \n",
       "3  campaign-finance,legal-issues,campaign-adverti...   \n",
       "4                 federal-budget,pensions,retirement   \n",
       "\n",
       "                            speaker     speaker_job_title    state_info  \\\n",
       "0                 katrina-shankland  State representative     Wisconsin   \n",
       "1                      donald-trump       President-Elect      New York   \n",
       "2                     rob-cornilles            consultant        Oregon   \n",
       "3  state-democratic-party-wisconsin                   NaN     Wisconsin   \n",
       "4                   brendan-doherty                   NaN  Rhode Island   \n",
       "\n",
       "  party_affilation  count_1  count_2  count_3  count_4  count_5  \\\n",
       "0         democrat        2        1        0        0        0   \n",
       "1       republican       63      114       51       37       61   \n",
       "2       republican        1        1        3        1        1   \n",
       "3         democrat        5        7        2        2        7   \n",
       "4       republican        1        2        1        1        0   \n",
       "\n",
       "                        context  \\\n",
       "0             a news conference   \n",
       "1  comments on ABC's This Week.   \n",
       "2                  a radio show   \n",
       "3                   a web video   \n",
       "4            a campaign website   \n",
       "\n",
       "                        statement_removedpunctuation  \\\n",
       "0  wisconsin is on pace to double the number of l...   \n",
       "1     john mccain said nothing was done to help vets   \n",
       "2  suzanne bonamici supports plan to cut medicare...   \n",
       "3  when a reporter asked if he was at the center ...   \n",
       "4  in the last five years the federal government ...   \n",
       "\n",
       "                                  nepali_translation  \\\n",
       "0  विस्कॉन्सिन यस वर्ष छटाउने संख्या दोब्बर गर्न ...   \n",
       "1  जोन म्याककेनले पशु चिकित्सकहरूलाई मद्दत गर्न क...   \n",
       "2  Suzanne Bonamici ले मेडिकेयर एडभान्टेज वरिष्ठह...   \n",
       "3  जब एक रिपोर्टरले सोध्यो कि उनी अभियान कानूनको ...   \n",
       "4  विगत पाँच वर्षमा सङ्घीय सरकारले दिवंगत पूर्व स...   \n",
       "\n",
       "                                 english_translation  \n",
       "0  wisconsin is on pace to double the number of l...  \n",
       "1     john mccain said nothing was done to help vets  \n",
       "2  suzanne bonamici supports plan to cut medicare...  \n",
       "3  when a reporter asked if he was at the center ...  \n",
       "4  in the last five years, the federal government...  "
      ]
     },
     "execution_count": 9,
     "metadata": {},
     "output_type": "execute_result"
    }
   ],
   "source": [
    "test.head()"
   ]
  },
  {
   "cell_type": "code",
   "execution_count": 10,
   "id": "a70ad012",
   "metadata": {
    "execution": {
     "iopub.execute_input": "2023-06-02T05:06:11.036521Z",
     "iopub.status.busy": "2023-06-02T05:06:11.035719Z",
     "iopub.status.idle": "2023-06-02T05:06:13.741461Z",
     "shell.execute_reply": "2023-06-02T05:06:13.740209Z"
    },
    "papermill": {
     "duration": 2.72775,
     "end_time": "2023-06-02T05:06:13.744786",
     "exception": false,
     "start_time": "2023-06-02T05:06:11.017036",
     "status": "completed"
    },
    "tags": []
   },
   "outputs": [],
   "source": [
    "train[\"english_translation_tokenized\"] = train[\"statement_removedpunctuation\"].apply(word_tokenize)\n",
    "validation[\"english_translation_tokenized\"] = validation[\"statement_removedpunctuation\"].apply(word_tokenize)\n",
    "test[\"english_translation_tokenized\"] = test[\"statement_removedpunctuation\"].apply(word_tokenize)"
   ]
  },
  {
   "cell_type": "code",
   "execution_count": 11,
   "id": "6e9235ad",
   "metadata": {
    "execution": {
     "iopub.execute_input": "2023-06-02T05:06:13.785582Z",
     "iopub.status.busy": "2023-06-02T05:06:13.784777Z",
     "iopub.status.idle": "2023-06-02T05:06:13.810446Z",
     "shell.execute_reply": "2023-06-02T05:06:13.809393Z"
    },
    "papermill": {
     "duration": 0.048156,
     "end_time": "2023-06-02T05:06:13.812593",
     "exception": false,
     "start_time": "2023-06-02T05:06:13.764437",
     "status": "completed"
    },
    "tags": []
   },
   "outputs": [
    {
     "data": {
      "text/html": [
       "<div>\n",
       "<style scoped>\n",
       "    .dataframe tbody tr th:only-of-type {\n",
       "        vertical-align: middle;\n",
       "    }\n",
       "\n",
       "    .dataframe tbody tr th {\n",
       "        vertical-align: top;\n",
       "    }\n",
       "\n",
       "    .dataframe thead th {\n",
       "        text-align: right;\n",
       "    }\n",
       "</style>\n",
       "<table border=\"1\" class=\"dataframe\">\n",
       "  <thead>\n",
       "    <tr style=\"text-align: right;\">\n",
       "      <th></th>\n",
       "      <th>id</th>\n",
       "      <th>label</th>\n",
       "      <th>statement</th>\n",
       "      <th>subjects</th>\n",
       "      <th>speaker</th>\n",
       "      <th>speaker_job_title</th>\n",
       "      <th>state_info</th>\n",
       "      <th>party_affilation</th>\n",
       "      <th>count_1</th>\n",
       "      <th>count_2</th>\n",
       "      <th>count_3</th>\n",
       "      <th>count_4</th>\n",
       "      <th>count_5</th>\n",
       "      <th>context</th>\n",
       "      <th>statement_removedpunctuation</th>\n",
       "      <th>nepali_translation</th>\n",
       "      <th>english_translation</th>\n",
       "      <th>english_translation_tokenized</th>\n",
       "    </tr>\n",
       "  </thead>\n",
       "  <tbody>\n",
       "    <tr>\n",
       "      <th>0</th>\n",
       "      <td>10540.json</td>\n",
       "      <td>half-true</td>\n",
       "      <td>When did the decline of coal start? It started...</td>\n",
       "      <td>energy,history,job-accomplishments</td>\n",
       "      <td>scott-surovell</td>\n",
       "      <td>State delegate</td>\n",
       "      <td>Virginia</td>\n",
       "      <td>democrat</td>\n",
       "      <td>0.0</td>\n",
       "      <td>0.0</td>\n",
       "      <td>1.0</td>\n",
       "      <td>1.0</td>\n",
       "      <td>0.0</td>\n",
       "      <td>a floor speech.</td>\n",
       "      <td>when did the decline of coal begin it began wi...</td>\n",
       "      <td>कोइलाको पतन कहिले सुरु भयो यो प्राकृतिक ग्यास ...</td>\n",
       "      <td>when did the decline of coal begin? it began w...</td>\n",
       "      <td>[when, did, the, decline, of, coal, begin, it,...</td>\n",
       "    </tr>\n",
       "    <tr>\n",
       "      <th>1</th>\n",
       "      <td>324.json</td>\n",
       "      <td>mostly-true</td>\n",
       "      <td>Hillary Clinton agrees with John McCain \"by vo...</td>\n",
       "      <td>foreign-policy</td>\n",
       "      <td>barack-obama</td>\n",
       "      <td>President</td>\n",
       "      <td>Illinois</td>\n",
       "      <td>democrat</td>\n",
       "      <td>70.0</td>\n",
       "      <td>71.0</td>\n",
       "      <td>160.0</td>\n",
       "      <td>163.0</td>\n",
       "      <td>9.0</td>\n",
       "      <td>Denver</td>\n",
       "      <td>hillary clinton agreed with john mccain by vot...</td>\n",
       "      <td>हिलारी क्लिन्टनले जर्ज बुशलाई इरानमा शंकाको फा...</td>\n",
       "      <td>hillary clinton agreed with john mccain by vot...</td>\n",
       "      <td>[hillary, clinton, agreed, with, john, mccain,...</td>\n",
       "    </tr>\n",
       "    <tr>\n",
       "      <th>2</th>\n",
       "      <td>1123.json</td>\n",
       "      <td>false</td>\n",
       "      <td>Health care reform legislation is likely to ma...</td>\n",
       "      <td>health-care</td>\n",
       "      <td>blog-posting</td>\n",
       "      <td>NaN</td>\n",
       "      <td>NaN</td>\n",
       "      <td>none</td>\n",
       "      <td>7.0</td>\n",
       "      <td>19.0</td>\n",
       "      <td>3.0</td>\n",
       "      <td>5.0</td>\n",
       "      <td>44.0</td>\n",
       "      <td>a news release</td>\n",
       "      <td>health care reform legislation is likely to ma...</td>\n",
       "      <td>स्वास्थ्य हेरचाह सुधार कानूनले नि: शुल्क लिंग ...</td>\n",
       "      <td>health care reform legislation is likely to ma...</td>\n",
       "      <td>[health, care, reform, legislation, is, likely...</td>\n",
       "    </tr>\n",
       "    <tr>\n",
       "      <th>3</th>\n",
       "      <td>9028.json</td>\n",
       "      <td>half-true</td>\n",
       "      <td>The economic turnaround started at the end of ...</td>\n",
       "      <td>economy,jobs</td>\n",
       "      <td>charlie-crist</td>\n",
       "      <td>NaN</td>\n",
       "      <td>Florida</td>\n",
       "      <td>democrat</td>\n",
       "      <td>15.0</td>\n",
       "      <td>9.0</td>\n",
       "      <td>20.0</td>\n",
       "      <td>19.0</td>\n",
       "      <td>2.0</td>\n",
       "      <td>an interview on CNN</td>\n",
       "      <td>towards the end of my tenure the economic tran...</td>\n",
       "      <td>मेरो कार्यकालको अन्त्यमा आर्थिक परिवर्तन सुरु भयो</td>\n",
       "      <td>towards the end of my tenure, the economic tra...</td>\n",
       "      <td>[towards, the, end, of, my, tenure, the, econo...</td>\n",
       "    </tr>\n",
       "    <tr>\n",
       "      <th>4</th>\n",
       "      <td>12465.json</td>\n",
       "      <td>true</td>\n",
       "      <td>The Chicago Bears have had more starting quart...</td>\n",
       "      <td>education</td>\n",
       "      <td>robin-vos</td>\n",
       "      <td>Wisconsin Assembly speaker</td>\n",
       "      <td>Wisconsin</td>\n",
       "      <td>republican</td>\n",
       "      <td>0.0</td>\n",
       "      <td>3.0</td>\n",
       "      <td>2.0</td>\n",
       "      <td>5.0</td>\n",
       "      <td>1.0</td>\n",
       "      <td>a an online opinion-piece</td>\n",
       "      <td>the chicago bears have had more starting quart...</td>\n",
       "      <td>शिकागो बियर्सले विगत दुई दशकहरूमा बर्खास्त गरि...</td>\n",
       "      <td>the chicago bears have had more starting quart...</td>\n",
       "      <td>[the, chicago, bears, have, had, more, startin...</td>\n",
       "    </tr>\n",
       "  </tbody>\n",
       "</table>\n",
       "</div>"
      ],
      "text/plain": [
       "           id        label                                          statement  \\\n",
       "0  10540.json    half-true  When did the decline of coal start? It started...   \n",
       "1    324.json  mostly-true  Hillary Clinton agrees with John McCain \"by vo...   \n",
       "2   1123.json        false  Health care reform legislation is likely to ma...   \n",
       "3   9028.json    half-true  The economic turnaround started at the end of ...   \n",
       "4  12465.json         true  The Chicago Bears have had more starting quart...   \n",
       "\n",
       "                             subjects         speaker  \\\n",
       "0  energy,history,job-accomplishments  scott-surovell   \n",
       "1                      foreign-policy    barack-obama   \n",
       "2                         health-care    blog-posting   \n",
       "3                        economy,jobs   charlie-crist   \n",
       "4                           education       robin-vos   \n",
       "\n",
       "            speaker_job_title state_info party_affilation  count_1  count_2  \\\n",
       "0              State delegate   Virginia         democrat      0.0      0.0   \n",
       "1                   President   Illinois         democrat     70.0     71.0   \n",
       "2                         NaN        NaN             none      7.0     19.0   \n",
       "3                         NaN    Florida         democrat     15.0      9.0   \n",
       "4  Wisconsin Assembly speaker  Wisconsin       republican      0.0      3.0   \n",
       "\n",
       "   count_3  count_4  count_5                    context  \\\n",
       "0      1.0      1.0      0.0            a floor speech.   \n",
       "1    160.0    163.0      9.0                     Denver   \n",
       "2      3.0      5.0     44.0             a news release   \n",
       "3     20.0     19.0      2.0        an interview on CNN   \n",
       "4      2.0      5.0      1.0  a an online opinion-piece   \n",
       "\n",
       "                        statement_removedpunctuation  \\\n",
       "0  when did the decline of coal begin it began wi...   \n",
       "1  hillary clinton agreed with john mccain by vot...   \n",
       "2  health care reform legislation is likely to ma...   \n",
       "3  towards the end of my tenure the economic tran...   \n",
       "4  the chicago bears have had more starting quart...   \n",
       "\n",
       "                                  nepali_translation  \\\n",
       "0  कोइलाको पतन कहिले सुरु भयो यो प्राकृतिक ग्यास ...   \n",
       "1  हिलारी क्लिन्टनले जर्ज बुशलाई इरानमा शंकाको फा...   \n",
       "2  स्वास्थ्य हेरचाह सुधार कानूनले नि: शुल्क लिंग ...   \n",
       "3  मेरो कार्यकालको अन्त्यमा आर्थिक परिवर्तन सुरु भयो   \n",
       "4  शिकागो बियर्सले विगत दुई दशकहरूमा बर्खास्त गरि...   \n",
       "\n",
       "                                 english_translation  \\\n",
       "0  when did the decline of coal begin? it began w...   \n",
       "1  hillary clinton agreed with john mccain by vot...   \n",
       "2  health care reform legislation is likely to ma...   \n",
       "3  towards the end of my tenure, the economic tra...   \n",
       "4  the chicago bears have had more starting quart...   \n",
       "\n",
       "                       english_translation_tokenized  \n",
       "0  [when, did, the, decline, of, coal, begin, it,...  \n",
       "1  [hillary, clinton, agreed, with, john, mccain,...  \n",
       "2  [health, care, reform, legislation, is, likely...  \n",
       "3  [towards, the, end, of, my, tenure, the, econo...  \n",
       "4  [the, chicago, bears, have, had, more, startin...  "
      ]
     },
     "execution_count": 11,
     "metadata": {},
     "output_type": "execute_result"
    }
   ],
   "source": [
    "train.head()"
   ]
  },
  {
   "cell_type": "code",
   "execution_count": 12,
   "id": "6d2d2432",
   "metadata": {
    "execution": {
     "iopub.execute_input": "2023-06-02T05:06:13.852581Z",
     "iopub.status.busy": "2023-06-02T05:06:13.852040Z",
     "iopub.status.idle": "2023-06-02T05:06:13.858890Z",
     "shell.execute_reply": "2023-06-02T05:06:13.857988Z"
    },
    "papermill": {
     "duration": 0.028683,
     "end_time": "2023-06-02T05:06:13.861188",
     "exception": false,
     "start_time": "2023-06-02T05:06:13.832505",
     "status": "completed"
    },
    "tags": []
   },
   "outputs": [
    {
     "data": {
      "text/plain": [
       "['however',\n",
       " 'it',\n",
       " 'took',\n",
       " 'one',\n",
       " 'hundred',\n",
       " 'and',\n",
       " 'ninetyfive',\n",
       " 'million',\n",
       " 'in',\n",
       " 'oregon',\n",
       " 'lottery',\n",
       " 'funds',\n",
       " 'for',\n",
       " 'the',\n",
       " 'port',\n",
       " 'of',\n",
       " 'newport',\n",
       " 'to',\n",
       " 'finally',\n",
       " 'land',\n",
       " 'the',\n",
       " 'new',\n",
       " 'noaa',\n",
       " 'marine',\n",
       " 'operations',\n",
       " 'center',\n",
       " 'in',\n",
       " 'the',\n",
       " 'pacific']"
      ]
     },
     "execution_count": 12,
     "metadata": {},
     "output_type": "execute_result"
    }
   ],
   "source": [
    "train[\"english_translation_tokenized\"].iloc[7]"
   ]
  },
  {
   "cell_type": "code",
   "execution_count": 13,
   "id": "f8dde82a",
   "metadata": {
    "execution": {
     "iopub.execute_input": "2023-06-02T05:06:13.899295Z",
     "iopub.status.busy": "2023-06-02T05:06:13.898590Z",
     "iopub.status.idle": "2023-06-02T05:06:13.907245Z",
     "shell.execute_reply": "2023-06-02T05:06:13.906468Z"
    },
    "papermill": {
     "duration": 0.029453,
     "end_time": "2023-06-02T05:06:13.909169",
     "exception": false,
     "start_time": "2023-06-02T05:06:13.879716",
     "status": "completed"
    },
    "tags": []
   },
   "outputs": [],
   "source": [
    "stop_words = stopwords.words('english')"
   ]
  },
  {
   "cell_type": "code",
   "execution_count": 14,
   "id": "b9ad030d",
   "metadata": {
    "execution": {
     "iopub.execute_input": "2023-06-02T05:06:13.947405Z",
     "iopub.status.busy": "2023-06-02T05:06:13.946697Z",
     "iopub.status.idle": "2023-06-02T05:06:13.952719Z",
     "shell.execute_reply": "2023-06-02T05:06:13.951930Z"
    },
    "papermill": {
     "duration": 0.027117,
     "end_time": "2023-06-02T05:06:13.954757",
     "exception": false,
     "start_time": "2023-06-02T05:06:13.927640",
     "status": "completed"
    },
    "tags": []
   },
   "outputs": [],
   "source": [
    "def stopwordremoval(words):\n",
    "    preprocessed_tokens = []\n",
    "    for i in words:\n",
    "        # Remove stopwords and empty strings while keeping words separated by space\n",
    "        post_removal = [word for word in i.split() if word.lower() not in stop_words]\n",
    "        filtered_string = \" \".join(post_removal).strip()\n",
    "        if filtered_string:\n",
    "            preprocessed_tokens.append(filtered_string)\n",
    "    # Combine the preprocessed tokens into a single string\n",
    "    combined_string = \" \".join(preprocessed_tokens)\n",
    "    return combined_string"
   ]
  },
  {
   "cell_type": "code",
   "execution_count": 15,
   "id": "3242b2fb",
   "metadata": {
    "execution": {
     "iopub.execute_input": "2023-06-02T05:06:13.993428Z",
     "iopub.status.busy": "2023-06-02T05:06:13.993115Z",
     "iopub.status.idle": "2023-06-02T05:06:13.999882Z",
     "shell.execute_reply": "2023-06-02T05:06:13.998948Z"
    },
    "papermill": {
     "duration": 0.028302,
     "end_time": "2023-06-02T05:06:14.001862",
     "exception": false,
     "start_time": "2023-06-02T05:06:13.973560",
     "status": "completed"
    },
    "tags": []
   },
   "outputs": [
    {
     "data": {
      "text/plain": [
       "'however took one hundred ninetyfive million oregon lottery funds port newport finally land new noaa marine operations center pacific'"
      ]
     },
     "execution_count": 15,
     "metadata": {},
     "output_type": "execute_result"
    }
   ],
   "source": [
    "stopwordremoval(['however',\n",
    " 'it',\n",
    " 'took',\n",
    " 'one',\n",
    " 'hundred',\n",
    " 'and',\n",
    " 'ninetyfive',\n",
    " 'million',\n",
    " 'in',\n",
    " 'oregon',\n",
    " 'lottery',\n",
    " 'funds',\n",
    " 'for',\n",
    " 'the',\n",
    " 'port',\n",
    " 'of',\n",
    " 'newport',\n",
    " 'to',\n",
    " 'finally',\n",
    " 'land',\n",
    " 'the',\n",
    " 'new',\n",
    " 'noaa',\n",
    " 'marine',\n",
    " 'operations',\n",
    " 'center',\n",
    " 'in',\n",
    " 'the',\n",
    " 'pacific'])"
   ]
  },
  {
   "cell_type": "code",
   "execution_count": 16,
   "id": "96bec6a0",
   "metadata": {
    "execution": {
     "iopub.execute_input": "2023-06-02T05:06:14.043354Z",
     "iopub.status.busy": "2023-06-02T05:06:14.042775Z",
     "iopub.status.idle": "2023-06-02T05:06:14.727488Z",
     "shell.execute_reply": "2023-06-02T05:06:14.726613Z"
    },
    "papermill": {
     "duration": 0.707613,
     "end_time": "2023-06-02T05:06:14.730062",
     "exception": false,
     "start_time": "2023-06-02T05:06:14.022449",
     "status": "completed"
    },
    "tags": []
   },
   "outputs": [],
   "source": [
    "train[\"english_translation_stopwords\"] = train[\"english_translation_tokenized\"].apply(stopwordremoval)\n",
    "validation[\"english_translation_stopwords\"] = validation[\"english_translation_tokenized\"].apply(stopwordremoval)\n",
    "test[\"english_translation_stopwords\"] = test[\"english_translation_tokenized\"].apply(stopwordremoval)"
   ]
  },
  {
   "cell_type": "code",
   "execution_count": 17,
   "id": "d5419453",
   "metadata": {
    "execution": {
     "iopub.execute_input": "2023-06-02T05:06:14.769314Z",
     "iopub.status.busy": "2023-06-02T05:06:14.769007Z",
     "iopub.status.idle": "2023-06-02T05:06:14.793116Z",
     "shell.execute_reply": "2023-06-02T05:06:14.792193Z"
    },
    "papermill": {
     "duration": 0.046016,
     "end_time": "2023-06-02T05:06:14.795499",
     "exception": false,
     "start_time": "2023-06-02T05:06:14.749483",
     "status": "completed"
    },
    "tags": []
   },
   "outputs": [
    {
     "data": {
      "text/html": [
       "<div>\n",
       "<style scoped>\n",
       "    .dataframe tbody tr th:only-of-type {\n",
       "        vertical-align: middle;\n",
       "    }\n",
       "\n",
       "    .dataframe tbody tr th {\n",
       "        vertical-align: top;\n",
       "    }\n",
       "\n",
       "    .dataframe thead th {\n",
       "        text-align: right;\n",
       "    }\n",
       "</style>\n",
       "<table border=\"1\" class=\"dataframe\">\n",
       "  <thead>\n",
       "    <tr style=\"text-align: right;\">\n",
       "      <th></th>\n",
       "      <th>id</th>\n",
       "      <th>label</th>\n",
       "      <th>statement</th>\n",
       "      <th>subjects</th>\n",
       "      <th>speaker</th>\n",
       "      <th>speaker_job_title</th>\n",
       "      <th>state_info</th>\n",
       "      <th>party_affilation</th>\n",
       "      <th>count_1</th>\n",
       "      <th>count_2</th>\n",
       "      <th>count_3</th>\n",
       "      <th>count_4</th>\n",
       "      <th>count_5</th>\n",
       "      <th>context</th>\n",
       "      <th>statement_removedpunctuation</th>\n",
       "      <th>nepali_translation</th>\n",
       "      <th>english_translation</th>\n",
       "      <th>english_translation_tokenized</th>\n",
       "      <th>english_translation_stopwords</th>\n",
       "    </tr>\n",
       "  </thead>\n",
       "  <tbody>\n",
       "    <tr>\n",
       "      <th>0</th>\n",
       "      <td>11685.json</td>\n",
       "      <td>false</td>\n",
       "      <td>Wisconsin is on pace to double the number of l...</td>\n",
       "      <td>jobs</td>\n",
       "      <td>katrina-shankland</td>\n",
       "      <td>State representative</td>\n",
       "      <td>Wisconsin</td>\n",
       "      <td>democrat</td>\n",
       "      <td>2</td>\n",
       "      <td>1</td>\n",
       "      <td>0</td>\n",
       "      <td>0</td>\n",
       "      <td>0</td>\n",
       "      <td>a news conference</td>\n",
       "      <td>wisconsin is on pace to double the number of l...</td>\n",
       "      <td>विस्कॉन्सिन यस वर्ष छटाउने संख्या दोब्बर गर्न ...</td>\n",
       "      <td>wisconsin is on pace to double the number of l...</td>\n",
       "      <td>[wisconsin, is, on, pace, to, double, the, num...</td>\n",
       "      <td>wisconsin pace double number layoffs year</td>\n",
       "    </tr>\n",
       "    <tr>\n",
       "      <th>1</th>\n",
       "      <td>11096.json</td>\n",
       "      <td>false</td>\n",
       "      <td>Says John McCain has done nothing to help the ...</td>\n",
       "      <td>military,veterans,voting-record</td>\n",
       "      <td>donald-trump</td>\n",
       "      <td>President-Elect</td>\n",
       "      <td>New York</td>\n",
       "      <td>republican</td>\n",
       "      <td>63</td>\n",
       "      <td>114</td>\n",
       "      <td>51</td>\n",
       "      <td>37</td>\n",
       "      <td>61</td>\n",
       "      <td>comments on ABC's This Week.</td>\n",
       "      <td>john mccain said nothing was done to help vets</td>\n",
       "      <td>जोन म्याककेनले पशु चिकित्सकहरूलाई मद्दत गर्न क...</td>\n",
       "      <td>john mccain said nothing was done to help vets</td>\n",
       "      <td>[john, mccain, said, nothing, was, done, to, h...</td>\n",
       "      <td>john mccain said nothing done help vets</td>\n",
       "    </tr>\n",
       "    <tr>\n",
       "      <th>2</th>\n",
       "      <td>5209.json</td>\n",
       "      <td>half-true</td>\n",
       "      <td>Suzanne Bonamici supports a plan that will cut...</td>\n",
       "      <td>medicare,message-machine-2012,campaign-adverti...</td>\n",
       "      <td>rob-cornilles</td>\n",
       "      <td>consultant</td>\n",
       "      <td>Oregon</td>\n",
       "      <td>republican</td>\n",
       "      <td>1</td>\n",
       "      <td>1</td>\n",
       "      <td>3</td>\n",
       "      <td>1</td>\n",
       "      <td>1</td>\n",
       "      <td>a radio show</td>\n",
       "      <td>suzanne bonamici supports plan to cut medicare...</td>\n",
       "      <td>Suzanne Bonamici ले मेडिकेयर एडभान्टेज वरिष्ठह...</td>\n",
       "      <td>suzanne bonamici supports plan to cut medicare...</td>\n",
       "      <td>[suzanne, bonamici, supports, plan, to, cut, m...</td>\n",
       "      <td>suzanne bonamici supports plan cut medicare ad...</td>\n",
       "    </tr>\n",
       "    <tr>\n",
       "      <th>3</th>\n",
       "      <td>9524.json</td>\n",
       "      <td>pants-fire</td>\n",
       "      <td>When asked by a reporter whether hes at the ce...</td>\n",
       "      <td>campaign-finance,legal-issues,campaign-adverti...</td>\n",
       "      <td>state-democratic-party-wisconsin</td>\n",
       "      <td>NaN</td>\n",
       "      <td>Wisconsin</td>\n",
       "      <td>democrat</td>\n",
       "      <td>5</td>\n",
       "      <td>7</td>\n",
       "      <td>2</td>\n",
       "      <td>2</td>\n",
       "      <td>7</td>\n",
       "      <td>a web video</td>\n",
       "      <td>when a reporter asked if he was at the center ...</td>\n",
       "      <td>जब एक रिपोर्टरले सोध्यो कि उनी अभियान कानूनको ...</td>\n",
       "      <td>when a reporter asked if he was at the center ...</td>\n",
       "      <td>[when, a, reporter, asked, if, he, was, at, th...</td>\n",
       "      <td>reporter asked center criminal scheme violate ...</td>\n",
       "    </tr>\n",
       "    <tr>\n",
       "      <th>4</th>\n",
       "      <td>5962.json</td>\n",
       "      <td>true</td>\n",
       "      <td>Over the past five years the federal governmen...</td>\n",
       "      <td>federal-budget,pensions,retirement</td>\n",
       "      <td>brendan-doherty</td>\n",
       "      <td>NaN</td>\n",
       "      <td>Rhode Island</td>\n",
       "      <td>republican</td>\n",
       "      <td>1</td>\n",
       "      <td>2</td>\n",
       "      <td>1</td>\n",
       "      <td>1</td>\n",
       "      <td>0</td>\n",
       "      <td>a campaign website</td>\n",
       "      <td>in the last five years the federal government ...</td>\n",
       "      <td>विगत पाँच वर्षमा सङ्घीय सरकारले दिवंगत पूर्व स...</td>\n",
       "      <td>in the last five years, the federal government...</td>\n",
       "      <td>[in, the, last, five, years, the, federal, gov...</td>\n",
       "      <td>last five years federal government provided 61...</td>\n",
       "    </tr>\n",
       "  </tbody>\n",
       "</table>\n",
       "</div>"
      ],
      "text/plain": [
       "           id       label                                          statement  \\\n",
       "0  11685.json       false  Wisconsin is on pace to double the number of l...   \n",
       "1  11096.json       false  Says John McCain has done nothing to help the ...   \n",
       "2   5209.json   half-true  Suzanne Bonamici supports a plan that will cut...   \n",
       "3   9524.json  pants-fire  When asked by a reporter whether hes at the ce...   \n",
       "4   5962.json        true  Over the past five years the federal governmen...   \n",
       "\n",
       "                                            subjects  \\\n",
       "0                                               jobs   \n",
       "1                    military,veterans,voting-record   \n",
       "2  medicare,message-machine-2012,campaign-adverti...   \n",
       "3  campaign-finance,legal-issues,campaign-adverti...   \n",
       "4                 federal-budget,pensions,retirement   \n",
       "\n",
       "                            speaker     speaker_job_title    state_info  \\\n",
       "0                 katrina-shankland  State representative     Wisconsin   \n",
       "1                      donald-trump       President-Elect      New York   \n",
       "2                     rob-cornilles            consultant        Oregon   \n",
       "3  state-democratic-party-wisconsin                   NaN     Wisconsin   \n",
       "4                   brendan-doherty                   NaN  Rhode Island   \n",
       "\n",
       "  party_affilation  count_1  count_2  count_3  count_4  count_5  \\\n",
       "0         democrat        2        1        0        0        0   \n",
       "1       republican       63      114       51       37       61   \n",
       "2       republican        1        1        3        1        1   \n",
       "3         democrat        5        7        2        2        7   \n",
       "4       republican        1        2        1        1        0   \n",
       "\n",
       "                        context  \\\n",
       "0             a news conference   \n",
       "1  comments on ABC's This Week.   \n",
       "2                  a radio show   \n",
       "3                   a web video   \n",
       "4            a campaign website   \n",
       "\n",
       "                        statement_removedpunctuation  \\\n",
       "0  wisconsin is on pace to double the number of l...   \n",
       "1     john mccain said nothing was done to help vets   \n",
       "2  suzanne bonamici supports plan to cut medicare...   \n",
       "3  when a reporter asked if he was at the center ...   \n",
       "4  in the last five years the federal government ...   \n",
       "\n",
       "                                  nepali_translation  \\\n",
       "0  विस्कॉन्सिन यस वर्ष छटाउने संख्या दोब्बर गर्न ...   \n",
       "1  जोन म्याककेनले पशु चिकित्सकहरूलाई मद्दत गर्न क...   \n",
       "2  Suzanne Bonamici ले मेडिकेयर एडभान्टेज वरिष्ठह...   \n",
       "3  जब एक रिपोर्टरले सोध्यो कि उनी अभियान कानूनको ...   \n",
       "4  विगत पाँच वर्षमा सङ्घीय सरकारले दिवंगत पूर्व स...   \n",
       "\n",
       "                                 english_translation  \\\n",
       "0  wisconsin is on pace to double the number of l...   \n",
       "1     john mccain said nothing was done to help vets   \n",
       "2  suzanne bonamici supports plan to cut medicare...   \n",
       "3  when a reporter asked if he was at the center ...   \n",
       "4  in the last five years, the federal government...   \n",
       "\n",
       "                       english_translation_tokenized  \\\n",
       "0  [wisconsin, is, on, pace, to, double, the, num...   \n",
       "1  [john, mccain, said, nothing, was, done, to, h...   \n",
       "2  [suzanne, bonamici, supports, plan, to, cut, m...   \n",
       "3  [when, a, reporter, asked, if, he, was, at, th...   \n",
       "4  [in, the, last, five, years, the, federal, gov...   \n",
       "\n",
       "                       english_translation_stopwords  \n",
       "0          wisconsin pace double number layoffs year  \n",
       "1            john mccain said nothing done help vets  \n",
       "2  suzanne bonamici supports plan cut medicare ad...  \n",
       "3  reporter asked center criminal scheme violate ...  \n",
       "4  last five years federal government provided 61...  "
      ]
     },
     "execution_count": 17,
     "metadata": {},
     "output_type": "execute_result"
    }
   ],
   "source": [
    "test.head()"
   ]
  },
  {
   "cell_type": "code",
   "execution_count": 18,
   "id": "07e34de4",
   "metadata": {
    "execution": {
     "iopub.execute_input": "2023-06-02T05:06:14.837904Z",
     "iopub.status.busy": "2023-06-02T05:06:14.837343Z",
     "iopub.status.idle": "2023-06-02T05:06:14.843262Z",
     "shell.execute_reply": "2023-06-02T05:06:14.842470Z"
    },
    "papermill": {
     "duration": 0.028882,
     "end_time": "2023-06-02T05:06:14.845294",
     "exception": false,
     "start_time": "2023-06-02T05:06:14.816412",
     "status": "completed"
    },
    "tags": []
   },
   "outputs": [
    {
     "data": {
      "text/plain": [
       "'over the past year more than twenty percent of americans have changed their minds about the war in afghanistan concluding that we shouldnt be there'"
      ]
     },
     "execution_count": 18,
     "metadata": {},
     "output_type": "execute_result"
    }
   ],
   "source": [
    "train[\"statement_removedpunctuation\"].iloc[200]"
   ]
  },
  {
   "cell_type": "code",
   "execution_count": 19,
   "id": "87d927c6",
   "metadata": {
    "execution": {
     "iopub.execute_input": "2023-06-02T05:06:14.885193Z",
     "iopub.status.busy": "2023-06-02T05:06:14.884410Z",
     "iopub.status.idle": "2023-06-02T05:06:14.890823Z",
     "shell.execute_reply": "2023-06-02T05:06:14.889821Z"
    },
    "papermill": {
     "duration": 0.028115,
     "end_time": "2023-06-02T05:06:14.892685",
     "exception": false,
     "start_time": "2023-06-02T05:06:14.864570",
     "status": "completed"
    },
    "tags": []
   },
   "outputs": [
    {
     "data": {
      "text/plain": [
       "'past year twenty percent americans changed minds war afghanistan concluding shouldnt'"
      ]
     },
     "execution_count": 19,
     "metadata": {},
     "output_type": "execute_result"
    }
   ],
   "source": [
    "train[\"english_translation_stopwords\"].iloc[200]"
   ]
  },
  {
   "cell_type": "code",
   "execution_count": 20,
   "id": "6b9703b0",
   "metadata": {
    "execution": {
     "iopub.execute_input": "2023-06-02T05:06:14.932180Z",
     "iopub.status.busy": "2023-06-02T05:06:14.931918Z",
     "iopub.status.idle": "2023-06-02T05:06:29.853601Z",
     "shell.execute_reply": "2023-06-02T05:06:29.852676Z"
    },
    "papermill": {
     "duration": 14.944224,
     "end_time": "2023-06-02T05:06:29.856063",
     "exception": false,
     "start_time": "2023-06-02T05:06:14.911839",
     "status": "completed"
    },
    "tags": []
   },
   "outputs": [
    {
     "name": "stderr",
     "output_type": "stream",
     "text": [
      "/opt/conda/lib/python3.10/site-packages/tensorflow_io/python/ops/__init__.py:98: UserWarning: unable to load libtensorflow_io_plugins.so: unable to open file: libtensorflow_io_plugins.so, from paths: ['/opt/conda/lib/python3.10/site-packages/tensorflow_io/python/ops/libtensorflow_io_plugins.so']\n",
      "caused by: ['/opt/conda/lib/python3.10/site-packages/tensorflow_io/python/ops/libtensorflow_io_plugins.so: undefined symbol: _ZN3tsl6StatusC1EN10tensorflow5error4CodeESt17basic_string_viewIcSt11char_traitsIcEENS_14SourceLocationE']\n",
      "  warnings.warn(f\"unable to load libtensorflow_io_plugins.so: {e}\")\n",
      "/opt/conda/lib/python3.10/site-packages/tensorflow_io/python/ops/__init__.py:104: UserWarning: file system plugins are not loaded: unable to open file: libtensorflow_io.so, from paths: ['/opt/conda/lib/python3.10/site-packages/tensorflow_io/python/ops/libtensorflow_io.so']\n",
      "caused by: ['/opt/conda/lib/python3.10/site-packages/tensorflow_io/python/ops/libtensorflow_io.so: undefined symbol: _ZTVN10tensorflow13GcsFileSystemE']\n",
      "  warnings.warn(f\"file system plugins are not loaded: {e}\")\n"
     ]
    }
   ],
   "source": [
    "import spacy"
   ]
  },
  {
   "cell_type": "code",
   "execution_count": 21,
   "id": "e682daa5",
   "metadata": {
    "execution": {
     "iopub.execute_input": "2023-06-02T05:06:29.899772Z",
     "iopub.status.busy": "2023-06-02T05:06:29.899151Z",
     "iopub.status.idle": "2023-06-02T05:06:31.087440Z",
     "shell.execute_reply": "2023-06-02T05:06:31.086380Z"
    },
    "papermill": {
     "duration": 1.212526,
     "end_time": "2023-06-02T05:06:31.090213",
     "exception": false,
     "start_time": "2023-06-02T05:06:29.877687",
     "status": "completed"
    },
    "tags": []
   },
   "outputs": [],
   "source": [
    "nlp = spacy.load(\"en_core_web_sm\")\n"
   ]
  },
  {
   "cell_type": "code",
   "execution_count": 22,
   "id": "0b4b0fe1",
   "metadata": {
    "execution": {
     "iopub.execute_input": "2023-06-02T05:06:31.133346Z",
     "iopub.status.busy": "2023-06-02T05:06:31.132442Z",
     "iopub.status.idle": "2023-06-02T05:06:31.137837Z",
     "shell.execute_reply": "2023-06-02T05:06:31.136831Z"
    },
    "papermill": {
     "duration": 0.028855,
     "end_time": "2023-06-02T05:06:31.140024",
     "exception": false,
     "start_time": "2023-06-02T05:06:31.111169",
     "status": "completed"
    },
    "tags": []
   },
   "outputs": [],
   "source": [
    "def lemmetization(text):\n",
    "    doc = nlp(text)\n",
    "    lemmetized = []\n",
    "    for token in doc:\n",
    "        lemmetized.append(token.lemma_)\n",
    "    return \" \".join(lemmetized)\n"
   ]
  },
  {
   "cell_type": "code",
   "execution_count": 23,
   "id": "dc439f44",
   "metadata": {
    "execution": {
     "iopub.execute_input": "2023-06-02T05:06:31.180727Z",
     "iopub.status.busy": "2023-06-02T05:06:31.180408Z",
     "iopub.status.idle": "2023-06-02T05:08:07.149827Z",
     "shell.execute_reply": "2023-06-02T05:08:07.148752Z"
    },
    "papermill": {
     "duration": 95.992519,
     "end_time": "2023-06-02T05:08:07.152479",
     "exception": false,
     "start_time": "2023-06-02T05:06:31.159960",
     "status": "completed"
    },
    "tags": []
   },
   "outputs": [],
   "source": [
    "train[\"preprocessed_english\"] = train[\"english_translation_stopwords\"].apply(lemmetization)\n",
    "validation[\"preprocessed_english\"] = validation[\"english_translation_stopwords\"].apply(lemmetization)\n",
    "test[\"preprocessed_english\"] = test[\"english_translation_stopwords\"].apply(lemmetization)"
   ]
  },
  {
   "cell_type": "code",
   "execution_count": 24,
   "id": "dbc21efb",
   "metadata": {
    "execution": {
     "iopub.execute_input": "2023-06-02T05:08:07.193887Z",
     "iopub.status.busy": "2023-06-02T05:08:07.193048Z",
     "iopub.status.idle": "2023-06-02T05:08:07.206753Z",
     "shell.execute_reply": "2023-06-02T05:08:07.205673Z"
    },
    "papermill": {
     "duration": 0.036485,
     "end_time": "2023-06-02T05:08:07.208983",
     "exception": false,
     "start_time": "2023-06-02T05:08:07.172498",
     "status": "completed"
    },
    "tags": []
   },
   "outputs": [
    {
     "data": {
      "text/plain": [
       "label\n",
       "half-true      2114\n",
       "false          1993\n",
       "mostly-true    1961\n",
       "true           1675\n",
       "barely-true    1654\n",
       "pants-fire      839\n",
       "dtype: int64"
      ]
     },
     "execution_count": 24,
     "metadata": {},
     "output_type": "execute_result"
    }
   ],
   "source": [
    "train.value_counts('label')"
   ]
  },
  {
   "cell_type": "code",
   "execution_count": 25,
   "id": "5a36ab11",
   "metadata": {
    "execution": {
     "iopub.execute_input": "2023-06-02T05:08:07.249585Z",
     "iopub.status.busy": "2023-06-02T05:08:07.249282Z",
     "iopub.status.idle": "2023-06-02T05:08:07.275841Z",
     "shell.execute_reply": "2023-06-02T05:08:07.274935Z"
    },
    "papermill": {
     "duration": 0.049798,
     "end_time": "2023-06-02T05:08:07.278051",
     "exception": false,
     "start_time": "2023-06-02T05:08:07.228253",
     "status": "completed"
    },
    "tags": []
   },
   "outputs": [
    {
     "data": {
      "text/html": [
       "<div>\n",
       "<style scoped>\n",
       "    .dataframe tbody tr th:only-of-type {\n",
       "        vertical-align: middle;\n",
       "    }\n",
       "\n",
       "    .dataframe tbody tr th {\n",
       "        vertical-align: top;\n",
       "    }\n",
       "\n",
       "    .dataframe thead th {\n",
       "        text-align: right;\n",
       "    }\n",
       "</style>\n",
       "<table border=\"1\" class=\"dataframe\">\n",
       "  <thead>\n",
       "    <tr style=\"text-align: right;\">\n",
       "      <th></th>\n",
       "      <th>id</th>\n",
       "      <th>label</th>\n",
       "      <th>statement</th>\n",
       "      <th>subjects</th>\n",
       "      <th>speaker</th>\n",
       "      <th>speaker_job_title</th>\n",
       "      <th>state_info</th>\n",
       "      <th>party_affilation</th>\n",
       "      <th>count_1</th>\n",
       "      <th>count_2</th>\n",
       "      <th>count_3</th>\n",
       "      <th>count_4</th>\n",
       "      <th>count_5</th>\n",
       "      <th>context</th>\n",
       "      <th>statement_removedpunctuation</th>\n",
       "      <th>nepali_translation</th>\n",
       "      <th>english_translation</th>\n",
       "      <th>english_translation_tokenized</th>\n",
       "      <th>english_translation_stopwords</th>\n",
       "      <th>preprocessed_english</th>\n",
       "    </tr>\n",
       "  </thead>\n",
       "  <tbody>\n",
       "    <tr>\n",
       "      <th>0</th>\n",
       "      <td>10540.json</td>\n",
       "      <td>half-true</td>\n",
       "      <td>When did the decline of coal start? It started...</td>\n",
       "      <td>energy,history,job-accomplishments</td>\n",
       "      <td>scott-surovell</td>\n",
       "      <td>State delegate</td>\n",
       "      <td>Virginia</td>\n",
       "      <td>democrat</td>\n",
       "      <td>0.0</td>\n",
       "      <td>0.0</td>\n",
       "      <td>1.0</td>\n",
       "      <td>1.0</td>\n",
       "      <td>0.0</td>\n",
       "      <td>a floor speech.</td>\n",
       "      <td>when did the decline of coal begin it began wi...</td>\n",
       "      <td>कोइलाको पतन कहिले सुरु भयो यो प्राकृतिक ग्यास ...</td>\n",
       "      <td>when did the decline of coal begin? it began w...</td>\n",
       "      <td>[when, did, the, decline, of, coal, begin, it,...</td>\n",
       "      <td>decline coal begin began natural gas layoff be...</td>\n",
       "      <td>decline coal begin begin natural gas layoff be...</td>\n",
       "    </tr>\n",
       "    <tr>\n",
       "      <th>1</th>\n",
       "      <td>324.json</td>\n",
       "      <td>mostly-true</td>\n",
       "      <td>Hillary Clinton agrees with John McCain \"by vo...</td>\n",
       "      <td>foreign-policy</td>\n",
       "      <td>barack-obama</td>\n",
       "      <td>President</td>\n",
       "      <td>Illinois</td>\n",
       "      <td>democrat</td>\n",
       "      <td>70.0</td>\n",
       "      <td>71.0</td>\n",
       "      <td>160.0</td>\n",
       "      <td>163.0</td>\n",
       "      <td>9.0</td>\n",
       "      <td>Denver</td>\n",
       "      <td>hillary clinton agreed with john mccain by vot...</td>\n",
       "      <td>हिलारी क्लिन्टनले जर्ज बुशलाई इरानमा शंकाको फा...</td>\n",
       "      <td>hillary clinton agreed with john mccain by vot...</td>\n",
       "      <td>[hillary, clinton, agreed, with, john, mccain,...</td>\n",
       "      <td>hillary clinton agreed john mccain voting give...</td>\n",
       "      <td>hillary clinton agree john mccain voting give ...</td>\n",
       "    </tr>\n",
       "    <tr>\n",
       "      <th>2</th>\n",
       "      <td>1123.json</td>\n",
       "      <td>false</td>\n",
       "      <td>Health care reform legislation is likely to ma...</td>\n",
       "      <td>health-care</td>\n",
       "      <td>blog-posting</td>\n",
       "      <td>NaN</td>\n",
       "      <td>NaN</td>\n",
       "      <td>none</td>\n",
       "      <td>7.0</td>\n",
       "      <td>19.0</td>\n",
       "      <td>3.0</td>\n",
       "      <td>5.0</td>\n",
       "      <td>44.0</td>\n",
       "      <td>a news release</td>\n",
       "      <td>health care reform legislation is likely to ma...</td>\n",
       "      <td>स्वास्थ्य हेरचाह सुधार कानूनले नि: शुल्क लिंग ...</td>\n",
       "      <td>health care reform legislation is likely to ma...</td>\n",
       "      <td>[health, care, reform, legislation, is, likely...</td>\n",
       "      <td>health care reform legislation likely mandate ...</td>\n",
       "      <td>health care reform legislation likely mandate ...</td>\n",
       "    </tr>\n",
       "    <tr>\n",
       "      <th>3</th>\n",
       "      <td>9028.json</td>\n",
       "      <td>half-true</td>\n",
       "      <td>The economic turnaround started at the end of ...</td>\n",
       "      <td>economy,jobs</td>\n",
       "      <td>charlie-crist</td>\n",
       "      <td>NaN</td>\n",
       "      <td>Florida</td>\n",
       "      <td>democrat</td>\n",
       "      <td>15.0</td>\n",
       "      <td>9.0</td>\n",
       "      <td>20.0</td>\n",
       "      <td>19.0</td>\n",
       "      <td>2.0</td>\n",
       "      <td>an interview on CNN</td>\n",
       "      <td>towards the end of my tenure the economic tran...</td>\n",
       "      <td>मेरो कार्यकालको अन्त्यमा आर्थिक परिवर्तन सुरु भयो</td>\n",
       "      <td>towards the end of my tenure, the economic tra...</td>\n",
       "      <td>[towards, the, end, of, my, tenure, the, econo...</td>\n",
       "      <td>towards end tenure economic transformation began</td>\n",
       "      <td>towards end tenure economic transformation begin</td>\n",
       "    </tr>\n",
       "    <tr>\n",
       "      <th>4</th>\n",
       "      <td>12465.json</td>\n",
       "      <td>true</td>\n",
       "      <td>The Chicago Bears have had more starting quart...</td>\n",
       "      <td>education</td>\n",
       "      <td>robin-vos</td>\n",
       "      <td>Wisconsin Assembly speaker</td>\n",
       "      <td>Wisconsin</td>\n",
       "      <td>republican</td>\n",
       "      <td>0.0</td>\n",
       "      <td>3.0</td>\n",
       "      <td>2.0</td>\n",
       "      <td>5.0</td>\n",
       "      <td>1.0</td>\n",
       "      <td>a an online opinion-piece</td>\n",
       "      <td>the chicago bears have had more starting quart...</td>\n",
       "      <td>शिकागो बियर्सले विगत दुई दशकहरूमा बर्खास्त गरि...</td>\n",
       "      <td>the chicago bears have had more starting quart...</td>\n",
       "      <td>[the, chicago, bears, have, had, more, startin...</td>\n",
       "      <td>chicago bears starting quarterbacks past ten y...</td>\n",
       "      <td>chicago bear start quarterback past ten year t...</td>\n",
       "    </tr>\n",
       "  </tbody>\n",
       "</table>\n",
       "</div>"
      ],
      "text/plain": [
       "           id        label                                          statement  \\\n",
       "0  10540.json    half-true  When did the decline of coal start? It started...   \n",
       "1    324.json  mostly-true  Hillary Clinton agrees with John McCain \"by vo...   \n",
       "2   1123.json        false  Health care reform legislation is likely to ma...   \n",
       "3   9028.json    half-true  The economic turnaround started at the end of ...   \n",
       "4  12465.json         true  The Chicago Bears have had more starting quart...   \n",
       "\n",
       "                             subjects         speaker  \\\n",
       "0  energy,history,job-accomplishments  scott-surovell   \n",
       "1                      foreign-policy    barack-obama   \n",
       "2                         health-care    blog-posting   \n",
       "3                        economy,jobs   charlie-crist   \n",
       "4                           education       robin-vos   \n",
       "\n",
       "            speaker_job_title state_info party_affilation  count_1  count_2  \\\n",
       "0              State delegate   Virginia         democrat      0.0      0.0   \n",
       "1                   President   Illinois         democrat     70.0     71.0   \n",
       "2                         NaN        NaN             none      7.0     19.0   \n",
       "3                         NaN    Florida         democrat     15.0      9.0   \n",
       "4  Wisconsin Assembly speaker  Wisconsin       republican      0.0      3.0   \n",
       "\n",
       "   count_3  count_4  count_5                    context  \\\n",
       "0      1.0      1.0      0.0            a floor speech.   \n",
       "1    160.0    163.0      9.0                     Denver   \n",
       "2      3.0      5.0     44.0             a news release   \n",
       "3     20.0     19.0      2.0        an interview on CNN   \n",
       "4      2.0      5.0      1.0  a an online opinion-piece   \n",
       "\n",
       "                        statement_removedpunctuation  \\\n",
       "0  when did the decline of coal begin it began wi...   \n",
       "1  hillary clinton agreed with john mccain by vot...   \n",
       "2  health care reform legislation is likely to ma...   \n",
       "3  towards the end of my tenure the economic tran...   \n",
       "4  the chicago bears have had more starting quart...   \n",
       "\n",
       "                                  nepali_translation  \\\n",
       "0  कोइलाको पतन कहिले सुरु भयो यो प्राकृतिक ग्यास ...   \n",
       "1  हिलारी क्लिन्टनले जर्ज बुशलाई इरानमा शंकाको फा...   \n",
       "2  स्वास्थ्य हेरचाह सुधार कानूनले नि: शुल्क लिंग ...   \n",
       "3  मेरो कार्यकालको अन्त्यमा आर्थिक परिवर्तन सुरु भयो   \n",
       "4  शिकागो बियर्सले विगत दुई दशकहरूमा बर्खास्त गरि...   \n",
       "\n",
       "                                 english_translation  \\\n",
       "0  when did the decline of coal begin? it began w...   \n",
       "1  hillary clinton agreed with john mccain by vot...   \n",
       "2  health care reform legislation is likely to ma...   \n",
       "3  towards the end of my tenure, the economic tra...   \n",
       "4  the chicago bears have had more starting quart...   \n",
       "\n",
       "                       english_translation_tokenized  \\\n",
       "0  [when, did, the, decline, of, coal, begin, it,...   \n",
       "1  [hillary, clinton, agreed, with, john, mccain,...   \n",
       "2  [health, care, reform, legislation, is, likely...   \n",
       "3  [towards, the, end, of, my, tenure, the, econo...   \n",
       "4  [the, chicago, bears, have, had, more, startin...   \n",
       "\n",
       "                       english_translation_stopwords  \\\n",
       "0  decline coal begin began natural gas layoff be...   \n",
       "1  hillary clinton agreed john mccain voting give...   \n",
       "2  health care reform legislation likely mandate ...   \n",
       "3   towards end tenure economic transformation began   \n",
       "4  chicago bears starting quarterbacks past ten y...   \n",
       "\n",
       "                                preprocessed_english  \n",
       "0  decline coal begin begin natural gas layoff be...  \n",
       "1  hillary clinton agree john mccain voting give ...  \n",
       "2  health care reform legislation likely mandate ...  \n",
       "3   towards end tenure economic transformation begin  \n",
       "4  chicago bear start quarterback past ten year t...  "
      ]
     },
     "execution_count": 25,
     "metadata": {},
     "output_type": "execute_result"
    }
   ],
   "source": [
    "train.head()"
   ]
  },
  {
   "cell_type": "code",
   "execution_count": 26,
   "id": "c27eab47",
   "metadata": {
    "execution": {
     "iopub.execute_input": "2023-06-02T05:08:07.321196Z",
     "iopub.status.busy": "2023-06-02T05:08:07.320373Z",
     "iopub.status.idle": "2023-06-02T05:08:07.327027Z",
     "shell.execute_reply": "2023-06-02T05:08:07.326020Z"
    },
    "papermill": {
     "duration": 0.029953,
     "end_time": "2023-06-02T05:08:07.329341",
     "exception": false,
     "start_time": "2023-06-02T05:08:07.299388",
     "status": "completed"
    },
    "tags": []
   },
   "outputs": [
    {
     "data": {
      "text/plain": [
       "'decline coal begin begin natural gas layoff begin administration president george w bush'"
      ]
     },
     "execution_count": 26,
     "metadata": {},
     "output_type": "execute_result"
    }
   ],
   "source": [
    "train[\"preprocessed_english\"].iloc[0]"
   ]
  },
  {
   "cell_type": "code",
   "execution_count": 27,
   "id": "0a9482b0",
   "metadata": {
    "execution": {
     "iopub.execute_input": "2023-06-02T05:08:07.371708Z",
     "iopub.status.busy": "2023-06-02T05:08:07.371172Z",
     "iopub.status.idle": "2023-06-02T05:08:07.375486Z",
     "shell.execute_reply": "2023-06-02T05:08:07.374621Z"
    },
    "papermill": {
     "duration": 0.027444,
     "end_time": "2023-06-02T05:08:07.377664",
     "exception": false,
     "start_time": "2023-06-02T05:08:07.350220",
     "status": "completed"
    },
    "tags": []
   },
   "outputs": [],
   "source": [
    "# print(X.toarray())"
   ]
  },
  {
   "cell_type": "code",
   "execution_count": 28,
   "id": "8dbbad24",
   "metadata": {
    "execution": {
     "iopub.execute_input": "2023-06-02T05:08:07.420250Z",
     "iopub.status.busy": "2023-06-02T05:08:07.419491Z",
     "iopub.status.idle": "2023-06-02T05:08:07.472708Z",
     "shell.execute_reply": "2023-06-02T05:08:07.471585Z"
    },
    "papermill": {
     "duration": 0.076988,
     "end_time": "2023-06-02T05:08:07.475098",
     "exception": false,
     "start_time": "2023-06-02T05:08:07.398110",
     "status": "completed"
    },
    "tags": []
   },
   "outputs": [
    {
     "data": {
      "text/plain": [
       "id                                  0\n",
       "label                               0\n",
       "statement                           0\n",
       "subjects                            2\n",
       "speaker                             2\n",
       "speaker_job_title                2895\n",
       "state_info                       2208\n",
       "party_affilation                    2\n",
       "count_1                             2\n",
       "count_2                             2\n",
       "count_3                             2\n",
       "count_4                             2\n",
       "count_5                             2\n",
       "context                           102\n",
       "statement_removedpunctuation        0\n",
       "nepali_translation                  0\n",
       "english_translation                 0\n",
       "english_translation_tokenized       0\n",
       "english_translation_stopwords       0\n",
       "preprocessed_english                0\n",
       "dtype: int64"
      ]
     },
     "execution_count": 28,
     "metadata": {},
     "output_type": "execute_result"
    }
   ],
   "source": [
    "train.isnull().sum()"
   ]
  },
  {
   "cell_type": "code",
   "execution_count": 29,
   "id": "6b9866d8",
   "metadata": {
    "execution": {
     "iopub.execute_input": "2023-06-02T05:08:07.519502Z",
     "iopub.status.busy": "2023-06-02T05:08:07.517928Z",
     "iopub.status.idle": "2023-06-02T05:08:07.547548Z",
     "shell.execute_reply": "2023-06-02T05:08:07.546551Z"
    },
    "papermill": {
     "duration": 0.05347,
     "end_time": "2023-06-02T05:08:07.549948",
     "exception": false,
     "start_time": "2023-06-02T05:08:07.496478",
     "status": "completed"
    },
    "tags": []
   },
   "outputs": [],
   "source": [
    "train.dropna(subset=['subjects', 'speaker','party_affilation'], inplace=True)\n",
    "train.dropna(subset=['context'], inplace=True)"
   ]
  },
  {
   "cell_type": "code",
   "execution_count": 30,
   "id": "b12a5ff4",
   "metadata": {
    "execution": {
     "iopub.execute_input": "2023-06-02T05:08:07.593286Z",
     "iopub.status.busy": "2023-06-02T05:08:07.592527Z",
     "iopub.status.idle": "2023-06-02T05:08:07.603183Z",
     "shell.execute_reply": "2023-06-02T05:08:07.602368Z"
    },
    "papermill": {
     "duration": 0.034045,
     "end_time": "2023-06-02T05:08:07.605189",
     "exception": false,
     "start_time": "2023-06-02T05:08:07.571144",
     "status": "completed"
    },
    "tags": []
   },
   "outputs": [],
   "source": [
    "validation.dropna(subset=['subjects', 'speaker','party_affilation'], inplace=True)\n",
    "validation.dropna(subset=['context'], inplace=True)"
   ]
  },
  {
   "cell_type": "code",
   "execution_count": 31,
   "id": "3db423e1",
   "metadata": {
    "execution": {
     "iopub.execute_input": "2023-06-02T05:08:07.646726Z",
     "iopub.status.busy": "2023-06-02T05:08:07.645929Z",
     "iopub.status.idle": "2023-06-02T05:08:07.656303Z",
     "shell.execute_reply": "2023-06-02T05:08:07.655503Z"
    },
    "papermill": {
     "duration": 0.033243,
     "end_time": "2023-06-02T05:08:07.658507",
     "exception": false,
     "start_time": "2023-06-02T05:08:07.625264",
     "status": "completed"
    },
    "tags": []
   },
   "outputs": [],
   "source": [
    "test.dropna(subset=['subjects', 'speaker','party_affilation'], inplace=True)\n",
    "test.dropna(subset=['context'], inplace=True)"
   ]
  },
  {
   "cell_type": "code",
   "execution_count": 32,
   "id": "de7b5b8e",
   "metadata": {
    "execution": {
     "iopub.execute_input": "2023-06-02T05:08:07.699698Z",
     "iopub.status.busy": "2023-06-02T05:08:07.699168Z",
     "iopub.status.idle": "2023-06-02T05:08:07.705319Z",
     "shell.execute_reply": "2023-06-02T05:08:07.704457Z"
    },
    "papermill": {
     "duration": 0.028935,
     "end_time": "2023-06-02T05:08:07.707418",
     "exception": false,
     "start_time": "2023-06-02T05:08:07.678483",
     "status": "completed"
    },
    "tags": []
   },
   "outputs": [
    {
     "data": {
      "text/plain": [
       "(10134, 20)"
      ]
     },
     "execution_count": 32,
     "metadata": {},
     "output_type": "execute_result"
    }
   ],
   "source": [
    "train.shape"
   ]
  },
  {
   "cell_type": "code",
   "execution_count": 33,
   "id": "9e57db76",
   "metadata": {
    "execution": {
     "iopub.execute_input": "2023-06-02T05:08:07.748561Z",
     "iopub.status.busy": "2023-06-02T05:08:07.748269Z",
     "iopub.status.idle": "2023-06-02T05:08:07.798782Z",
     "shell.execute_reply": "2023-06-02T05:08:07.797865Z"
    },
    "papermill": {
     "duration": 0.073547,
     "end_time": "2023-06-02T05:08:07.800784",
     "exception": false,
     "start_time": "2023-06-02T05:08:07.727237",
     "status": "completed"
    },
    "tags": []
   },
   "outputs": [
    {
     "data": {
      "text/plain": [
       "id                                  0\n",
       "label                               0\n",
       "statement                           0\n",
       "subjects                            0\n",
       "speaker                             0\n",
       "speaker_job_title                2864\n",
       "state_info                       2183\n",
       "party_affilation                    0\n",
       "count_1                             0\n",
       "count_2                             0\n",
       "count_3                             0\n",
       "count_4                             0\n",
       "count_5                             0\n",
       "context                             0\n",
       "statement_removedpunctuation        0\n",
       "nepali_translation                  0\n",
       "english_translation                 0\n",
       "english_translation_tokenized       0\n",
       "english_translation_stopwords       0\n",
       "preprocessed_english                0\n",
       "dtype: int64"
      ]
     },
     "execution_count": 33,
     "metadata": {},
     "output_type": "execute_result"
    }
   ],
   "source": [
    "train.isnull().sum()"
   ]
  },
  {
   "cell_type": "code",
   "execution_count": 34,
   "id": "9d142a1d",
   "metadata": {
    "execution": {
     "iopub.execute_input": "2023-06-02T05:08:07.844147Z",
     "iopub.status.busy": "2023-06-02T05:08:07.843434Z",
     "iopub.status.idle": "2023-06-02T05:08:07.852368Z",
     "shell.execute_reply": "2023-06-02T05:08:07.851365Z"
    },
    "papermill": {
     "duration": 0.033069,
     "end_time": "2023-06-02T05:08:07.854456",
     "exception": false,
     "start_time": "2023-06-02T05:08:07.821387",
     "status": "completed"
    },
    "tags": []
   },
   "outputs": [
    {
     "data": {
      "text/plain": [
       "label\n",
       "half-true      2097\n",
       "false          1970\n",
       "mostly-true    1944\n",
       "true           1655\n",
       "barely-true    1640\n",
       "pants-fire      828\n",
       "dtype: int64"
      ]
     },
     "execution_count": 34,
     "metadata": {},
     "output_type": "execute_result"
    }
   ],
   "source": [
    "train.value_counts('label')"
   ]
  },
  {
   "cell_type": "code",
   "execution_count": 35,
   "id": "bdb94d45",
   "metadata": {
    "execution": {
     "iopub.execute_input": "2023-06-02T05:08:07.899802Z",
     "iopub.status.busy": "2023-06-02T05:08:07.898976Z",
     "iopub.status.idle": "2023-06-02T05:08:08.079787Z",
     "shell.execute_reply": "2023-06-02T05:08:08.078885Z"
    },
    "papermill": {
     "duration": 0.206464,
     "end_time": "2023-06-02T05:08:08.082188",
     "exception": false,
     "start_time": "2023-06-02T05:08:07.875724",
     "status": "completed"
    },
    "tags": []
   },
   "outputs": [],
   "source": [
    "train.replace(to_replace=[\"true\", \"mostly-true\"],\n",
    "           value=\"true\", inplace=True)\n",
    "train.replace(to_replace=[\"false\", \"pants-fire\"],\n",
    "           value=\"false\", inplace=True)\n",
    "train.replace(to_replace=[\"half-true\", \"barely-true\"],\n",
    "           value=\"vague\", inplace=True)"
   ]
  },
  {
   "cell_type": "code",
   "execution_count": 36,
   "id": "d4429220",
   "metadata": {
    "execution": {
     "iopub.execute_input": "2023-06-02T05:08:08.125466Z",
     "iopub.status.busy": "2023-06-02T05:08:08.124651Z",
     "iopub.status.idle": "2023-06-02T05:08:08.133704Z",
     "shell.execute_reply": "2023-06-02T05:08:08.132794Z"
    },
    "papermill": {
     "duration": 0.03251,
     "end_time": "2023-06-02T05:08:08.135733",
     "exception": false,
     "start_time": "2023-06-02T05:08:08.103223",
     "status": "completed"
    },
    "tags": []
   },
   "outputs": [
    {
     "data": {
      "text/plain": [
       "label\n",
       "vague    3737\n",
       "true     3599\n",
       "false    2798\n",
       "dtype: int64"
      ]
     },
     "execution_count": 36,
     "metadata": {},
     "output_type": "execute_result"
    }
   ],
   "source": [
    "train.value_counts('label')"
   ]
  },
  {
   "cell_type": "code",
   "execution_count": 37,
   "id": "fe5e1bf0",
   "metadata": {
    "execution": {
     "iopub.execute_input": "2023-06-02T05:08:08.179489Z",
     "iopub.status.busy": "2023-06-02T05:08:08.178721Z",
     "iopub.status.idle": "2023-06-02T05:08:08.214135Z",
     "shell.execute_reply": "2023-06-02T05:08:08.213287Z"
    },
    "papermill": {
     "duration": 0.059025,
     "end_time": "2023-06-02T05:08:08.215987",
     "exception": false,
     "start_time": "2023-06-02T05:08:08.156962",
     "status": "completed"
    },
    "tags": []
   },
   "outputs": [
    {
     "data": {
      "text/plain": [
       "label\n",
       "vague    480\n",
       "true     416\n",
       "false    375\n",
       "dtype: int64"
      ]
     },
     "execution_count": 37,
     "metadata": {},
     "output_type": "execute_result"
    }
   ],
   "source": [
    "validation.replace(to_replace=[\"true\", \"mostly-true\"],\n",
    "           value=\"true\", inplace=True)\n",
    "validation.replace(to_replace=[\"false\", \"pants-fire\"],\n",
    "           value=\"false\", inplace=True)\n",
    "validation.replace(to_replace=[\"half-true\", \"barely-true\"],\n",
    "           value=\"vague\", inplace=True)\n",
    "validation.value_counts('label')"
   ]
  },
  {
   "cell_type": "code",
   "execution_count": 38,
   "id": "3fecb08f",
   "metadata": {
    "execution": {
     "iopub.execute_input": "2023-06-02T05:08:08.259214Z",
     "iopub.status.busy": "2023-06-02T05:08:08.258493Z",
     "iopub.status.idle": "2023-06-02T05:08:08.293309Z",
     "shell.execute_reply": "2023-06-02T05:08:08.292260Z"
    },
    "papermill": {
     "duration": 0.058743,
     "end_time": "2023-06-02T05:08:08.295536",
     "exception": false,
     "start_time": "2023-06-02T05:08:08.236793",
     "status": "completed"
    },
    "tags": []
   },
   "outputs": [
    {
     "data": {
      "text/plain": [
       "label\n",
       "vague    470\n",
       "true     440\n",
       "false    336\n",
       "dtype: int64"
      ]
     },
     "execution_count": 38,
     "metadata": {},
     "output_type": "execute_result"
    }
   ],
   "source": [
    "test.replace(to_replace=[\"true\", \"mostly-true\"],\n",
    "           value=\"true\", inplace=True)\n",
    "test.replace(to_replace=[\"false\", \"pants-fire\"],\n",
    "           value=\"false\", inplace=True)\n",
    "test.replace(to_replace=[\"half-true\", \"barely-true\"],\n",
    "           value=\"vague\", inplace=True)\n",
    "test.value_counts('label')"
   ]
  },
  {
   "cell_type": "code",
   "execution_count": 39,
   "id": "473439a8",
   "metadata": {
    "execution": {
     "iopub.execute_input": "2023-06-02T05:08:08.341392Z",
     "iopub.status.busy": "2023-06-02T05:08:08.340584Z",
     "iopub.status.idle": "2023-06-02T05:08:08.348546Z",
     "shell.execute_reply": "2023-06-02T05:08:08.347641Z"
    },
    "papermill": {
     "duration": 0.032747,
     "end_time": "2023-06-02T05:08:08.350612",
     "exception": false,
     "start_time": "2023-06-02T05:08:08.317865",
     "status": "completed"
    },
    "tags": []
   },
   "outputs": [],
   "source": [
    "from sklearn.feature_extraction.text import TfidfVectorizer\n",
    "from sklearn.model_selection import train_test_split\n",
    "from sklearn.metrics import classification_report,confusion_matrix\n",
    "from sklearn.metrics import accuracy_score\n",
    "from tensorflow.keras import Model\n",
    "from tensorflow.keras.models import Sequential\n",
    "from tensorflow.keras.layers import Dense, Dropout, LSTM, Embedding, Bidirectional, Input, Concatenate, TimeDistributed\n",
    "from tensorflow.keras.utils import plot_model"
   ]
  },
  {
   "cell_type": "code",
   "execution_count": 40,
   "id": "e6fb179c",
   "metadata": {
    "execution": {
     "iopub.execute_input": "2023-06-02T05:08:08.396467Z",
     "iopub.status.busy": "2023-06-02T05:08:08.395651Z",
     "iopub.status.idle": "2023-06-02T05:08:08.400372Z",
     "shell.execute_reply": "2023-06-02T05:08:08.399537Z"
    },
    "papermill": {
     "duration": 0.029904,
     "end_time": "2023-06-02T05:08:08.402485",
     "exception": false,
     "start_time": "2023-06-02T05:08:08.372581",
     "status": "completed"
    },
    "tags": []
   },
   "outputs": [],
   "source": [
    "import tensorflow as tf"
   ]
  },
  {
   "cell_type": "code",
   "execution_count": 41,
   "id": "200c6b9d",
   "metadata": {
    "execution": {
     "iopub.execute_input": "2023-06-02T05:08:08.448814Z",
     "iopub.status.busy": "2023-06-02T05:08:08.448048Z",
     "iopub.status.idle": "2023-06-02T05:08:08.452910Z",
     "shell.execute_reply": "2023-06-02T05:08:08.452002Z"
    },
    "papermill": {
     "duration": 0.03002,
     "end_time": "2023-06-02T05:08:08.454948",
     "exception": false,
     "start_time": "2023-06-02T05:08:08.424928",
     "status": "completed"
    },
    "tags": []
   },
   "outputs": [],
   "source": [
    "vectorizer = TfidfVectorizer(lowercase = False)"
   ]
  },
  {
   "cell_type": "code",
   "execution_count": 42,
   "id": "1f3ba0b5",
   "metadata": {
    "execution": {
     "iopub.execute_input": "2023-06-02T05:08:08.500775Z",
     "iopub.status.busy": "2023-06-02T05:08:08.500025Z",
     "iopub.status.idle": "2023-06-02T05:08:08.505503Z",
     "shell.execute_reply": "2023-06-02T05:08:08.504680Z"
    },
    "papermill": {
     "duration": 0.030495,
     "end_time": "2023-06-02T05:08:08.507605",
     "exception": false,
     "start_time": "2023-06-02T05:08:08.477110",
     "status": "completed"
    },
    "tags": []
   },
   "outputs": [],
   "source": [
    "features_train = train['preprocessed_english']\n",
    "target_train = train['label'] \n",
    "features_valid = validation['preprocessed_english']\n",
    "target_valid = validation['label'] \n",
    "features_test = test['preprocessed_english']\n",
    "target_test = test['label'] "
   ]
  },
  {
   "cell_type": "code",
   "execution_count": 43,
   "id": "c583d28a",
   "metadata": {
    "execution": {
     "iopub.execute_input": "2023-06-02T05:08:08.552558Z",
     "iopub.status.busy": "2023-06-02T05:08:08.551843Z",
     "iopub.status.idle": "2023-06-02T05:08:08.804497Z",
     "shell.execute_reply": "2023-06-02T05:08:08.803513Z"
    },
    "papermill": {
     "duration": 0.277584,
     "end_time": "2023-06-02T05:08:08.807319",
     "exception": false,
     "start_time": "2023-06-02T05:08:08.529735",
     "status": "completed"
    },
    "tags": []
   },
   "outputs": [],
   "source": [
    "X_train= vectorizer.fit_transform(features_train)\n",
    "X_valid=vectorizer.transform(features_valid)\n",
    "X_test=vectorizer.transform(features_test)"
   ]
  },
  {
   "cell_type": "code",
   "execution_count": 44,
   "id": "be04d0f9",
   "metadata": {
    "execution": {
     "iopub.execute_input": "2023-06-02T05:08:08.854037Z",
     "iopub.status.busy": "2023-06-02T05:08:08.853728Z",
     "iopub.status.idle": "2023-06-02T05:08:08.859832Z",
     "shell.execute_reply": "2023-06-02T05:08:08.858963Z"
    },
    "papermill": {
     "duration": 0.030696,
     "end_time": "2023-06-02T05:08:08.861762",
     "exception": false,
     "start_time": "2023-06-02T05:08:08.831066",
     "status": "completed"
    },
    "tags": []
   },
   "outputs": [
    {
     "data": {
      "text/plain": [
       "scipy.sparse._csr.csr_matrix"
      ]
     },
     "execution_count": 44,
     "metadata": {},
     "output_type": "execute_result"
    }
   ],
   "source": [
    "type(X_train)"
   ]
  },
  {
   "cell_type": "code",
   "execution_count": 45,
   "id": "6ce390cf",
   "metadata": {
    "execution": {
     "iopub.execute_input": "2023-06-02T05:08:08.905725Z",
     "iopub.status.busy": "2023-06-02T05:08:08.904976Z",
     "iopub.status.idle": "2023-06-02T05:08:08.912545Z",
     "shell.execute_reply": "2023-06-02T05:08:08.911760Z"
    },
    "papermill": {
     "duration": 0.031427,
     "end_time": "2023-06-02T05:08:08.914431",
     "exception": false,
     "start_time": "2023-06-02T05:08:08.883004",
     "status": "completed"
    },
    "tags": []
   },
   "outputs": [],
   "source": [
    "import scipy.sparse as sp\n",
    "\n",
    "# Sort the indices of the sparse matrix\n",
    "X_train.sort_indices()\n",
    "X_valid.sort_indices()\n",
    "X_test.sort_indices()"
   ]
  },
  {
   "cell_type": "code",
   "execution_count": 46,
   "id": "cbca386b",
   "metadata": {
    "execution": {
     "iopub.execute_input": "2023-06-02T05:08:08.958423Z",
     "iopub.status.busy": "2023-06-02T05:08:08.957644Z",
     "iopub.status.idle": "2023-06-02T05:08:08.962165Z",
     "shell.execute_reply": "2023-06-02T05:08:08.961363Z"
    },
    "papermill": {
     "duration": 0.02837,
     "end_time": "2023-06-02T05:08:08.964142",
     "exception": false,
     "start_time": "2023-06-02T05:08:08.935772",
     "status": "completed"
    },
    "tags": []
   },
   "outputs": [],
   "source": [
    "y_train=target_train\n",
    "y_valid=target_valid\n",
    "y_test=target_test"
   ]
  },
  {
   "cell_type": "code",
   "execution_count": 47,
   "id": "cf1a11ce",
   "metadata": {
    "execution": {
     "iopub.execute_input": "2023-06-02T05:08:09.007161Z",
     "iopub.status.busy": "2023-06-02T05:08:09.006369Z",
     "iopub.status.idle": "2023-06-02T05:08:09.015248Z",
     "shell.execute_reply": "2023-06-02T05:08:09.014496Z"
    },
    "papermill": {
     "duration": 0.032318,
     "end_time": "2023-06-02T05:08:09.017245",
     "exception": false,
     "start_time": "2023-06-02T05:08:08.984927",
     "status": "completed"
    },
    "tags": []
   },
   "outputs": [],
   "source": [
    "from sklearn.preprocessing import LabelEncoder\n",
    "\n",
    "# Initialize LabelEncoder\n",
    "label_encoder = LabelEncoder()\n",
    "\n",
    "# Fit and transform the target variable\n",
    "y_train = label_encoder.fit_transform(y_train)\n",
    "y_valid = label_encoder.transform(y_valid)\n",
    "y_test = label_encoder.transform(y_test)"
   ]
  },
  {
   "cell_type": "code",
   "execution_count": 48,
   "id": "9ed3f1ef",
   "metadata": {
    "execution": {
     "iopub.execute_input": "2023-06-02T05:08:09.060800Z",
     "iopub.status.busy": "2023-06-02T05:08:09.060161Z",
     "iopub.status.idle": "2023-06-02T05:08:09.067388Z",
     "shell.execute_reply": "2023-06-02T05:08:09.066243Z"
    },
    "papermill": {
     "duration": 0.031308,
     "end_time": "2023-06-02T05:08:09.069573",
     "exception": false,
     "start_time": "2023-06-02T05:08:09.038265",
     "status": "completed"
    },
    "tags": []
   },
   "outputs": [
    {
     "data": {
      "text/plain": [
       "array([2, 1, 0, ..., 2, 0, 0])"
      ]
     },
     "execution_count": 48,
     "metadata": {},
     "output_type": "execute_result"
    }
   ],
   "source": [
    "y_train"
   ]
  },
  {
   "cell_type": "code",
   "execution_count": 49,
   "id": "28ad9fa0",
   "metadata": {
    "execution": {
     "iopub.execute_input": "2023-06-02T05:08:09.114657Z",
     "iopub.status.busy": "2023-06-02T05:08:09.113905Z",
     "iopub.status.idle": "2023-06-02T05:08:09.120379Z",
     "shell.execute_reply": "2023-06-02T05:08:09.119202Z"
    },
    "papermill": {
     "duration": 0.030581,
     "end_time": "2023-06-02T05:08:09.122378",
     "exception": false,
     "start_time": "2023-06-02T05:08:09.091797",
     "status": "completed"
    },
    "tags": []
   },
   "outputs": [
    {
     "data": {
      "text/plain": [
       "<10134x9565 sparse matrix of type '<class 'numpy.float64'>'\n",
       "\twith 103935 stored elements in Compressed Sparse Row format>"
      ]
     },
     "execution_count": 49,
     "metadata": {},
     "output_type": "execute_result"
    }
   ],
   "source": [
    "X_train"
   ]
  },
  {
   "cell_type": "code",
   "execution_count": 50,
   "id": "52d87be1",
   "metadata": {
    "execution": {
     "iopub.execute_input": "2023-06-02T05:08:09.166869Z",
     "iopub.status.busy": "2023-06-02T05:08:09.166072Z",
     "iopub.status.idle": "2023-06-02T05:08:09.170448Z",
     "shell.execute_reply": "2023-06-02T05:08:09.169604Z"
    },
    "papermill": {
     "duration": 0.028586,
     "end_time": "2023-06-02T05:08:09.172232",
     "exception": false,
     "start_time": "2023-06-02T05:08:09.143646",
     "status": "completed"
    },
    "tags": []
   },
   "outputs": [],
   "source": [
    "# X_train=X_train.toarray()\n",
    "# X_valid=X_valid.toarray()\n",
    "# X_test=X_test.toarray()"
   ]
  },
  {
   "cell_type": "code",
   "execution_count": 51,
   "id": "711402b4",
   "metadata": {
    "execution": {
     "iopub.execute_input": "2023-06-02T05:08:09.216681Z",
     "iopub.status.busy": "2023-06-02T05:08:09.215858Z",
     "iopub.status.idle": "2023-06-02T05:08:09.222217Z",
     "shell.execute_reply": "2023-06-02T05:08:09.221302Z"
    },
    "papermill": {
     "duration": 0.030624,
     "end_time": "2023-06-02T05:08:09.224422",
     "exception": false,
     "start_time": "2023-06-02T05:08:09.193798",
     "status": "completed"
    },
    "tags": []
   },
   "outputs": [
    {
     "data": {
      "text/plain": [
       "(1271, 9565)"
      ]
     },
     "execution_count": 51,
     "metadata": {},
     "output_type": "execute_result"
    }
   ],
   "source": [
    "X_valid.shape"
   ]
  },
  {
   "cell_type": "code",
   "execution_count": 52,
   "id": "f50ad1ca",
   "metadata": {
    "execution": {
     "iopub.execute_input": "2023-06-02T05:08:09.269219Z",
     "iopub.status.busy": "2023-06-02T05:08:09.268466Z",
     "iopub.status.idle": "2023-06-02T05:08:09.274389Z",
     "shell.execute_reply": "2023-06-02T05:08:09.273522Z"
    },
    "papermill": {
     "duration": 0.030413,
     "end_time": "2023-06-02T05:08:09.276259",
     "exception": false,
     "start_time": "2023-06-02T05:08:09.245846",
     "status": "completed"
    },
    "tags": []
   },
   "outputs": [
    {
     "data": {
      "text/plain": [
       "(10134,)"
      ]
     },
     "execution_count": 52,
     "metadata": {},
     "output_type": "execute_result"
    }
   ],
   "source": [
    "y_train.shape"
   ]
  },
  {
   "cell_type": "code",
   "execution_count": 53,
   "id": "67bc305c",
   "metadata": {
    "execution": {
     "iopub.execute_input": "2023-06-02T05:08:09.321602Z",
     "iopub.status.busy": "2023-06-02T05:08:09.320857Z",
     "iopub.status.idle": "2023-06-02T05:08:09.327093Z",
     "shell.execute_reply": "2023-06-02T05:08:09.326124Z"
    },
    "papermill": {
     "duration": 0.031505,
     "end_time": "2023-06-02T05:08:09.329155",
     "exception": false,
     "start_time": "2023-06-02T05:08:09.297650",
     "status": "completed"
    },
    "tags": []
   },
   "outputs": [
    {
     "data": {
      "text/plain": [
       "(1271, 9565)"
      ]
     },
     "execution_count": 53,
     "metadata": {},
     "output_type": "execute_result"
    }
   ],
   "source": [
    "X_valid.shape"
   ]
  },
  {
   "cell_type": "code",
   "execution_count": 54,
   "id": "44493e75",
   "metadata": {
    "execution": {
     "iopub.execute_input": "2023-06-02T05:08:09.375735Z",
     "iopub.status.busy": "2023-06-02T05:08:09.374936Z",
     "iopub.status.idle": "2023-06-02T05:08:09.379507Z",
     "shell.execute_reply": "2023-06-02T05:08:09.378653Z"
    },
    "papermill": {
     "duration": 0.029871,
     "end_time": "2023-06-02T05:08:09.381671",
     "exception": false,
     "start_time": "2023-06-02T05:08:09.351800",
     "status": "completed"
    },
    "tags": []
   },
   "outputs": [],
   "source": [
    "# X_train, X_test, y_train, y_test = train_test_split(features_transformed, target, test_size=0.2, random_state=42)"
   ]
  },
  {
   "cell_type": "code",
   "execution_count": 55,
   "id": "ae3099a9",
   "metadata": {
    "execution": {
     "iopub.execute_input": "2023-06-02T05:08:09.426754Z",
     "iopub.status.busy": "2023-06-02T05:08:09.426102Z",
     "iopub.status.idle": "2023-06-02T05:08:09.431972Z",
     "shell.execute_reply": "2023-06-02T05:08:09.431041Z"
    },
    "papermill": {
     "duration": 0.030207,
     "end_time": "2023-06-02T05:08:09.433893",
     "exception": false,
     "start_time": "2023-06-02T05:08:09.403686",
     "status": "completed"
    },
    "tags": []
   },
   "outputs": [
    {
     "data": {
      "text/plain": [
       "scipy.sparse._csr.csr_matrix"
      ]
     },
     "execution_count": 55,
     "metadata": {},
     "output_type": "execute_result"
    }
   ],
   "source": [
    "type(X_train)\n"
   ]
  },
  {
   "cell_type": "code",
   "execution_count": 56,
   "id": "5342dfe7",
   "metadata": {
    "execution": {
     "iopub.execute_input": "2023-06-02T05:08:09.479464Z",
     "iopub.status.busy": "2023-06-02T05:08:09.478690Z",
     "iopub.status.idle": "2023-06-02T05:08:09.485200Z",
     "shell.execute_reply": "2023-06-02T05:08:09.484233Z"
    },
    "papermill": {
     "duration": 0.031894,
     "end_time": "2023-06-02T05:08:09.487305",
     "exception": false,
     "start_time": "2023-06-02T05:08:09.455411",
     "status": "completed"
    },
    "tags": []
   },
   "outputs": [
    {
     "data": {
      "text/plain": [
       "numpy.ndarray"
      ]
     },
     "execution_count": 56,
     "metadata": {},
     "output_type": "execute_result"
    }
   ],
   "source": [
    "type(y_train)"
   ]
  },
  {
   "cell_type": "code",
   "execution_count": 57,
   "id": "47dcb9e6",
   "metadata": {
    "execution": {
     "iopub.execute_input": "2023-06-02T05:08:09.532465Z",
     "iopub.status.busy": "2023-06-02T05:08:09.531744Z",
     "iopub.status.idle": "2023-06-02T05:08:09.536045Z",
     "shell.execute_reply": "2023-06-02T05:08:09.535204Z"
    },
    "papermill": {
     "duration": 0.029069,
     "end_time": "2023-06-02T05:08:09.538245",
     "exception": false,
     "start_time": "2023-06-02T05:08:09.509176",
     "status": "completed"
    },
    "tags": []
   },
   "outputs": [],
   "source": [
    "vocab_size = 5000"
   ]
  },
  {
   "cell_type": "code",
   "execution_count": 58,
   "id": "0c89eac6",
   "metadata": {
    "execution": {
     "iopub.execute_input": "2023-06-02T05:08:09.583654Z",
     "iopub.status.busy": "2023-06-02T05:08:09.582875Z",
     "iopub.status.idle": "2023-06-02T05:08:18.640618Z",
     "shell.execute_reply": "2023-06-02T05:08:18.639772Z"
    },
    "papermill": {
     "duration": 9.091605,
     "end_time": "2023-06-02T05:08:18.651755",
     "exception": false,
     "start_time": "2023-06-02T05:08:09.560150",
     "status": "completed"
    },
    "tags": []
   },
   "outputs": [
    {
     "name": "stdout",
     "output_type": "stream",
     "text": [
      "Model: \"sequential\"\n",
      "_________________________________________________________________\n",
      " Layer (type)                Output Shape              Param #   \n",
      "=================================================================\n",
      " embedding (Embedding)       (None, 9565, 128)         640000    \n",
      "                                                                 \n",
      " dropout (Dropout)           (None, 9565, 128)         0         \n",
      "                                                                 \n",
      " lstm (LSTM)                 (None, 4)                 2128      \n",
      "                                                                 \n",
      " dropout_1 (Dropout)         (None, 4)                 0         \n",
      "                                                                 \n",
      " dense (Dense)               (None, 100)               500       \n",
      "                                                                 \n",
      " dropout_2 (Dropout)         (None, 100)               0         \n",
      "                                                                 \n",
      " dense_1 (Dense)             (None, 3)                 303       \n",
      "                                                                 \n",
      "=================================================================\n",
      "Total params: 642,931\n",
      "Trainable params: 642,931\n",
      "Non-trainable params: 0\n",
      "_________________________________________________________________\n"
     ]
    }
   ],
   "source": [
    "model = Sequential()\n",
    "model.add(Embedding(vocab_size, 128, input_length=X_train.shape[1]))  # Embedding layer\n",
    "model.add(Dropout(rate=0.4))\n",
    "model.add(LSTM(units=4))\n",
    "model.add(Dropout(rate=0.4))\n",
    "model.add(Dense(units=100,  activation='relu'))\n",
    "model.add(Dropout(rate=0.5))\n",
    "model.add(Dense(units=3, activation='sigmoid'))\n",
    "\n",
    "model.summary()"
   ]
  },
  {
   "cell_type": "code",
   "execution_count": 59,
   "id": "4b6f3d8f",
   "metadata": {
    "execution": {
     "iopub.execute_input": "2023-06-02T05:08:18.700232Z",
     "iopub.status.busy": "2023-06-02T05:08:18.699903Z",
     "iopub.status.idle": "2023-06-02T05:08:18.716778Z",
     "shell.execute_reply": "2023-06-02T05:08:18.715854Z"
    },
    "papermill": {
     "duration": 0.04362,
     "end_time": "2023-06-02T05:08:18.718935",
     "exception": false,
     "start_time": "2023-06-02T05:08:18.675315",
     "status": "completed"
    },
    "tags": []
   },
   "outputs": [],
   "source": [
    "model.compile(optimizer='adam', loss='sparse_categorical_crossentropy', metrics = ['accuracy'])\n"
   ]
  },
  {
   "cell_type": "code",
   "execution_count": 60,
   "id": "c1215539",
   "metadata": {
    "execution": {
     "iopub.execute_input": "2023-06-02T05:08:18.768823Z",
     "iopub.status.busy": "2023-06-02T05:08:18.768488Z",
     "iopub.status.idle": "2023-06-02T05:18:59.173833Z",
     "shell.execute_reply": "2023-06-02T05:18:59.172767Z"
    },
    "papermill": {
     "duration": 640.433588,
     "end_time": "2023-06-02T05:18:59.176752",
     "exception": false,
     "start_time": "2023-06-02T05:08:18.743164",
     "status": "completed"
    },
    "tags": []
   },
   "outputs": [
    {
     "name": "stdout",
     "output_type": "stream",
     "text": [
      "Epoch 1/5\n",
      "317/317 [==============================] - 112s 328ms/step - loss: 1.0926 - accuracy: 0.3634 - val_loss: 1.0956 - val_accuracy: 0.3777\n",
      "Epoch 2/5\n",
      "317/317 [==============================] - 102s 322ms/step - loss: 1.0916 - accuracy: 0.3666 - val_loss: 1.0956 - val_accuracy: 0.3777\n",
      "Epoch 3/5\n",
      "317/317 [==============================] - 103s 324ms/step - loss: 1.0916 - accuracy: 0.3623 - val_loss: 1.0947 - val_accuracy: 0.3777\n",
      "Epoch 4/5\n",
      "317/317 [==============================] - 103s 324ms/step - loss: 1.0917 - accuracy: 0.3714 - val_loss: 1.0958 - val_accuracy: 0.3777\n",
      "Epoch 5/5\n",
      "317/317 [==============================] - 104s 329ms/step - loss: 1.0914 - accuracy: 0.3620 - val_loss: 1.0954 - val_accuracy: 0.3777\n"
     ]
    }
   ],
   "source": [
    "history = model.fit(\n",
    "    X_train, \n",
    "    y_train, \n",
    "    validation_data=[X_valid, y_valid],\n",
    "    epochs = 5\n",
    ")"
   ]
  },
  {
   "cell_type": "code",
   "execution_count": 61,
   "id": "b81dfae9",
   "metadata": {
    "execution": {
     "iopub.execute_input": "2023-06-02T05:18:59.521560Z",
     "iopub.status.busy": "2023-06-02T05:18:59.521119Z",
     "iopub.status.idle": "2023-06-02T05:18:59.667423Z",
     "shell.execute_reply": "2023-06-02T05:18:59.666387Z"
    },
    "papermill": {
     "duration": 0.300257,
     "end_time": "2023-06-02T05:18:59.670005",
     "exception": false,
     "start_time": "2023-06-02T05:18:59.369748",
     "status": "completed"
    },
    "tags": []
   },
   "outputs": [],
   "source": [
    "import matplotlib.pyplot as plt\n",
    "import seaborn as sns"
   ]
  },
  {
   "cell_type": "code",
   "execution_count": 62,
   "id": "f8f4b515",
   "metadata": {
    "execution": {
     "iopub.execute_input": "2023-06-02T05:18:59.978715Z",
     "iopub.status.busy": "2023-06-02T05:18:59.978268Z",
     "iopub.status.idle": "2023-06-02T05:18:59.985815Z",
     "shell.execute_reply": "2023-06-02T05:18:59.984788Z"
    },
    "papermill": {
     "duration": 0.163149,
     "end_time": "2023-06-02T05:18:59.987731",
     "exception": false,
     "start_time": "2023-06-02T05:18:59.824582",
     "status": "completed"
    },
    "tags": []
   },
   "outputs": [],
   "source": [
    "def plot_history(history):\n",
    "    # summarize history for accuracy\n",
    "    plt.plot(history.history['accuracy'])\n",
    "    plt.plot(history.history['val_accuracy'])\n",
    "    plt.title('model accuracy')\n",
    "    plt.ylabel('accuracy')\n",
    "    plt.xlabel('epoch')\n",
    "    plt.legend(['train', 'validation'], loc='upper left')\n",
    "    plt.show()\n",
    "    # summarize history for loss\n",
    "    plt.plot(history.history['loss'])\n",
    "    plt.plot(history.history['val_loss'])\n",
    "    plt.title('model loss')\n",
    "    plt.ylabel('loss')\n",
    "    plt.xlabel('epoch')\n",
    "    plt.legend(['train', 'validation'], loc='upper left')\n",
    "    plt.show()"
   ]
  },
  {
   "cell_type": "code",
   "execution_count": 63,
   "id": "2cd549b5",
   "metadata": {
    "execution": {
     "iopub.execute_input": "2023-06-02T05:19:00.284534Z",
     "iopub.status.busy": "2023-06-02T05:19:00.283965Z",
     "iopub.status.idle": "2023-06-02T05:19:00.964938Z",
     "shell.execute_reply": "2023-06-02T05:19:00.963910Z"
    },
    "papermill": {
     "duration": 0.830722,
     "end_time": "2023-06-02T05:19:00.967463",
     "exception": false,
     "start_time": "2023-06-02T05:19:00.136741",
     "status": "completed"
    },
    "tags": []
   },
   "outputs": [
    {
     "data": {
      "image/png": "[encoded data removed]",
      "text/plain": [
       "<Figure size 640x480 with 1 Axes>"
      ]
     },
     "metadata": {},
     "output_type": "display_data"
    },
    {
     "data": {
      "image/png": "[encoded data removed]",
      "text/plain": [
       "<Figure size 640x480 with 1 Axes>"
      ]
     },
     "metadata": {},
     "output_type": "display_data"
    }
   ],
   "source": [
    "plot_history(history)"
   ]
  },
  {
   "cell_type": "code",
   "execution_count": 64,
   "id": "0ae5d1b2",
   "metadata": {
    "execution": {
     "iopub.execute_input": "2023-06-02T05:19:01.279006Z",
     "iopub.status.busy": "2023-06-02T05:19:01.278618Z",
     "iopub.status.idle": "2023-06-02T05:19:06.405551Z",
     "shell.execute_reply": "2023-06-02T05:19:06.404398Z"
    },
    "papermill": {
     "duration": 5.283232,
     "end_time": "2023-06-02T05:19:06.407776",
     "exception": false,
     "start_time": "2023-06-02T05:19:01.124544",
     "status": "completed"
    },
    "tags": []
   },
   "outputs": [
    {
     "name": "stdout",
     "output_type": "stream",
     "text": [
      "39/39 [==============================] - 5s 114ms/step - loss: 1.0897 - accuracy: 0.3772\n",
      "Test score: 1.0896501541137695\n",
      "Test accuracy: 0.37720707058906555\n"
     ]
    }
   ],
   "source": [
    "score, acc = model.evaluate(X_test, y_test)\n",
    "print('Test score:', score)\n",
    "print('Test accuracy:', acc)\n",
    "     "
   ]
  },
  {
   "cell_type": "code",
   "execution_count": 65,
   "id": "305b3c2a",
   "metadata": {
    "execution": {
     "iopub.execute_input": "2023-06-02T05:19:06.717101Z",
     "iopub.status.busy": "2023-06-02T05:19:06.716742Z",
     "iopub.status.idle": "2023-06-02T05:19:11.515316Z",
     "shell.execute_reply": "2023-06-02T05:19:11.514304Z"
    },
    "papermill": {
     "duration": 4.958013,
     "end_time": "2023-06-02T05:19:11.517763",
     "exception": false,
     "start_time": "2023-06-02T05:19:06.559750",
     "status": "completed"
    },
    "tags": []
   },
   "outputs": [
    {
     "name": "stdout",
     "output_type": "stream",
     "text": [
      "39/39 [==============================] - 5s 108ms/step\n"
     ]
    }
   ],
   "source": [
    "y_probas = model.predict(X_test)\n",
    "y_pred = y_probas.argmax(axis=-1)"
   ]
  },
  {
   "cell_type": "code",
   "execution_count": 66,
   "id": "5f3b7af6",
   "metadata": {
    "execution": {
     "iopub.execute_input": "2023-06-02T05:19:11.839389Z",
     "iopub.status.busy": "2023-06-02T05:19:11.838984Z",
     "iopub.status.idle": "2023-06-02T05:19:11.855354Z",
     "shell.execute_reply": "2023-06-02T05:19:11.854282Z"
    },
    "papermill": {
     "duration": 0.170966,
     "end_time": "2023-06-02T05:19:11.857862",
     "exception": false,
     "start_time": "2023-06-02T05:19:11.686896",
     "status": "completed"
    },
    "tags": []
   },
   "outputs": [
    {
     "name": "stdout",
     "output_type": "stream",
     "text": [
      "              precision    recall  f1-score   support\n",
      "\n",
      "           0       1.00      0.00      0.00       336\n",
      "           1       1.00      0.00      0.00       440\n",
      "           2       0.38      1.00      0.55       470\n",
      "\n",
      "    accuracy                           0.38      1246\n",
      "   macro avg       0.79      0.33      0.18      1246\n",
      "weighted avg       0.77      0.38      0.21      1246\n",
      "\n"
     ]
    }
   ],
   "source": [
    "print(classification_report(y_true=y_test, y_pred=y_pred, zero_division=1))\n"
   ]
  },
  {
   "cell_type": "code",
   "execution_count": 67,
   "id": "a0aa6f75",
   "metadata": {
    "execution": {
     "iopub.execute_input": "2023-06-02T05:19:12.175626Z",
     "iopub.status.busy": "2023-06-02T05:19:12.175247Z",
     "iopub.status.idle": "2023-06-02T05:19:12.452175Z",
     "shell.execute_reply": "2023-06-02T05:19:12.451273Z"
    },
    "papermill": {
     "duration": 0.432781,
     "end_time": "2023-06-02T05:19:12.454262",
     "exception": false,
     "start_time": "2023-06-02T05:19:12.021481",
     "status": "completed"
    },
    "tags": []
   },
   "outputs": [
    {
     "data": {
      "image/png": "[encoded data removed]",
      "text/plain": [
       "<Figure size 800x600 with 2 Axes>"
      ]
     },
     "metadata": {},
     "output_type": "display_data"
    }
   ],
   "source": [
    "cm = confusion_matrix(y_test, y_pred)\n",
    "plt.figure(figsize=[8, 6])\n",
    "sns.heatmap(cm, annot=True, fmt='d')\n",
    "plt.show()"
   ]
  },
  {
   "cell_type": "code",
   "execution_count": null,
   "id": "f8ba1e9e",
   "metadata": {
    "papermill": {
     "duration": 0.154725,
     "end_time": "2023-06-02T05:19:12.766357",
     "exception": false,
     "start_time": "2023-06-02T05:19:12.611632",
     "status": "completed"
    },
    "tags": []
   },
   "outputs": [],
   "source": []
  }
 ],
 "metadata": {
  "kernelspec": {
   "display_name": "Python 3",
   "language": "python",
   "name": "python3"
  },
  "language_info": {
   "codemirror_mode": {
    "name": "ipython",
    "version": 3
   },
   "file_extension": ".py",
   "mimetype": "text/x-python",
   "name": "python",
   "nbconvert_exporter": "python",
   "pygments_lexer": "ipython3",
   "version": "3.10.10"
  },
  "papermill": {
   "default_parameters": {},
   "duration": 800.303648,
   "end_time": "2023-06-02T05:19:16.366587",
   "environment_variables": {},
   "exception": null,
   "input_path": "__notebook__.ipynb",
   "output_path": "__notebook__.ipynb",
   "parameters": {},
   "start_time": "2023-06-02T05:05:56.062939",
   "version": "2.4.0"
  }
 },
 "nbformat": 4,
 "nbformat_minor": 5
}

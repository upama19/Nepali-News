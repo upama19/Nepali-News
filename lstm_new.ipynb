{
 "cells": [
  {
   "cell_type": "markdown",
   "id": "f4dd9106",
   "metadata": {
    "papermill": {
     "duration": 0.020621,
     "end_time": "2023-06-05T17:06:21.243587",
     "exception": false,
     "start_time": "2023-06-05T17:06:21.222966",
     "status": "completed"
    },
    "tags": []
   },
   "source": [
    "## DATA PREPROCESSING BLOCK ##"
   ]
  },
  {
   "cell_type": "markdown",
   "id": "5771985c",
   "metadata": {
    "papermill": {
     "duration": 0.019209,
     "end_time": "2023-06-05T17:06:21.283035",
     "exception": false,
     "start_time": "2023-06-05T17:06:21.263826",
     "status": "completed"
    },
    "tags": []
   },
   "source": [
    "IMPORTING ALL THE NECESSARY PACKAGES"
   ]
  },
  {
   "cell_type": "code",
   "execution_count": 1,
   "id": "f3002bc2",
   "metadata": {
    "execution": {
     "iopub.execute_input": "2023-06-05T17:06:21.324293Z",
     "iopub.status.busy": "2023-06-05T17:06:21.323877Z",
     "iopub.status.idle": "2023-06-05T17:06:49.205386Z",
     "shell.execute_reply": "2023-06-05T17:06:49.204478Z"
    },
    "papermill": {
     "duration": 27.905345,
     "end_time": "2023-06-05T17:06:49.207825",
     "exception": false,
     "start_time": "2023-06-05T17:06:21.302480",
     "status": "completed"
    },
    "tags": []
   },
   "outputs": [
    {
     "name": "stdout",
     "output_type": "stream",
     "text": [
      "[nltk_data] Downloading package punkt to /usr/share/nltk_data...\n",
      "[nltk_data]   Package punkt is already up-to-date!\n",
      "[nltk_data] Downloading package stopwords to /usr/share/nltk_data...\n",
      "[nltk_data]   Package stopwords is already up-to-date!\n"
     ]
    },
    {
     "name": "stderr",
     "output_type": "stream",
     "text": [
      "/opt/conda/lib/python3.10/site-packages/tensorflow_io/python/ops/__init__.py:98: UserWarning: unable to load libtensorflow_io_plugins.so: unable to open file: libtensorflow_io_plugins.so, from paths: ['/opt/conda/lib/python3.10/site-packages/tensorflow_io/python/ops/libtensorflow_io_plugins.so']\n",
      "caused by: ['/opt/conda/lib/python3.10/site-packages/tensorflow_io/python/ops/libtensorflow_io_plugins.so: undefined symbol: _ZN3tsl6StatusC1EN10tensorflow5error4CodeESt17basic_string_viewIcSt11char_traitsIcEENS_14SourceLocationE']\n",
      "  warnings.warn(f\"unable to load libtensorflow_io_plugins.so: {e}\")\n",
      "/opt/conda/lib/python3.10/site-packages/tensorflow_io/python/ops/__init__.py:104: UserWarning: file system plugins are not loaded: unable to open file: libtensorflow_io.so, from paths: ['/opt/conda/lib/python3.10/site-packages/tensorflow_io/python/ops/libtensorflow_io.so']\n",
      "caused by: ['/opt/conda/lib/python3.10/site-packages/tensorflow_io/python/ops/libtensorflow_io.so: undefined symbol: _ZTVN10tensorflow13GcsFileSystemE']\n",
      "  warnings.warn(f\"file system plugins are not loaded: {e}\")\n"
     ]
    }
   ],
   "source": [
    "import nltk\n",
    "import pandas as pd\n",
    "import numpy as np\n",
    "# The NLTK data package includes a pre-trained Punkt tokenizer for English.\n",
    "# punkt had to be manually downloaded using the command below\n",
    "# same with stopwords\n",
    "nltk.download('punkt')\n",
    "from nltk.tokenize import word_tokenize\n",
    "from nltk.corpus import stopwords\n",
    "nltk.download('stopwords')\n",
    "import spacy"
   ]
  },
  {
   "cell_type": "code",
   "execution_count": 2,
   "id": "848eaaa2",
   "metadata": {
    "execution": {
     "iopub.execute_input": "2023-06-05T17:06:49.239277Z",
     "iopub.status.busy": "2023-06-05T17:06:49.238711Z",
     "iopub.status.idle": "2023-06-05T17:06:49.472742Z",
     "shell.execute_reply": "2023-06-05T17:06:49.471922Z"
    },
    "papermill": {
     "duration": 0.2523,
     "end_time": "2023-06-05T17:06:49.474847",
     "exception": false,
     "start_time": "2023-06-05T17:06:49.222547",
     "status": "completed"
    },
    "tags": []
   },
   "outputs": [],
   "source": [
    "import matplotlib.pyplot as plt\n",
    "import seaborn as sns\n",
    "\n",
    "from sklearn.feature_extraction.text import TfidfVectorizer\n",
    "from sklearn.model_selection import train_test_split\n",
    "from sklearn.metrics import classification_report,confusion_matrix\n",
    "from sklearn.metrics import accuracy_score\n",
    "from sklearn.preprocessing import LabelEncoder, OneHotEncoder\n"
   ]
  },
  {
   "cell_type": "code",
   "execution_count": 3,
   "id": "ff9428be",
   "metadata": {
    "execution": {
     "iopub.execute_input": "2023-06-05T17:06:49.505473Z",
     "iopub.status.busy": "2023-06-05T17:06:49.504704Z",
     "iopub.status.idle": "2023-06-05T17:06:49.512841Z",
     "shell.execute_reply": "2023-06-05T17:06:49.512056Z"
    },
    "papermill": {
     "duration": 0.025527,
     "end_time": "2023-06-05T17:06:49.514865",
     "exception": false,
     "start_time": "2023-06-05T17:06:49.489338",
     "status": "completed"
    },
    "tags": []
   },
   "outputs": [],
   "source": [
    "import tensorflow as tf\n",
    "from tensorflow.keras.layers import Embedding\n",
    "from tensorflow.keras.preprocessing.sequence import pad_sequences\n",
    "from tensorflow.keras.models import Sequential\n",
    "from tensorflow.keras.preprocessing.text import one_hot\n",
    "from tensorflow.keras.layers import LSTM, Dense, Dropout, BatchNormalization\n",
    "\n",
    "from tensorflow.keras import Model\n",
    "from tensorflow.keras.layers import Dense, Dropout, LSTM, Embedding, Input, Concatenate, TimeDistributed\n",
    "from tensorflow.keras.utils import plot_model\n",
    "\n",
    "tf.config.run_functions_eagerly(True)"
   ]
  },
  {
   "cell_type": "markdown",
   "id": "8adeaf07",
   "metadata": {
    "papermill": {
     "duration": 0.014357,
     "end_time": "2023-06-05T17:06:49.543880",
     "exception": false,
     "start_time": "2023-06-05T17:06:49.529523",
     "status": "completed"
    },
    "tags": []
   },
   "source": [
    "The train, validation and test datasets are all available as different tsv files. We import them into 3 different Pandas dataframes, and then merge them together to the *original_df* dataframe."
   ]
  },
  {
   "cell_type": "code",
   "execution_count": 4,
   "id": "5be82faa",
   "metadata": {
    "execution": {
     "iopub.execute_input": "2023-06-05T17:06:49.574165Z",
     "iopub.status.busy": "2023-06-05T17:06:49.573541Z",
     "iopub.status.idle": "2023-06-05T17:06:49.890147Z",
     "shell.execute_reply": "2023-06-05T17:06:49.889234Z"
    },
    "papermill": {
     "duration": 0.334162,
     "end_time": "2023-06-05T17:06:49.892628",
     "exception": false,
     "start_time": "2023-06-05T17:06:49.558466",
     "status": "completed"
    },
    "tags": []
   },
   "outputs": [],
   "source": [
    "df_train = pd.read_csv('/kaggle/input/translated-data-english/translated_data_english.tsv', sep='\\t')\n",
    "df_validation = pd.read_csv('/kaggle/input/translated-data-english-validation/translated_data_english_validation.tsv', sep='\\t')\n",
    "df_test = pd.read_csv('/kaggle/input/translated-data-english-test/translated_data_english_test.tsv', sep='\\t')"
   ]
  },
  {
   "cell_type": "code",
   "execution_count": 5,
   "id": "75f61ee9",
   "metadata": {
    "execution": {
     "iopub.execute_input": "2023-06-05T17:06:49.924411Z",
     "iopub.status.busy": "2023-06-05T17:06:49.922894Z",
     "iopub.status.idle": "2023-06-05T17:06:49.941350Z",
     "shell.execute_reply": "2023-06-05T17:06:49.940369Z"
    },
    "papermill": {
     "duration": 0.035853,
     "end_time": "2023-06-05T17:06:49.943376",
     "exception": false,
     "start_time": "2023-06-05T17:06:49.907523",
     "status": "completed"
    },
    "tags": []
   },
   "outputs": [
    {
     "name": "stderr",
     "output_type": "stream",
     "text": [
      "/tmp/ipykernel_24/1249960246.py:2: FutureWarning: The frame.append method is deprecated and will be removed from pandas in a future version. Use pandas.concat instead.\n",
      "  original_df = original_df.append(df_train, ignore_index=True)\n",
      "/tmp/ipykernel_24/1249960246.py:3: FutureWarning: The frame.append method is deprecated and will be removed from pandas in a future version. Use pandas.concat instead.\n",
      "  original_df = original_df.append(df_test, ignore_index=True)\n",
      "/tmp/ipykernel_24/1249960246.py:4: FutureWarning: The frame.append method is deprecated and will be removed from pandas in a future version. Use pandas.concat instead.\n",
      "  original_df = original_df.append(df_validation, ignore_index=True)\n"
     ]
    }
   ],
   "source": [
    "original_df = pd.DataFrame()\n",
    "original_df = original_df.append(df_train, ignore_index=True)\n",
    "original_df = original_df.append(df_test, ignore_index=True)\n",
    "original_df = original_df.append(df_validation, ignore_index=True)"
   ]
  },
  {
   "cell_type": "markdown",
   "id": "d55c1104",
   "metadata": {
    "papermill": {
     "duration": 0.014214,
     "end_time": "2023-06-05T17:06:49.971946",
     "exception": false,
     "start_time": "2023-06-05T17:06:49.957732",
     "status": "completed"
    },
    "tags": []
   },
   "source": [
    "Let's now get an overview of what the data looks like."
   ]
  },
  {
   "cell_type": "code",
   "execution_count": 6,
   "id": "4f0b47b8",
   "metadata": {
    "execution": {
     "iopub.execute_input": "2023-06-05T17:06:50.002679Z",
     "iopub.status.busy": "2023-06-05T17:06:50.001294Z",
     "iopub.status.idle": "2023-06-05T17:06:50.032567Z",
     "shell.execute_reply": "2023-06-05T17:06:50.031578Z"
    },
    "papermill": {
     "duration": 0.048589,
     "end_time": "2023-06-05T17:06:50.034825",
     "exception": false,
     "start_time": "2023-06-05T17:06:49.986236",
     "status": "completed"
    },
    "tags": []
   },
   "outputs": [
    {
     "data": {
      "text/html": [
       "<div>\n",
       "<style scoped>\n",
       "    .dataframe tbody tr th:only-of-type {\n",
       "        vertical-align: middle;\n",
       "    }\n",
       "\n",
       "    .dataframe tbody tr th {\n",
       "        vertical-align: top;\n",
       "    }\n",
       "\n",
       "    .dataframe thead th {\n",
       "        text-align: right;\n",
       "    }\n",
       "</style>\n",
       "<table border=\"1\" class=\"dataframe\">\n",
       "  <thead>\n",
       "    <tr style=\"text-align: right;\">\n",
       "      <th></th>\n",
       "      <th>id</th>\n",
       "      <th>label</th>\n",
       "      <th>statement</th>\n",
       "      <th>subjects</th>\n",
       "      <th>speaker</th>\n",
       "      <th>speaker_job_title</th>\n",
       "      <th>state_info</th>\n",
       "      <th>party_affilation</th>\n",
       "      <th>count_1</th>\n",
       "      <th>count_2</th>\n",
       "      <th>count_3</th>\n",
       "      <th>count_4</th>\n",
       "      <th>count_5</th>\n",
       "      <th>context</th>\n",
       "      <th>statement_removedpunctuation</th>\n",
       "      <th>nepali_translation</th>\n",
       "      <th>english_translation</th>\n",
       "    </tr>\n",
       "  </thead>\n",
       "  <tbody>\n",
       "    <tr>\n",
       "      <th>0</th>\n",
       "      <td>10540.json</td>\n",
       "      <td>half-true</td>\n",
       "      <td>When did the decline of coal start? It started...</td>\n",
       "      <td>energy,history,job-accomplishments</td>\n",
       "      <td>scott-surovell</td>\n",
       "      <td>State delegate</td>\n",
       "      <td>Virginia</td>\n",
       "      <td>democrat</td>\n",
       "      <td>0.0</td>\n",
       "      <td>0.0</td>\n",
       "      <td>1.0</td>\n",
       "      <td>1.0</td>\n",
       "      <td>0.0</td>\n",
       "      <td>a floor speech.</td>\n",
       "      <td>When did the decline of coal start It started ...</td>\n",
       "      <td>कोइलाको पतन कहिले सुरु भयो यो प्राकृतिक ग्यास ...</td>\n",
       "      <td>When did the decline of coal begin? It began w...</td>\n",
       "    </tr>\n",
       "    <tr>\n",
       "      <th>1</th>\n",
       "      <td>324.json</td>\n",
       "      <td>mostly-true</td>\n",
       "      <td>Hillary Clinton agrees with John McCain \"by vo...</td>\n",
       "      <td>foreign-policy</td>\n",
       "      <td>barack-obama</td>\n",
       "      <td>President</td>\n",
       "      <td>Illinois</td>\n",
       "      <td>democrat</td>\n",
       "      <td>70.0</td>\n",
       "      <td>71.0</td>\n",
       "      <td>160.0</td>\n",
       "      <td>163.0</td>\n",
       "      <td>9.0</td>\n",
       "      <td>Denver</td>\n",
       "      <td>Hillary Clinton agrees with John McCain by vot...</td>\n",
       "      <td>हिलारी क्लिन्टनले जर्ज बुशलाई इरानमा शंकाको फा...</td>\n",
       "      <td>Hillary Clinton agreed with John McCain by vot...</td>\n",
       "    </tr>\n",
       "    <tr>\n",
       "      <th>2</th>\n",
       "      <td>1123.json</td>\n",
       "      <td>false</td>\n",
       "      <td>Health care reform legislation is likely to ma...</td>\n",
       "      <td>health-care</td>\n",
       "      <td>blog-posting</td>\n",
       "      <td>NaN</td>\n",
       "      <td>NaN</td>\n",
       "      <td>none</td>\n",
       "      <td>7.0</td>\n",
       "      <td>19.0</td>\n",
       "      <td>3.0</td>\n",
       "      <td>5.0</td>\n",
       "      <td>44.0</td>\n",
       "      <td>a news release</td>\n",
       "      <td>Health care reform legislation is likely to ma...</td>\n",
       "      <td>स्वास्थ्य हेरचाह सुधार कानूनले नि: शुल्क लिंग ...</td>\n",
       "      <td>Health care reform legislation is likely to ma...</td>\n",
       "    </tr>\n",
       "    <tr>\n",
       "      <th>3</th>\n",
       "      <td>9028.json</td>\n",
       "      <td>half-true</td>\n",
       "      <td>The economic turnaround started at the end of ...</td>\n",
       "      <td>economy,jobs</td>\n",
       "      <td>charlie-crist</td>\n",
       "      <td>NaN</td>\n",
       "      <td>Florida</td>\n",
       "      <td>democrat</td>\n",
       "      <td>15.0</td>\n",
       "      <td>9.0</td>\n",
       "      <td>20.0</td>\n",
       "      <td>19.0</td>\n",
       "      <td>2.0</td>\n",
       "      <td>an interview on CNN</td>\n",
       "      <td>The economic turnaround started at the end of ...</td>\n",
       "      <td>मेरो कार्यकालको अन्त्यमा आर्थिक परिवर्तन सुरु भयो</td>\n",
       "      <td>Towards the end of my tenure, the economic tra...</td>\n",
       "    </tr>\n",
       "    <tr>\n",
       "      <th>4</th>\n",
       "      <td>12465.json</td>\n",
       "      <td>true</td>\n",
       "      <td>The Chicago Bears have had more starting quart...</td>\n",
       "      <td>education</td>\n",
       "      <td>robin-vos</td>\n",
       "      <td>Wisconsin Assembly speaker</td>\n",
       "      <td>Wisconsin</td>\n",
       "      <td>republican</td>\n",
       "      <td>0.0</td>\n",
       "      <td>3.0</td>\n",
       "      <td>2.0</td>\n",
       "      <td>5.0</td>\n",
       "      <td>1.0</td>\n",
       "      <td>a an online opinion-piece</td>\n",
       "      <td>The Chicago Bears have had more starting quart...</td>\n",
       "      <td>शिकागो बियर्सले विगत दुई दशकहरूमा बर्खास्त गरि...</td>\n",
       "      <td>The Chicago Bears have had more starting quart...</td>\n",
       "    </tr>\n",
       "  </tbody>\n",
       "</table>\n",
       "</div>"
      ],
      "text/plain": [
       "           id        label                                          statement  \\\n",
       "0  10540.json    half-true  When did the decline of coal start? It started...   \n",
       "1    324.json  mostly-true  Hillary Clinton agrees with John McCain \"by vo...   \n",
       "2   1123.json        false  Health care reform legislation is likely to ma...   \n",
       "3   9028.json    half-true  The economic turnaround started at the end of ...   \n",
       "4  12465.json         true  The Chicago Bears have had more starting quart...   \n",
       "\n",
       "                             subjects         speaker  \\\n",
       "0  energy,history,job-accomplishments  scott-surovell   \n",
       "1                      foreign-policy    barack-obama   \n",
       "2                         health-care    blog-posting   \n",
       "3                        economy,jobs   charlie-crist   \n",
       "4                           education       robin-vos   \n",
       "\n",
       "            speaker_job_title state_info party_affilation  count_1  count_2  \\\n",
       "0              State delegate   Virginia         democrat      0.0      0.0   \n",
       "1                   President   Illinois         democrat     70.0     71.0   \n",
       "2                         NaN        NaN             none      7.0     19.0   \n",
       "3                         NaN    Florida         democrat     15.0      9.0   \n",
       "4  Wisconsin Assembly speaker  Wisconsin       republican      0.0      3.0   \n",
       "\n",
       "   count_3  count_4  count_5                    context  \\\n",
       "0      1.0      1.0      0.0            a floor speech.   \n",
       "1    160.0    163.0      9.0                     Denver   \n",
       "2      3.0      5.0     44.0             a news release   \n",
       "3     20.0     19.0      2.0        an interview on CNN   \n",
       "4      2.0      5.0      1.0  a an online opinion-piece   \n",
       "\n",
       "                        statement_removedpunctuation  \\\n",
       "0  When did the decline of coal start It started ...   \n",
       "1  Hillary Clinton agrees with John McCain by vot...   \n",
       "2  Health care reform legislation is likely to ma...   \n",
       "3  The economic turnaround started at the end of ...   \n",
       "4  The Chicago Bears have had more starting quart...   \n",
       "\n",
       "                                  nepali_translation  \\\n",
       "0  कोइलाको पतन कहिले सुरु भयो यो प्राकृतिक ग्यास ...   \n",
       "1  हिलारी क्लिन्टनले जर्ज बुशलाई इरानमा शंकाको फा...   \n",
       "2  स्वास्थ्य हेरचाह सुधार कानूनले नि: शुल्क लिंग ...   \n",
       "3  मेरो कार्यकालको अन्त्यमा आर्थिक परिवर्तन सुरु भयो   \n",
       "4  शिकागो बियर्सले विगत दुई दशकहरूमा बर्खास्त गरि...   \n",
       "\n",
       "                                 english_translation  \n",
       "0  When did the decline of coal begin? It began w...  \n",
       "1  Hillary Clinton agreed with John McCain by vot...  \n",
       "2  Health care reform legislation is likely to ma...  \n",
       "3  Towards the end of my tenure, the economic tra...  \n",
       "4  The Chicago Bears have had more starting quart...  "
      ]
     },
     "execution_count": 6,
     "metadata": {},
     "output_type": "execute_result"
    }
   ],
   "source": [
    "original_df.head()"
   ]
  },
  {
   "cell_type": "code",
   "execution_count": 7,
   "id": "25a32bf8",
   "metadata": {
    "execution": {
     "iopub.execute_input": "2023-06-05T17:06:50.067553Z",
     "iopub.status.busy": "2023-06-05T17:06:50.066156Z",
     "iopub.status.idle": "2023-06-05T17:06:50.074110Z",
     "shell.execute_reply": "2023-06-05T17:06:50.073300Z"
    },
    "papermill": {
     "duration": 0.025857,
     "end_time": "2023-06-05T17:06:50.076058",
     "exception": false,
     "start_time": "2023-06-05T17:06:50.050201",
     "status": "completed"
    },
    "tags": []
   },
   "outputs": [
    {
     "data": {
      "text/plain": [
       "(12782, 17)"
      ]
     },
     "execution_count": 7,
     "metadata": {},
     "output_type": "execute_result"
    }
   ],
   "source": [
    "original_df.shape"
   ]
  },
  {
   "cell_type": "markdown",
   "id": "998bcc53",
   "metadata": {
    "papermill": {
     "duration": 0.014608,
     "end_time": "2023-06-05T17:06:50.105893",
     "exception": false,
     "start_time": "2023-06-05T17:06:50.091285",
     "status": "completed"
    },
    "tags": []
   },
   "source": [
    "## DATA PRE-PROCESSING BLOCK ##\n",
    "\n",
    "We are following a simple pre-processing pipeline for the data, wherein we do the following:\n",
    "- Conversion to lowercase\n",
    "- Punctuation removal\n",
    "- Tokenization\n",
    "- Stopword removal\n",
    "- Lemmetization\n",
    "\n",
    "The preprocessed data will be stored in the dataframe itself, under a new column."
   ]
  },
  {
   "cell_type": "code",
   "execution_count": 8,
   "id": "533e0565",
   "metadata": {
    "execution": {
     "iopub.execute_input": "2023-06-05T17:06:50.138574Z",
     "iopub.status.busy": "2023-06-05T17:06:50.137137Z",
     "iopub.status.idle": "2023-06-05T17:06:50.150259Z",
     "shell.execute_reply": "2023-06-05T17:06:50.149397Z"
    },
    "papermill": {
     "duration": 0.031699,
     "end_time": "2023-06-05T17:06:50.152450",
     "exception": false,
     "start_time": "2023-06-05T17:06:50.120751",
     "status": "completed"
    },
    "tags": []
   },
   "outputs": [],
   "source": [
    "# Conversion to lowercase\n",
    "original_df['english_translation'] = original_df['english_translation'].str.lower()"
   ]
  },
  {
   "cell_type": "code",
   "execution_count": 9,
   "id": "b82e1b73",
   "metadata": {
    "execution": {
     "iopub.execute_input": "2023-06-05T17:06:50.184689Z",
     "iopub.status.busy": "2023-06-05T17:06:50.183706Z",
     "iopub.status.idle": "2023-06-05T17:06:50.189602Z",
     "shell.execute_reply": "2023-06-05T17:06:50.188784Z"
    },
    "papermill": {
     "duration": 0.023865,
     "end_time": "2023-06-05T17:06:50.191640",
     "exception": false,
     "start_time": "2023-06-05T17:06:50.167775",
     "status": "completed"
    },
    "tags": []
   },
   "outputs": [],
   "source": [
    "# Function to remove punctuation marks\n",
    "import string\n",
    "def removepunctuation(sentence):\n",
    "   new_text = sentence.replace(\"—\", \" \") # \"—\" in the text was not equivalent to \"-\" so we replcaed \"—\" with a space\n",
    "   print \n",
    "  #iterate over every single character to see if it is a punctuation or not, and then concatenate them using \"join\"\n",
    "   punctuationfree=\"\".join([i for i in new_text if i not in string.punctuation])\n",
    "   return punctuationfree"
   ]
  },
  {
   "cell_type": "code",
   "execution_count": 10,
   "id": "08f2d1bc",
   "metadata": {
    "execution": {
     "iopub.execute_input": "2023-06-05T17:06:50.223592Z",
     "iopub.status.busy": "2023-06-05T17:06:50.222116Z",
     "iopub.status.idle": "2023-06-05T17:06:50.429046Z",
     "shell.execute_reply": "2023-06-05T17:06:50.428164Z"
    },
    "papermill": {
     "duration": 0.224896,
     "end_time": "2023-06-05T17:06:50.431315",
     "exception": false,
     "start_time": "2023-06-05T17:06:50.206419",
     "status": "completed"
    },
    "tags": []
   },
   "outputs": [],
   "source": [
    "original_df[\"statement_removedpunctuation\"] = original_df['english_translation'].apply(removepunctuation)"
   ]
  },
  {
   "cell_type": "code",
   "execution_count": 11,
   "id": "c24e0e81",
   "metadata": {
    "execution": {
     "iopub.execute_input": "2023-06-05T17:06:50.463473Z",
     "iopub.status.busy": "2023-06-05T17:06:50.462129Z",
     "iopub.status.idle": "2023-06-05T17:06:50.483319Z",
     "shell.execute_reply": "2023-06-05T17:06:50.482484Z"
    },
    "papermill": {
     "duration": 0.039292,
     "end_time": "2023-06-05T17:06:50.485454",
     "exception": false,
     "start_time": "2023-06-05T17:06:50.446162",
     "status": "completed"
    },
    "tags": []
   },
   "outputs": [
    {
     "data": {
      "text/html": [
       "<div>\n",
       "<style scoped>\n",
       "    .dataframe tbody tr th:only-of-type {\n",
       "        vertical-align: middle;\n",
       "    }\n",
       "\n",
       "    .dataframe tbody tr th {\n",
       "        vertical-align: top;\n",
       "    }\n",
       "\n",
       "    .dataframe thead th {\n",
       "        text-align: right;\n",
       "    }\n",
       "</style>\n",
       "<table border=\"1\" class=\"dataframe\">\n",
       "  <thead>\n",
       "    <tr style=\"text-align: right;\">\n",
       "      <th></th>\n",
       "      <th>id</th>\n",
       "      <th>label</th>\n",
       "      <th>statement</th>\n",
       "      <th>subjects</th>\n",
       "      <th>speaker</th>\n",
       "      <th>speaker_job_title</th>\n",
       "      <th>state_info</th>\n",
       "      <th>party_affilation</th>\n",
       "      <th>count_1</th>\n",
       "      <th>count_2</th>\n",
       "      <th>count_3</th>\n",
       "      <th>count_4</th>\n",
       "      <th>count_5</th>\n",
       "      <th>context</th>\n",
       "      <th>statement_removedpunctuation</th>\n",
       "      <th>nepali_translation</th>\n",
       "      <th>english_translation</th>\n",
       "    </tr>\n",
       "  </thead>\n",
       "  <tbody>\n",
       "    <tr>\n",
       "      <th>0</th>\n",
       "      <td>10540.json</td>\n",
       "      <td>half-true</td>\n",
       "      <td>When did the decline of coal start? It started...</td>\n",
       "      <td>energy,history,job-accomplishments</td>\n",
       "      <td>scott-surovell</td>\n",
       "      <td>State delegate</td>\n",
       "      <td>Virginia</td>\n",
       "      <td>democrat</td>\n",
       "      <td>0.0</td>\n",
       "      <td>0.0</td>\n",
       "      <td>1.0</td>\n",
       "      <td>1.0</td>\n",
       "      <td>0.0</td>\n",
       "      <td>a floor speech.</td>\n",
       "      <td>when did the decline of coal begin it began wi...</td>\n",
       "      <td>कोइलाको पतन कहिले सुरु भयो यो प्राकृतिक ग्यास ...</td>\n",
       "      <td>when did the decline of coal begin? it began w...</td>\n",
       "    </tr>\n",
       "    <tr>\n",
       "      <th>1</th>\n",
       "      <td>324.json</td>\n",
       "      <td>mostly-true</td>\n",
       "      <td>Hillary Clinton agrees with John McCain \"by vo...</td>\n",
       "      <td>foreign-policy</td>\n",
       "      <td>barack-obama</td>\n",
       "      <td>President</td>\n",
       "      <td>Illinois</td>\n",
       "      <td>democrat</td>\n",
       "      <td>70.0</td>\n",
       "      <td>71.0</td>\n",
       "      <td>160.0</td>\n",
       "      <td>163.0</td>\n",
       "      <td>9.0</td>\n",
       "      <td>Denver</td>\n",
       "      <td>hillary clinton agreed with john mccain by vot...</td>\n",
       "      <td>हिलारी क्लिन्टनले जर्ज बुशलाई इरानमा शंकाको फा...</td>\n",
       "      <td>hillary clinton agreed with john mccain by vot...</td>\n",
       "    </tr>\n",
       "    <tr>\n",
       "      <th>2</th>\n",
       "      <td>1123.json</td>\n",
       "      <td>false</td>\n",
       "      <td>Health care reform legislation is likely to ma...</td>\n",
       "      <td>health-care</td>\n",
       "      <td>blog-posting</td>\n",
       "      <td>NaN</td>\n",
       "      <td>NaN</td>\n",
       "      <td>none</td>\n",
       "      <td>7.0</td>\n",
       "      <td>19.0</td>\n",
       "      <td>3.0</td>\n",
       "      <td>5.0</td>\n",
       "      <td>44.0</td>\n",
       "      <td>a news release</td>\n",
       "      <td>health care reform legislation is likely to ma...</td>\n",
       "      <td>स्वास्थ्य हेरचाह सुधार कानूनले नि: शुल्क लिंग ...</td>\n",
       "      <td>health care reform legislation is likely to ma...</td>\n",
       "    </tr>\n",
       "    <tr>\n",
       "      <th>3</th>\n",
       "      <td>9028.json</td>\n",
       "      <td>half-true</td>\n",
       "      <td>The economic turnaround started at the end of ...</td>\n",
       "      <td>economy,jobs</td>\n",
       "      <td>charlie-crist</td>\n",
       "      <td>NaN</td>\n",
       "      <td>Florida</td>\n",
       "      <td>democrat</td>\n",
       "      <td>15.0</td>\n",
       "      <td>9.0</td>\n",
       "      <td>20.0</td>\n",
       "      <td>19.0</td>\n",
       "      <td>2.0</td>\n",
       "      <td>an interview on CNN</td>\n",
       "      <td>towards the end of my tenure the economic tran...</td>\n",
       "      <td>मेरो कार्यकालको अन्त्यमा आर्थिक परिवर्तन सुरु भयो</td>\n",
       "      <td>towards the end of my tenure, the economic tra...</td>\n",
       "    </tr>\n",
       "    <tr>\n",
       "      <th>4</th>\n",
       "      <td>12465.json</td>\n",
       "      <td>true</td>\n",
       "      <td>The Chicago Bears have had more starting quart...</td>\n",
       "      <td>education</td>\n",
       "      <td>robin-vos</td>\n",
       "      <td>Wisconsin Assembly speaker</td>\n",
       "      <td>Wisconsin</td>\n",
       "      <td>republican</td>\n",
       "      <td>0.0</td>\n",
       "      <td>3.0</td>\n",
       "      <td>2.0</td>\n",
       "      <td>5.0</td>\n",
       "      <td>1.0</td>\n",
       "      <td>a an online opinion-piece</td>\n",
       "      <td>the chicago bears have had more starting quart...</td>\n",
       "      <td>शिकागो बियर्सले विगत दुई दशकहरूमा बर्खास्त गरि...</td>\n",
       "      <td>the chicago bears have had more starting quart...</td>\n",
       "    </tr>\n",
       "  </tbody>\n",
       "</table>\n",
       "</div>"
      ],
      "text/plain": [
       "           id        label                                          statement  \\\n",
       "0  10540.json    half-true  When did the decline of coal start? It started...   \n",
       "1    324.json  mostly-true  Hillary Clinton agrees with John McCain \"by vo...   \n",
       "2   1123.json        false  Health care reform legislation is likely to ma...   \n",
       "3   9028.json    half-true  The economic turnaround started at the end of ...   \n",
       "4  12465.json         true  The Chicago Bears have had more starting quart...   \n",
       "\n",
       "                             subjects         speaker  \\\n",
       "0  energy,history,job-accomplishments  scott-surovell   \n",
       "1                      foreign-policy    barack-obama   \n",
       "2                         health-care    blog-posting   \n",
       "3                        economy,jobs   charlie-crist   \n",
       "4                           education       robin-vos   \n",
       "\n",
       "            speaker_job_title state_info party_affilation  count_1  count_2  \\\n",
       "0              State delegate   Virginia         democrat      0.0      0.0   \n",
       "1                   President   Illinois         democrat     70.0     71.0   \n",
       "2                         NaN        NaN             none      7.0     19.0   \n",
       "3                         NaN    Florida         democrat     15.0      9.0   \n",
       "4  Wisconsin Assembly speaker  Wisconsin       republican      0.0      3.0   \n",
       "\n",
       "   count_3  count_4  count_5                    context  \\\n",
       "0      1.0      1.0      0.0            a floor speech.   \n",
       "1    160.0    163.0      9.0                     Denver   \n",
       "2      3.0      5.0     44.0             a news release   \n",
       "3     20.0     19.0      2.0        an interview on CNN   \n",
       "4      2.0      5.0      1.0  a an online opinion-piece   \n",
       "\n",
       "                        statement_removedpunctuation  \\\n",
       "0  when did the decline of coal begin it began wi...   \n",
       "1  hillary clinton agreed with john mccain by vot...   \n",
       "2  health care reform legislation is likely to ma...   \n",
       "3  towards the end of my tenure the economic tran...   \n",
       "4  the chicago bears have had more starting quart...   \n",
       "\n",
       "                                  nepali_translation  \\\n",
       "0  कोइलाको पतन कहिले सुरु भयो यो प्राकृतिक ग्यास ...   \n",
       "1  हिलारी क्लिन्टनले जर्ज बुशलाई इरानमा शंकाको फा...   \n",
       "2  स्वास्थ्य हेरचाह सुधार कानूनले नि: शुल्क लिंग ...   \n",
       "3  मेरो कार्यकालको अन्त्यमा आर्थिक परिवर्तन सुरु भयो   \n",
       "4  शिकागो बियर्सले विगत दुई दशकहरूमा बर्खास्त गरि...   \n",
       "\n",
       "                                 english_translation  \n",
       "0  when did the decline of coal begin? it began w...  \n",
       "1  hillary clinton agreed with john mccain by vot...  \n",
       "2  health care reform legislation is likely to ma...  \n",
       "3  towards the end of my tenure, the economic tra...  \n",
       "4  the chicago bears have had more starting quart...  "
      ]
     },
     "execution_count": 11,
     "metadata": {},
     "output_type": "execute_result"
    }
   ],
   "source": [
    "original_df.head()"
   ]
  },
  {
   "cell_type": "markdown",
   "id": "b21014cd",
   "metadata": {
    "papermill": {
     "duration": 0.014848,
     "end_time": "2023-06-05T17:06:50.515931",
     "exception": false,
     "start_time": "2023-06-05T17:06:50.501083",
     "status": "completed"
    },
    "tags": []
   },
   "source": [
    "statement_removed punctuation contains the 'statement' column, with lowercased characters and removed punctuation "
   ]
  },
  {
   "cell_type": "code",
   "execution_count": 12,
   "id": "70b49106",
   "metadata": {
    "execution": {
     "iopub.execute_input": "2023-06-05T17:06:50.547183Z",
     "iopub.status.busy": "2023-06-05T17:06:50.546918Z",
     "iopub.status.idle": "2023-06-05T17:06:53.592087Z",
     "shell.execute_reply": "2023-06-05T17:06:53.591158Z"
    },
    "papermill": {
     "duration": 3.06336,
     "end_time": "2023-06-05T17:06:53.594425",
     "exception": false,
     "start_time": "2023-06-05T17:06:50.531065",
     "status": "completed"
    },
    "tags": []
   },
   "outputs": [],
   "source": [
    "# word_tokenize is a module in the nltk package that tokenizes a sentence into its tokens.\n",
    "original_df[\"english_translation_tokenized\"] = original_df[\"statement_removedpunctuation\"].apply(word_tokenize)"
   ]
  },
  {
   "cell_type": "code",
   "execution_count": 13,
   "id": "388ab6bf",
   "metadata": {
    "execution": {
     "iopub.execute_input": "2023-06-05T17:06:53.626687Z",
     "iopub.status.busy": "2023-06-05T17:06:53.626376Z",
     "iopub.status.idle": "2023-06-05T17:06:53.650299Z",
     "shell.execute_reply": "2023-06-05T17:06:53.649453Z"
    },
    "papermill": {
     "duration": 0.042182,
     "end_time": "2023-06-05T17:06:53.652279",
     "exception": false,
     "start_time": "2023-06-05T17:06:53.610097",
     "status": "completed"
    },
    "tags": []
   },
   "outputs": [
    {
     "data": {
      "text/html": [
       "<div>\n",
       "<style scoped>\n",
       "    .dataframe tbody tr th:only-of-type {\n",
       "        vertical-align: middle;\n",
       "    }\n",
       "\n",
       "    .dataframe tbody tr th {\n",
       "        vertical-align: top;\n",
       "    }\n",
       "\n",
       "    .dataframe thead th {\n",
       "        text-align: right;\n",
       "    }\n",
       "</style>\n",
       "<table border=\"1\" class=\"dataframe\">\n",
       "  <thead>\n",
       "    <tr style=\"text-align: right;\">\n",
       "      <th></th>\n",
       "      <th>id</th>\n",
       "      <th>label</th>\n",
       "      <th>statement</th>\n",
       "      <th>subjects</th>\n",
       "      <th>speaker</th>\n",
       "      <th>speaker_job_title</th>\n",
       "      <th>state_info</th>\n",
       "      <th>party_affilation</th>\n",
       "      <th>count_1</th>\n",
       "      <th>count_2</th>\n",
       "      <th>count_3</th>\n",
       "      <th>count_4</th>\n",
       "      <th>count_5</th>\n",
       "      <th>context</th>\n",
       "      <th>statement_removedpunctuation</th>\n",
       "      <th>nepali_translation</th>\n",
       "      <th>english_translation</th>\n",
       "      <th>english_translation_tokenized</th>\n",
       "    </tr>\n",
       "  </thead>\n",
       "  <tbody>\n",
       "    <tr>\n",
       "      <th>0</th>\n",
       "      <td>10540.json</td>\n",
       "      <td>half-true</td>\n",
       "      <td>When did the decline of coal start? It started...</td>\n",
       "      <td>energy,history,job-accomplishments</td>\n",
       "      <td>scott-surovell</td>\n",
       "      <td>State delegate</td>\n",
       "      <td>Virginia</td>\n",
       "      <td>democrat</td>\n",
       "      <td>0.0</td>\n",
       "      <td>0.0</td>\n",
       "      <td>1.0</td>\n",
       "      <td>1.0</td>\n",
       "      <td>0.0</td>\n",
       "      <td>a floor speech.</td>\n",
       "      <td>when did the decline of coal begin it began wi...</td>\n",
       "      <td>कोइलाको पतन कहिले सुरु भयो यो प्राकृतिक ग्यास ...</td>\n",
       "      <td>when did the decline of coal begin? it began w...</td>\n",
       "      <td>[when, did, the, decline, of, coal, begin, it,...</td>\n",
       "    </tr>\n",
       "    <tr>\n",
       "      <th>1</th>\n",
       "      <td>324.json</td>\n",
       "      <td>mostly-true</td>\n",
       "      <td>Hillary Clinton agrees with John McCain \"by vo...</td>\n",
       "      <td>foreign-policy</td>\n",
       "      <td>barack-obama</td>\n",
       "      <td>President</td>\n",
       "      <td>Illinois</td>\n",
       "      <td>democrat</td>\n",
       "      <td>70.0</td>\n",
       "      <td>71.0</td>\n",
       "      <td>160.0</td>\n",
       "      <td>163.0</td>\n",
       "      <td>9.0</td>\n",
       "      <td>Denver</td>\n",
       "      <td>hillary clinton agreed with john mccain by vot...</td>\n",
       "      <td>हिलारी क्लिन्टनले जर्ज बुशलाई इरानमा शंकाको फा...</td>\n",
       "      <td>hillary clinton agreed with john mccain by vot...</td>\n",
       "      <td>[hillary, clinton, agreed, with, john, mccain,...</td>\n",
       "    </tr>\n",
       "    <tr>\n",
       "      <th>2</th>\n",
       "      <td>1123.json</td>\n",
       "      <td>false</td>\n",
       "      <td>Health care reform legislation is likely to ma...</td>\n",
       "      <td>health-care</td>\n",
       "      <td>blog-posting</td>\n",
       "      <td>NaN</td>\n",
       "      <td>NaN</td>\n",
       "      <td>none</td>\n",
       "      <td>7.0</td>\n",
       "      <td>19.0</td>\n",
       "      <td>3.0</td>\n",
       "      <td>5.0</td>\n",
       "      <td>44.0</td>\n",
       "      <td>a news release</td>\n",
       "      <td>health care reform legislation is likely to ma...</td>\n",
       "      <td>स्वास्थ्य हेरचाह सुधार कानूनले नि: शुल्क लिंग ...</td>\n",
       "      <td>health care reform legislation is likely to ma...</td>\n",
       "      <td>[health, care, reform, legislation, is, likely...</td>\n",
       "    </tr>\n",
       "    <tr>\n",
       "      <th>3</th>\n",
       "      <td>9028.json</td>\n",
       "      <td>half-true</td>\n",
       "      <td>The economic turnaround started at the end of ...</td>\n",
       "      <td>economy,jobs</td>\n",
       "      <td>charlie-crist</td>\n",
       "      <td>NaN</td>\n",
       "      <td>Florida</td>\n",
       "      <td>democrat</td>\n",
       "      <td>15.0</td>\n",
       "      <td>9.0</td>\n",
       "      <td>20.0</td>\n",
       "      <td>19.0</td>\n",
       "      <td>2.0</td>\n",
       "      <td>an interview on CNN</td>\n",
       "      <td>towards the end of my tenure the economic tran...</td>\n",
       "      <td>मेरो कार्यकालको अन्त्यमा आर्थिक परिवर्तन सुरु भयो</td>\n",
       "      <td>towards the end of my tenure, the economic tra...</td>\n",
       "      <td>[towards, the, end, of, my, tenure, the, econo...</td>\n",
       "    </tr>\n",
       "    <tr>\n",
       "      <th>4</th>\n",
       "      <td>12465.json</td>\n",
       "      <td>true</td>\n",
       "      <td>The Chicago Bears have had more starting quart...</td>\n",
       "      <td>education</td>\n",
       "      <td>robin-vos</td>\n",
       "      <td>Wisconsin Assembly speaker</td>\n",
       "      <td>Wisconsin</td>\n",
       "      <td>republican</td>\n",
       "      <td>0.0</td>\n",
       "      <td>3.0</td>\n",
       "      <td>2.0</td>\n",
       "      <td>5.0</td>\n",
       "      <td>1.0</td>\n",
       "      <td>a an online opinion-piece</td>\n",
       "      <td>the chicago bears have had more starting quart...</td>\n",
       "      <td>शिकागो बियर्सले विगत दुई दशकहरूमा बर्खास्त गरि...</td>\n",
       "      <td>the chicago bears have had more starting quart...</td>\n",
       "      <td>[the, chicago, bears, have, had, more, startin...</td>\n",
       "    </tr>\n",
       "  </tbody>\n",
       "</table>\n",
       "</div>"
      ],
      "text/plain": [
       "           id        label                                          statement  \\\n",
       "0  10540.json    half-true  When did the decline of coal start? It started...   \n",
       "1    324.json  mostly-true  Hillary Clinton agrees with John McCain \"by vo...   \n",
       "2   1123.json        false  Health care reform legislation is likely to ma...   \n",
       "3   9028.json    half-true  The economic turnaround started at the end of ...   \n",
       "4  12465.json         true  The Chicago Bears have had more starting quart...   \n",
       "\n",
       "                             subjects         speaker  \\\n",
       "0  energy,history,job-accomplishments  scott-surovell   \n",
       "1                      foreign-policy    barack-obama   \n",
       "2                         health-care    blog-posting   \n",
       "3                        economy,jobs   charlie-crist   \n",
       "4                           education       robin-vos   \n",
       "\n",
       "            speaker_job_title state_info party_affilation  count_1  count_2  \\\n",
       "0              State delegate   Virginia         democrat      0.0      0.0   \n",
       "1                   President   Illinois         democrat     70.0     71.0   \n",
       "2                         NaN        NaN             none      7.0     19.0   \n",
       "3                         NaN    Florida         democrat     15.0      9.0   \n",
       "4  Wisconsin Assembly speaker  Wisconsin       republican      0.0      3.0   \n",
       "\n",
       "   count_3  count_4  count_5                    context  \\\n",
       "0      1.0      1.0      0.0            a floor speech.   \n",
       "1    160.0    163.0      9.0                     Denver   \n",
       "2      3.0      5.0     44.0             a news release   \n",
       "3     20.0     19.0      2.0        an interview on CNN   \n",
       "4      2.0      5.0      1.0  a an online opinion-piece   \n",
       "\n",
       "                        statement_removedpunctuation  \\\n",
       "0  when did the decline of coal begin it began wi...   \n",
       "1  hillary clinton agreed with john mccain by vot...   \n",
       "2  health care reform legislation is likely to ma...   \n",
       "3  towards the end of my tenure the economic tran...   \n",
       "4  the chicago bears have had more starting quart...   \n",
       "\n",
       "                                  nepali_translation  \\\n",
       "0  कोइलाको पतन कहिले सुरु भयो यो प्राकृतिक ग्यास ...   \n",
       "1  हिलारी क्लिन्टनले जर्ज बुशलाई इरानमा शंकाको फा...   \n",
       "2  स्वास्थ्य हेरचाह सुधार कानूनले नि: शुल्क लिंग ...   \n",
       "3  मेरो कार्यकालको अन्त्यमा आर्थिक परिवर्तन सुरु भयो   \n",
       "4  शिकागो बियर्सले विगत दुई दशकहरूमा बर्खास्त गरि...   \n",
       "\n",
       "                                 english_translation  \\\n",
       "0  when did the decline of coal begin? it began w...   \n",
       "1  hillary clinton agreed with john mccain by vot...   \n",
       "2  health care reform legislation is likely to ma...   \n",
       "3  towards the end of my tenure, the economic tra...   \n",
       "4  the chicago bears have had more starting quart...   \n",
       "\n",
       "                       english_translation_tokenized  \n",
       "0  [when, did, the, decline, of, coal, begin, it,...  \n",
       "1  [hillary, clinton, agreed, with, john, mccain,...  \n",
       "2  [health, care, reform, legislation, is, likely...  \n",
       "3  [towards, the, end, of, my, tenure, the, econo...  \n",
       "4  [the, chicago, bears, have, had, more, startin...  "
      ]
     },
     "execution_count": 13,
     "metadata": {},
     "output_type": "execute_result"
    }
   ],
   "source": [
    "original_df.head()"
   ]
  },
  {
   "cell_type": "markdown",
   "id": "2b9339f9",
   "metadata": {
    "papermill": {
     "duration": 0.015489,
     "end_time": "2023-06-05T17:06:53.683767",
     "exception": false,
     "start_time": "2023-06-05T17:06:53.668278",
     "status": "completed"
    },
    "tags": []
   },
   "source": [
    "A new column, english_translation_tokenized, is created and it contains the tokens generated from the sentence."
   ]
  },
  {
   "cell_type": "code",
   "execution_count": 14,
   "id": "00d67225",
   "metadata": {
    "execution": {
     "iopub.execute_input": "2023-06-05T17:06:53.717650Z",
     "iopub.status.busy": "2023-06-05T17:06:53.716009Z",
     "iopub.status.idle": "2023-06-05T17:06:53.729446Z",
     "shell.execute_reply": "2023-06-05T17:06:53.728542Z"
    },
    "papermill": {
     "duration": 0.034941,
     "end_time": "2023-06-05T17:06:53.734285",
     "exception": false,
     "start_time": "2023-06-05T17:06:53.699344",
     "status": "completed"
    },
    "tags": []
   },
   "outputs": [],
   "source": [
    "# store the list of stopwords in the stop_words variable\n",
    "stop_words = stopwords.words('english')"
   ]
  },
  {
   "cell_type": "code",
   "execution_count": 15,
   "id": "fb8a73dd",
   "metadata": {
    "execution": {
     "iopub.execute_input": "2023-06-05T17:06:53.766808Z",
     "iopub.status.busy": "2023-06-05T17:06:53.766460Z",
     "iopub.status.idle": "2023-06-05T17:06:53.772898Z",
     "shell.execute_reply": "2023-06-05T17:06:53.772026Z"
    },
    "papermill": {
     "duration": 0.025078,
     "end_time": "2023-06-05T17:06:53.774950",
     "exception": false,
     "start_time": "2023-06-05T17:06:53.749872",
     "status": "completed"
    },
    "tags": []
   },
   "outputs": [],
   "source": [
    "# Function that removes stopwords from a corpus\n",
    "def stopwordremoval(words):\n",
    "    preprocessed_tokens = []\n",
    "    for i in words:\n",
    "        # Remove stopwords and empty strings while keeping words separated by space\n",
    "        post_removal = [word for word in i.split() if word.lower() not in stop_words]\n",
    "        filtered_string = \" \".join(post_removal).strip()\n",
    "        if filtered_string:\n",
    "            preprocessed_tokens.append(filtered_string)\n",
    "    # Combine the preprocessed tokens into a single string\n",
    "    combined_string = \" \".join(preprocessed_tokens)\n",
    "    return combined_string"
   ]
  },
  {
   "cell_type": "code",
   "execution_count": 16,
   "id": "38d51e16",
   "metadata": {
    "execution": {
     "iopub.execute_input": "2023-06-05T17:06:53.807383Z",
     "iopub.status.busy": "2023-06-05T17:06:53.806657Z",
     "iopub.status.idle": "2023-06-05T17:06:54.447373Z",
     "shell.execute_reply": "2023-06-05T17:06:54.446393Z"
    },
    "papermill": {
     "duration": 0.659262,
     "end_time": "2023-06-05T17:06:54.449585",
     "exception": false,
     "start_time": "2023-06-05T17:06:53.790323",
     "status": "completed"
    },
    "tags": []
   },
   "outputs": [],
   "source": [
    "original_df[\"english_translation_stopwords\"] = original_df[\"english_translation_tokenized\"].apply(stopwordremoval)"
   ]
  },
  {
   "cell_type": "code",
   "execution_count": 17,
   "id": "a643f4e8",
   "metadata": {
    "execution": {
     "iopub.execute_input": "2023-06-05T17:06:54.483270Z",
     "iopub.status.busy": "2023-06-05T17:06:54.482993Z",
     "iopub.status.idle": "2023-06-05T17:06:55.778703Z",
     "shell.execute_reply": "2023-06-05T17:06:55.777751Z"
    },
    "papermill": {
     "duration": 1.315381,
     "end_time": "2023-06-05T17:06:55.781203",
     "exception": false,
     "start_time": "2023-06-05T17:06:54.465822",
     "status": "completed"
    },
    "tags": []
   },
   "outputs": [],
   "source": [
    "nlp = spacy.load(\"en_core_web_sm\")"
   ]
  },
  {
   "cell_type": "code",
   "execution_count": 18,
   "id": "c9dbbcf3",
   "metadata": {
    "execution": {
     "iopub.execute_input": "2023-06-05T17:06:55.814140Z",
     "iopub.status.busy": "2023-06-05T17:06:55.813850Z",
     "iopub.status.idle": "2023-06-05T17:06:55.818485Z",
     "shell.execute_reply": "2023-06-05T17:06:55.817651Z"
    },
    "papermill": {
     "duration": 0.023162,
     "end_time": "2023-06-05T17:06:55.820437",
     "exception": false,
     "start_time": "2023-06-05T17:06:55.797275",
     "status": "completed"
    },
    "tags": []
   },
   "outputs": [],
   "source": [
    "def lemmetization(text):\n",
    "    doc = nlp(text)\n",
    "    lemmetized = []\n",
    "    for token in doc:\n",
    "        lemmetized.append(token.lemma_)\n",
    "    return \" \".join(lemmetized)"
   ]
  },
  {
   "cell_type": "code",
   "execution_count": 19,
   "id": "3e5d281c",
   "metadata": {
    "execution": {
     "iopub.execute_input": "2023-06-05T17:06:55.853228Z",
     "iopub.status.busy": "2023-06-05T17:06:55.852683Z",
     "iopub.status.idle": "2023-06-05T17:08:22.041295Z",
     "shell.execute_reply": "2023-06-05T17:08:22.040379Z"
    },
    "papermill": {
     "duration": 86.207521,
     "end_time": "2023-06-05T17:08:22.043795",
     "exception": false,
     "start_time": "2023-06-05T17:06:55.836274",
     "status": "completed"
    },
    "tags": []
   },
   "outputs": [],
   "source": [
    "original_df[\"preprocessed_english\"] = original_df[\"english_translation_stopwords\"].apply(lemmetization)"
   ]
  },
  {
   "cell_type": "markdown",
   "id": "c4248a25",
   "metadata": {
    "papermill": {
     "duration": 0.015854,
     "end_time": "2023-06-05T17:08:22.075756",
     "exception": false,
     "start_time": "2023-06-05T17:08:22.059902",
     "status": "completed"
    },
    "tags": []
   },
   "source": [
    "## Target value pre-processing"
   ]
  },
  {
   "cell_type": "markdown",
   "id": "04f54f80",
   "metadata": {
    "papermill": {
     "duration": 0.015149,
     "end_time": "2023-06-05T17:08:22.106437",
     "exception": false,
     "start_time": "2023-06-05T17:08:22.091288",
     "status": "completed"
    },
    "tags": []
   },
   "source": [
    "We can see here that there are six labels for the dataset. However, the boundaries between them are pretty vague, and do not make a lot of sense when we talk about news from the real world."
   ]
  },
  {
   "cell_type": "code",
   "execution_count": 20,
   "id": "6c2dea0b",
   "metadata": {
    "execution": {
     "iopub.execute_input": "2023-06-05T17:08:22.138636Z",
     "iopub.status.busy": "2023-06-05T17:08:22.138329Z",
     "iopub.status.idle": "2023-06-05T17:08:22.153698Z",
     "shell.execute_reply": "2023-06-05T17:08:22.152733Z"
    },
    "papermill": {
     "duration": 0.034051,
     "end_time": "2023-06-05T17:08:22.155819",
     "exception": false,
     "start_time": "2023-06-05T17:08:22.121768",
     "status": "completed"
    },
    "tags": []
   },
   "outputs": [
    {
     "data": {
      "text/plain": [
       "half-true      2626\n",
       "false          2504\n",
       "mostly-true    2453\n",
       "barely-true    2101\n",
       "true           2051\n",
       "pants-fire     1047\n",
       "Name: label, dtype: int64"
      ]
     },
     "execution_count": 20,
     "metadata": {},
     "output_type": "execute_result"
    }
   ],
   "source": [
    "original_df['label'].value_counts()"
   ]
  },
  {
   "cell_type": "markdown",
   "id": "44b6a8dd",
   "metadata": {
    "papermill": {
     "duration": 0.015344,
     "end_time": "2023-06-05T17:08:22.186742",
     "exception": false,
     "start_time": "2023-06-05T17:08:22.171398",
     "status": "completed"
    },
    "tags": []
   },
   "source": [
    "So, we merged two features to make a single feature, thus resulting in a total of 3 target features, not 6."
   ]
  },
  {
   "cell_type": "code",
   "execution_count": 21,
   "id": "29c95efd",
   "metadata": {
    "execution": {
     "iopub.execute_input": "2023-06-05T17:08:22.219060Z",
     "iopub.status.busy": "2023-06-05T17:08:22.218760Z",
     "iopub.status.idle": "2023-06-05T17:08:22.436800Z",
     "shell.execute_reply": "2023-06-05T17:08:22.435837Z"
    },
    "papermill": {
     "duration": 0.23712,
     "end_time": "2023-06-05T17:08:22.439360",
     "exception": false,
     "start_time": "2023-06-05T17:08:22.202240",
     "status": "completed"
    },
    "tags": []
   },
   "outputs": [],
   "source": [
    "original_df.replace(to_replace=[\"true\", \"mostly-true\"],\n",
    "           value=\"true\", inplace=True)\n",
    "original_df.replace(to_replace=[\"false\", \"pants-fire\"],\n",
    "           value=\"false\", inplace=True)\n",
    "original_df.replace(to_replace=[\"half-true\", \"barely-true\"],\n",
    "           value=\"vague\", inplace=True)"
   ]
  },
  {
   "cell_type": "code",
   "execution_count": 22,
   "id": "5a65afbf",
   "metadata": {
    "execution": {
     "iopub.execute_input": "2023-06-05T17:08:22.472232Z",
     "iopub.status.busy": "2023-06-05T17:08:22.471932Z",
     "iopub.status.idle": "2023-06-05T17:08:22.482195Z",
     "shell.execute_reply": "2023-06-05T17:08:22.481398Z"
    },
    "papermill": {
     "duration": 0.0289,
     "end_time": "2023-06-05T17:08:22.484272",
     "exception": false,
     "start_time": "2023-06-05T17:08:22.455372",
     "status": "completed"
    },
    "tags": []
   },
   "outputs": [
    {
     "data": {
      "text/plain": [
       "label\n",
       "vague    4727\n",
       "true     4504\n",
       "false    3551\n",
       "dtype: int64"
      ]
     },
     "execution_count": 22,
     "metadata": {},
     "output_type": "execute_result"
    }
   ],
   "source": [
    "original_df.value_counts('label')"
   ]
  },
  {
   "cell_type": "markdown",
   "id": "911dec51",
   "metadata": {
    "papermill": {
     "duration": 0.015649,
     "end_time": "2023-06-05T17:08:22.515921",
     "exception": false,
     "start_time": "2023-06-05T17:08:22.500272",
     "status": "completed"
    },
    "tags": []
   },
   "source": [
    "Now we can see that the labels have been updated"
   ]
  },
  {
   "cell_type": "code",
   "execution_count": 23,
   "id": "b2624a0a",
   "metadata": {
    "execution": {
     "iopub.execute_input": "2023-06-05T17:08:22.548340Z",
     "iopub.status.busy": "2023-06-05T17:08:22.548071Z",
     "iopub.status.idle": "2023-06-05T17:08:22.572739Z",
     "shell.execute_reply": "2023-06-05T17:08:22.571860Z"
    },
    "papermill": {
     "duration": 0.042996,
     "end_time": "2023-06-05T17:08:22.574582",
     "exception": false,
     "start_time": "2023-06-05T17:08:22.531586",
     "status": "completed"
    },
    "tags": []
   },
   "outputs": [
    {
     "data": {
      "text/html": [
       "<div>\n",
       "<style scoped>\n",
       "    .dataframe tbody tr th:only-of-type {\n",
       "        vertical-align: middle;\n",
       "    }\n",
       "\n",
       "    .dataframe tbody tr th {\n",
       "        vertical-align: top;\n",
       "    }\n",
       "\n",
       "    .dataframe thead th {\n",
       "        text-align: right;\n",
       "    }\n",
       "</style>\n",
       "<table border=\"1\" class=\"dataframe\">\n",
       "  <thead>\n",
       "    <tr style=\"text-align: right;\">\n",
       "      <th></th>\n",
       "      <th>id</th>\n",
       "      <th>label</th>\n",
       "      <th>statement</th>\n",
       "      <th>subjects</th>\n",
       "      <th>speaker</th>\n",
       "      <th>speaker_job_title</th>\n",
       "      <th>state_info</th>\n",
       "      <th>party_affilation</th>\n",
       "      <th>count_1</th>\n",
       "      <th>count_2</th>\n",
       "      <th>count_3</th>\n",
       "      <th>count_4</th>\n",
       "      <th>count_5</th>\n",
       "      <th>context</th>\n",
       "      <th>statement_removedpunctuation</th>\n",
       "      <th>nepali_translation</th>\n",
       "      <th>english_translation</th>\n",
       "      <th>english_translation_tokenized</th>\n",
       "      <th>english_translation_stopwords</th>\n",
       "      <th>preprocessed_english</th>\n",
       "    </tr>\n",
       "  </thead>\n",
       "  <tbody>\n",
       "    <tr>\n",
       "      <th>0</th>\n",
       "      <td>10540.json</td>\n",
       "      <td>vague</td>\n",
       "      <td>When did the decline of coal start? It started...</td>\n",
       "      <td>energy,history,job-accomplishments</td>\n",
       "      <td>scott-surovell</td>\n",
       "      <td>State delegate</td>\n",
       "      <td>Virginia</td>\n",
       "      <td>democrat</td>\n",
       "      <td>0.0</td>\n",
       "      <td>0.0</td>\n",
       "      <td>1.0</td>\n",
       "      <td>1.0</td>\n",
       "      <td>0.0</td>\n",
       "      <td>a floor speech.</td>\n",
       "      <td>when did the decline of coal begin it began wi...</td>\n",
       "      <td>कोइलाको पतन कहिले सुरु भयो यो प्राकृतिक ग्यास ...</td>\n",
       "      <td>when did the decline of coal begin? it began w...</td>\n",
       "      <td>[when, did, the, decline, of, coal, begin, it,...</td>\n",
       "      <td>decline coal begin began natural gas layoff be...</td>\n",
       "      <td>decline coal begin begin natural gas layoff be...</td>\n",
       "    </tr>\n",
       "    <tr>\n",
       "      <th>1</th>\n",
       "      <td>324.json</td>\n",
       "      <td>true</td>\n",
       "      <td>Hillary Clinton agrees with John McCain \"by vo...</td>\n",
       "      <td>foreign-policy</td>\n",
       "      <td>barack-obama</td>\n",
       "      <td>President</td>\n",
       "      <td>Illinois</td>\n",
       "      <td>democrat</td>\n",
       "      <td>70.0</td>\n",
       "      <td>71.0</td>\n",
       "      <td>160.0</td>\n",
       "      <td>163.0</td>\n",
       "      <td>9.0</td>\n",
       "      <td>Denver</td>\n",
       "      <td>hillary clinton agreed with john mccain by vot...</td>\n",
       "      <td>हिलारी क्लिन्टनले जर्ज बुशलाई इरानमा शंकाको फा...</td>\n",
       "      <td>hillary clinton agreed with john mccain by vot...</td>\n",
       "      <td>[hillary, clinton, agreed, with, john, mccain,...</td>\n",
       "      <td>hillary clinton agreed john mccain voting give...</td>\n",
       "      <td>hillary clinton agree john mccain voting give ...</td>\n",
       "    </tr>\n",
       "    <tr>\n",
       "      <th>2</th>\n",
       "      <td>1123.json</td>\n",
       "      <td>false</td>\n",
       "      <td>Health care reform legislation is likely to ma...</td>\n",
       "      <td>health-care</td>\n",
       "      <td>blog-posting</td>\n",
       "      <td>NaN</td>\n",
       "      <td>NaN</td>\n",
       "      <td>none</td>\n",
       "      <td>7.0</td>\n",
       "      <td>19.0</td>\n",
       "      <td>3.0</td>\n",
       "      <td>5.0</td>\n",
       "      <td>44.0</td>\n",
       "      <td>a news release</td>\n",
       "      <td>health care reform legislation is likely to ma...</td>\n",
       "      <td>स्वास्थ्य हेरचाह सुधार कानूनले नि: शुल्क लिंग ...</td>\n",
       "      <td>health care reform legislation is likely to ma...</td>\n",
       "      <td>[health, care, reform, legislation, is, likely...</td>\n",
       "      <td>health care reform legislation likely mandate ...</td>\n",
       "      <td>health care reform legislation likely mandate ...</td>\n",
       "    </tr>\n",
       "    <tr>\n",
       "      <th>3</th>\n",
       "      <td>9028.json</td>\n",
       "      <td>vague</td>\n",
       "      <td>The economic turnaround started at the end of ...</td>\n",
       "      <td>economy,jobs</td>\n",
       "      <td>charlie-crist</td>\n",
       "      <td>NaN</td>\n",
       "      <td>Florida</td>\n",
       "      <td>democrat</td>\n",
       "      <td>15.0</td>\n",
       "      <td>9.0</td>\n",
       "      <td>20.0</td>\n",
       "      <td>19.0</td>\n",
       "      <td>2.0</td>\n",
       "      <td>an interview on CNN</td>\n",
       "      <td>towards the end of my tenure the economic tran...</td>\n",
       "      <td>मेरो कार्यकालको अन्त्यमा आर्थिक परिवर्तन सुरु भयो</td>\n",
       "      <td>towards the end of my tenure, the economic tra...</td>\n",
       "      <td>[towards, the, end, of, my, tenure, the, econo...</td>\n",
       "      <td>towards end tenure economic transformation began</td>\n",
       "      <td>towards end tenure economic transformation begin</td>\n",
       "    </tr>\n",
       "    <tr>\n",
       "      <th>4</th>\n",
       "      <td>12465.json</td>\n",
       "      <td>true</td>\n",
       "      <td>The Chicago Bears have had more starting quart...</td>\n",
       "      <td>education</td>\n",
       "      <td>robin-vos</td>\n",
       "      <td>Wisconsin Assembly speaker</td>\n",
       "      <td>Wisconsin</td>\n",
       "      <td>republican</td>\n",
       "      <td>0.0</td>\n",
       "      <td>3.0</td>\n",
       "      <td>2.0</td>\n",
       "      <td>5.0</td>\n",
       "      <td>1.0</td>\n",
       "      <td>a an online opinion-piece</td>\n",
       "      <td>the chicago bears have had more starting quart...</td>\n",
       "      <td>शिकागो बियर्सले विगत दुई दशकहरूमा बर्खास्त गरि...</td>\n",
       "      <td>the chicago bears have had more starting quart...</td>\n",
       "      <td>[the, chicago, bears, have, had, more, startin...</td>\n",
       "      <td>chicago bears starting quarterbacks past ten y...</td>\n",
       "      <td>chicago bear start quarterback past ten year t...</td>\n",
       "    </tr>\n",
       "  </tbody>\n",
       "</table>\n",
       "</div>"
      ],
      "text/plain": [
       "           id  label                                          statement  \\\n",
       "0  10540.json  vague  When did the decline of coal start? It started...   \n",
       "1    324.json   true  Hillary Clinton agrees with John McCain \"by vo...   \n",
       "2   1123.json  false  Health care reform legislation is likely to ma...   \n",
       "3   9028.json  vague  The economic turnaround started at the end of ...   \n",
       "4  12465.json   true  The Chicago Bears have had more starting quart...   \n",
       "\n",
       "                             subjects         speaker  \\\n",
       "0  energy,history,job-accomplishments  scott-surovell   \n",
       "1                      foreign-policy    barack-obama   \n",
       "2                         health-care    blog-posting   \n",
       "3                        economy,jobs   charlie-crist   \n",
       "4                           education       robin-vos   \n",
       "\n",
       "            speaker_job_title state_info party_affilation  count_1  count_2  \\\n",
       "0              State delegate   Virginia         democrat      0.0      0.0   \n",
       "1                   President   Illinois         democrat     70.0     71.0   \n",
       "2                         NaN        NaN             none      7.0     19.0   \n",
       "3                         NaN    Florida         democrat     15.0      9.0   \n",
       "4  Wisconsin Assembly speaker  Wisconsin       republican      0.0      3.0   \n",
       "\n",
       "   count_3  count_4  count_5                    context  \\\n",
       "0      1.0      1.0      0.0            a floor speech.   \n",
       "1    160.0    163.0      9.0                     Denver   \n",
       "2      3.0      5.0     44.0             a news release   \n",
       "3     20.0     19.0      2.0        an interview on CNN   \n",
       "4      2.0      5.0      1.0  a an online opinion-piece   \n",
       "\n",
       "                        statement_removedpunctuation  \\\n",
       "0  when did the decline of coal begin it began wi...   \n",
       "1  hillary clinton agreed with john mccain by vot...   \n",
       "2  health care reform legislation is likely to ma...   \n",
       "3  towards the end of my tenure the economic tran...   \n",
       "4  the chicago bears have had more starting quart...   \n",
       "\n",
       "                                  nepali_translation  \\\n",
       "0  कोइलाको पतन कहिले सुरु भयो यो प्राकृतिक ग्यास ...   \n",
       "1  हिलारी क्लिन्टनले जर्ज बुशलाई इरानमा शंकाको फा...   \n",
       "2  स्वास्थ्य हेरचाह सुधार कानूनले नि: शुल्क लिंग ...   \n",
       "3  मेरो कार्यकालको अन्त्यमा आर्थिक परिवर्तन सुरु भयो   \n",
       "4  शिकागो बियर्सले विगत दुई दशकहरूमा बर्खास्त गरि...   \n",
       "\n",
       "                                 english_translation  \\\n",
       "0  when did the decline of coal begin? it began w...   \n",
       "1  hillary clinton agreed with john mccain by vot...   \n",
       "2  health care reform legislation is likely to ma...   \n",
       "3  towards the end of my tenure, the economic tra...   \n",
       "4  the chicago bears have had more starting quart...   \n",
       "\n",
       "                       english_translation_tokenized  \\\n",
       "0  [when, did, the, decline, of, coal, begin, it,...   \n",
       "1  [hillary, clinton, agreed, with, john, mccain,...   \n",
       "2  [health, care, reform, legislation, is, likely...   \n",
       "3  [towards, the, end, of, my, tenure, the, econo...   \n",
       "4  [the, chicago, bears, have, had, more, startin...   \n",
       "\n",
       "                       english_translation_stopwords  \\\n",
       "0  decline coal begin began natural gas layoff be...   \n",
       "1  hillary clinton agreed john mccain voting give...   \n",
       "2  health care reform legislation likely mandate ...   \n",
       "3   towards end tenure economic transformation began   \n",
       "4  chicago bears starting quarterbacks past ten y...   \n",
       "\n",
       "                                preprocessed_english  \n",
       "0  decline coal begin begin natural gas layoff be...  \n",
       "1  hillary clinton agree john mccain voting give ...  \n",
       "2  health care reform legislation likely mandate ...  \n",
       "3   towards end tenure economic transformation begin  \n",
       "4  chicago bear start quarterback past ten year t...  "
      ]
     },
     "execution_count": 23,
     "metadata": {},
     "output_type": "execute_result"
    }
   ],
   "source": [
    "original_df.head()"
   ]
  },
  {
   "cell_type": "markdown",
   "id": "e630260d",
   "metadata": {
    "papermill": {
     "duration": 0.015869,
     "end_time": "2023-06-05T17:08:22.607152",
     "exception": false,
     "start_time": "2023-06-05T17:08:22.591283",
     "status": "completed"
    },
    "tags": []
   },
   "source": [
    "And there are now 3 values for 'label' instead of 6"
   ]
  },
  {
   "cell_type": "code",
   "execution_count": 24,
   "id": "13cb4cca",
   "metadata": {
    "execution": {
     "iopub.execute_input": "2023-06-05T17:08:22.640797Z",
     "iopub.status.busy": "2023-06-05T17:08:22.640048Z",
     "iopub.status.idle": "2023-06-05T17:08:22.647215Z",
     "shell.execute_reply": "2023-06-05T17:08:22.646280Z"
    },
    "papermill": {
     "duration": 0.026041,
     "end_time": "2023-06-05T17:08:22.649218",
     "exception": false,
     "start_time": "2023-06-05T17:08:22.623177",
     "status": "completed"
    },
    "tags": []
   },
   "outputs": [
    {
     "data": {
      "text/plain": [
       "array(['vague', 'true', 'false'], dtype=object)"
      ]
     },
     "execution_count": 24,
     "metadata": {},
     "output_type": "execute_result"
    }
   ],
   "source": [
    "original_df['label'].unique()"
   ]
  },
  {
   "cell_type": "code",
   "execution_count": 25,
   "id": "6a314aea",
   "metadata": {
    "execution": {
     "iopub.execute_input": "2023-06-05T17:08:22.683362Z",
     "iopub.status.busy": "2023-06-05T17:08:22.682655Z",
     "iopub.status.idle": "2023-06-05T17:08:22.687413Z",
     "shell.execute_reply": "2023-06-05T17:08:22.686648Z"
    },
    "papermill": {
     "duration": 0.023683,
     "end_time": "2023-06-05T17:08:22.689311",
     "exception": false,
     "start_time": "2023-06-05T17:08:22.665628",
     "status": "completed"
    },
    "tags": []
   },
   "outputs": [],
   "source": [
    "corpus = original_df['preprocessed_english'].copy()"
   ]
  },
  {
   "cell_type": "markdown",
   "id": "d3cf9d22",
   "metadata": {
    "papermill": {
     "duration": 0.016085,
     "end_time": "2023-06-05T17:08:22.721590",
     "exception": false,
     "start_time": "2023-06-05T17:08:22.705505",
     "status": "completed"
    },
    "tags": []
   },
   "source": [
    "Creating a corpus that only contains the preprocessed statements."
   ]
  },
  {
   "cell_type": "code",
   "execution_count": 26,
   "id": "ab6a9d51",
   "metadata": {
    "execution": {
     "iopub.execute_input": "2023-06-05T17:08:22.764268Z",
     "iopub.status.busy": "2023-06-05T17:08:22.763934Z",
     "iopub.status.idle": "2023-06-05T17:08:22.771235Z",
     "shell.execute_reply": "2023-06-05T17:08:22.770152Z"
    },
    "papermill": {
     "duration": 0.035621,
     "end_time": "2023-06-05T17:08:22.773437",
     "exception": false,
     "start_time": "2023-06-05T17:08:22.737816",
     "status": "completed"
    },
    "tags": []
   },
   "outputs": [],
   "source": [
    "label = original_df['label'].copy()"
   ]
  },
  {
   "cell_type": "code",
   "execution_count": 27,
   "id": "bfe3fcca",
   "metadata": {
    "execution": {
     "iopub.execute_input": "2023-06-05T17:08:22.832847Z",
     "iopub.status.busy": "2023-06-05T17:08:22.832483Z",
     "iopub.status.idle": "2023-06-05T17:08:22.850282Z",
     "shell.execute_reply": "2023-06-05T17:08:22.848545Z"
    },
    "papermill": {
     "duration": 0.051868,
     "end_time": "2023-06-05T17:08:22.855584",
     "exception": false,
     "start_time": "2023-06-05T17:08:22.803716",
     "status": "completed"
    },
    "tags": []
   },
   "outputs": [],
   "source": [
    "voc_size = len(set(corpus))"
   ]
  },
  {
   "cell_type": "markdown",
   "id": "f68daab9",
   "metadata": {
    "papermill": {
     "duration": 0.024961,
     "end_time": "2023-06-05T17:08:22.907685",
     "exception": false,
     "start_time": "2023-06-05T17:08:22.882724",
     "status": "completed"
    },
    "tags": []
   },
   "source": [
    "Create one hot representation of the corpus"
   ]
  },
  {
   "cell_type": "code",
   "execution_count": 28,
   "id": "77a1dc20",
   "metadata": {
    "execution": {
     "iopub.execute_input": "2023-06-05T17:08:22.955666Z",
     "iopub.status.busy": "2023-06-05T17:08:22.955357Z",
     "iopub.status.idle": "2023-06-05T17:08:23.153844Z",
     "shell.execute_reply": "2023-06-05T17:08:23.153005Z"
    },
    "papermill": {
     "duration": 0.22321,
     "end_time": "2023-06-05T17:08:23.155869",
     "exception": false,
     "start_time": "2023-06-05T17:08:22.932659",
     "status": "completed"
    },
    "tags": []
   },
   "outputs": [],
   "source": [
    "onehot_repr=[one_hot(words,voc_size)for words in corpus]"
   ]
  },
  {
   "cell_type": "code",
   "execution_count": 29,
   "id": "169e32c8",
   "metadata": {
    "execution": {
     "iopub.execute_input": "2023-06-05T17:08:23.189903Z",
     "iopub.status.busy": "2023-06-05T17:08:23.189636Z",
     "iopub.status.idle": "2023-06-05T17:08:23.305713Z",
     "shell.execute_reply": "2023-06-05T17:08:23.304670Z"
    },
    "papermill": {
     "duration": 0.135986,
     "end_time": "2023-06-05T17:08:23.308471",
     "exception": false,
     "start_time": "2023-06-05T17:08:23.172485",
     "status": "completed"
    },
    "tags": []
   },
   "outputs": [
    {
     "name": "stdout",
     "output_type": "stream",
     "text": [
      "[[    0     0     0 ...  5474 10420  6931]\n",
      " [    0     0     0 ...  9487  1934  3174]\n",
      " [    0     0     0 ... 11230  8616  9991]\n",
      " ...\n",
      " [    0     0     0 ...  9324  9565  6555]\n",
      " [    0     0     0 ...  9565 10725 11861]\n",
      " [    0     0     0 ...  8628  1452  7332]]\n"
     ]
    }
   ],
   "source": [
    "sent_length = 5000\n",
    "embedded_docs=pad_sequences(onehot_repr,padding='pre',maxlen=sent_length)\n",
    "print(embedded_docs)"
   ]
  },
  {
   "cell_type": "code",
   "execution_count": 30,
   "id": "13211750",
   "metadata": {
    "execution": {
     "iopub.execute_input": "2023-06-05T17:08:23.343886Z",
     "iopub.status.busy": "2023-06-05T17:08:23.343537Z",
     "iopub.status.idle": "2023-06-05T17:08:23.435526Z",
     "shell.execute_reply": "2023-06-05T17:08:23.434512Z"
    },
    "papermill": {
     "duration": 0.112061,
     "end_time": "2023-06-05T17:08:23.437954",
     "exception": false,
     "start_time": "2023-06-05T17:08:23.325893",
     "status": "completed"
    },
    "tags": []
   },
   "outputs": [],
   "source": [
    "X_final=np.array(embedded_docs)\n",
    "y_final=np.array(label)"
   ]
  },
  {
   "cell_type": "code",
   "execution_count": 31,
   "id": "f241feff",
   "metadata": {
    "execution": {
     "iopub.execute_input": "2023-06-05T17:08:23.472698Z",
     "iopub.status.busy": "2023-06-05T17:08:23.472397Z",
     "iopub.status.idle": "2023-06-05T17:08:23.488777Z",
     "shell.execute_reply": "2023-06-05T17:08:23.487977Z"
    },
    "papermill": {
     "duration": 0.035891,
     "end_time": "2023-06-05T17:08:23.490839",
     "exception": false,
     "start_time": "2023-06-05T17:08:23.454948",
     "status": "completed"
    },
    "tags": []
   },
   "outputs": [],
   "source": [
    "# Initialize LabelEncoder\n",
    "label_encoder = LabelEncoder()\n",
    "ohe = OneHotEncoder()\n",
    "# Fit and transform the target variable\n",
    "# y_training = label_encoder.fit_transform(y_train)\n",
    "y_training = ohe.fit_transform(y_final.reshape(-1,1)).todense()"
   ]
  },
  {
   "cell_type": "code",
   "execution_count": 32,
   "id": "fc4f2fe0",
   "metadata": {
    "execution": {
     "iopub.execute_input": "2023-06-05T17:08:23.525163Z",
     "iopub.status.busy": "2023-06-05T17:08:23.524444Z",
     "iopub.status.idle": "2023-06-05T17:08:23.606927Z",
     "shell.execute_reply": "2023-06-05T17:08:23.605990Z"
    },
    "papermill": {
     "duration": 0.102087,
     "end_time": "2023-06-05T17:08:23.609343",
     "exception": false,
     "start_time": "2023-06-05T17:08:23.507256",
     "status": "completed"
    },
    "tags": []
   },
   "outputs": [],
   "source": [
    "X_train, X_test, y_train, y_test = train_test_split(X_final, y_training, test_size=0.33)"
   ]
  },
  {
   "cell_type": "code",
   "execution_count": 33,
   "id": "39ea34dc",
   "metadata": {
    "execution": {
     "iopub.execute_input": "2023-06-05T17:08:23.644125Z",
     "iopub.status.busy": "2023-06-05T17:08:23.643329Z",
     "iopub.status.idle": "2023-06-05T17:08:23.649181Z",
     "shell.execute_reply": "2023-06-05T17:08:23.648339Z"
    },
    "papermill": {
     "duration": 0.024878,
     "end_time": "2023-06-05T17:08:23.651061",
     "exception": false,
     "start_time": "2023-06-05T17:08:23.626183",
     "status": "completed"
    },
    "tags": []
   },
   "outputs": [
    {
     "data": {
      "text/plain": [
       "(8563, 5000)"
      ]
     },
     "execution_count": 33,
     "metadata": {},
     "output_type": "execute_result"
    }
   ],
   "source": [
    "X_train.shape"
   ]
  },
  {
   "cell_type": "code",
   "execution_count": 34,
   "id": "a0ca565b",
   "metadata": {
    "execution": {
     "iopub.execute_input": "2023-06-05T17:08:23.685333Z",
     "iopub.status.busy": "2023-06-05T17:08:23.684529Z",
     "iopub.status.idle": "2023-06-05T17:08:23.690494Z",
     "shell.execute_reply": "2023-06-05T17:08:23.689582Z"
    },
    "papermill": {
     "duration": 0.02498,
     "end_time": "2023-06-05T17:08:23.692413",
     "exception": false,
     "start_time": "2023-06-05T17:08:23.667433",
     "status": "completed"
    },
    "tags": []
   },
   "outputs": [
    {
     "data": {
      "text/plain": [
       "(8563, 3)"
      ]
     },
     "execution_count": 34,
     "metadata": {},
     "output_type": "execute_result"
    }
   ],
   "source": [
    "y_train.shape"
   ]
  },
  {
   "cell_type": "code",
   "execution_count": 35,
   "id": "46499ab5",
   "metadata": {
    "execution": {
     "iopub.execute_input": "2023-06-05T17:08:23.726714Z",
     "iopub.status.busy": "2023-06-05T17:08:23.726008Z",
     "iopub.status.idle": "2023-06-05T17:08:35.215881Z",
     "shell.execute_reply": "2023-06-05T17:08:35.215136Z"
    },
    "papermill": {
     "duration": 11.52914,
     "end_time": "2023-06-05T17:08:35.237940",
     "exception": false,
     "start_time": "2023-06-05T17:08:23.708800",
     "status": "completed"
    },
    "tags": []
   },
   "outputs": [
    {
     "name": "stdout",
     "output_type": "stream",
     "text": [
      "Model: \"sequential\"\n",
      "_________________________________________________________________\n",
      " Layer (type)                Output Shape              Param #   \n",
      "=================================================================\n",
      " embedding (Embedding)       (None, 5000, 1000)        12744000  \n",
      "                                                                 \n",
      " lstm (LSTM)                 (None, 20)                81680     \n",
      "                                                                 \n",
      " dropout (Dropout)           (None, 20)                0         \n",
      "                                                                 \n",
      " dense (Dense)               (None, 50)                1050      \n",
      "                                                                 \n",
      " batch_normalization (BatchN  (None, 50)               200       \n",
      " ormalization)                                                   \n",
      "                                                                 \n",
      " dropout_1 (Dropout)         (None, 50)                0         \n",
      "                                                                 \n",
      " dense_1 (Dense)             (None, 100)               5100      \n",
      "                                                                 \n",
      " dropout_2 (Dropout)         (None, 100)               0         \n",
      "                                                                 \n",
      " dense_2 (Dense)             (None, 100)               10100     \n",
      "                                                                 \n",
      " dropout_3 (Dropout)         (None, 100)               0         \n",
      "                                                                 \n",
      " dense_3 (Dense)             (None, 100)               10100     \n",
      "                                                                 \n",
      " dense_4 (Dense)             (None, 3)                 303       \n",
      "                                                                 \n",
      "=================================================================\n",
      "Total params: 12,852,533\n",
      "Trainable params: 12,852,433\n",
      "Non-trainable params: 100\n",
      "_________________________________________________________________\n",
      "None\n"
     ]
    }
   ],
   "source": [
    "## Creating model\n",
    "embedding_vector_features= 1000\n",
    "model=Sequential()\n",
    "model.add(Embedding(voc_size,embedding_vector_features,input_length=sent_length))\n",
    "#model.add(Dropout(0.5))\n",
    "model.add(LSTM(20))\n",
    "model.add(Dropout(0.3))\n",
    "model.add(Dense(50, input_shape=(sent_length,)))\n",
    "model.add(BatchNormalization())\n",
    "model.add(Dropout(0.5))\n",
    "model.add(Dense(100))\n",
    "model.add(Dropout(0.5))\n",
    "model.add(Dense(100))\n",
    "model.add(Dropout(0.5))\n",
    "model.add(Dense(100))\n",
    "model.add(Dense(3,activation='softmax'))\n",
    "model.compile(loss='categorical_crossentropy',optimizer='adam',metrics=['accuracy'])\n",
    "print(model.summary())"
   ]
  },
  {
   "cell_type": "code",
   "execution_count": 36,
   "id": "ec834902",
   "metadata": {
    "execution": {
     "iopub.execute_input": "2023-06-05T17:08:35.277428Z",
     "iopub.status.busy": "2023-06-05T17:08:35.277145Z",
     "iopub.status.idle": "2023-06-05T17:16:38.229505Z",
     "shell.execute_reply": "2023-06-05T17:16:38.228629Z"
    },
    "papermill": {
     "duration": 482.974586,
     "end_time": "2023-06-05T17:16:38.231927",
     "exception": false,
     "start_time": "2023-06-05T17:08:35.257341",
     "status": "completed"
    },
    "tags": []
   },
   "outputs": [
    {
     "name": "stdout",
     "output_type": "stream",
     "text": [
      "Epoch 1/10\n"
     ]
    },
    {
     "name": "stderr",
     "output_type": "stream",
     "text": [
      "/opt/conda/lib/python3.10/site-packages/tensorflow/python/data/ops/structured_function.py:254: UserWarning: Even though the `tf.config.experimental_run_functions_eagerly` option is set, this option does not apply to tf.data functions. To force eager execution of tf.data functions, please use `tf.data.experimental.enable_debug_mode()`.\n",
      "  warnings.warn(\n"
     ]
    },
    {
     "name": "stdout",
     "output_type": "stream",
     "text": [
      "215/215 [==============================] - 53s 217ms/step - loss: 1.2384 - accuracy: 0.3436 - val_loss: 1.0868 - val_accuracy: 0.3789\n",
      "Epoch 2/10\n",
      "215/215 [==============================] - 48s 223ms/step - loss: 1.1290 - accuracy: 0.3756 - val_loss: 1.0804 - val_accuracy: 0.3917\n",
      "Epoch 3/10\n",
      "215/215 [==============================] - 47s 217ms/step - loss: 1.0808 - accuracy: 0.4231 - val_loss: 1.0738 - val_accuracy: 0.4086\n",
      "Epoch 4/10\n",
      "215/215 [==============================] - 48s 225ms/step - loss: 0.9919 - accuracy: 0.5101 - val_loss: 1.1695 - val_accuracy: 0.3940\n",
      "Epoch 5/10\n",
      "215/215 [==============================] - 48s 221ms/step - loss: 0.8865 - accuracy: 0.5933 - val_loss: 1.2689 - val_accuracy: 0.3870\n",
      "Epoch 6/10\n",
      "215/215 [==============================] - 48s 224ms/step - loss: 0.7651 - accuracy: 0.6728 - val_loss: 1.3942 - val_accuracy: 0.3847\n",
      "Epoch 7/10\n",
      "215/215 [==============================] - 48s 222ms/step - loss: 0.6534 - accuracy: 0.7312 - val_loss: 1.4625 - val_accuracy: 0.3847\n",
      "Epoch 8/10\n",
      "215/215 [==============================] - 48s 223ms/step - loss: 0.5732 - accuracy: 0.7769 - val_loss: 1.8000 - val_accuracy: 0.3724\n",
      "Epoch 9/10\n",
      "215/215 [==============================] - 47s 217ms/step - loss: 0.4972 - accuracy: 0.8086 - val_loss: 1.9116 - val_accuracy: 0.3900\n",
      "Epoch 10/10\n",
      "215/215 [==============================] - 48s 225ms/step - loss: 0.4200 - accuracy: 0.8400 - val_loss: 2.1860 - val_accuracy: 0.3935\n"
     ]
    }
   ],
   "source": [
    "history = model.fit(X_train,y_train,epochs=10, validation_split=0.2)"
   ]
  },
  {
   "cell_type": "code",
   "execution_count": 37,
   "id": "712f9a68",
   "metadata": {
    "execution": {
     "iopub.execute_input": "2023-06-05T17:16:38.648766Z",
     "iopub.status.busy": "2023-06-05T17:16:38.647098Z",
     "iopub.status.idle": "2023-06-05T17:16:49.009416Z",
     "shell.execute_reply": "2023-06-05T17:16:49.008513Z"
    },
    "papermill": {
     "duration": 10.543289,
     "end_time": "2023-06-05T17:16:49.011541",
     "exception": false,
     "start_time": "2023-06-05T17:16:38.468252",
     "status": "completed"
    },
    "tags": []
   },
   "outputs": [
    {
     "name": "stdout",
     "output_type": "stream",
     "text": [
      "132/132 [==============================] - 10s 76ms/step - loss: 2.2831 - accuracy: 0.3835\n"
     ]
    },
    {
     "data": {
      "text/plain": [
       "[2.2831380367279053, 0.3835031986236572]"
      ]
     },
     "execution_count": 37,
     "metadata": {},
     "output_type": "execute_result"
    }
   ],
   "source": [
    "model.evaluate(X_test, y_test)"
   ]
  },
  {
   "cell_type": "code",
   "execution_count": 38,
   "id": "7ca3e2f9",
   "metadata": {
    "execution": {
     "iopub.execute_input": "2023-06-05T17:16:49.392414Z",
     "iopub.status.busy": "2023-06-05T17:16:49.392080Z",
     "iopub.status.idle": "2023-06-05T17:16:59.139523Z",
     "shell.execute_reply": "2023-06-05T17:16:59.138580Z"
    },
    "papermill": {
     "duration": 9.940957,
     "end_time": "2023-06-05T17:16:59.141936",
     "exception": false,
     "start_time": "2023-06-05T17:16:49.200979",
     "status": "completed"
    },
    "tags": []
   },
   "outputs": [
    {
     "name": "stdout",
     "output_type": "stream",
     "text": [
      "132/132 [==============================] - 10s 72ms/step\n"
     ]
    }
   ],
   "source": [
    "# Perform evaluation\n",
    "y_pred = model.predict(X_test)\n",
    "y_pred_labels = np.argmax(y_pred, axis=1)  # Convert predicted probabilities to labels\n",
    "\n",
    "# Convert one-hot encoded target labels to labels\n",
    "y_true_labels = np.argmax(y_test, axis=1)"
   ]
  },
  {
   "cell_type": "code",
   "execution_count": 39,
   "id": "3163b856",
   "metadata": {
    "execution": {
     "iopub.execute_input": "2023-06-05T17:16:59.543316Z",
     "iopub.status.busy": "2023-06-05T17:16:59.542800Z",
     "iopub.status.idle": "2023-06-05T17:16:59.550818Z",
     "shell.execute_reply": "2023-06-05T17:16:59.549994Z"
    },
    "papermill": {
     "duration": 0.209904,
     "end_time": "2023-06-05T17:16:59.552932",
     "exception": false,
     "start_time": "2023-06-05T17:16:59.343028",
     "status": "completed"
    },
    "tags": []
   },
   "outputs": [],
   "source": [
    "# Create confusion matrix\n",
    "confusion_mat = confusion_matrix(np.asarray(y_true_labels), y_pred_labels)\n",
    "\n",
    "# Create pandas DataFrame from confusion matrix\n",
    "labels = ['Label 1', 'Label 2', 'Label 3']  # Replace with your actual label names\n",
    "confusion_df = pd.DataFrame(confusion_mat, index=labels, columns=labels)"
   ]
  },
  {
   "cell_type": "code",
   "execution_count": 40,
   "id": "4a57c6f3",
   "metadata": {
    "execution": {
     "iopub.execute_input": "2023-06-05T17:17:00.036701Z",
     "iopub.status.busy": "2023-06-05T17:17:00.036332Z",
     "iopub.status.idle": "2023-06-05T17:17:00.408617Z",
     "shell.execute_reply": "2023-06-05T17:17:00.407502Z"
    },
    "papermill": {
     "duration": 0.644477,
     "end_time": "2023-06-05T17:17:00.410667",
     "exception": false,
     "start_time": "2023-06-05T17:16:59.766190",
     "status": "completed"
    },
    "tags": []
   },
   "outputs": [
    {
     "data": {
      "image/png": "[encoded data removed]",
      "text/plain": [
       "<Figure size 800x600 with 2 Axes>"
      ]
     },
     "metadata": {},
     "output_type": "display_data"
    }
   ],
   "source": [
    "plt.figure(figsize=(8, 6))\n",
    "sns.heatmap(confusion_df, annot=True, cmap='Blues', fmt='d')\n",
    "plt.xlabel('Predicted Labels')\n",
    "plt.ylabel('True Labels')\n",
    "plt.title('Confusion Matrix')\n",
    "plt.show()"
   ]
  },
  {
   "cell_type": "code",
   "execution_count": 41,
   "id": "c54e4267",
   "metadata": {
    "execution": {
     "iopub.execute_input": "2023-06-05T17:17:00.814103Z",
     "iopub.status.busy": "2023-06-05T17:17:00.813472Z",
     "iopub.status.idle": "2023-06-05T17:17:01.357721Z",
     "shell.execute_reply": "2023-06-05T17:17:01.356826Z"
    },
    "papermill": {
     "duration": 0.748468,
     "end_time": "2023-06-05T17:17:01.359694",
     "exception": false,
     "start_time": "2023-06-05T17:17:00.611226",
     "status": "completed"
    },
    "tags": []
   },
   "outputs": [
    {
     "data": {
      "image/png": "[encoded data removed]",
      "text/plain": [
       "<Figure size 640x480 with 1 Axes>"
      ]
     },
     "metadata": {},
     "output_type": "display_data"
    },
    {
     "data": {
      "image/png": "[encoded data removed]",
      "text/plain": [
       "<Figure size 640x480 with 1 Axes>"
      ]
     },
     "metadata": {},
     "output_type": "display_data"
    }
   ],
   "source": [
    "def plot_history(history):\n",
    "    # summarize history for accuracy\n",
    "    plt.plot(history.history['accuracy'])\n",
    "    plt.plot(history.history['val_accuracy'])\n",
    "    plt.title('model accuracy')\n",
    "    plt.ylabel('accuracy')\n",
    "    plt.xlabel('epoch')\n",
    "    plt.legend(['train', 'validation'], loc='upper left')\n",
    "    plt.show()\n",
    "    # summarize history for loss\n",
    "    plt.plot(history.history['loss'])\n",
    "    plt.plot(history.history['val_loss'])\n",
    "    plt.title('model loss')\n",
    "    plt.ylabel('loss')\n",
    "    plt.xlabel('epoch')\n",
    "    plt.legend(['train', 'validation'], loc='upper left')\n",
    "    plt.show()\n",
    "    \n",
    "plot_history(history)"
   ]
  },
  {
   "cell_type": "code",
   "execution_count": 42,
   "id": "471cf832",
   "metadata": {
    "execution": {
     "iopub.execute_input": "2023-06-05T17:17:01.768972Z",
     "iopub.status.busy": "2023-06-05T17:17:01.767086Z",
     "iopub.status.idle": "2023-06-05T17:17:01.775147Z",
     "shell.execute_reply": "2023-06-05T17:17:01.774174Z"
    },
    "papermill": {
     "duration": 0.214584,
     "end_time": "2023-06-05T17:17:01.777678",
     "exception": false,
     "start_time": "2023-06-05T17:17:01.563094",
     "status": "completed"
    },
    "tags": []
   },
   "outputs": [
    {
     "data": {
      "text/plain": [
       "\"\\nvocab_size = 5000\\n\\nmodel = Sequential()\\nmodel.add(Embedding(vocab_size, 128, input_length=X_train.shape[1]))  # Embedding layer\\n# model.add(Dropout(rate=0.4))\\nmodel.add(LSTM(units=4))\\n# model.add(Dropout(rate=0.4))\\nmodel.add(Dense(units=50,  activation='relu'))\\n# model.add(Dropout(rate=0.5))\\nmodel.add(Dense(units=3, activation='sigmoid'))\\n\\nmodel.summary()\\n\\n\\nadam=tf.keras.optimizers.Adam(learning_rate=0.0001)\\n\\nmodel.compile(optimizer=adam, loss='sparse_categorical_crossentropy', metrics = ['accuracy'])\\n\\nhistory = model.fit(\\n    X_train, \\n    y_train, \\n    validation_data=[X_valid, y_valid],\\n    batch_size=16,\\n    epochs = 5\\n)\\n\\n\""
      ]
     },
     "execution_count": 42,
     "metadata": {},
     "output_type": "execute_result"
    }
   ],
   "source": [
    "'''\n",
    "vocab_size = 5000\n",
    "\n",
    "model = Sequential()\n",
    "model.add(Embedding(vocab_size, 128, input_length=X_train.shape[1]))  # Embedding layer\n",
    "# model.add(Dropout(rate=0.4))\n",
    "model.add(LSTM(units=4))\n",
    "# model.add(Dropout(rate=0.4))\n",
    "model.add(Dense(units=50,  activation='relu'))\n",
    "# model.add(Dropout(rate=0.5))\n",
    "model.add(Dense(units=3, activation='sigmoid'))\n",
    "\n",
    "model.summary()\n",
    "\n",
    "\n",
    "adam=tf.keras.optimizers.Adam(learning_rate=0.0001)\n",
    "\n",
    "model.compile(optimizer=adam, loss='sparse_categorical_crossentropy', metrics = ['accuracy'])\n",
    "\n",
    "history = model.fit(\n",
    "    X_train, \n",
    "    y_train, \n",
    "    validation_data=[X_valid, y_valid],\n",
    "    batch_size=16,\n",
    "    epochs = 5\n",
    ")\n",
    "\n",
    "'''"
   ]
  },
  {
   "cell_type": "markdown",
   "id": "cedc17ec",
   "metadata": {
    "papermill": {
     "duration": 0.206668,
     "end_time": "2023-06-05T17:17:02.186784",
     "exception": false,
     "start_time": "2023-06-05T17:17:01.980116",
     "status": "completed"
    },
    "tags": []
   },
   "source": [
    "# TODO: #\n",
    "## Confusion matrix construction\n",
    "## real world testing pipeline: create a function that takes in the input in Nepali and does everything necessary to return value for a label."
   ]
  },
  {
   "cell_type": "markdown",
   "id": "fe1e12cc",
   "metadata": {
    "papermill": {
     "duration": 0.246733,
     "end_time": "2023-06-05T17:17:02.644926",
     "exception": false,
     "start_time": "2023-06-05T17:17:02.398193",
     "status": "completed"
    },
    "tags": []
   },
   "source": [
    "Findings, result analysis, data sources, etc explanation"
   ]
  },
  {
   "cell_type": "code",
   "execution_count": 43,
   "id": "fbac8087",
   "metadata": {
    "execution": {
     "iopub.execute_input": "2023-06-05T17:17:03.050656Z",
     "iopub.status.busy": "2023-06-05T17:17:03.050295Z",
     "iopub.status.idle": "2023-06-05T17:17:17.678351Z",
     "shell.execute_reply": "2023-06-05T17:17:17.677208Z"
    },
    "papermill": {
     "duration": 14.833446,
     "end_time": "2023-06-05T17:17:17.680858",
     "exception": false,
     "start_time": "2023-06-05T17:17:02.847412",
     "status": "completed"
    },
    "tags": []
   },
   "outputs": [
    {
     "name": "stdout",
     "output_type": "stream",
     "text": [
      "Collecting deep_translator\r\n",
      "  Downloading deep_translator-1.11.1-py3-none-any.whl (37 kB)\r\n",
      "Requirement already satisfied: beautifulsoup4<5.0.0,>=4.9.1 in /opt/conda/lib/python3.10/site-packages (from deep_translator) (4.12.2)\r\n",
      "Requirement already satisfied: requests<3.0.0,>=2.23.0 in /opt/conda/lib/python3.10/site-packages (from deep_translator) (2.28.2)\r\n",
      "Requirement already satisfied: soupsieve>1.2 in /opt/conda/lib/python3.10/site-packages (from beautifulsoup4<5.0.0,>=4.9.1->deep_translator) (2.3.2.post1)\r\n",
      "Requirement already satisfied: charset-normalizer<4,>=2 in /opt/conda/lib/python3.10/site-packages (from requests<3.0.0,>=2.23.0->deep_translator) (2.1.1)\r\n",
      "Requirement already satisfied: idna<4,>=2.5 in /opt/conda/lib/python3.10/site-packages (from requests<3.0.0,>=2.23.0->deep_translator) (3.4)\r\n",
      "Requirement already satisfied: urllib3<1.27,>=1.21.1 in /opt/conda/lib/python3.10/site-packages (from requests<3.0.0,>=2.23.0->deep_translator) (1.26.15)\r\n",
      "Requirement already satisfied: certifi>=2017.4.17 in /opt/conda/lib/python3.10/site-packages (from requests<3.0.0,>=2.23.0->deep_translator) (2023.5.7)\r\n",
      "Installing collected packages: deep_translator\r\n",
      "Successfully installed deep_translator-1.11.1\r\n",
      "\u001b[33mWARNING: Running pip as the 'root' user can result in broken permissions and conflicting behaviour with the system package manager. It is recommended to use a virtual environment instead: https://pip.pypa.io/warnings/venv\u001b[0m\u001b[33m\r\n",
      "\u001b[0m"
     ]
    }
   ],
   "source": [
    "!pip install deep_translator"
   ]
  },
  {
   "cell_type": "code",
   "execution_count": 44,
   "id": "90dda9e7",
   "metadata": {
    "execution": {
     "iopub.execute_input": "2023-06-05T17:17:18.093434Z",
     "iopub.status.busy": "2023-06-05T17:17:18.092364Z",
     "iopub.status.idle": "2023-06-05T17:17:18.372124Z",
     "shell.execute_reply": "2023-06-05T17:17:18.371240Z"
    },
    "papermill": {
     "duration": 0.482468,
     "end_time": "2023-06-05T17:17:18.374785",
     "exception": false,
     "start_time": "2023-06-05T17:17:17.892317",
     "status": "completed"
    },
    "tags": []
   },
   "outputs": [],
   "source": [
    "from deep_translator import GoogleTranslator\n",
    "def fake_news_tester(nepali_news):\n",
    "    english_translation = GoogleTranslator(source='auto', target=\"en\").translate(nepali_news)\n",
    "    print(english_translation, \"\\n\")\n",
    "    english_translation_lower = english_translation.lower()\n",
    "    english_tokenized = word_tokenize(english_translation_lower)\n",
    "    print(english_tokenized, \"\\n\")\n",
    "    english_no_stopwords = stopwordremoval(english_tokenized)\n",
    "    english_lemmetized = lemmetization(english_no_stopwords)\n",
    "    print(english_lemmetized, \"\\n\")\n",
    "    onehot_text = one_hot(english_lemmetized, voc_size)\n",
    "    sent_length = 5000\n",
    "    input_embedded = pad_sequences([onehot_text],padding='pre',maxlen=sent_length)\n",
    "    X_input = np.array(input_embedded)\n",
    "    predictedlabely = model.predict(np.asarray(X_input))\n",
    "    return ohe.inverse_transform(predictedlabely)"
   ]
  },
  {
   "cell_type": "code",
   "execution_count": 45,
   "id": "f9320093",
   "metadata": {
    "execution": {
     "iopub.execute_input": "2023-06-05T17:17:18.791514Z",
     "iopub.status.busy": "2023-06-05T17:17:18.789432Z",
     "iopub.status.idle": "2023-06-05T17:17:19.102523Z",
     "shell.execute_reply": "2023-06-05T17:17:19.101540Z"
    },
    "papermill": {
     "duration": 0.525475,
     "end_time": "2023-06-05T17:17:19.104855",
     "exception": false,
     "start_time": "2023-06-05T17:17:18.579380",
     "status": "completed"
    },
    "tags": []
   },
   "outputs": [
    {
     "name": "stdout",
     "output_type": "stream",
     "text": [
      "The government is making white the black money earned by manpowerwala by cheating the workers \n",
      "\n",
      "['the', 'government', 'is', 'making', 'white', 'the', 'black', 'money', 'earned', 'by', 'manpowerwala', 'by', 'cheating', 'the', 'workers'] \n",
      "\n",
      "government make white black money earn manpowerwala cheat worker \n",
      "\n",
      "1/1 [==============================] - 0s 100ms/step\n"
     ]
    },
    {
     "name": "stderr",
     "output_type": "stream",
     "text": [
      "/opt/conda/lib/python3.10/site-packages/tensorflow/python/data/ops/structured_function.py:254: UserWarning: Even though the `tf.config.experimental_run_functions_eagerly` option is set, this option does not apply to tf.data functions. To force eager execution of tf.data functions, please use `tf.data.experimental.enable_debug_mode()`.\n",
      "  warnings.warn(\n"
     ]
    },
    {
     "data": {
      "text/plain": [
       "array([['false']], dtype=object)"
      ]
     },
     "execution_count": 45,
     "metadata": {},
     "output_type": "execute_result"
    }
   ],
   "source": [
    "fake_news_tester(\"म्यानपावरवालाले श्रमिकलाई ठगेर कमाएको कालोधन सेतो बनाउँदै सरकार\")"
   ]
  },
  {
   "cell_type": "code",
   "execution_count": 46,
   "id": "a6ca819c",
   "metadata": {
    "execution": {
     "iopub.execute_input": "2023-06-05T17:17:19.521071Z",
     "iopub.status.busy": "2023-06-05T17:17:19.520485Z",
     "iopub.status.idle": "2023-06-05T17:17:19.855854Z",
     "shell.execute_reply": "2023-06-05T17:17:19.854863Z"
    },
    "papermill": {
     "duration": 0.541055,
     "end_time": "2023-06-05T17:17:19.857901",
     "exception": false,
     "start_time": "2023-06-05T17:17:19.316846",
     "status": "completed"
    },
    "tags": []
   },
   "outputs": [
    {
     "name": "stdout",
     "output_type": "stream",
     "text": [
      "The Prime Minister will announce plans to conquer the desert with his second hand \n",
      "\n",
      "['the', 'prime', 'minister', 'will', 'announce', 'plans', 'to', 'conquer', 'the', 'desert', 'with', 'his', 'second', 'hand'] \n",
      "\n",
      "prime minister announce plan conquer desert second hand \n",
      "\n",
      "1/1 [==============================] - 0s 84ms/step\n"
     ]
    },
    {
     "name": "stderr",
     "output_type": "stream",
     "text": [
      "/opt/conda/lib/python3.10/site-packages/tensorflow/python/data/ops/structured_function.py:254: UserWarning: Even though the `tf.config.experimental_run_functions_eagerly` option is set, this option does not apply to tf.data functions. To force eager execution of tf.data functions, please use `tf.data.experimental.enable_debug_mode()`.\n",
      "  warnings.warn(\n"
     ]
    },
    {
     "data": {
      "text/plain": [
       "array([['true']], dtype=object)"
      ]
     },
     "execution_count": 46,
     "metadata": {},
     "output_type": "execute_result"
    }
   ],
   "source": [
    "fake_news_tester(\"प्रधानमन्त्रीले आफ्नो दोस्रो हातमा मरुभूमि जित्ने योजना घोषणा गर्ने\")"
   ]
  },
  {
   "cell_type": "code",
   "execution_count": 47,
   "id": "8a6166ba",
   "metadata": {
    "execution": {
     "iopub.execute_input": "2023-06-05T17:17:20.270722Z",
     "iopub.status.busy": "2023-06-05T17:17:20.268934Z",
     "iopub.status.idle": "2023-06-05T17:17:20.541885Z",
     "shell.execute_reply": "2023-06-05T17:17:20.540540Z"
    },
    "papermill": {
     "duration": 0.476845,
     "end_time": "2023-06-05T17:17:20.544441",
     "exception": false,
     "start_time": "2023-06-05T17:17:20.067596",
     "status": "completed"
    },
    "tags": []
   },
   "outputs": [
    {
     "name": "stdout",
     "output_type": "stream",
     "text": [
      "An agreement was concluded with the United Nations to make Nepal the leading nuclear power in the world \n",
      "\n",
      "['an', 'agreement', 'was', 'concluded', 'with', 'the', 'united', 'nations', 'to', 'make', 'nepal', 'the', 'leading', 'nuclear', 'power', 'in', 'the', 'world'] \n",
      "\n",
      "agreement conclude united nations make nepal lead nuclear power world \n",
      "\n",
      "1/1 [==============================] - 0s 84ms/step\n"
     ]
    },
    {
     "name": "stderr",
     "output_type": "stream",
     "text": [
      "/opt/conda/lib/python3.10/site-packages/tensorflow/python/data/ops/structured_function.py:254: UserWarning: Even though the `tf.config.experimental_run_functions_eagerly` option is set, this option does not apply to tf.data functions. To force eager execution of tf.data functions, please use `tf.data.experimental.enable_debug_mode()`.\n",
      "  warnings.warn(\n"
     ]
    },
    {
     "data": {
      "text/plain": [
       "array([['false']], dtype=object)"
      ]
     },
     "execution_count": 47,
     "metadata": {},
     "output_type": "execute_result"
    }
   ],
   "source": [
    "fake_news_tester(\"संयुक्त राष्ट्रसँग नेपाललाई विश्वका प्रमुख परमाणु शक्ति बनाउने सम्झौता सम्पन्न\")"
   ]
  },
  {
   "cell_type": "code",
   "execution_count": 48,
   "id": "3a687ce7",
   "metadata": {
    "execution": {
     "iopub.execute_input": "2023-06-05T17:17:20.953981Z",
     "iopub.status.busy": "2023-06-05T17:17:20.953048Z",
     "iopub.status.idle": "2023-06-05T17:17:21.331564Z",
     "shell.execute_reply": "2023-06-05T17:17:21.330639Z"
    },
    "papermill": {
     "duration": 0.582665,
     "end_time": "2023-06-05T17:17:21.333865",
     "exception": false,
     "start_time": "2023-06-05T17:17:20.751200",
     "status": "completed"
    },
    "tags": []
   },
   "outputs": [
    {
     "name": "stdout",
     "output_type": "stream",
     "text": [
      "The government of Nepal will update its foreign policy on the Gulf \n",
      "\n",
      "['the', 'government', 'of', 'nepal', 'will', 'update', 'its', 'foreign', 'policy', 'on', 'the', 'gulf'] \n",
      "\n",
      "government nepal update foreign policy gulf \n",
      "\n",
      "1/1 [==============================] - 0s 80ms/step\n"
     ]
    },
    {
     "name": "stderr",
     "output_type": "stream",
     "text": [
      "/opt/conda/lib/python3.10/site-packages/tensorflow/python/data/ops/structured_function.py:254: UserWarning: Even though the `tf.config.experimental_run_functions_eagerly` option is set, this option does not apply to tf.data functions. To force eager execution of tf.data functions, please use `tf.data.experimental.enable_debug_mode()`.\n",
      "  warnings.warn(\n"
     ]
    },
    {
     "data": {
      "text/plain": [
       "array([['vague']], dtype=object)"
      ]
     },
     "execution_count": 48,
     "metadata": {},
     "output_type": "execute_result"
    }
   ],
   "source": [
    "fake_news_tester(\"नेपालका सरकारले खाडी बिषयमा विदेशी नीति अद्यावधिक गर्ने\")"
   ]
  }
 ],
 "metadata": {
  "kernelspec": {
   "display_name": "Python 3",
   "language": "python",
   "name": "python3"
  },
  "language_info": {
   "codemirror_mode": {
    "name": "ipython",
    "version": 3
   },
   "file_extension": ".py",
   "mimetype": "text/x-python",
   "name": "python",
   "nbconvert_exporter": "python",
   "pygments_lexer": "ipython3",
   "version": "3.10.10"
  },
  "papermill": {
   "default_parameters": {},
   "duration": 679.044909,
   "end_time": "2023-06-05T17:17:25.389057",
   "environment_variables": {},
   "exception": null,
   "input_path": "__notebook__.ipynb",
   "output_path": "__notebook__.ipynb",
   "parameters": {},
   "start_time": "2023-06-05T17:06:06.344148",
   "version": "2.4.0"
  }
 },
 "nbformat": 4,
 "nbformat_minor": 5
}

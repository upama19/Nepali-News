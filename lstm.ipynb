{
 "cells": [
  {
   "cell_type": "code",
   "execution_count": 1,
   "id": "ca3f40af",
   "metadata": {
    "execution": {
     "iopub.execute_input": "2023-06-02T04:13:09.404929Z",
     "iopub.status.busy": "2023-06-02T04:13:09.404190Z",
     "iopub.status.idle": "2023-06-02T04:13:11.387622Z",
     "shell.execute_reply": "2023-06-02T04:13:11.385466Z"
    },
    "papermill": {
     "duration": 1.99843,
     "end_time": "2023-06-02T04:13:11.389810",
     "exception": false,
     "start_time": "2023-06-02T04:13:09.391380",
     "status": "completed"
    },
    "tags": []
   },
   "outputs": [
    {
     "name": "stdout",
     "output_type": "stream",
     "text": [
      "[nltk_data] Downloading package punkt to /usr/share/nltk_data...\n",
      "[nltk_data]   Package punkt is already up-to-date!\n",
      "[nltk_data] Downloading package stopwords to /usr/share/nltk_data...\n",
      "[nltk_data]   Package stopwords is already up-to-date!\n"
     ]
    },
    {
     "data": {
      "text/plain": [
       "True"
      ]
     },
     "execution_count": 1,
     "metadata": {},
     "output_type": "execute_result"
    }
   ],
   "source": [
    "import pandas as pd\n",
    "import numpy as np\n",
    "import nltk\n",
    "# The NLTK data package includes a pre-trained Punkt tokenizer for English.\n",
    "# punkt had to be manually downloaded using the command below\n",
    "# same with stopwords\n",
    "nltk.download('punkt')\n",
    "from nltk.tokenize import word_tokenize\n",
    "from nltk.corpus import stopwords\n",
    "nltk.download('stopwords')"
   ]
  },
  {
   "cell_type": "code",
   "execution_count": 2,
   "id": "64a28859",
   "metadata": {
    "execution": {
     "iopub.execute_input": "2023-06-02T04:13:11.412654Z",
     "iopub.status.busy": "2023-06-02T04:13:11.412045Z",
     "iopub.status.idle": "2023-06-02T04:13:11.696331Z",
     "shell.execute_reply": "2023-06-02T04:13:11.695410Z"
    },
    "papermill": {
     "duration": 0.298209,
     "end_time": "2023-06-02T04:13:11.698760",
     "exception": false,
     "start_time": "2023-06-02T04:13:11.400551",
     "status": "completed"
    },
    "tags": []
   },
   "outputs": [],
   "source": [
    "df = pd.read_csv('/kaggle/input/translated-data-english/translated_data_english.tsv', sep='\\t')"
   ]
  },
  {
   "cell_type": "code",
   "execution_count": 3,
   "id": "02536c83",
   "metadata": {
    "execution": {
     "iopub.execute_input": "2023-06-02T04:13:11.721534Z",
     "iopub.status.busy": "2023-06-02T04:13:11.721126Z",
     "iopub.status.idle": "2023-06-02T04:13:11.757609Z",
     "shell.execute_reply": "2023-06-02T04:13:11.756348Z"
    },
    "papermill": {
     "duration": 0.050343,
     "end_time": "2023-06-02T04:13:11.759805",
     "exception": false,
     "start_time": "2023-06-02T04:13:11.709462",
     "status": "completed"
    },
    "tags": []
   },
   "outputs": [
    {
     "data": {
      "text/html": [
       "<div>\n",
       "<style scoped>\n",
       "    .dataframe tbody tr th:only-of-type {\n",
       "        vertical-align: middle;\n",
       "    }\n",
       "\n",
       "    .dataframe tbody tr th {\n",
       "        vertical-align: top;\n",
       "    }\n",
       "\n",
       "    .dataframe thead th {\n",
       "        text-align: right;\n",
       "    }\n",
       "</style>\n",
       "<table border=\"1\" class=\"dataframe\">\n",
       "  <thead>\n",
       "    <tr style=\"text-align: right;\">\n",
       "      <th></th>\n",
       "      <th>id</th>\n",
       "      <th>label</th>\n",
       "      <th>statement</th>\n",
       "      <th>subjects</th>\n",
       "      <th>speaker</th>\n",
       "      <th>speaker_job_title</th>\n",
       "      <th>state_info</th>\n",
       "      <th>party_affilation</th>\n",
       "      <th>count_1</th>\n",
       "      <th>count_2</th>\n",
       "      <th>count_3</th>\n",
       "      <th>count_4</th>\n",
       "      <th>count_5</th>\n",
       "      <th>context</th>\n",
       "      <th>statement_removedpunctuation</th>\n",
       "      <th>nepali_translation</th>\n",
       "      <th>english_translation</th>\n",
       "    </tr>\n",
       "  </thead>\n",
       "  <tbody>\n",
       "    <tr>\n",
       "      <th>0</th>\n",
       "      <td>10540.json</td>\n",
       "      <td>half-true</td>\n",
       "      <td>When did the decline of coal start? It started...</td>\n",
       "      <td>energy,history,job-accomplishments</td>\n",
       "      <td>scott-surovell</td>\n",
       "      <td>State delegate</td>\n",
       "      <td>Virginia</td>\n",
       "      <td>democrat</td>\n",
       "      <td>0.0</td>\n",
       "      <td>0.0</td>\n",
       "      <td>1.0</td>\n",
       "      <td>1.0</td>\n",
       "      <td>0.0</td>\n",
       "      <td>a floor speech.</td>\n",
       "      <td>When did the decline of coal start It started ...</td>\n",
       "      <td>कोइलाको पतन कहिले सुरु भयो यो प्राकृतिक ग्यास ...</td>\n",
       "      <td>When did the decline of coal begin? It began w...</td>\n",
       "    </tr>\n",
       "    <tr>\n",
       "      <th>1</th>\n",
       "      <td>324.json</td>\n",
       "      <td>mostly-true</td>\n",
       "      <td>Hillary Clinton agrees with John McCain \"by vo...</td>\n",
       "      <td>foreign-policy</td>\n",
       "      <td>barack-obama</td>\n",
       "      <td>President</td>\n",
       "      <td>Illinois</td>\n",
       "      <td>democrat</td>\n",
       "      <td>70.0</td>\n",
       "      <td>71.0</td>\n",
       "      <td>160.0</td>\n",
       "      <td>163.0</td>\n",
       "      <td>9.0</td>\n",
       "      <td>Denver</td>\n",
       "      <td>Hillary Clinton agrees with John McCain by vot...</td>\n",
       "      <td>हिलारी क्लिन्टनले जर्ज बुशलाई इरानमा शंकाको फा...</td>\n",
       "      <td>Hillary Clinton agreed with John McCain by vot...</td>\n",
       "    </tr>\n",
       "    <tr>\n",
       "      <th>2</th>\n",
       "      <td>1123.json</td>\n",
       "      <td>false</td>\n",
       "      <td>Health care reform legislation is likely to ma...</td>\n",
       "      <td>health-care</td>\n",
       "      <td>blog-posting</td>\n",
       "      <td>NaN</td>\n",
       "      <td>NaN</td>\n",
       "      <td>none</td>\n",
       "      <td>7.0</td>\n",
       "      <td>19.0</td>\n",
       "      <td>3.0</td>\n",
       "      <td>5.0</td>\n",
       "      <td>44.0</td>\n",
       "      <td>a news release</td>\n",
       "      <td>Health care reform legislation is likely to ma...</td>\n",
       "      <td>स्वास्थ्य हेरचाह सुधार कानूनले नि: शुल्क लिंग ...</td>\n",
       "      <td>Health care reform legislation is likely to ma...</td>\n",
       "    </tr>\n",
       "    <tr>\n",
       "      <th>3</th>\n",
       "      <td>9028.json</td>\n",
       "      <td>half-true</td>\n",
       "      <td>The economic turnaround started at the end of ...</td>\n",
       "      <td>economy,jobs</td>\n",
       "      <td>charlie-crist</td>\n",
       "      <td>NaN</td>\n",
       "      <td>Florida</td>\n",
       "      <td>democrat</td>\n",
       "      <td>15.0</td>\n",
       "      <td>9.0</td>\n",
       "      <td>20.0</td>\n",
       "      <td>19.0</td>\n",
       "      <td>2.0</td>\n",
       "      <td>an interview on CNN</td>\n",
       "      <td>The economic turnaround started at the end of ...</td>\n",
       "      <td>मेरो कार्यकालको अन्त्यमा आर्थिक परिवर्तन सुरु भयो</td>\n",
       "      <td>Towards the end of my tenure, the economic tra...</td>\n",
       "    </tr>\n",
       "    <tr>\n",
       "      <th>4</th>\n",
       "      <td>12465.json</td>\n",
       "      <td>true</td>\n",
       "      <td>The Chicago Bears have had more starting quart...</td>\n",
       "      <td>education</td>\n",
       "      <td>robin-vos</td>\n",
       "      <td>Wisconsin Assembly speaker</td>\n",
       "      <td>Wisconsin</td>\n",
       "      <td>republican</td>\n",
       "      <td>0.0</td>\n",
       "      <td>3.0</td>\n",
       "      <td>2.0</td>\n",
       "      <td>5.0</td>\n",
       "      <td>1.0</td>\n",
       "      <td>a an online opinion-piece</td>\n",
       "      <td>The Chicago Bears have had more starting quart...</td>\n",
       "      <td>शिकागो बियर्सले विगत दुई दशकहरूमा बर्खास्त गरि...</td>\n",
       "      <td>The Chicago Bears have had more starting quart...</td>\n",
       "    </tr>\n",
       "  </tbody>\n",
       "</table>\n",
       "</div>"
      ],
      "text/plain": [
       "           id        label                                          statement  \\\n",
       "0  10540.json    half-true  When did the decline of coal start? It started...   \n",
       "1    324.json  mostly-true  Hillary Clinton agrees with John McCain \"by vo...   \n",
       "2   1123.json        false  Health care reform legislation is likely to ma...   \n",
       "3   9028.json    half-true  The economic turnaround started at the end of ...   \n",
       "4  12465.json         true  The Chicago Bears have had more starting quart...   \n",
       "\n",
       "                             subjects         speaker  \\\n",
       "0  energy,history,job-accomplishments  scott-surovell   \n",
       "1                      foreign-policy    barack-obama   \n",
       "2                         health-care    blog-posting   \n",
       "3                        economy,jobs   charlie-crist   \n",
       "4                           education       robin-vos   \n",
       "\n",
       "            speaker_job_title state_info party_affilation  count_1  count_2  \\\n",
       "0              State delegate   Virginia         democrat      0.0      0.0   \n",
       "1                   President   Illinois         democrat     70.0     71.0   \n",
       "2                         NaN        NaN             none      7.0     19.0   \n",
       "3                         NaN    Florida         democrat     15.0      9.0   \n",
       "4  Wisconsin Assembly speaker  Wisconsin       republican      0.0      3.0   \n",
       "\n",
       "   count_3  count_4  count_5                    context  \\\n",
       "0      1.0      1.0      0.0            a floor speech.   \n",
       "1    160.0    163.0      9.0                     Denver   \n",
       "2      3.0      5.0     44.0             a news release   \n",
       "3     20.0     19.0      2.0        an interview on CNN   \n",
       "4      2.0      5.0      1.0  a an online opinion-piece   \n",
       "\n",
       "                        statement_removedpunctuation  \\\n",
       "0  When did the decline of coal start It started ...   \n",
       "1  Hillary Clinton agrees with John McCain by vot...   \n",
       "2  Health care reform legislation is likely to ma...   \n",
       "3  The economic turnaround started at the end of ...   \n",
       "4  The Chicago Bears have had more starting quart...   \n",
       "\n",
       "                                  nepali_translation  \\\n",
       "0  कोइलाको पतन कहिले सुरु भयो यो प्राकृतिक ग्यास ...   \n",
       "1  हिलारी क्लिन्टनले जर्ज बुशलाई इरानमा शंकाको फा...   \n",
       "2  स्वास्थ्य हेरचाह सुधार कानूनले नि: शुल्क लिंग ...   \n",
       "3  मेरो कार्यकालको अन्त्यमा आर्थिक परिवर्तन सुरु भयो   \n",
       "4  शिकागो बियर्सले विगत दुई दशकहरूमा बर्खास्त गरि...   \n",
       "\n",
       "                                 english_translation  \n",
       "0  When did the decline of coal begin? It began w...  \n",
       "1  Hillary Clinton agreed with John McCain by vot...  \n",
       "2  Health care reform legislation is likely to ma...  \n",
       "3  Towards the end of my tenure, the economic tra...  \n",
       "4  The Chicago Bears have had more starting quart...  "
      ]
     },
     "execution_count": 3,
     "metadata": {},
     "output_type": "execute_result"
    }
   ],
   "source": [
    "df.head()"
   ]
  },
  {
   "cell_type": "code",
   "execution_count": 4,
   "id": "df281e6f",
   "metadata": {
    "execution": {
     "iopub.execute_input": "2023-06-02T04:13:11.783959Z",
     "iopub.status.busy": "2023-06-02T04:13:11.783575Z",
     "iopub.status.idle": "2023-06-02T04:13:11.794914Z",
     "shell.execute_reply": "2023-06-02T04:13:11.793896Z"
    },
    "papermill": {
     "duration": 0.02581,
     "end_time": "2023-06-02T04:13:11.797005",
     "exception": false,
     "start_time": "2023-06-02T04:13:11.771195",
     "status": "completed"
    },
    "tags": []
   },
   "outputs": [],
   "source": [
    "df['english_translation'] = df['english_translation'].str.lower()"
   ]
  },
  {
   "cell_type": "code",
   "execution_count": 5,
   "id": "a7fcc92d",
   "metadata": {
    "execution": {
     "iopub.execute_input": "2023-06-02T04:13:11.820371Z",
     "iopub.status.busy": "2023-06-02T04:13:11.819995Z",
     "iopub.status.idle": "2023-06-02T04:13:11.840248Z",
     "shell.execute_reply": "2023-06-02T04:13:11.839246Z"
    },
    "papermill": {
     "duration": 0.034371,
     "end_time": "2023-06-02T04:13:11.842257",
     "exception": false,
     "start_time": "2023-06-02T04:13:11.807886",
     "status": "completed"
    },
    "tags": []
   },
   "outputs": [
    {
     "data": {
      "text/html": [
       "<div>\n",
       "<style scoped>\n",
       "    .dataframe tbody tr th:only-of-type {\n",
       "        vertical-align: middle;\n",
       "    }\n",
       "\n",
       "    .dataframe tbody tr th {\n",
       "        vertical-align: top;\n",
       "    }\n",
       "\n",
       "    .dataframe thead th {\n",
       "        text-align: right;\n",
       "    }\n",
       "</style>\n",
       "<table border=\"1\" class=\"dataframe\">\n",
       "  <thead>\n",
       "    <tr style=\"text-align: right;\">\n",
       "      <th></th>\n",
       "      <th>id</th>\n",
       "      <th>label</th>\n",
       "      <th>statement</th>\n",
       "      <th>subjects</th>\n",
       "      <th>speaker</th>\n",
       "      <th>speaker_job_title</th>\n",
       "      <th>state_info</th>\n",
       "      <th>party_affilation</th>\n",
       "      <th>count_1</th>\n",
       "      <th>count_2</th>\n",
       "      <th>count_3</th>\n",
       "      <th>count_4</th>\n",
       "      <th>count_5</th>\n",
       "      <th>context</th>\n",
       "      <th>statement_removedpunctuation</th>\n",
       "      <th>nepali_translation</th>\n",
       "      <th>english_translation</th>\n",
       "    </tr>\n",
       "  </thead>\n",
       "  <tbody>\n",
       "    <tr>\n",
       "      <th>0</th>\n",
       "      <td>10540.json</td>\n",
       "      <td>half-true</td>\n",
       "      <td>When did the decline of coal start? It started...</td>\n",
       "      <td>energy,history,job-accomplishments</td>\n",
       "      <td>scott-surovell</td>\n",
       "      <td>State delegate</td>\n",
       "      <td>Virginia</td>\n",
       "      <td>democrat</td>\n",
       "      <td>0.0</td>\n",
       "      <td>0.0</td>\n",
       "      <td>1.0</td>\n",
       "      <td>1.0</td>\n",
       "      <td>0.0</td>\n",
       "      <td>a floor speech.</td>\n",
       "      <td>When did the decline of coal start It started ...</td>\n",
       "      <td>कोइलाको पतन कहिले सुरु भयो यो प्राकृतिक ग्यास ...</td>\n",
       "      <td>when did the decline of coal begin? it began w...</td>\n",
       "    </tr>\n",
       "    <tr>\n",
       "      <th>1</th>\n",
       "      <td>324.json</td>\n",
       "      <td>mostly-true</td>\n",
       "      <td>Hillary Clinton agrees with John McCain \"by vo...</td>\n",
       "      <td>foreign-policy</td>\n",
       "      <td>barack-obama</td>\n",
       "      <td>President</td>\n",
       "      <td>Illinois</td>\n",
       "      <td>democrat</td>\n",
       "      <td>70.0</td>\n",
       "      <td>71.0</td>\n",
       "      <td>160.0</td>\n",
       "      <td>163.0</td>\n",
       "      <td>9.0</td>\n",
       "      <td>Denver</td>\n",
       "      <td>Hillary Clinton agrees with John McCain by vot...</td>\n",
       "      <td>हिलारी क्लिन्टनले जर्ज बुशलाई इरानमा शंकाको फा...</td>\n",
       "      <td>hillary clinton agreed with john mccain by vot...</td>\n",
       "    </tr>\n",
       "    <tr>\n",
       "      <th>2</th>\n",
       "      <td>1123.json</td>\n",
       "      <td>false</td>\n",
       "      <td>Health care reform legislation is likely to ma...</td>\n",
       "      <td>health-care</td>\n",
       "      <td>blog-posting</td>\n",
       "      <td>NaN</td>\n",
       "      <td>NaN</td>\n",
       "      <td>none</td>\n",
       "      <td>7.0</td>\n",
       "      <td>19.0</td>\n",
       "      <td>3.0</td>\n",
       "      <td>5.0</td>\n",
       "      <td>44.0</td>\n",
       "      <td>a news release</td>\n",
       "      <td>Health care reform legislation is likely to ma...</td>\n",
       "      <td>स्वास्थ्य हेरचाह सुधार कानूनले नि: शुल्क लिंग ...</td>\n",
       "      <td>health care reform legislation is likely to ma...</td>\n",
       "    </tr>\n",
       "    <tr>\n",
       "      <th>3</th>\n",
       "      <td>9028.json</td>\n",
       "      <td>half-true</td>\n",
       "      <td>The economic turnaround started at the end of ...</td>\n",
       "      <td>economy,jobs</td>\n",
       "      <td>charlie-crist</td>\n",
       "      <td>NaN</td>\n",
       "      <td>Florida</td>\n",
       "      <td>democrat</td>\n",
       "      <td>15.0</td>\n",
       "      <td>9.0</td>\n",
       "      <td>20.0</td>\n",
       "      <td>19.0</td>\n",
       "      <td>2.0</td>\n",
       "      <td>an interview on CNN</td>\n",
       "      <td>The economic turnaround started at the end of ...</td>\n",
       "      <td>मेरो कार्यकालको अन्त्यमा आर्थिक परिवर्तन सुरु भयो</td>\n",
       "      <td>towards the end of my tenure, the economic tra...</td>\n",
       "    </tr>\n",
       "    <tr>\n",
       "      <th>4</th>\n",
       "      <td>12465.json</td>\n",
       "      <td>true</td>\n",
       "      <td>The Chicago Bears have had more starting quart...</td>\n",
       "      <td>education</td>\n",
       "      <td>robin-vos</td>\n",
       "      <td>Wisconsin Assembly speaker</td>\n",
       "      <td>Wisconsin</td>\n",
       "      <td>republican</td>\n",
       "      <td>0.0</td>\n",
       "      <td>3.0</td>\n",
       "      <td>2.0</td>\n",
       "      <td>5.0</td>\n",
       "      <td>1.0</td>\n",
       "      <td>a an online opinion-piece</td>\n",
       "      <td>The Chicago Bears have had more starting quart...</td>\n",
       "      <td>शिकागो बियर्सले विगत दुई दशकहरूमा बर्खास्त गरि...</td>\n",
       "      <td>the chicago bears have had more starting quart...</td>\n",
       "    </tr>\n",
       "  </tbody>\n",
       "</table>\n",
       "</div>"
      ],
      "text/plain": [
       "           id        label                                          statement  \\\n",
       "0  10540.json    half-true  When did the decline of coal start? It started...   \n",
       "1    324.json  mostly-true  Hillary Clinton agrees with John McCain \"by vo...   \n",
       "2   1123.json        false  Health care reform legislation is likely to ma...   \n",
       "3   9028.json    half-true  The economic turnaround started at the end of ...   \n",
       "4  12465.json         true  The Chicago Bears have had more starting quart...   \n",
       "\n",
       "                             subjects         speaker  \\\n",
       "0  energy,history,job-accomplishments  scott-surovell   \n",
       "1                      foreign-policy    barack-obama   \n",
       "2                         health-care    blog-posting   \n",
       "3                        economy,jobs   charlie-crist   \n",
       "4                           education       robin-vos   \n",
       "\n",
       "            speaker_job_title state_info party_affilation  count_1  count_2  \\\n",
       "0              State delegate   Virginia         democrat      0.0      0.0   \n",
       "1                   President   Illinois         democrat     70.0     71.0   \n",
       "2                         NaN        NaN             none      7.0     19.0   \n",
       "3                         NaN    Florida         democrat     15.0      9.0   \n",
       "4  Wisconsin Assembly speaker  Wisconsin       republican      0.0      3.0   \n",
       "\n",
       "   count_3  count_4  count_5                    context  \\\n",
       "0      1.0      1.0      0.0            a floor speech.   \n",
       "1    160.0    163.0      9.0                     Denver   \n",
       "2      3.0      5.0     44.0             a news release   \n",
       "3     20.0     19.0      2.0        an interview on CNN   \n",
       "4      2.0      5.0      1.0  a an online opinion-piece   \n",
       "\n",
       "                        statement_removedpunctuation  \\\n",
       "0  When did the decline of coal start It started ...   \n",
       "1  Hillary Clinton agrees with John McCain by vot...   \n",
       "2  Health care reform legislation is likely to ma...   \n",
       "3  The economic turnaround started at the end of ...   \n",
       "4  The Chicago Bears have had more starting quart...   \n",
       "\n",
       "                                  nepali_translation  \\\n",
       "0  कोइलाको पतन कहिले सुरु भयो यो प्राकृतिक ग्यास ...   \n",
       "1  हिलारी क्लिन्टनले जर्ज बुशलाई इरानमा शंकाको फा...   \n",
       "2  स्वास्थ्य हेरचाह सुधार कानूनले नि: शुल्क लिंग ...   \n",
       "3  मेरो कार्यकालको अन्त्यमा आर्थिक परिवर्तन सुरु भयो   \n",
       "4  शिकागो बियर्सले विगत दुई दशकहरूमा बर्खास्त गरि...   \n",
       "\n",
       "                                 english_translation  \n",
       "0  when did the decline of coal begin? it began w...  \n",
       "1  hillary clinton agreed with john mccain by vot...  \n",
       "2  health care reform legislation is likely to ma...  \n",
       "3  towards the end of my tenure, the economic tra...  \n",
       "4  the chicago bears have had more starting quart...  "
      ]
     },
     "execution_count": 5,
     "metadata": {},
     "output_type": "execute_result"
    }
   ],
   "source": [
    "df.head()"
   ]
  },
  {
   "cell_type": "code",
   "execution_count": 6,
   "id": "d0f69802",
   "metadata": {
    "execution": {
     "iopub.execute_input": "2023-06-02T04:13:11.866476Z",
     "iopub.status.busy": "2023-06-02T04:13:11.866106Z",
     "iopub.status.idle": "2023-06-02T04:13:11.871319Z",
     "shell.execute_reply": "2023-06-02T04:13:11.870266Z"
    },
    "papermill": {
     "duration": 0.02027,
     "end_time": "2023-06-02T04:13:11.873739",
     "exception": false,
     "start_time": "2023-06-02T04:13:11.853469",
     "status": "completed"
    },
    "tags": []
   },
   "outputs": [],
   "source": [
    "import string\n",
    "def removepunctuation(sentence):\n",
    "   new_text = sentence.replace(\"—\", \" \") # \"—\" in the text was not equivalent to \"-\" so we replcaed \"—\" with a space\n",
    "   print \n",
    "  #iterate over every single character to see if it is a punctuation or not, and then concatenate them using \"join\"\n",
    "   punctuationfree=\"\".join([i for i in new_text if i not in string.punctuation])\n",
    "   return punctuationfree"
   ]
  },
  {
   "cell_type": "code",
   "execution_count": 7,
   "id": "426dad52",
   "metadata": {
    "execution": {
     "iopub.execute_input": "2023-06-02T04:13:11.898114Z",
     "iopub.status.busy": "2023-06-02T04:13:11.897790Z",
     "iopub.status.idle": "2023-06-02T04:13:12.047102Z",
     "shell.execute_reply": "2023-06-02T04:13:12.046098Z"
    },
    "papermill": {
     "duration": 0.164389,
     "end_time": "2023-06-02T04:13:12.049640",
     "exception": false,
     "start_time": "2023-06-02T04:13:11.885251",
     "status": "completed"
    },
    "tags": []
   },
   "outputs": [],
   "source": [
    "df[\"statement_removedpunctuation\"] = df['english_translation'].apply(lambda x : removepunctuation(x))"
   ]
  },
  {
   "cell_type": "code",
   "execution_count": 8,
   "id": "0b57c7a8",
   "metadata": {
    "execution": {
     "iopub.execute_input": "2023-06-02T04:13:12.074318Z",
     "iopub.status.busy": "2023-06-02T04:13:12.073939Z",
     "iopub.status.idle": "2023-06-02T04:13:12.099791Z",
     "shell.execute_reply": "2023-06-02T04:13:12.098872Z"
    },
    "papermill": {
     "duration": 0.040565,
     "end_time": "2023-06-02T04:13:12.101816",
     "exception": false,
     "start_time": "2023-06-02T04:13:12.061251",
     "status": "completed"
    },
    "tags": []
   },
   "outputs": [
    {
     "data": {
      "text/html": [
       "<div>\n",
       "<style scoped>\n",
       "    .dataframe tbody tr th:only-of-type {\n",
       "        vertical-align: middle;\n",
       "    }\n",
       "\n",
       "    .dataframe tbody tr th {\n",
       "        vertical-align: top;\n",
       "    }\n",
       "\n",
       "    .dataframe thead th {\n",
       "        text-align: right;\n",
       "    }\n",
       "</style>\n",
       "<table border=\"1\" class=\"dataframe\">\n",
       "  <thead>\n",
       "    <tr style=\"text-align: right;\">\n",
       "      <th></th>\n",
       "      <th>id</th>\n",
       "      <th>label</th>\n",
       "      <th>statement</th>\n",
       "      <th>subjects</th>\n",
       "      <th>speaker</th>\n",
       "      <th>speaker_job_title</th>\n",
       "      <th>state_info</th>\n",
       "      <th>party_affilation</th>\n",
       "      <th>count_1</th>\n",
       "      <th>count_2</th>\n",
       "      <th>count_3</th>\n",
       "      <th>count_4</th>\n",
       "      <th>count_5</th>\n",
       "      <th>context</th>\n",
       "      <th>statement_removedpunctuation</th>\n",
       "      <th>nepali_translation</th>\n",
       "      <th>english_translation</th>\n",
       "    </tr>\n",
       "  </thead>\n",
       "  <tbody>\n",
       "    <tr>\n",
       "      <th>0</th>\n",
       "      <td>10540.json</td>\n",
       "      <td>half-true</td>\n",
       "      <td>When did the decline of coal start? It started...</td>\n",
       "      <td>energy,history,job-accomplishments</td>\n",
       "      <td>scott-surovell</td>\n",
       "      <td>State delegate</td>\n",
       "      <td>Virginia</td>\n",
       "      <td>democrat</td>\n",
       "      <td>0.0</td>\n",
       "      <td>0.0</td>\n",
       "      <td>1.0</td>\n",
       "      <td>1.0</td>\n",
       "      <td>0.0</td>\n",
       "      <td>a floor speech.</td>\n",
       "      <td>when did the decline of coal begin it began wi...</td>\n",
       "      <td>कोइलाको पतन कहिले सुरु भयो यो प्राकृतिक ग्यास ...</td>\n",
       "      <td>when did the decline of coal begin? it began w...</td>\n",
       "    </tr>\n",
       "    <tr>\n",
       "      <th>1</th>\n",
       "      <td>324.json</td>\n",
       "      <td>mostly-true</td>\n",
       "      <td>Hillary Clinton agrees with John McCain \"by vo...</td>\n",
       "      <td>foreign-policy</td>\n",
       "      <td>barack-obama</td>\n",
       "      <td>President</td>\n",
       "      <td>Illinois</td>\n",
       "      <td>democrat</td>\n",
       "      <td>70.0</td>\n",
       "      <td>71.0</td>\n",
       "      <td>160.0</td>\n",
       "      <td>163.0</td>\n",
       "      <td>9.0</td>\n",
       "      <td>Denver</td>\n",
       "      <td>hillary clinton agreed with john mccain by vot...</td>\n",
       "      <td>हिलारी क्लिन्टनले जर्ज बुशलाई इरानमा शंकाको फा...</td>\n",
       "      <td>hillary clinton agreed with john mccain by vot...</td>\n",
       "    </tr>\n",
       "    <tr>\n",
       "      <th>2</th>\n",
       "      <td>1123.json</td>\n",
       "      <td>false</td>\n",
       "      <td>Health care reform legislation is likely to ma...</td>\n",
       "      <td>health-care</td>\n",
       "      <td>blog-posting</td>\n",
       "      <td>NaN</td>\n",
       "      <td>NaN</td>\n",
       "      <td>none</td>\n",
       "      <td>7.0</td>\n",
       "      <td>19.0</td>\n",
       "      <td>3.0</td>\n",
       "      <td>5.0</td>\n",
       "      <td>44.0</td>\n",
       "      <td>a news release</td>\n",
       "      <td>health care reform legislation is likely to ma...</td>\n",
       "      <td>स्वास्थ्य हेरचाह सुधार कानूनले नि: शुल्क लिंग ...</td>\n",
       "      <td>health care reform legislation is likely to ma...</td>\n",
       "    </tr>\n",
       "    <tr>\n",
       "      <th>3</th>\n",
       "      <td>9028.json</td>\n",
       "      <td>half-true</td>\n",
       "      <td>The economic turnaround started at the end of ...</td>\n",
       "      <td>economy,jobs</td>\n",
       "      <td>charlie-crist</td>\n",
       "      <td>NaN</td>\n",
       "      <td>Florida</td>\n",
       "      <td>democrat</td>\n",
       "      <td>15.0</td>\n",
       "      <td>9.0</td>\n",
       "      <td>20.0</td>\n",
       "      <td>19.0</td>\n",
       "      <td>2.0</td>\n",
       "      <td>an interview on CNN</td>\n",
       "      <td>towards the end of my tenure the economic tran...</td>\n",
       "      <td>मेरो कार्यकालको अन्त्यमा आर्थिक परिवर्तन सुरु भयो</td>\n",
       "      <td>towards the end of my tenure, the economic tra...</td>\n",
       "    </tr>\n",
       "    <tr>\n",
       "      <th>4</th>\n",
       "      <td>12465.json</td>\n",
       "      <td>true</td>\n",
       "      <td>The Chicago Bears have had more starting quart...</td>\n",
       "      <td>education</td>\n",
       "      <td>robin-vos</td>\n",
       "      <td>Wisconsin Assembly speaker</td>\n",
       "      <td>Wisconsin</td>\n",
       "      <td>republican</td>\n",
       "      <td>0.0</td>\n",
       "      <td>3.0</td>\n",
       "      <td>2.0</td>\n",
       "      <td>5.0</td>\n",
       "      <td>1.0</td>\n",
       "      <td>a an online opinion-piece</td>\n",
       "      <td>the chicago bears have had more starting quart...</td>\n",
       "      <td>शिकागो बियर्सले विगत दुई दशकहरूमा बर्खास्त गरि...</td>\n",
       "      <td>the chicago bears have had more starting quart...</td>\n",
       "    </tr>\n",
       "  </tbody>\n",
       "</table>\n",
       "</div>"
      ],
      "text/plain": [
       "           id        label                                          statement  \\\n",
       "0  10540.json    half-true  When did the decline of coal start? It started...   \n",
       "1    324.json  mostly-true  Hillary Clinton agrees with John McCain \"by vo...   \n",
       "2   1123.json        false  Health care reform legislation is likely to ma...   \n",
       "3   9028.json    half-true  The economic turnaround started at the end of ...   \n",
       "4  12465.json         true  The Chicago Bears have had more starting quart...   \n",
       "\n",
       "                             subjects         speaker  \\\n",
       "0  energy,history,job-accomplishments  scott-surovell   \n",
       "1                      foreign-policy    barack-obama   \n",
       "2                         health-care    blog-posting   \n",
       "3                        economy,jobs   charlie-crist   \n",
       "4                           education       robin-vos   \n",
       "\n",
       "            speaker_job_title state_info party_affilation  count_1  count_2  \\\n",
       "0              State delegate   Virginia         democrat      0.0      0.0   \n",
       "1                   President   Illinois         democrat     70.0     71.0   \n",
       "2                         NaN        NaN             none      7.0     19.0   \n",
       "3                         NaN    Florida         democrat     15.0      9.0   \n",
       "4  Wisconsin Assembly speaker  Wisconsin       republican      0.0      3.0   \n",
       "\n",
       "   count_3  count_4  count_5                    context  \\\n",
       "0      1.0      1.0      0.0            a floor speech.   \n",
       "1    160.0    163.0      9.0                     Denver   \n",
       "2      3.0      5.0     44.0             a news release   \n",
       "3     20.0     19.0      2.0        an interview on CNN   \n",
       "4      2.0      5.0      1.0  a an online opinion-piece   \n",
       "\n",
       "                        statement_removedpunctuation  \\\n",
       "0  when did the decline of coal begin it began wi...   \n",
       "1  hillary clinton agreed with john mccain by vot...   \n",
       "2  health care reform legislation is likely to ma...   \n",
       "3  towards the end of my tenure the economic tran...   \n",
       "4  the chicago bears have had more starting quart...   \n",
       "\n",
       "                                  nepali_translation  \\\n",
       "0  कोइलाको पतन कहिले सुरु भयो यो प्राकृतिक ग्यास ...   \n",
       "1  हिलारी क्लिन्टनले जर्ज बुशलाई इरानमा शंकाको फा...   \n",
       "2  स्वास्थ्य हेरचाह सुधार कानूनले नि: शुल्क लिंग ...   \n",
       "3  मेरो कार्यकालको अन्त्यमा आर्थिक परिवर्तन सुरु भयो   \n",
       "4  शिकागो बियर्सले विगत दुई दशकहरूमा बर्खास्त गरि...   \n",
       "\n",
       "                                 english_translation  \n",
       "0  when did the decline of coal begin? it began w...  \n",
       "1  hillary clinton agreed with john mccain by vot...  \n",
       "2  health care reform legislation is likely to ma...  \n",
       "3  towards the end of my tenure, the economic tra...  \n",
       "4  the chicago bears have had more starting quart...  "
      ]
     },
     "execution_count": 8,
     "metadata": {},
     "output_type": "execute_result"
    }
   ],
   "source": [
    "df.head()"
   ]
  },
  {
   "cell_type": "code",
   "execution_count": 9,
   "id": "3917019e",
   "metadata": {
    "execution": {
     "iopub.execute_input": "2023-06-02T04:13:12.131365Z",
     "iopub.status.busy": "2023-06-02T04:13:12.130858Z",
     "iopub.status.idle": "2023-06-02T04:13:13.595868Z",
     "shell.execute_reply": "2023-06-02T04:13:13.594767Z"
    },
    "papermill": {
     "duration": 1.484176,
     "end_time": "2023-06-02T04:13:13.598494",
     "exception": false,
     "start_time": "2023-06-02T04:13:12.114318",
     "status": "completed"
    },
    "tags": []
   },
   "outputs": [],
   "source": [
    "df[\"english_translation_tokenized\"] = df[\"statement_removedpunctuation\"].apply(word_tokenize)"
   ]
  },
  {
   "cell_type": "code",
   "execution_count": 10,
   "id": "0aa44c19",
   "metadata": {
    "execution": {
     "iopub.execute_input": "2023-06-02T04:13:13.625095Z",
     "iopub.status.busy": "2023-06-02T04:13:13.624723Z",
     "iopub.status.idle": "2023-06-02T04:13:13.631921Z",
     "shell.execute_reply": "2023-06-02T04:13:13.630922Z"
    },
    "papermill": {
     "duration": 0.022512,
     "end_time": "2023-06-02T04:13:13.634362",
     "exception": false,
     "start_time": "2023-06-02T04:13:13.611850",
     "status": "completed"
    },
    "tags": []
   },
   "outputs": [
    {
     "data": {
      "text/plain": [
       "['however',\n",
       " 'it',\n",
       " 'took',\n",
       " 'one',\n",
       " 'hundred',\n",
       " 'and',\n",
       " 'ninetyfive',\n",
       " 'million',\n",
       " 'in',\n",
       " 'oregon',\n",
       " 'lottery',\n",
       " 'funds',\n",
       " 'for',\n",
       " 'the',\n",
       " 'port',\n",
       " 'of',\n",
       " 'newport',\n",
       " 'to',\n",
       " 'finally',\n",
       " 'land',\n",
       " 'the',\n",
       " 'new',\n",
       " 'noaa',\n",
       " 'marine',\n",
       " 'operations',\n",
       " 'center',\n",
       " 'in',\n",
       " 'the',\n",
       " 'pacific']"
      ]
     },
     "execution_count": 10,
     "metadata": {},
     "output_type": "execute_result"
    }
   ],
   "source": [
    "df[\"english_translation_tokenized\"].iloc[7]"
   ]
  },
  {
   "cell_type": "code",
   "execution_count": 11,
   "id": "f7e2c92a",
   "metadata": {
    "execution": {
     "iopub.execute_input": "2023-06-02T04:13:13.659785Z",
     "iopub.status.busy": "2023-06-02T04:13:13.659411Z",
     "iopub.status.idle": "2023-06-02T04:13:13.666322Z",
     "shell.execute_reply": "2023-06-02T04:13:13.665491Z"
    },
    "papermill": {
     "duration": 0.021978,
     "end_time": "2023-06-02T04:13:13.668443",
     "exception": false,
     "start_time": "2023-06-02T04:13:13.646465",
     "status": "completed"
    },
    "tags": []
   },
   "outputs": [],
   "source": [
    "stop_words = stopwords.words('english')"
   ]
  },
  {
   "cell_type": "code",
   "execution_count": 12,
   "id": "cbe94847",
   "metadata": {
    "execution": {
     "iopub.execute_input": "2023-06-02T04:13:13.693259Z",
     "iopub.status.busy": "2023-06-02T04:13:13.692884Z",
     "iopub.status.idle": "2023-06-02T04:13:13.698648Z",
     "shell.execute_reply": "2023-06-02T04:13:13.697741Z"
    },
    "papermill": {
     "duration": 0.020569,
     "end_time": "2023-06-02T04:13:13.700549",
     "exception": false,
     "start_time": "2023-06-02T04:13:13.679980",
     "status": "completed"
    },
    "tags": []
   },
   "outputs": [],
   "source": [
    "def stopwordremoval(words):\n",
    "    preprocessed_tokens = []\n",
    "    for i in words:\n",
    "        # Remove stopwords and empty strings while keeping words separated by space\n",
    "        post_removal = [word for word in i.split() if word.lower() not in stop_words]\n",
    "        filtered_string = \" \".join(post_removal).strip()\n",
    "        if filtered_string:\n",
    "            preprocessed_tokens.append(filtered_string)\n",
    "    # Combine the preprocessed tokens into a single string\n",
    "    combined_string = \" \".join(preprocessed_tokens)\n",
    "    return combined_string"
   ]
  },
  {
   "cell_type": "code",
   "execution_count": 13,
   "id": "1a9a01b2",
   "metadata": {
    "execution": {
     "iopub.execute_input": "2023-06-02T04:13:13.725561Z",
     "iopub.status.busy": "2023-06-02T04:13:13.724908Z",
     "iopub.status.idle": "2023-06-02T04:13:13.731291Z",
     "shell.execute_reply": "2023-06-02T04:13:13.730582Z"
    },
    "papermill": {
     "duration": 0.021099,
     "end_time": "2023-06-02T04:13:13.733068",
     "exception": false,
     "start_time": "2023-06-02T04:13:13.711969",
     "status": "completed"
    },
    "tags": []
   },
   "outputs": [
    {
     "data": {
      "text/plain": [
       "'however took one hundred ninetyfive million oregon lottery funds port newport finally land new noaa marine operations center pacific'"
      ]
     },
     "execution_count": 13,
     "metadata": {},
     "output_type": "execute_result"
    }
   ],
   "source": [
    "stopwordremoval(['however',\n",
    " 'it',\n",
    " 'took',\n",
    " 'one',\n",
    " 'hundred',\n",
    " 'and',\n",
    " 'ninetyfive',\n",
    " 'million',\n",
    " 'in',\n",
    " 'oregon',\n",
    " 'lottery',\n",
    " 'funds',\n",
    " 'for',\n",
    " 'the',\n",
    " 'port',\n",
    " 'of',\n",
    " 'newport',\n",
    " 'to',\n",
    " 'finally',\n",
    " 'land',\n",
    " 'the',\n",
    " 'new',\n",
    " 'noaa',\n",
    " 'marine',\n",
    " 'operations',\n",
    " 'center',\n",
    " 'in',\n",
    " 'the',\n",
    " 'pacific'])"
   ]
  },
  {
   "cell_type": "code",
   "execution_count": 14,
   "id": "dd31c866",
   "metadata": {
    "execution": {
     "iopub.execute_input": "2023-06-02T04:13:13.758767Z",
     "iopub.status.busy": "2023-06-02T04:13:13.758034Z",
     "iopub.status.idle": "2023-06-02T04:13:14.257137Z",
     "shell.execute_reply": "2023-06-02T04:13:14.255658Z"
    },
    "papermill": {
     "duration": 0.5151,
     "end_time": "2023-06-02T04:13:14.259784",
     "exception": false,
     "start_time": "2023-06-02T04:13:13.744684",
     "status": "completed"
    },
    "tags": []
   },
   "outputs": [],
   "source": [
    "df[\"english_translation_stopwords\"] = df[\"english_translation_tokenized\"].apply(stopwordremoval)"
   ]
  },
  {
   "cell_type": "code",
   "execution_count": 15,
   "id": "8c4c6f40",
   "metadata": {
    "execution": {
     "iopub.execute_input": "2023-06-02T04:13:14.285190Z",
     "iopub.status.busy": "2023-06-02T04:13:14.284805Z",
     "iopub.status.idle": "2023-06-02T04:13:14.308284Z",
     "shell.execute_reply": "2023-06-02T04:13:14.307279Z"
    },
    "papermill": {
     "duration": 0.038471,
     "end_time": "2023-06-02T04:13:14.310285",
     "exception": false,
     "start_time": "2023-06-02T04:13:14.271814",
     "status": "completed"
    },
    "tags": []
   },
   "outputs": [
    {
     "data": {
      "text/html": [
       "<div>\n",
       "<style scoped>\n",
       "    .dataframe tbody tr th:only-of-type {\n",
       "        vertical-align: middle;\n",
       "    }\n",
       "\n",
       "    .dataframe tbody tr th {\n",
       "        vertical-align: top;\n",
       "    }\n",
       "\n",
       "    .dataframe thead th {\n",
       "        text-align: right;\n",
       "    }\n",
       "</style>\n",
       "<table border=\"1\" class=\"dataframe\">\n",
       "  <thead>\n",
       "    <tr style=\"text-align: right;\">\n",
       "      <th></th>\n",
       "      <th>id</th>\n",
       "      <th>label</th>\n",
       "      <th>statement</th>\n",
       "      <th>subjects</th>\n",
       "      <th>speaker</th>\n",
       "      <th>speaker_job_title</th>\n",
       "      <th>state_info</th>\n",
       "      <th>party_affilation</th>\n",
       "      <th>count_1</th>\n",
       "      <th>count_2</th>\n",
       "      <th>count_3</th>\n",
       "      <th>count_4</th>\n",
       "      <th>count_5</th>\n",
       "      <th>context</th>\n",
       "      <th>statement_removedpunctuation</th>\n",
       "      <th>nepali_translation</th>\n",
       "      <th>english_translation</th>\n",
       "      <th>english_translation_tokenized</th>\n",
       "      <th>english_translation_stopwords</th>\n",
       "    </tr>\n",
       "  </thead>\n",
       "  <tbody>\n",
       "    <tr>\n",
       "      <th>0</th>\n",
       "      <td>10540.json</td>\n",
       "      <td>half-true</td>\n",
       "      <td>When did the decline of coal start? It started...</td>\n",
       "      <td>energy,history,job-accomplishments</td>\n",
       "      <td>scott-surovell</td>\n",
       "      <td>State delegate</td>\n",
       "      <td>Virginia</td>\n",
       "      <td>democrat</td>\n",
       "      <td>0.0</td>\n",
       "      <td>0.0</td>\n",
       "      <td>1.0</td>\n",
       "      <td>1.0</td>\n",
       "      <td>0.0</td>\n",
       "      <td>a floor speech.</td>\n",
       "      <td>when did the decline of coal begin it began wi...</td>\n",
       "      <td>कोइलाको पतन कहिले सुरु भयो यो प्राकृतिक ग्यास ...</td>\n",
       "      <td>when did the decline of coal begin? it began w...</td>\n",
       "      <td>[when, did, the, decline, of, coal, begin, it,...</td>\n",
       "      <td>decline coal begin began natural gas layoff be...</td>\n",
       "    </tr>\n",
       "    <tr>\n",
       "      <th>1</th>\n",
       "      <td>324.json</td>\n",
       "      <td>mostly-true</td>\n",
       "      <td>Hillary Clinton agrees with John McCain \"by vo...</td>\n",
       "      <td>foreign-policy</td>\n",
       "      <td>barack-obama</td>\n",
       "      <td>President</td>\n",
       "      <td>Illinois</td>\n",
       "      <td>democrat</td>\n",
       "      <td>70.0</td>\n",
       "      <td>71.0</td>\n",
       "      <td>160.0</td>\n",
       "      <td>163.0</td>\n",
       "      <td>9.0</td>\n",
       "      <td>Denver</td>\n",
       "      <td>hillary clinton agreed with john mccain by vot...</td>\n",
       "      <td>हिलारी क्लिन्टनले जर्ज बुशलाई इरानमा शंकाको फा...</td>\n",
       "      <td>hillary clinton agreed with john mccain by vot...</td>\n",
       "      <td>[hillary, clinton, agreed, with, john, mccain,...</td>\n",
       "      <td>hillary clinton agreed john mccain voting give...</td>\n",
       "    </tr>\n",
       "    <tr>\n",
       "      <th>2</th>\n",
       "      <td>1123.json</td>\n",
       "      <td>false</td>\n",
       "      <td>Health care reform legislation is likely to ma...</td>\n",
       "      <td>health-care</td>\n",
       "      <td>blog-posting</td>\n",
       "      <td>NaN</td>\n",
       "      <td>NaN</td>\n",
       "      <td>none</td>\n",
       "      <td>7.0</td>\n",
       "      <td>19.0</td>\n",
       "      <td>3.0</td>\n",
       "      <td>5.0</td>\n",
       "      <td>44.0</td>\n",
       "      <td>a news release</td>\n",
       "      <td>health care reform legislation is likely to ma...</td>\n",
       "      <td>स्वास्थ्य हेरचाह सुधार कानूनले नि: शुल्क लिंग ...</td>\n",
       "      <td>health care reform legislation is likely to ma...</td>\n",
       "      <td>[health, care, reform, legislation, is, likely...</td>\n",
       "      <td>health care reform legislation likely mandate ...</td>\n",
       "    </tr>\n",
       "    <tr>\n",
       "      <th>3</th>\n",
       "      <td>9028.json</td>\n",
       "      <td>half-true</td>\n",
       "      <td>The economic turnaround started at the end of ...</td>\n",
       "      <td>economy,jobs</td>\n",
       "      <td>charlie-crist</td>\n",
       "      <td>NaN</td>\n",
       "      <td>Florida</td>\n",
       "      <td>democrat</td>\n",
       "      <td>15.0</td>\n",
       "      <td>9.0</td>\n",
       "      <td>20.0</td>\n",
       "      <td>19.0</td>\n",
       "      <td>2.0</td>\n",
       "      <td>an interview on CNN</td>\n",
       "      <td>towards the end of my tenure the economic tran...</td>\n",
       "      <td>मेरो कार्यकालको अन्त्यमा आर्थिक परिवर्तन सुरु भयो</td>\n",
       "      <td>towards the end of my tenure, the economic tra...</td>\n",
       "      <td>[towards, the, end, of, my, tenure, the, econo...</td>\n",
       "      <td>towards end tenure economic transformation began</td>\n",
       "    </tr>\n",
       "    <tr>\n",
       "      <th>4</th>\n",
       "      <td>12465.json</td>\n",
       "      <td>true</td>\n",
       "      <td>The Chicago Bears have had more starting quart...</td>\n",
       "      <td>education</td>\n",
       "      <td>robin-vos</td>\n",
       "      <td>Wisconsin Assembly speaker</td>\n",
       "      <td>Wisconsin</td>\n",
       "      <td>republican</td>\n",
       "      <td>0.0</td>\n",
       "      <td>3.0</td>\n",
       "      <td>2.0</td>\n",
       "      <td>5.0</td>\n",
       "      <td>1.0</td>\n",
       "      <td>a an online opinion-piece</td>\n",
       "      <td>the chicago bears have had more starting quart...</td>\n",
       "      <td>शिकागो बियर्सले विगत दुई दशकहरूमा बर्खास्त गरि...</td>\n",
       "      <td>the chicago bears have had more starting quart...</td>\n",
       "      <td>[the, chicago, bears, have, had, more, startin...</td>\n",
       "      <td>chicago bears starting quarterbacks past ten y...</td>\n",
       "    </tr>\n",
       "  </tbody>\n",
       "</table>\n",
       "</div>"
      ],
      "text/plain": [
       "           id        label                                          statement  \\\n",
       "0  10540.json    half-true  When did the decline of coal start? It started...   \n",
       "1    324.json  mostly-true  Hillary Clinton agrees with John McCain \"by vo...   \n",
       "2   1123.json        false  Health care reform legislation is likely to ma...   \n",
       "3   9028.json    half-true  The economic turnaround started at the end of ...   \n",
       "4  12465.json         true  The Chicago Bears have had more starting quart...   \n",
       "\n",
       "                             subjects         speaker  \\\n",
       "0  energy,history,job-accomplishments  scott-surovell   \n",
       "1                      foreign-policy    barack-obama   \n",
       "2                         health-care    blog-posting   \n",
       "3                        economy,jobs   charlie-crist   \n",
       "4                           education       robin-vos   \n",
       "\n",
       "            speaker_job_title state_info party_affilation  count_1  count_2  \\\n",
       "0              State delegate   Virginia         democrat      0.0      0.0   \n",
       "1                   President   Illinois         democrat     70.0     71.0   \n",
       "2                         NaN        NaN             none      7.0     19.0   \n",
       "3                         NaN    Florida         democrat     15.0      9.0   \n",
       "4  Wisconsin Assembly speaker  Wisconsin       republican      0.0      3.0   \n",
       "\n",
       "   count_3  count_4  count_5                    context  \\\n",
       "0      1.0      1.0      0.0            a floor speech.   \n",
       "1    160.0    163.0      9.0                     Denver   \n",
       "2      3.0      5.0     44.0             a news release   \n",
       "3     20.0     19.0      2.0        an interview on CNN   \n",
       "4      2.0      5.0      1.0  a an online opinion-piece   \n",
       "\n",
       "                        statement_removedpunctuation  \\\n",
       "0  when did the decline of coal begin it began wi...   \n",
       "1  hillary clinton agreed with john mccain by vot...   \n",
       "2  health care reform legislation is likely to ma...   \n",
       "3  towards the end of my tenure the economic tran...   \n",
       "4  the chicago bears have had more starting quart...   \n",
       "\n",
       "                                  nepali_translation  \\\n",
       "0  कोइलाको पतन कहिले सुरु भयो यो प्राकृतिक ग्यास ...   \n",
       "1  हिलारी क्लिन्टनले जर्ज बुशलाई इरानमा शंकाको फा...   \n",
       "2  स्वास्थ्य हेरचाह सुधार कानूनले नि: शुल्क लिंग ...   \n",
       "3  मेरो कार्यकालको अन्त्यमा आर्थिक परिवर्तन सुरु भयो   \n",
       "4  शिकागो बियर्सले विगत दुई दशकहरूमा बर्खास्त गरि...   \n",
       "\n",
       "                                 english_translation  \\\n",
       "0  when did the decline of coal begin? it began w...   \n",
       "1  hillary clinton agreed with john mccain by vot...   \n",
       "2  health care reform legislation is likely to ma...   \n",
       "3  towards the end of my tenure, the economic tra...   \n",
       "4  the chicago bears have had more starting quart...   \n",
       "\n",
       "                       english_translation_tokenized  \\\n",
       "0  [when, did, the, decline, of, coal, begin, it,...   \n",
       "1  [hillary, clinton, agreed, with, john, mccain,...   \n",
       "2  [health, care, reform, legislation, is, likely...   \n",
       "3  [towards, the, end, of, my, tenure, the, econo...   \n",
       "4  [the, chicago, bears, have, had, more, startin...   \n",
       "\n",
       "                       english_translation_stopwords  \n",
       "0  decline coal begin began natural gas layoff be...  \n",
       "1  hillary clinton agreed john mccain voting give...  \n",
       "2  health care reform legislation likely mandate ...  \n",
       "3   towards end tenure economic transformation began  \n",
       "4  chicago bears starting quarterbacks past ten y...  "
      ]
     },
     "execution_count": 15,
     "metadata": {},
     "output_type": "execute_result"
    }
   ],
   "source": [
    "df.head()"
   ]
  },
  {
   "cell_type": "code",
   "execution_count": 16,
   "id": "bc57a242",
   "metadata": {
    "execution": {
     "iopub.execute_input": "2023-06-02T04:13:14.336248Z",
     "iopub.status.busy": "2023-06-02T04:13:14.335633Z",
     "iopub.status.idle": "2023-06-02T04:13:14.341248Z",
     "shell.execute_reply": "2023-06-02T04:13:14.340267Z"
    },
    "papermill": {
     "duration": 0.020472,
     "end_time": "2023-06-02T04:13:14.343111",
     "exception": false,
     "start_time": "2023-06-02T04:13:14.322639",
     "status": "completed"
    },
    "tags": []
   },
   "outputs": [
    {
     "data": {
      "text/plain": [
       "'over the past year more than twenty percent of americans have changed their minds about the war in afghanistan concluding that we shouldnt be there'"
      ]
     },
     "execution_count": 16,
     "metadata": {},
     "output_type": "execute_result"
    }
   ],
   "source": [
    "df[\"statement_removedpunctuation\"].iloc[200]"
   ]
  },
  {
   "cell_type": "code",
   "execution_count": 17,
   "id": "5b2d4588",
   "metadata": {
    "execution": {
     "iopub.execute_input": "2023-06-02T04:13:14.368589Z",
     "iopub.status.busy": "2023-06-02T04:13:14.368197Z",
     "iopub.status.idle": "2023-06-02T04:13:14.374262Z",
     "shell.execute_reply": "2023-06-02T04:13:14.373503Z"
    },
    "papermill": {
     "duration": 0.020934,
     "end_time": "2023-06-02T04:13:14.376045",
     "exception": false,
     "start_time": "2023-06-02T04:13:14.355111",
     "status": "completed"
    },
    "tags": []
   },
   "outputs": [
    {
     "data": {
      "text/plain": [
       "'past year twenty percent americans changed minds war afghanistan concluding shouldnt'"
      ]
     },
     "execution_count": 17,
     "metadata": {},
     "output_type": "execute_result"
    }
   ],
   "source": [
    "df[\"english_translation_stopwords\"].iloc[200]"
   ]
  },
  {
   "cell_type": "code",
   "execution_count": 18,
   "id": "5b3cce09",
   "metadata": {
    "execution": {
     "iopub.execute_input": "2023-06-02T04:13:14.401434Z",
     "iopub.status.busy": "2023-06-02T04:13:14.401062Z",
     "iopub.status.idle": "2023-06-02T04:13:26.288661Z",
     "shell.execute_reply": "2023-06-02T04:13:26.287558Z"
    },
    "papermill": {
     "duration": 11.90317,
     "end_time": "2023-06-02T04:13:26.291169",
     "exception": false,
     "start_time": "2023-06-02T04:13:14.387999",
     "status": "completed"
    },
    "tags": []
   },
   "outputs": [
    {
     "name": "stderr",
     "output_type": "stream",
     "text": [
      "/opt/conda/lib/python3.10/site-packages/tensorflow_io/python/ops/__init__.py:98: UserWarning: unable to load libtensorflow_io_plugins.so: unable to open file: libtensorflow_io_plugins.so, from paths: ['/opt/conda/lib/python3.10/site-packages/tensorflow_io/python/ops/libtensorflow_io_plugins.so']\n",
      "caused by: ['/opt/conda/lib/python3.10/site-packages/tensorflow_io/python/ops/libtensorflow_io_plugins.so: undefined symbol: _ZN3tsl6StatusC1EN10tensorflow5error4CodeESt17basic_string_viewIcSt11char_traitsIcEENS_14SourceLocationE']\n",
      "  warnings.warn(f\"unable to load libtensorflow_io_plugins.so: {e}\")\n",
      "/opt/conda/lib/python3.10/site-packages/tensorflow_io/python/ops/__init__.py:104: UserWarning: file system plugins are not loaded: unable to open file: libtensorflow_io.so, from paths: ['/opt/conda/lib/python3.10/site-packages/tensorflow_io/python/ops/libtensorflow_io.so']\n",
      "caused by: ['/opt/conda/lib/python3.10/site-packages/tensorflow_io/python/ops/libtensorflow_io.so: undefined symbol: _ZTVN10tensorflow13GcsFileSystemE']\n",
      "  warnings.warn(f\"file system plugins are not loaded: {e}\")\n"
     ]
    }
   ],
   "source": [
    "import spacy"
   ]
  },
  {
   "cell_type": "code",
   "execution_count": 19,
   "id": "e4cb25d1",
   "metadata": {
    "execution": {
     "iopub.execute_input": "2023-06-02T04:13:26.318872Z",
     "iopub.status.busy": "2023-06-02T04:13:26.318108Z",
     "iopub.status.idle": "2023-06-02T04:13:27.278309Z",
     "shell.execute_reply": "2023-06-02T04:13:27.277441Z"
    },
    "papermill": {
     "duration": 0.976565,
     "end_time": "2023-06-02T04:13:27.280643",
     "exception": false,
     "start_time": "2023-06-02T04:13:26.304078",
     "status": "completed"
    },
    "tags": []
   },
   "outputs": [],
   "source": [
    "nlp = spacy.load(\"en_core_web_sm\")\n"
   ]
  },
  {
   "cell_type": "code",
   "execution_count": 20,
   "id": "97cdefb2",
   "metadata": {
    "execution": {
     "iopub.execute_input": "2023-06-02T04:13:27.307436Z",
     "iopub.status.busy": "2023-06-02T04:13:27.307083Z",
     "iopub.status.idle": "2023-06-02T04:13:27.311891Z",
     "shell.execute_reply": "2023-06-02T04:13:27.311066Z"
    },
    "papermill": {
     "duration": 0.020409,
     "end_time": "2023-06-02T04:13:27.313749",
     "exception": false,
     "start_time": "2023-06-02T04:13:27.293340",
     "status": "completed"
    },
    "tags": []
   },
   "outputs": [],
   "source": [
    "def lemmetization(text):\n",
    "    doc = nlp(text)\n",
    "    lemmetized = []\n",
    "    for token in doc:\n",
    "        lemmetized.append(token.lemma_)\n",
    "    return \" \".join(lemmetized)\n"
   ]
  },
  {
   "cell_type": "code",
   "execution_count": 21,
   "id": "55416f98",
   "metadata": {
    "execution": {
     "iopub.execute_input": "2023-06-02T04:13:27.340379Z",
     "iopub.status.busy": "2023-06-02T04:13:27.339780Z",
     "iopub.status.idle": "2023-06-02T04:14:34.390851Z",
     "shell.execute_reply": "2023-06-02T04:14:34.389607Z"
    },
    "papermill": {
     "duration": 67.067249,
     "end_time": "2023-06-02T04:14:34.393345",
     "exception": false,
     "start_time": "2023-06-02T04:13:27.326096",
     "status": "completed"
    },
    "tags": []
   },
   "outputs": [],
   "source": [
    "df[\"preprocessed_english\"] = df[\"english_translation_stopwords\"].apply(lemmetization)"
   ]
  },
  {
   "cell_type": "code",
   "execution_count": 22,
   "id": "a1e82888",
   "metadata": {
    "execution": {
     "iopub.execute_input": "2023-06-02T04:14:34.420985Z",
     "iopub.status.busy": "2023-06-02T04:14:34.420043Z",
     "iopub.status.idle": "2023-06-02T04:14:34.443908Z",
     "shell.execute_reply": "2023-06-02T04:14:34.442643Z"
    },
    "papermill": {
     "duration": 0.039811,
     "end_time": "2023-06-02T04:14:34.446135",
     "exception": false,
     "start_time": "2023-06-02T04:14:34.406324",
     "status": "completed"
    },
    "tags": []
   },
   "outputs": [
    {
     "data": {
      "text/html": [
       "<div>\n",
       "<style scoped>\n",
       "    .dataframe tbody tr th:only-of-type {\n",
       "        vertical-align: middle;\n",
       "    }\n",
       "\n",
       "    .dataframe tbody tr th {\n",
       "        vertical-align: top;\n",
       "    }\n",
       "\n",
       "    .dataframe thead th {\n",
       "        text-align: right;\n",
       "    }\n",
       "</style>\n",
       "<table border=\"1\" class=\"dataframe\">\n",
       "  <thead>\n",
       "    <tr style=\"text-align: right;\">\n",
       "      <th></th>\n",
       "      <th>id</th>\n",
       "      <th>label</th>\n",
       "      <th>statement</th>\n",
       "      <th>subjects</th>\n",
       "      <th>speaker</th>\n",
       "      <th>speaker_job_title</th>\n",
       "      <th>state_info</th>\n",
       "      <th>party_affilation</th>\n",
       "      <th>count_1</th>\n",
       "      <th>count_2</th>\n",
       "      <th>count_3</th>\n",
       "      <th>count_4</th>\n",
       "      <th>count_5</th>\n",
       "      <th>context</th>\n",
       "      <th>statement_removedpunctuation</th>\n",
       "      <th>nepali_translation</th>\n",
       "      <th>english_translation</th>\n",
       "      <th>english_translation_tokenized</th>\n",
       "      <th>english_translation_stopwords</th>\n",
       "      <th>preprocessed_english</th>\n",
       "    </tr>\n",
       "  </thead>\n",
       "  <tbody>\n",
       "    <tr>\n",
       "      <th>0</th>\n",
       "      <td>10540.json</td>\n",
       "      <td>half-true</td>\n",
       "      <td>When did the decline of coal start? It started...</td>\n",
       "      <td>energy,history,job-accomplishments</td>\n",
       "      <td>scott-surovell</td>\n",
       "      <td>State delegate</td>\n",
       "      <td>Virginia</td>\n",
       "      <td>democrat</td>\n",
       "      <td>0.0</td>\n",
       "      <td>0.0</td>\n",
       "      <td>1.0</td>\n",
       "      <td>1.0</td>\n",
       "      <td>0.0</td>\n",
       "      <td>a floor speech.</td>\n",
       "      <td>when did the decline of coal begin it began wi...</td>\n",
       "      <td>कोइलाको पतन कहिले सुरु भयो यो प्राकृतिक ग्यास ...</td>\n",
       "      <td>when did the decline of coal begin? it began w...</td>\n",
       "      <td>[when, did, the, decline, of, coal, begin, it,...</td>\n",
       "      <td>decline coal begin began natural gas layoff be...</td>\n",
       "      <td>decline coal begin begin natural gas layoff be...</td>\n",
       "    </tr>\n",
       "    <tr>\n",
       "      <th>1</th>\n",
       "      <td>324.json</td>\n",
       "      <td>mostly-true</td>\n",
       "      <td>Hillary Clinton agrees with John McCain \"by vo...</td>\n",
       "      <td>foreign-policy</td>\n",
       "      <td>barack-obama</td>\n",
       "      <td>President</td>\n",
       "      <td>Illinois</td>\n",
       "      <td>democrat</td>\n",
       "      <td>70.0</td>\n",
       "      <td>71.0</td>\n",
       "      <td>160.0</td>\n",
       "      <td>163.0</td>\n",
       "      <td>9.0</td>\n",
       "      <td>Denver</td>\n",
       "      <td>hillary clinton agreed with john mccain by vot...</td>\n",
       "      <td>हिलारी क्लिन्टनले जर्ज बुशलाई इरानमा शंकाको फा...</td>\n",
       "      <td>hillary clinton agreed with john mccain by vot...</td>\n",
       "      <td>[hillary, clinton, agreed, with, john, mccain,...</td>\n",
       "      <td>hillary clinton agreed john mccain voting give...</td>\n",
       "      <td>hillary clinton agree john mccain voting give ...</td>\n",
       "    </tr>\n",
       "    <tr>\n",
       "      <th>2</th>\n",
       "      <td>1123.json</td>\n",
       "      <td>false</td>\n",
       "      <td>Health care reform legislation is likely to ma...</td>\n",
       "      <td>health-care</td>\n",
       "      <td>blog-posting</td>\n",
       "      <td>NaN</td>\n",
       "      <td>NaN</td>\n",
       "      <td>none</td>\n",
       "      <td>7.0</td>\n",
       "      <td>19.0</td>\n",
       "      <td>3.0</td>\n",
       "      <td>5.0</td>\n",
       "      <td>44.0</td>\n",
       "      <td>a news release</td>\n",
       "      <td>health care reform legislation is likely to ma...</td>\n",
       "      <td>स्वास्थ्य हेरचाह सुधार कानूनले नि: शुल्क लिंग ...</td>\n",
       "      <td>health care reform legislation is likely to ma...</td>\n",
       "      <td>[health, care, reform, legislation, is, likely...</td>\n",
       "      <td>health care reform legislation likely mandate ...</td>\n",
       "      <td>health care reform legislation likely mandate ...</td>\n",
       "    </tr>\n",
       "    <tr>\n",
       "      <th>3</th>\n",
       "      <td>9028.json</td>\n",
       "      <td>half-true</td>\n",
       "      <td>The economic turnaround started at the end of ...</td>\n",
       "      <td>economy,jobs</td>\n",
       "      <td>charlie-crist</td>\n",
       "      <td>NaN</td>\n",
       "      <td>Florida</td>\n",
       "      <td>democrat</td>\n",
       "      <td>15.0</td>\n",
       "      <td>9.0</td>\n",
       "      <td>20.0</td>\n",
       "      <td>19.0</td>\n",
       "      <td>2.0</td>\n",
       "      <td>an interview on CNN</td>\n",
       "      <td>towards the end of my tenure the economic tran...</td>\n",
       "      <td>मेरो कार्यकालको अन्त्यमा आर्थिक परिवर्तन सुरु भयो</td>\n",
       "      <td>towards the end of my tenure, the economic tra...</td>\n",
       "      <td>[towards, the, end, of, my, tenure, the, econo...</td>\n",
       "      <td>towards end tenure economic transformation began</td>\n",
       "      <td>towards end tenure economic transformation begin</td>\n",
       "    </tr>\n",
       "    <tr>\n",
       "      <th>4</th>\n",
       "      <td>12465.json</td>\n",
       "      <td>true</td>\n",
       "      <td>The Chicago Bears have had more starting quart...</td>\n",
       "      <td>education</td>\n",
       "      <td>robin-vos</td>\n",
       "      <td>Wisconsin Assembly speaker</td>\n",
       "      <td>Wisconsin</td>\n",
       "      <td>republican</td>\n",
       "      <td>0.0</td>\n",
       "      <td>3.0</td>\n",
       "      <td>2.0</td>\n",
       "      <td>5.0</td>\n",
       "      <td>1.0</td>\n",
       "      <td>a an online opinion-piece</td>\n",
       "      <td>the chicago bears have had more starting quart...</td>\n",
       "      <td>शिकागो बियर्सले विगत दुई दशकहरूमा बर्खास्त गरि...</td>\n",
       "      <td>the chicago bears have had more starting quart...</td>\n",
       "      <td>[the, chicago, bears, have, had, more, startin...</td>\n",
       "      <td>chicago bears starting quarterbacks past ten y...</td>\n",
       "      <td>chicago bear start quarterback past ten year t...</td>\n",
       "    </tr>\n",
       "  </tbody>\n",
       "</table>\n",
       "</div>"
      ],
      "text/plain": [
       "           id        label                                          statement  \\\n",
       "0  10540.json    half-true  When did the decline of coal start? It started...   \n",
       "1    324.json  mostly-true  Hillary Clinton agrees with John McCain \"by vo...   \n",
       "2   1123.json        false  Health care reform legislation is likely to ma...   \n",
       "3   9028.json    half-true  The economic turnaround started at the end of ...   \n",
       "4  12465.json         true  The Chicago Bears have had more starting quart...   \n",
       "\n",
       "                             subjects         speaker  \\\n",
       "0  energy,history,job-accomplishments  scott-surovell   \n",
       "1                      foreign-policy    barack-obama   \n",
       "2                         health-care    blog-posting   \n",
       "3                        economy,jobs   charlie-crist   \n",
       "4                           education       robin-vos   \n",
       "\n",
       "            speaker_job_title state_info party_affilation  count_1  count_2  \\\n",
       "0              State delegate   Virginia         democrat      0.0      0.0   \n",
       "1                   President   Illinois         democrat     70.0     71.0   \n",
       "2                         NaN        NaN             none      7.0     19.0   \n",
       "3                         NaN    Florida         democrat     15.0      9.0   \n",
       "4  Wisconsin Assembly speaker  Wisconsin       republican      0.0      3.0   \n",
       "\n",
       "   count_3  count_4  count_5                    context  \\\n",
       "0      1.0      1.0      0.0            a floor speech.   \n",
       "1    160.0    163.0      9.0                     Denver   \n",
       "2      3.0      5.0     44.0             a news release   \n",
       "3     20.0     19.0      2.0        an interview on CNN   \n",
       "4      2.0      5.0      1.0  a an online opinion-piece   \n",
       "\n",
       "                        statement_removedpunctuation  \\\n",
       "0  when did the decline of coal begin it began wi...   \n",
       "1  hillary clinton agreed with john mccain by vot...   \n",
       "2  health care reform legislation is likely to ma...   \n",
       "3  towards the end of my tenure the economic tran...   \n",
       "4  the chicago bears have had more starting quart...   \n",
       "\n",
       "                                  nepali_translation  \\\n",
       "0  कोइलाको पतन कहिले सुरु भयो यो प्राकृतिक ग्यास ...   \n",
       "1  हिलारी क्लिन्टनले जर्ज बुशलाई इरानमा शंकाको फा...   \n",
       "2  स्वास्थ्य हेरचाह सुधार कानूनले नि: शुल्क लिंग ...   \n",
       "3  मेरो कार्यकालको अन्त्यमा आर्थिक परिवर्तन सुरु भयो   \n",
       "4  शिकागो बियर्सले विगत दुई दशकहरूमा बर्खास्त गरि...   \n",
       "\n",
       "                                 english_translation  \\\n",
       "0  when did the decline of coal begin? it began w...   \n",
       "1  hillary clinton agreed with john mccain by vot...   \n",
       "2  health care reform legislation is likely to ma...   \n",
       "3  towards the end of my tenure, the economic tra...   \n",
       "4  the chicago bears have had more starting quart...   \n",
       "\n",
       "                       english_translation_tokenized  \\\n",
       "0  [when, did, the, decline, of, coal, begin, it,...   \n",
       "1  [hillary, clinton, agreed, with, john, mccain,...   \n",
       "2  [health, care, reform, legislation, is, likely...   \n",
       "3  [towards, the, end, of, my, tenure, the, econo...   \n",
       "4  [the, chicago, bears, have, had, more, startin...   \n",
       "\n",
       "                       english_translation_stopwords  \\\n",
       "0  decline coal begin began natural gas layoff be...   \n",
       "1  hillary clinton agreed john mccain voting give...   \n",
       "2  health care reform legislation likely mandate ...   \n",
       "3   towards end tenure economic transformation began   \n",
       "4  chicago bears starting quarterbacks past ten y...   \n",
       "\n",
       "                                preprocessed_english  \n",
       "0  decline coal begin begin natural gas layoff be...  \n",
       "1  hillary clinton agree john mccain voting give ...  \n",
       "2  health care reform legislation likely mandate ...  \n",
       "3   towards end tenure economic transformation begin  \n",
       "4  chicago bear start quarterback past ten year t...  "
      ]
     },
     "execution_count": 22,
     "metadata": {},
     "output_type": "execute_result"
    }
   ],
   "source": [
    "df.head()"
   ]
  },
  {
   "cell_type": "code",
   "execution_count": 23,
   "id": "534a1b6e",
   "metadata": {
    "execution": {
     "iopub.execute_input": "2023-06-02T04:14:34.474127Z",
     "iopub.status.busy": "2023-06-02T04:14:34.473723Z",
     "iopub.status.idle": "2023-06-02T04:14:34.487168Z",
     "shell.execute_reply": "2023-06-02T04:14:34.486180Z"
    },
    "papermill": {
     "duration": 0.02989,
     "end_time": "2023-06-02T04:14:34.489251",
     "exception": false,
     "start_time": "2023-06-02T04:14:34.459361",
     "status": "completed"
    },
    "tags": []
   },
   "outputs": [
    {
     "data": {
      "text/plain": [
       "a news release                                                  241\n",
       "an interview                                                    229\n",
       "a press release                                                 223\n",
       "a speech                                                        214\n",
       "a TV ad                                                         180\n",
       "                                                               ... \n",
       "a Chicago Sun-Times editorial board debate                        1\n",
       "comments on MSNBC's \"Daily Rundown\"                               1\n",
       "a press release touting a state tourism program                   1\n",
       "Department of Homeland Security hearing                           1\n",
       "a televised debate on Miami's WPLG-10 against Kendrick Meek.      1\n",
       "Name: context, Length: 4343, dtype: int64"
      ]
     },
     "execution_count": 23,
     "metadata": {},
     "output_type": "execute_result"
    }
   ],
   "source": [
    "df['context'].value_counts()"
   ]
  },
  {
   "cell_type": "code",
   "execution_count": 24,
   "id": "46fad3a0",
   "metadata": {
    "execution": {
     "iopub.execute_input": "2023-06-02T04:14:34.517564Z",
     "iopub.status.busy": "2023-06-02T04:14:34.516851Z",
     "iopub.status.idle": "2023-06-02T04:14:34.522304Z",
     "shell.execute_reply": "2023-06-02T04:14:34.521629Z"
    },
    "papermill": {
     "duration": 0.021541,
     "end_time": "2023-06-02T04:14:34.524035",
     "exception": false,
     "start_time": "2023-06-02T04:14:34.502494",
     "status": "completed"
    },
    "tags": []
   },
   "outputs": [
    {
     "data": {
      "text/plain": [
       "'decline coal begin begin natural gas layoff begin administration president george w bush'"
      ]
     },
     "execution_count": 24,
     "metadata": {},
     "output_type": "execute_result"
    }
   ],
   "source": [
    "df[\"preprocessed_english\"].iloc[0]"
   ]
  },
  {
   "cell_type": "code",
   "execution_count": 25,
   "id": "dd152e40",
   "metadata": {
    "execution": {
     "iopub.execute_input": "2023-06-02T04:14:34.552362Z",
     "iopub.status.busy": "2023-06-02T04:14:34.551305Z",
     "iopub.status.idle": "2023-06-02T04:14:34.555841Z",
     "shell.execute_reply": "2023-06-02T04:14:34.555145Z"
    },
    "papermill": {
     "duration": 0.020541,
     "end_time": "2023-06-02T04:14:34.557596",
     "exception": false,
     "start_time": "2023-06-02T04:14:34.537055",
     "status": "completed"
    },
    "tags": []
   },
   "outputs": [],
   "source": [
    "from sklearn.feature_extraction.text import TfidfVectorizer\n",
    "vectorizer = TfidfVectorizer(lowercase = False, max_features=2500)\n"
   ]
  },
  {
   "cell_type": "code",
   "execution_count": 26,
   "id": "2a007339",
   "metadata": {
    "execution": {
     "iopub.execute_input": "2023-06-02T04:14:34.586075Z",
     "iopub.status.busy": "2023-06-02T04:14:34.584965Z",
     "iopub.status.idle": "2023-06-02T04:14:34.740179Z",
     "shell.execute_reply": "2023-06-02T04:14:34.739164Z"
    },
    "papermill": {
     "duration": 0.171887,
     "end_time": "2023-06-02T04:14:34.742631",
     "exception": false,
     "start_time": "2023-06-02T04:14:34.570744",
     "status": "completed"
    },
    "tags": []
   },
   "outputs": [],
   "source": [
    "\n",
    "X = vectorizer.fit_transform(df[\"preprocessed_english\"])\n",
    "# vectorizer.get_feature_names_out()\n"
   ]
  },
  {
   "cell_type": "code",
   "execution_count": 27,
   "id": "292d78ef",
   "metadata": {
    "execution": {
     "iopub.execute_input": "2023-06-02T04:14:34.771731Z",
     "iopub.status.busy": "2023-06-02T04:14:34.771351Z",
     "iopub.status.idle": "2023-06-02T04:14:35.049289Z",
     "shell.execute_reply": "2023-06-02T04:14:35.048191Z"
    },
    "papermill": {
     "duration": 0.295449,
     "end_time": "2023-06-02T04:14:35.051859",
     "exception": false,
     "start_time": "2023-06-02T04:14:34.756410",
     "status": "completed"
    },
    "tags": []
   },
   "outputs": [
    {
     "name": "stdout",
     "output_type": "stream",
     "text": [
      "[[0. 0. 0. ... 0. 0. 0.]\n",
      " [0. 0. 0. ... 0. 0. 0.]\n",
      " [0. 0. 0. ... 0. 0. 0.]\n",
      " ...\n",
      " [0. 0. 0. ... 0. 0. 0.]\n",
      " [0. 0. 0. ... 0. 0. 0.]\n",
      " [0. 0. 0. ... 0. 0. 0.]]\n"
     ]
    }
   ],
   "source": [
    "print(X.toarray())"
   ]
  },
  {
   "cell_type": "code",
   "execution_count": 28,
   "id": "910cc077",
   "metadata": {
    "execution": {
     "iopub.execute_input": "2023-06-02T04:14:35.082109Z",
     "iopub.status.busy": "2023-06-02T04:14:35.081299Z",
     "iopub.status.idle": "2023-06-02T04:14:35.089055Z",
     "shell.execute_reply": "2023-06-02T04:14:35.088187Z"
    },
    "papermill": {
     "duration": 0.024326,
     "end_time": "2023-06-02T04:14:35.091049",
     "exception": false,
     "start_time": "2023-06-02T04:14:35.066723",
     "status": "completed"
    },
    "tags": []
   },
   "outputs": [
    {
     "data": {
      "text/plain": [
       "(10236, 2500)"
      ]
     },
     "execution_count": 28,
     "metadata": {},
     "output_type": "execute_result"
    }
   ],
   "source": [
    "X.shape"
   ]
  },
  {
   "cell_type": "code",
   "execution_count": 29,
   "id": "15937281",
   "metadata": {
    "execution": {
     "iopub.execute_input": "2023-06-02T04:14:35.118939Z",
     "iopub.status.busy": "2023-06-02T04:14:35.118587Z",
     "iopub.status.idle": "2023-06-02T04:14:35.123767Z",
     "shell.execute_reply": "2023-06-02T04:14:35.122771Z"
    },
    "papermill": {
     "duration": 0.02136,
     "end_time": "2023-06-02T04:14:35.125683",
     "exception": false,
     "start_time": "2023-06-02T04:14:35.104323",
     "status": "completed"
    },
    "tags": []
   },
   "outputs": [],
   "source": [
    "df['X'] = X.shape[0]"
   ]
  },
  {
   "cell_type": "code",
   "execution_count": 30,
   "id": "2dac01e8",
   "metadata": {
    "execution": {
     "iopub.execute_input": "2023-06-02T04:14:35.154842Z",
     "iopub.status.busy": "2023-06-02T04:14:35.154130Z",
     "iopub.status.idle": "2023-06-02T04:14:35.161987Z",
     "shell.execute_reply": "2023-06-02T04:14:35.161279Z"
    },
    "papermill": {
     "duration": 0.024483,
     "end_time": "2023-06-02T04:14:35.163942",
     "exception": false,
     "start_time": "2023-06-02T04:14:35.139459",
     "status": "completed"
    },
    "tags": []
   },
   "outputs": [
    {
     "data": {
      "text/plain": [
       "half-true      2114\n",
       "false          1993\n",
       "mostly-true    1961\n",
       "true           1675\n",
       "barely-true    1654\n",
       "pants-fire      839\n",
       "Name: label, dtype: int64"
      ]
     },
     "execution_count": 30,
     "metadata": {},
     "output_type": "execute_result"
    }
   ],
   "source": [
    "df['label'].value_counts()"
   ]
  },
  {
   "cell_type": "code",
   "execution_count": 31,
   "id": "11f5ef10",
   "metadata": {
    "execution": {
     "iopub.execute_input": "2023-06-02T04:14:35.192517Z",
     "iopub.status.busy": "2023-06-02T04:14:35.192121Z",
     "iopub.status.idle": "2023-06-02T04:14:35.196517Z",
     "shell.execute_reply": "2023-06-02T04:14:35.195587Z"
    },
    "papermill": {
     "duration": 0.021243,
     "end_time": "2023-06-02T04:14:35.198705",
     "exception": false,
     "start_time": "2023-06-02T04:14:35.177462",
     "status": "completed"
    },
    "tags": []
   },
   "outputs": [],
   "source": [
    "from sklearn.preprocessing import LabelEncoder"
   ]
  },
  {
   "cell_type": "code",
   "execution_count": 32,
   "id": "85c1437e",
   "metadata": {
    "execution": {
     "iopub.execute_input": "2023-06-02T04:14:35.228037Z",
     "iopub.status.busy": "2023-06-02T04:14:35.227304Z",
     "iopub.status.idle": "2023-06-02T04:14:35.231900Z",
     "shell.execute_reply": "2023-06-02T04:14:35.231123Z"
    },
    "papermill": {
     "duration": 0.021716,
     "end_time": "2023-06-02T04:14:35.233985",
     "exception": false,
     "start_time": "2023-06-02T04:14:35.212269",
     "status": "completed"
    },
    "tags": []
   },
   "outputs": [],
   "source": [
    "le = LabelEncoder()"
   ]
  },
  {
   "cell_type": "code",
   "execution_count": 33,
   "id": "7e02678c",
   "metadata": {
    "execution": {
     "iopub.execute_input": "2023-06-02T04:14:35.263094Z",
     "iopub.status.busy": "2023-06-02T04:14:35.262506Z",
     "iopub.status.idle": "2023-06-02T04:14:35.269284Z",
     "shell.execute_reply": "2023-06-02T04:14:35.268586Z"
    },
    "papermill": {
     "duration": 0.023331,
     "end_time": "2023-06-02T04:14:35.271092",
     "exception": false,
     "start_time": "2023-06-02T04:14:35.247761",
     "status": "completed"
    },
    "tags": []
   },
   "outputs": [],
   "source": [
    "labels = le.fit_transform(df['label'])"
   ]
  },
  {
   "cell_type": "code",
   "execution_count": 34,
   "id": "056d55e1",
   "metadata": {
    "execution": {
     "iopub.execute_input": "2023-06-02T04:14:35.299538Z",
     "iopub.status.busy": "2023-06-02T04:14:35.298914Z",
     "iopub.status.idle": "2023-06-02T04:14:35.304917Z",
     "shell.execute_reply": "2023-06-02T04:14:35.304163Z"
    },
    "papermill": {
     "duration": 0.022426,
     "end_time": "2023-06-02T04:14:35.306746",
     "exception": false,
     "start_time": "2023-06-02T04:14:35.284320",
     "status": "completed"
    },
    "tags": []
   },
   "outputs": [
    {
     "data": {
      "text/plain": [
       "array(['barely-true', 'false', 'half-true', 'mostly-true', 'pants-fire',\n",
       "       'true'], dtype=object)"
      ]
     },
     "execution_count": 34,
     "metadata": {},
     "output_type": "execute_result"
    }
   ],
   "source": [
    "le.classes_"
   ]
  },
  {
   "cell_type": "code",
   "execution_count": 35,
   "id": "21d0fc1e",
   "metadata": {
    "execution": {
     "iopub.execute_input": "2023-06-02T04:14:35.335285Z",
     "iopub.status.busy": "2023-06-02T04:14:35.334683Z",
     "iopub.status.idle": "2023-06-02T04:14:35.338867Z",
     "shell.execute_reply": "2023-06-02T04:14:35.338202Z"
    },
    "papermill": {
     "duration": 0.020606,
     "end_time": "2023-06-02T04:14:35.340694",
     "exception": false,
     "start_time": "2023-06-02T04:14:35.320088",
     "status": "completed"
    },
    "tags": []
   },
   "outputs": [],
   "source": [
    "from sklearn.model_selection import train_test_split"
   ]
  },
  {
   "cell_type": "code",
   "execution_count": 36,
   "id": "20a622d9",
   "metadata": {
    "execution": {
     "iopub.execute_input": "2023-06-02T04:14:35.369190Z",
     "iopub.status.busy": "2023-06-02T04:14:35.368602Z",
     "iopub.status.idle": "2023-06-02T04:14:35.595499Z",
     "shell.execute_reply": "2023-06-02T04:14:35.594433Z"
    },
    "papermill": {
     "duration": 0.243979,
     "end_time": "2023-06-02T04:14:35.597967",
     "exception": false,
     "start_time": "2023-06-02T04:14:35.353988",
     "status": "completed"
    },
    "tags": []
   },
   "outputs": [],
   "source": [
    "modeldf = pd.DataFrame(X.toarray())\n",
    "modeldf.columns = modeldf.columns.astype(str)"
   ]
  },
  {
   "cell_type": "code",
   "execution_count": 37,
   "id": "d2fe42e1",
   "metadata": {
    "execution": {
     "iopub.execute_input": "2023-06-02T04:14:35.626333Z",
     "iopub.status.busy": "2023-06-02T04:14:35.625952Z",
     "iopub.status.idle": "2023-06-02T04:14:35.643773Z",
     "shell.execute_reply": "2023-06-02T04:14:35.642713Z"
    },
    "papermill": {
     "duration": 0.03437,
     "end_time": "2023-06-02T04:14:35.645949",
     "exception": false,
     "start_time": "2023-06-02T04:14:35.611579",
     "status": "completed"
    },
    "tags": []
   },
   "outputs": [],
   "source": [
    "modeldf[['count_1', 'count_2', 'count_3', 'count_4', 'count_5']] = df[['count_1', 'count_2', 'count_3', 'count_4', 'count_5']].copy()\n",
    "modeldf['label'] = labels"
   ]
  },
  {
   "cell_type": "code",
   "execution_count": 38,
   "id": "5229ed33",
   "metadata": {
    "execution": {
     "iopub.execute_input": "2023-06-02T04:14:35.675004Z",
     "iopub.status.busy": "2023-06-02T04:14:35.674617Z",
     "iopub.status.idle": "2023-06-02T04:14:35.682213Z",
     "shell.execute_reply": "2023-06-02T04:14:35.681285Z"
    },
    "papermill": {
     "duration": 0.024347,
     "end_time": "2023-06-02T04:14:35.684038",
     "exception": false,
     "start_time": "2023-06-02T04:14:35.659691",
     "status": "completed"
    },
    "tags": []
   },
   "outputs": [
    {
     "data": {
      "text/plain": [
       "array([ 0., 70.,  7., 15.,  3.,  1., 18., 34.,  2., 40., 28., 36., 33.,\n",
       "        6., 11., 13., 30., 63., 31.,  9., 12., 10.,  5., 26., 14., 19.,\n",
       "        4.,  8., 17., 16., nan])"
      ]
     },
     "execution_count": 38,
     "metadata": {},
     "output_type": "execute_result"
    }
   ],
   "source": [
    "modeldf['count_1'].unique()"
   ]
  },
  {
   "cell_type": "code",
   "execution_count": 39,
   "id": "5472bbed",
   "metadata": {
    "execution": {
     "iopub.execute_input": "2023-06-02T04:14:35.712670Z",
     "iopub.status.busy": "2023-06-02T04:14:35.712046Z",
     "iopub.status.idle": "2023-06-02T04:14:35.756684Z",
     "shell.execute_reply": "2023-06-02T04:14:35.755561Z"
    },
    "papermill": {
     "duration": 0.061623,
     "end_time": "2023-06-02T04:14:35.759079",
     "exception": false,
     "start_time": "2023-06-02T04:14:35.697456",
     "status": "completed"
    },
    "tags": []
   },
   "outputs": [
    {
     "data": {
      "text/html": [
       "<div>\n",
       "<style scoped>\n",
       "    .dataframe tbody tr th:only-of-type {\n",
       "        vertical-align: middle;\n",
       "    }\n",
       "\n",
       "    .dataframe tbody tr th {\n",
       "        vertical-align: top;\n",
       "    }\n",
       "\n",
       "    .dataframe thead th {\n",
       "        text-align: right;\n",
       "    }\n",
       "</style>\n",
       "<table border=\"1\" class=\"dataframe\">\n",
       "  <thead>\n",
       "    <tr style=\"text-align: right;\">\n",
       "      <th></th>\n",
       "      <th>0</th>\n",
       "      <th>1</th>\n",
       "      <th>2</th>\n",
       "      <th>3</th>\n",
       "      <th>4</th>\n",
       "      <th>5</th>\n",
       "      <th>6</th>\n",
       "      <th>7</th>\n",
       "      <th>8</th>\n",
       "      <th>9</th>\n",
       "      <th>...</th>\n",
       "      <th>2496</th>\n",
       "      <th>2497</th>\n",
       "      <th>2498</th>\n",
       "      <th>2499</th>\n",
       "      <th>count_1</th>\n",
       "      <th>count_2</th>\n",
       "      <th>count_3</th>\n",
       "      <th>count_4</th>\n",
       "      <th>count_5</th>\n",
       "      <th>label</th>\n",
       "    </tr>\n",
       "  </thead>\n",
       "  <tbody>\n",
       "    <tr>\n",
       "      <th>0</th>\n",
       "      <td>0.0</td>\n",
       "      <td>0.0</td>\n",
       "      <td>0.0</td>\n",
       "      <td>0.0</td>\n",
       "      <td>0.0</td>\n",
       "      <td>0.0</td>\n",
       "      <td>0.0</td>\n",
       "      <td>0.0</td>\n",
       "      <td>0.0</td>\n",
       "      <td>0.0</td>\n",
       "      <td>...</td>\n",
       "      <td>0.0</td>\n",
       "      <td>0.0</td>\n",
       "      <td>0.0</td>\n",
       "      <td>0.0</td>\n",
       "      <td>0.0</td>\n",
       "      <td>0.0</td>\n",
       "      <td>1.0</td>\n",
       "      <td>1.0</td>\n",
       "      <td>0.0</td>\n",
       "      <td>2</td>\n",
       "    </tr>\n",
       "    <tr>\n",
       "      <th>1</th>\n",
       "      <td>0.0</td>\n",
       "      <td>0.0</td>\n",
       "      <td>0.0</td>\n",
       "      <td>0.0</td>\n",
       "      <td>0.0</td>\n",
       "      <td>0.0</td>\n",
       "      <td>0.0</td>\n",
       "      <td>0.0</td>\n",
       "      <td>0.0</td>\n",
       "      <td>0.0</td>\n",
       "      <td>...</td>\n",
       "      <td>0.0</td>\n",
       "      <td>0.0</td>\n",
       "      <td>0.0</td>\n",
       "      <td>0.0</td>\n",
       "      <td>70.0</td>\n",
       "      <td>71.0</td>\n",
       "      <td>160.0</td>\n",
       "      <td>163.0</td>\n",
       "      <td>9.0</td>\n",
       "      <td>3</td>\n",
       "    </tr>\n",
       "    <tr>\n",
       "      <th>2</th>\n",
       "      <td>0.0</td>\n",
       "      <td>0.0</td>\n",
       "      <td>0.0</td>\n",
       "      <td>0.0</td>\n",
       "      <td>0.0</td>\n",
       "      <td>0.0</td>\n",
       "      <td>0.0</td>\n",
       "      <td>0.0</td>\n",
       "      <td>0.0</td>\n",
       "      <td>0.0</td>\n",
       "      <td>...</td>\n",
       "      <td>0.0</td>\n",
       "      <td>0.0</td>\n",
       "      <td>0.0</td>\n",
       "      <td>0.0</td>\n",
       "      <td>7.0</td>\n",
       "      <td>19.0</td>\n",
       "      <td>3.0</td>\n",
       "      <td>5.0</td>\n",
       "      <td>44.0</td>\n",
       "      <td>1</td>\n",
       "    </tr>\n",
       "    <tr>\n",
       "      <th>3</th>\n",
       "      <td>0.0</td>\n",
       "      <td>0.0</td>\n",
       "      <td>0.0</td>\n",
       "      <td>0.0</td>\n",
       "      <td>0.0</td>\n",
       "      <td>0.0</td>\n",
       "      <td>0.0</td>\n",
       "      <td>0.0</td>\n",
       "      <td>0.0</td>\n",
       "      <td>0.0</td>\n",
       "      <td>...</td>\n",
       "      <td>0.0</td>\n",
       "      <td>0.0</td>\n",
       "      <td>0.0</td>\n",
       "      <td>0.0</td>\n",
       "      <td>15.0</td>\n",
       "      <td>9.0</td>\n",
       "      <td>20.0</td>\n",
       "      <td>19.0</td>\n",
       "      <td>2.0</td>\n",
       "      <td>2</td>\n",
       "    </tr>\n",
       "    <tr>\n",
       "      <th>4</th>\n",
       "      <td>0.0</td>\n",
       "      <td>0.0</td>\n",
       "      <td>0.0</td>\n",
       "      <td>0.0</td>\n",
       "      <td>0.0</td>\n",
       "      <td>0.0</td>\n",
       "      <td>0.0</td>\n",
       "      <td>0.0</td>\n",
       "      <td>0.0</td>\n",
       "      <td>0.0</td>\n",
       "      <td>...</td>\n",
       "      <td>0.0</td>\n",
       "      <td>0.0</td>\n",
       "      <td>0.0</td>\n",
       "      <td>0.0</td>\n",
       "      <td>0.0</td>\n",
       "      <td>3.0</td>\n",
       "      <td>2.0</td>\n",
       "      <td>5.0</td>\n",
       "      <td>1.0</td>\n",
       "      <td>5</td>\n",
       "    </tr>\n",
       "    <tr>\n",
       "      <th>...</th>\n",
       "      <td>...</td>\n",
       "      <td>...</td>\n",
       "      <td>...</td>\n",
       "      <td>...</td>\n",
       "      <td>...</td>\n",
       "      <td>...</td>\n",
       "      <td>...</td>\n",
       "      <td>...</td>\n",
       "      <td>...</td>\n",
       "      <td>...</td>\n",
       "      <td>...</td>\n",
       "      <td>...</td>\n",
       "      <td>...</td>\n",
       "      <td>...</td>\n",
       "      <td>...</td>\n",
       "      <td>...</td>\n",
       "      <td>...</td>\n",
       "      <td>...</td>\n",
       "      <td>...</td>\n",
       "      <td>...</td>\n",
       "      <td>...</td>\n",
       "    </tr>\n",
       "    <tr>\n",
       "      <th>10231</th>\n",
       "      <td>0.0</td>\n",
       "      <td>0.0</td>\n",
       "      <td>0.0</td>\n",
       "      <td>0.0</td>\n",
       "      <td>0.0</td>\n",
       "      <td>0.0</td>\n",
       "      <td>0.0</td>\n",
       "      <td>0.0</td>\n",
       "      <td>0.0</td>\n",
       "      <td>0.0</td>\n",
       "      <td>...</td>\n",
       "      <td>0.0</td>\n",
       "      <td>0.0</td>\n",
       "      <td>0.0</td>\n",
       "      <td>0.0</td>\n",
       "      <td>0.0</td>\n",
       "      <td>1.0</td>\n",
       "      <td>1.0</td>\n",
       "      <td>1.0</td>\n",
       "      <td>0.0</td>\n",
       "      <td>3</td>\n",
       "    </tr>\n",
       "    <tr>\n",
       "      <th>10232</th>\n",
       "      <td>0.0</td>\n",
       "      <td>0.0</td>\n",
       "      <td>0.0</td>\n",
       "      <td>0.0</td>\n",
       "      <td>0.0</td>\n",
       "      <td>0.0</td>\n",
       "      <td>0.0</td>\n",
       "      <td>0.0</td>\n",
       "      <td>0.0</td>\n",
       "      <td>0.0</td>\n",
       "      <td>...</td>\n",
       "      <td>0.0</td>\n",
       "      <td>0.0</td>\n",
       "      <td>0.0</td>\n",
       "      <td>0.0</td>\n",
       "      <td>0.0</td>\n",
       "      <td>0.0</td>\n",
       "      <td>0.0</td>\n",
       "      <td>1.0</td>\n",
       "      <td>0.0</td>\n",
       "      <td>3</td>\n",
       "    </tr>\n",
       "    <tr>\n",
       "      <th>10233</th>\n",
       "      <td>0.0</td>\n",
       "      <td>0.0</td>\n",
       "      <td>0.0</td>\n",
       "      <td>0.0</td>\n",
       "      <td>0.0</td>\n",
       "      <td>0.0</td>\n",
       "      <td>0.0</td>\n",
       "      <td>0.0</td>\n",
       "      <td>0.0</td>\n",
       "      <td>0.0</td>\n",
       "      <td>...</td>\n",
       "      <td>0.0</td>\n",
       "      <td>0.0</td>\n",
       "      <td>0.0</td>\n",
       "      <td>0.0</td>\n",
       "      <td>4.0</td>\n",
       "      <td>11.0</td>\n",
       "      <td>5.0</td>\n",
       "      <td>3.0</td>\n",
       "      <td>3.0</td>\n",
       "      <td>2</td>\n",
       "    </tr>\n",
       "    <tr>\n",
       "      <th>10234</th>\n",
       "      <td>0.0</td>\n",
       "      <td>0.0</td>\n",
       "      <td>0.0</td>\n",
       "      <td>0.0</td>\n",
       "      <td>0.0</td>\n",
       "      <td>0.0</td>\n",
       "      <td>0.0</td>\n",
       "      <td>0.0</td>\n",
       "      <td>0.0</td>\n",
       "      <td>0.0</td>\n",
       "      <td>...</td>\n",
       "      <td>0.0</td>\n",
       "      <td>0.0</td>\n",
       "      <td>0.0</td>\n",
       "      <td>0.0</td>\n",
       "      <td>3.0</td>\n",
       "      <td>1.0</td>\n",
       "      <td>3.0</td>\n",
       "      <td>0.0</td>\n",
       "      <td>0.0</td>\n",
       "      <td>1</td>\n",
       "    </tr>\n",
       "    <tr>\n",
       "      <th>10235</th>\n",
       "      <td>0.0</td>\n",
       "      <td>0.0</td>\n",
       "      <td>0.0</td>\n",
       "      <td>0.0</td>\n",
       "      <td>0.0</td>\n",
       "      <td>0.0</td>\n",
       "      <td>0.0</td>\n",
       "      <td>0.0</td>\n",
       "      <td>0.0</td>\n",
       "      <td>0.0</td>\n",
       "      <td>...</td>\n",
       "      <td>0.0</td>\n",
       "      <td>0.0</td>\n",
       "      <td>0.0</td>\n",
       "      <td>0.0</td>\n",
       "      <td>0.0</td>\n",
       "      <td>1.0</td>\n",
       "      <td>1.0</td>\n",
       "      <td>0.0</td>\n",
       "      <td>2.0</td>\n",
       "      <td>4</td>\n",
       "    </tr>\n",
       "  </tbody>\n",
       "</table>\n",
       "<p>10236 rows × 2506 columns</p>\n",
       "</div>"
      ],
      "text/plain": [
       "         0    1    2    3    4    5    6    7    8    9  ...  2496  2497  \\\n",
       "0      0.0  0.0  0.0  0.0  0.0  0.0  0.0  0.0  0.0  0.0  ...   0.0   0.0   \n",
       "1      0.0  0.0  0.0  0.0  0.0  0.0  0.0  0.0  0.0  0.0  ...   0.0   0.0   \n",
       "2      0.0  0.0  0.0  0.0  0.0  0.0  0.0  0.0  0.0  0.0  ...   0.0   0.0   \n",
       "3      0.0  0.0  0.0  0.0  0.0  0.0  0.0  0.0  0.0  0.0  ...   0.0   0.0   \n",
       "4      0.0  0.0  0.0  0.0  0.0  0.0  0.0  0.0  0.0  0.0  ...   0.0   0.0   \n",
       "...    ...  ...  ...  ...  ...  ...  ...  ...  ...  ...  ...   ...   ...   \n",
       "10231  0.0  0.0  0.0  0.0  0.0  0.0  0.0  0.0  0.0  0.0  ...   0.0   0.0   \n",
       "10232  0.0  0.0  0.0  0.0  0.0  0.0  0.0  0.0  0.0  0.0  ...   0.0   0.0   \n",
       "10233  0.0  0.0  0.0  0.0  0.0  0.0  0.0  0.0  0.0  0.0  ...   0.0   0.0   \n",
       "10234  0.0  0.0  0.0  0.0  0.0  0.0  0.0  0.0  0.0  0.0  ...   0.0   0.0   \n",
       "10235  0.0  0.0  0.0  0.0  0.0  0.0  0.0  0.0  0.0  0.0  ...   0.0   0.0   \n",
       "\n",
       "       2498  2499  count_1  count_2  count_3  count_4  count_5  label  \n",
       "0       0.0   0.0      0.0      0.0      1.0      1.0      0.0      2  \n",
       "1       0.0   0.0     70.0     71.0    160.0    163.0      9.0      3  \n",
       "2       0.0   0.0      7.0     19.0      3.0      5.0     44.0      1  \n",
       "3       0.0   0.0     15.0      9.0     20.0     19.0      2.0      2  \n",
       "4       0.0   0.0      0.0      3.0      2.0      5.0      1.0      5  \n",
       "...     ...   ...      ...      ...      ...      ...      ...    ...  \n",
       "10231   0.0   0.0      0.0      1.0      1.0      1.0      0.0      3  \n",
       "10232   0.0   0.0      0.0      0.0      0.0      1.0      0.0      3  \n",
       "10233   0.0   0.0      4.0     11.0      5.0      3.0      3.0      2  \n",
       "10234   0.0   0.0      3.0      1.0      3.0      0.0      0.0      1  \n",
       "10235   0.0   0.0      0.0      1.0      1.0      0.0      2.0      4  \n",
       "\n",
       "[10236 rows x 2506 columns]"
      ]
     },
     "execution_count": 39,
     "metadata": {},
     "output_type": "execute_result"
    }
   ],
   "source": [
    "modeldf"
   ]
  },
  {
   "cell_type": "code",
   "execution_count": 40,
   "id": "193fe40d",
   "metadata": {
    "execution": {
     "iopub.execute_input": "2023-06-02T04:14:35.789451Z",
     "iopub.status.busy": "2023-06-02T04:14:35.788541Z",
     "iopub.status.idle": "2023-06-02T04:14:36.164883Z",
     "shell.execute_reply": "2023-06-02T04:14:36.163663Z"
    },
    "papermill": {
     "duration": 0.394096,
     "end_time": "2023-06-02T04:14:36.167433",
     "exception": false,
     "start_time": "2023-06-02T04:14:35.773337",
     "status": "completed"
    },
    "tags": []
   },
   "outputs": [],
   "source": [
    "modeldf.dropna(inplace=True)"
   ]
  },
  {
   "cell_type": "code",
   "execution_count": 41,
   "id": "86ca22f6",
   "metadata": {
    "execution": {
     "iopub.execute_input": "2023-06-02T04:14:36.199438Z",
     "iopub.status.busy": "2023-06-02T04:14:36.198383Z",
     "iopub.status.idle": "2023-06-02T04:14:36.265107Z",
     "shell.execute_reply": "2023-06-02T04:14:36.264162Z"
    },
    "papermill": {
     "duration": 0.084943,
     "end_time": "2023-06-02T04:14:36.267301",
     "exception": false,
     "start_time": "2023-06-02T04:14:36.182358",
     "status": "completed"
    },
    "tags": []
   },
   "outputs": [],
   "source": [
    "train = modeldf.loc[:, :'count_5']"
   ]
  },
  {
   "cell_type": "code",
   "execution_count": 42,
   "id": "65f4be7a",
   "metadata": {
    "execution": {
     "iopub.execute_input": "2023-06-02T04:14:36.296966Z",
     "iopub.status.busy": "2023-06-02T04:14:36.296604Z",
     "iopub.status.idle": "2023-06-02T04:14:36.302811Z",
     "shell.execute_reply": "2023-06-02T04:14:36.301820Z"
    },
    "papermill": {
     "duration": 0.023469,
     "end_time": "2023-06-02T04:14:36.304952",
     "exception": false,
     "start_time": "2023-06-02T04:14:36.281483",
     "status": "completed"
    },
    "tags": []
   },
   "outputs": [
    {
     "data": {
      "text/plain": [
       "(10234, 2505)"
      ]
     },
     "execution_count": 42,
     "metadata": {},
     "output_type": "execute_result"
    }
   ],
   "source": [
    "train.shape"
   ]
  },
  {
   "cell_type": "code",
   "execution_count": 43,
   "id": "26edb227",
   "metadata": {
    "execution": {
     "iopub.execute_input": "2023-06-02T04:14:36.335313Z",
     "iopub.status.busy": "2023-06-02T04:14:36.334625Z",
     "iopub.status.idle": "2023-06-02T04:14:36.339293Z",
     "shell.execute_reply": "2023-06-02T04:14:36.338300Z"
    },
    "papermill": {
     "duration": 0.022105,
     "end_time": "2023-06-02T04:14:36.341182",
     "exception": false,
     "start_time": "2023-06-02T04:14:36.319077",
     "status": "completed"
    },
    "tags": []
   },
   "outputs": [],
   "source": [
    "label = modeldf['label']"
   ]
  },
  {
   "cell_type": "code",
   "execution_count": 44,
   "id": "0ba01d1a",
   "metadata": {
    "execution": {
     "iopub.execute_input": "2023-06-02T04:14:36.371822Z",
     "iopub.status.busy": "2023-06-02T04:14:36.371143Z",
     "iopub.status.idle": "2023-06-02T04:14:36.508449Z",
     "shell.execute_reply": "2023-06-02T04:14:36.507290Z"
    },
    "papermill": {
     "duration": 0.15561,
     "end_time": "2023-06-02T04:14:36.511005",
     "exception": false,
     "start_time": "2023-06-02T04:14:36.355395",
     "status": "completed"
    },
    "tags": []
   },
   "outputs": [],
   "source": [
    "X_train, X_test, y_train, y_test = train_test_split(train, label)"
   ]
  },
  {
   "cell_type": "code",
   "execution_count": 45,
   "id": "d6cc4e30",
   "metadata": {
    "execution": {
     "iopub.execute_input": "2023-06-02T04:14:36.541577Z",
     "iopub.status.busy": "2023-06-02T04:14:36.541186Z",
     "iopub.status.idle": "2023-06-02T04:14:36.547125Z",
     "shell.execute_reply": "2023-06-02T04:14:36.546207Z"
    },
    "papermill": {
     "duration": 0.023219,
     "end_time": "2023-06-02T04:14:36.549133",
     "exception": false,
     "start_time": "2023-06-02T04:14:36.525914",
     "status": "completed"
    },
    "tags": []
   },
   "outputs": [
    {
     "data": {
      "text/plain": [
       "(10236,)"
      ]
     },
     "execution_count": 45,
     "metadata": {},
     "output_type": "execute_result"
    }
   ],
   "source": [
    "labels.shape"
   ]
  },
  {
   "cell_type": "code",
   "execution_count": 46,
   "id": "cc8a37f0",
   "metadata": {
    "execution": {
     "iopub.execute_input": "2023-06-02T04:14:36.580077Z",
     "iopub.status.busy": "2023-06-02T04:14:36.579699Z",
     "iopub.status.idle": "2023-06-02T04:14:36.585690Z",
     "shell.execute_reply": "2023-06-02T04:14:36.584927Z"
    },
    "papermill": {
     "duration": 0.023644,
     "end_time": "2023-06-02T04:14:36.587484",
     "exception": false,
     "start_time": "2023-06-02T04:14:36.563840",
     "status": "completed"
    },
    "tags": []
   },
   "outputs": [
    {
     "data": {
      "text/plain": [
       "(10234, 2506)"
      ]
     },
     "execution_count": 46,
     "metadata": {},
     "output_type": "execute_result"
    }
   ],
   "source": [
    "modeldf.shape"
   ]
  },
  {
   "cell_type": "code",
   "execution_count": 47,
   "id": "cc580ae4",
   "metadata": {
    "execution": {
     "iopub.execute_input": "2023-06-02T04:14:36.618338Z",
     "iopub.status.busy": "2023-06-02T04:14:36.617514Z",
     "iopub.status.idle": "2023-06-02T04:14:36.622191Z",
     "shell.execute_reply": "2023-06-02T04:14:36.621270Z"
    },
    "papermill": {
     "duration": 0.022121,
     "end_time": "2023-06-02T04:14:36.624155",
     "exception": false,
     "start_time": "2023-06-02T04:14:36.602034",
     "status": "completed"
    },
    "tags": []
   },
   "outputs": [],
   "source": [
    "import sklearn\n",
    "from sklearn.svm import SVC"
   ]
  },
  {
   "cell_type": "code",
   "execution_count": 48,
   "id": "9768d286",
   "metadata": {
    "execution": {
     "iopub.execute_input": "2023-06-02T04:14:36.654553Z",
     "iopub.status.busy": "2023-06-02T04:14:36.654140Z",
     "iopub.status.idle": "2023-06-02T04:14:36.660302Z",
     "shell.execute_reply": "2023-06-02T04:14:36.659402Z"
    },
    "papermill": {
     "duration": 0.023478,
     "end_time": "2023-06-02T04:14:36.662239",
     "exception": false,
     "start_time": "2023-06-02T04:14:36.638761",
     "status": "completed"
    },
    "tags": []
   },
   "outputs": [
    {
     "data": {
      "text/plain": [
       "pandas.core.frame.DataFrame"
      ]
     },
     "execution_count": 48,
     "metadata": {},
     "output_type": "execute_result"
    }
   ],
   "source": [
    "type(X_train)"
   ]
  },
  {
   "cell_type": "code",
   "execution_count": 49,
   "id": "183cc5f6",
   "metadata": {
    "execution": {
     "iopub.execute_input": "2023-06-02T04:14:36.692096Z",
     "iopub.status.busy": "2023-06-02T04:14:36.691726Z",
     "iopub.status.idle": "2023-06-02T04:14:36.725061Z",
     "shell.execute_reply": "2023-06-02T04:14:36.724061Z"
    },
    "papermill": {
     "duration": 0.050759,
     "end_time": "2023-06-02T04:14:36.727344",
     "exception": false,
     "start_time": "2023-06-02T04:14:36.676585",
     "status": "completed"
    },
    "tags": []
   },
   "outputs": [
    {
     "data": {
      "text/plain": [
       "0          False\n",
       "1          False\n",
       "2          False\n",
       "3          False\n",
       "4          False\n",
       "           ...  \n",
       "count_1    False\n",
       "count_2    False\n",
       "count_3    False\n",
       "count_4    False\n",
       "count_5    False\n",
       "Length: 2505, dtype: bool"
      ]
     },
     "execution_count": 49,
     "metadata": {},
     "output_type": "execute_result"
    }
   ],
   "source": [
    "X_train.isna().any()"
   ]
  },
  {
   "cell_type": "code",
   "execution_count": 50,
   "id": "c83cc573",
   "metadata": {
    "execution": {
     "iopub.execute_input": "2023-06-02T04:14:36.759118Z",
     "iopub.status.busy": "2023-06-02T04:14:36.758720Z",
     "iopub.status.idle": "2023-06-02T04:19:54.926053Z",
     "shell.execute_reply": "2023-06-02T04:19:54.925032Z"
    },
    "papermill": {
     "duration": 318.201455,
     "end_time": "2023-06-02T04:19:54.943827",
     "exception": false,
     "start_time": "2023-06-02T04:14:36.742372",
     "status": "completed"
    },
    "tags": []
   },
   "outputs": [
    {
     "data": {
      "text/plain": [
       "0.2512052117263844"
      ]
     },
     "execution_count": 50,
     "metadata": {},
     "output_type": "execute_result"
    }
   ],
   "source": [
    "svc = SVC(C=0.5)\n",
    "svc.fit(X_train, y_train)\n",
    "svc.score(X_train, y_train)"
   ]
  },
  {
   "cell_type": "code",
   "execution_count": 51,
   "id": "7f32e9e9",
   "metadata": {
    "execution": {
     "iopub.execute_input": "2023-06-02T04:19:54.975866Z",
     "iopub.status.busy": "2023-06-02T04:19:54.974780Z",
     "iopub.status.idle": "2023-06-02T04:20:46.966673Z",
     "shell.execute_reply": "2023-06-02T04:20:46.965567Z"
    },
    "papermill": {
     "duration": 52.024838,
     "end_time": "2023-06-02T04:20:46.983415",
     "exception": false,
     "start_time": "2023-06-02T04:19:54.958577",
     "status": "completed"
    },
    "tags": []
   },
   "outputs": [
    {
     "data": {
      "text/plain": [
       "0.2485345838218054"
      ]
     },
     "execution_count": 51,
     "metadata": {},
     "output_type": "execute_result"
    }
   ],
   "source": [
    "svc.score(X_test, y_test)"
   ]
  }
 ],
 "metadata": {
  "kernelspec": {
   "display_name": "Python 3",
   "language": "python",
   "name": "python3"
  },
  "language_info": {
   "codemirror_mode": {
    "name": "ipython",
    "version": 3
   },
   "file_extension": ".py",
   "mimetype": "text/x-python",
   "name": "python",
   "nbconvert_exporter": "python",
   "pygments_lexer": "ipython3",
   "version": "3.10.10"
  },
  "papermill": {
   "default_parameters": {},
   "duration": 470.717756,
   "end_time": "2023-06-02T04:20:50.576945",
   "environment_variables": {},
   "exception": null,
   "input_path": "__notebook__.ipynb",
   "output_path": "__notebook__.ipynb",
   "parameters": {},
   "start_time": "2023-06-02T04:12:59.859189",
   "version": "2.4.0"
  }
 },
 "nbformat": 4,
 "nbformat_minor": 5
}

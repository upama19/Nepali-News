{
 "cells": [
  {
   "cell_type": "code",
   "execution_count": 1,
   "id": "4476125e",
   "metadata": {
    "execution": {
     "iopub.execute_input": "2023-05-25T10:08:26.182202Z",
     "iopub.status.busy": "2023-05-25T10:08:26.181814Z",
     "iopub.status.idle": "2023-05-25T10:08:28.471384Z",
     "shell.execute_reply": "2023-05-25T10:08:28.469325Z"
    },
    "papermill": {
     "duration": 2.300394,
     "end_time": "2023-05-25T10:08:28.474214",
     "exception": false,
     "start_time": "2023-05-25T10:08:26.173820",
     "status": "completed"
    },
    "tags": []
   },
   "outputs": [
    {
     "name": "stdout",
     "output_type": "stream",
     "text": [
      "[nltk_data] Downloading package punkt to /usr/share/nltk_data...\n",
      "[nltk_data]   Package punkt is already up-to-date!\n",
      "[nltk_data] Downloading package stopwords to /usr/share/nltk_data...\n",
      "[nltk_data]   Package stopwords is already up-to-date!\n"
     ]
    },
    {
     "data": {
      "text/plain": [
       "True"
      ]
     },
     "execution_count": 1,
     "metadata": {},
     "output_type": "execute_result"
    }
   ],
   "source": [
    "import pandas as pd\n",
    "import numpy as np\n",
    "import nltk\n",
    "# The NLTK data package includes a pre-trained Punkt tokenizer for English.\n",
    "# punkt had to be manually downloaded using the command below\n",
    "# same with stopwords\n",
    "nltk.download('punkt')\n",
    "from nltk.tokenize import word_tokenize\n",
    "from nltk.corpus import stopwords\n",
    "nltk.download('stopwords')"
   ]
  },
  {
   "cell_type": "code",
   "execution_count": 2,
   "id": "63f7d589",
   "metadata": {
    "execution": {
     "iopub.execute_input": "2023-05-25T10:08:28.489328Z",
     "iopub.status.busy": "2023-05-25T10:08:28.488258Z",
     "iopub.status.idle": "2023-05-25T10:08:28.728710Z",
     "shell.execute_reply": "2023-05-25T10:08:28.728011Z"
    },
    "papermill": {
     "duration": 0.250177,
     "end_time": "2023-05-25T10:08:28.730796",
     "exception": false,
     "start_time": "2023-05-25T10:08:28.480619",
     "status": "completed"
    },
    "tags": []
   },
   "outputs": [],
   "source": [
    "df = pd.read_csv('/kaggle/input/translated-data-english/translated_data_english.tsv', sep='\\t')"
   ]
  },
  {
   "cell_type": "code",
   "execution_count": 3,
   "id": "0295cee2",
   "metadata": {
    "execution": {
     "iopub.execute_input": "2023-05-25T10:08:28.744490Z",
     "iopub.status.busy": "2023-05-25T10:08:28.743827Z",
     "iopub.status.idle": "2023-05-25T10:08:28.782829Z",
     "shell.execute_reply": "2023-05-25T10:08:28.782141Z"
    },
    "papermill": {
     "duration": 0.048176,
     "end_time": "2023-05-25T10:08:28.784839",
     "exception": false,
     "start_time": "2023-05-25T10:08:28.736663",
     "status": "completed"
    },
    "tags": []
   },
   "outputs": [
    {
     "data": {
      "text/html": [
       "<div>\n",
       "<style scoped>\n",
       "    .dataframe tbody tr th:only-of-type {\n",
       "        vertical-align: middle;\n",
       "    }\n",
       "\n",
       "    .dataframe tbody tr th {\n",
       "        vertical-align: top;\n",
       "    }\n",
       "\n",
       "    .dataframe thead th {\n",
       "        text-align: right;\n",
       "    }\n",
       "</style>\n",
       "<table border=\"1\" class=\"dataframe\">\n",
       "  <thead>\n",
       "    <tr style=\"text-align: right;\">\n",
       "      <th></th>\n",
       "      <th>id</th>\n",
       "      <th>label</th>\n",
       "      <th>statement</th>\n",
       "      <th>subjects</th>\n",
       "      <th>speaker</th>\n",
       "      <th>speaker_job_title</th>\n",
       "      <th>state_info</th>\n",
       "      <th>party_affilation</th>\n",
       "      <th>count_1</th>\n",
       "      <th>count_2</th>\n",
       "      <th>count_3</th>\n",
       "      <th>count_4</th>\n",
       "      <th>count_5</th>\n",
       "      <th>context</th>\n",
       "      <th>statement_removedpunctuation</th>\n",
       "      <th>nepali_translation</th>\n",
       "      <th>english_translation</th>\n",
       "    </tr>\n",
       "  </thead>\n",
       "  <tbody>\n",
       "    <tr>\n",
       "      <th>0</th>\n",
       "      <td>10540.json</td>\n",
       "      <td>half-true</td>\n",
       "      <td>When did the decline of coal start? It started...</td>\n",
       "      <td>energy,history,job-accomplishments</td>\n",
       "      <td>scott-surovell</td>\n",
       "      <td>State delegate</td>\n",
       "      <td>Virginia</td>\n",
       "      <td>democrat</td>\n",
       "      <td>0.0</td>\n",
       "      <td>0.0</td>\n",
       "      <td>1.0</td>\n",
       "      <td>1.0</td>\n",
       "      <td>0.0</td>\n",
       "      <td>a floor speech.</td>\n",
       "      <td>When did the decline of coal start It started ...</td>\n",
       "      <td>कोइलाको पतन कहिले सुरु भयो यो प्राकृतिक ग्यास ...</td>\n",
       "      <td>When did the decline of coal begin? It began w...</td>\n",
       "    </tr>\n",
       "    <tr>\n",
       "      <th>1</th>\n",
       "      <td>324.json</td>\n",
       "      <td>mostly-true</td>\n",
       "      <td>Hillary Clinton agrees with John McCain \"by vo...</td>\n",
       "      <td>foreign-policy</td>\n",
       "      <td>barack-obama</td>\n",
       "      <td>President</td>\n",
       "      <td>Illinois</td>\n",
       "      <td>democrat</td>\n",
       "      <td>70.0</td>\n",
       "      <td>71.0</td>\n",
       "      <td>160.0</td>\n",
       "      <td>163.0</td>\n",
       "      <td>9.0</td>\n",
       "      <td>Denver</td>\n",
       "      <td>Hillary Clinton agrees with John McCain by vot...</td>\n",
       "      <td>हिलारी क्लिन्टनले जर्ज बुशलाई इरानमा शंकाको फा...</td>\n",
       "      <td>Hillary Clinton agreed with John McCain by vot...</td>\n",
       "    </tr>\n",
       "    <tr>\n",
       "      <th>2</th>\n",
       "      <td>1123.json</td>\n",
       "      <td>false</td>\n",
       "      <td>Health care reform legislation is likely to ma...</td>\n",
       "      <td>health-care</td>\n",
       "      <td>blog-posting</td>\n",
       "      <td>NaN</td>\n",
       "      <td>NaN</td>\n",
       "      <td>none</td>\n",
       "      <td>7.0</td>\n",
       "      <td>19.0</td>\n",
       "      <td>3.0</td>\n",
       "      <td>5.0</td>\n",
       "      <td>44.0</td>\n",
       "      <td>a news release</td>\n",
       "      <td>Health care reform legislation is likely to ma...</td>\n",
       "      <td>स्वास्थ्य हेरचाह सुधार कानूनले नि: शुल्क लिंग ...</td>\n",
       "      <td>Health care reform legislation is likely to ma...</td>\n",
       "    </tr>\n",
       "    <tr>\n",
       "      <th>3</th>\n",
       "      <td>9028.json</td>\n",
       "      <td>half-true</td>\n",
       "      <td>The economic turnaround started at the end of ...</td>\n",
       "      <td>economy,jobs</td>\n",
       "      <td>charlie-crist</td>\n",
       "      <td>NaN</td>\n",
       "      <td>Florida</td>\n",
       "      <td>democrat</td>\n",
       "      <td>15.0</td>\n",
       "      <td>9.0</td>\n",
       "      <td>20.0</td>\n",
       "      <td>19.0</td>\n",
       "      <td>2.0</td>\n",
       "      <td>an interview on CNN</td>\n",
       "      <td>The economic turnaround started at the end of ...</td>\n",
       "      <td>मेरो कार्यकालको अन्त्यमा आर्थिक परिवर्तन सुरु भयो</td>\n",
       "      <td>Towards the end of my tenure, the economic tra...</td>\n",
       "    </tr>\n",
       "    <tr>\n",
       "      <th>4</th>\n",
       "      <td>12465.json</td>\n",
       "      <td>true</td>\n",
       "      <td>The Chicago Bears have had more starting quart...</td>\n",
       "      <td>education</td>\n",
       "      <td>robin-vos</td>\n",
       "      <td>Wisconsin Assembly speaker</td>\n",
       "      <td>Wisconsin</td>\n",
       "      <td>republican</td>\n",
       "      <td>0.0</td>\n",
       "      <td>3.0</td>\n",
       "      <td>2.0</td>\n",
       "      <td>5.0</td>\n",
       "      <td>1.0</td>\n",
       "      <td>a an online opinion-piece</td>\n",
       "      <td>The Chicago Bears have had more starting quart...</td>\n",
       "      <td>शिकागो बियर्सले विगत दुई दशकहरूमा बर्खास्त गरि...</td>\n",
       "      <td>The Chicago Bears have had more starting quart...</td>\n",
       "    </tr>\n",
       "  </tbody>\n",
       "</table>\n",
       "</div>"
      ],
      "text/plain": [
       "           id        label                                          statement  \\\n",
       "0  10540.json    half-true  When did the decline of coal start? It started...   \n",
       "1    324.json  mostly-true  Hillary Clinton agrees with John McCain \"by vo...   \n",
       "2   1123.json        false  Health care reform legislation is likely to ma...   \n",
       "3   9028.json    half-true  The economic turnaround started at the end of ...   \n",
       "4  12465.json         true  The Chicago Bears have had more starting quart...   \n",
       "\n",
       "                             subjects         speaker  \\\n",
       "0  energy,history,job-accomplishments  scott-surovell   \n",
       "1                      foreign-policy    barack-obama   \n",
       "2                         health-care    blog-posting   \n",
       "3                        economy,jobs   charlie-crist   \n",
       "4                           education       robin-vos   \n",
       "\n",
       "            speaker_job_title state_info party_affilation  count_1  count_2  \\\n",
       "0              State delegate   Virginia         democrat      0.0      0.0   \n",
       "1                   President   Illinois         democrat     70.0     71.0   \n",
       "2                         NaN        NaN             none      7.0     19.0   \n",
       "3                         NaN    Florida         democrat     15.0      9.0   \n",
       "4  Wisconsin Assembly speaker  Wisconsin       republican      0.0      3.0   \n",
       "\n",
       "   count_3  count_4  count_5                    context  \\\n",
       "0      1.0      1.0      0.0            a floor speech.   \n",
       "1    160.0    163.0      9.0                     Denver   \n",
       "2      3.0      5.0     44.0             a news release   \n",
       "3     20.0     19.0      2.0        an interview on CNN   \n",
       "4      2.0      5.0      1.0  a an online opinion-piece   \n",
       "\n",
       "                        statement_removedpunctuation  \\\n",
       "0  When did the decline of coal start It started ...   \n",
       "1  Hillary Clinton agrees with John McCain by vot...   \n",
       "2  Health care reform legislation is likely to ma...   \n",
       "3  The economic turnaround started at the end of ...   \n",
       "4  The Chicago Bears have had more starting quart...   \n",
       "\n",
       "                                  nepali_translation  \\\n",
       "0  कोइलाको पतन कहिले सुरु भयो यो प्राकृतिक ग्यास ...   \n",
       "1  हिलारी क्लिन्टनले जर्ज बुशलाई इरानमा शंकाको फा...   \n",
       "2  स्वास्थ्य हेरचाह सुधार कानूनले नि: शुल्क लिंग ...   \n",
       "3  मेरो कार्यकालको अन्त्यमा आर्थिक परिवर्तन सुरु भयो   \n",
       "4  शिकागो बियर्सले विगत दुई दशकहरूमा बर्खास्त गरि...   \n",
       "\n",
       "                                 english_translation  \n",
       "0  When did the decline of coal begin? It began w...  \n",
       "1  Hillary Clinton agreed with John McCain by vot...  \n",
       "2  Health care reform legislation is likely to ma...  \n",
       "3  Towards the end of my tenure, the economic tra...  \n",
       "4  The Chicago Bears have had more starting quart...  "
      ]
     },
     "execution_count": 3,
     "metadata": {},
     "output_type": "execute_result"
    }
   ],
   "source": [
    "df.head()"
   ]
  },
  {
   "cell_type": "code",
   "execution_count": 4,
   "id": "6e3159d1",
   "metadata": {
    "execution": {
     "iopub.execute_input": "2023-05-25T10:08:28.801058Z",
     "iopub.status.busy": "2023-05-25T10:08:28.800652Z",
     "iopub.status.idle": "2023-05-25T10:08:28.811572Z",
     "shell.execute_reply": "2023-05-25T10:08:28.810486Z"
    },
    "papermill": {
     "duration": 0.022441,
     "end_time": "2023-05-25T10:08:28.813692",
     "exception": false,
     "start_time": "2023-05-25T10:08:28.791251",
     "status": "completed"
    },
    "tags": []
   },
   "outputs": [],
   "source": [
    "df['english_translation'] = df['english_translation'].str.lower()"
   ]
  },
  {
   "cell_type": "code",
   "execution_count": 5,
   "id": "dab2187f",
   "metadata": {
    "execution": {
     "iopub.execute_input": "2023-05-25T10:08:28.828591Z",
     "iopub.status.busy": "2023-05-25T10:08:28.827569Z",
     "iopub.status.idle": "2023-05-25T10:08:28.846433Z",
     "shell.execute_reply": "2023-05-25T10:08:28.844956Z"
    },
    "papermill": {
     "duration": 0.028328,
     "end_time": "2023-05-25T10:08:28.848381",
     "exception": false,
     "start_time": "2023-05-25T10:08:28.820053",
     "status": "completed"
    },
    "tags": []
   },
   "outputs": [
    {
     "data": {
      "text/html": [
       "<div>\n",
       "<style scoped>\n",
       "    .dataframe tbody tr th:only-of-type {\n",
       "        vertical-align: middle;\n",
       "    }\n",
       "\n",
       "    .dataframe tbody tr th {\n",
       "        vertical-align: top;\n",
       "    }\n",
       "\n",
       "    .dataframe thead th {\n",
       "        text-align: right;\n",
       "    }\n",
       "</style>\n",
       "<table border=\"1\" class=\"dataframe\">\n",
       "  <thead>\n",
       "    <tr style=\"text-align: right;\">\n",
       "      <th></th>\n",
       "      <th>id</th>\n",
       "      <th>label</th>\n",
       "      <th>statement</th>\n",
       "      <th>subjects</th>\n",
       "      <th>speaker</th>\n",
       "      <th>speaker_job_title</th>\n",
       "      <th>state_info</th>\n",
       "      <th>party_affilation</th>\n",
       "      <th>count_1</th>\n",
       "      <th>count_2</th>\n",
       "      <th>count_3</th>\n",
       "      <th>count_4</th>\n",
       "      <th>count_5</th>\n",
       "      <th>context</th>\n",
       "      <th>statement_removedpunctuation</th>\n",
       "      <th>nepali_translation</th>\n",
       "      <th>english_translation</th>\n",
       "    </tr>\n",
       "  </thead>\n",
       "  <tbody>\n",
       "    <tr>\n",
       "      <th>0</th>\n",
       "      <td>10540.json</td>\n",
       "      <td>half-true</td>\n",
       "      <td>When did the decline of coal start? It started...</td>\n",
       "      <td>energy,history,job-accomplishments</td>\n",
       "      <td>scott-surovell</td>\n",
       "      <td>State delegate</td>\n",
       "      <td>Virginia</td>\n",
       "      <td>democrat</td>\n",
       "      <td>0.0</td>\n",
       "      <td>0.0</td>\n",
       "      <td>1.0</td>\n",
       "      <td>1.0</td>\n",
       "      <td>0.0</td>\n",
       "      <td>a floor speech.</td>\n",
       "      <td>When did the decline of coal start It started ...</td>\n",
       "      <td>कोइलाको पतन कहिले सुरु भयो यो प्राकृतिक ग्यास ...</td>\n",
       "      <td>when did the decline of coal begin? it began w...</td>\n",
       "    </tr>\n",
       "    <tr>\n",
       "      <th>1</th>\n",
       "      <td>324.json</td>\n",
       "      <td>mostly-true</td>\n",
       "      <td>Hillary Clinton agrees with John McCain \"by vo...</td>\n",
       "      <td>foreign-policy</td>\n",
       "      <td>barack-obama</td>\n",
       "      <td>President</td>\n",
       "      <td>Illinois</td>\n",
       "      <td>democrat</td>\n",
       "      <td>70.0</td>\n",
       "      <td>71.0</td>\n",
       "      <td>160.0</td>\n",
       "      <td>163.0</td>\n",
       "      <td>9.0</td>\n",
       "      <td>Denver</td>\n",
       "      <td>Hillary Clinton agrees with John McCain by vot...</td>\n",
       "      <td>हिलारी क्लिन्टनले जर्ज बुशलाई इरानमा शंकाको फा...</td>\n",
       "      <td>hillary clinton agreed with john mccain by vot...</td>\n",
       "    </tr>\n",
       "    <tr>\n",
       "      <th>2</th>\n",
       "      <td>1123.json</td>\n",
       "      <td>false</td>\n",
       "      <td>Health care reform legislation is likely to ma...</td>\n",
       "      <td>health-care</td>\n",
       "      <td>blog-posting</td>\n",
       "      <td>NaN</td>\n",
       "      <td>NaN</td>\n",
       "      <td>none</td>\n",
       "      <td>7.0</td>\n",
       "      <td>19.0</td>\n",
       "      <td>3.0</td>\n",
       "      <td>5.0</td>\n",
       "      <td>44.0</td>\n",
       "      <td>a news release</td>\n",
       "      <td>Health care reform legislation is likely to ma...</td>\n",
       "      <td>स्वास्थ्य हेरचाह सुधार कानूनले नि: शुल्क लिंग ...</td>\n",
       "      <td>health care reform legislation is likely to ma...</td>\n",
       "    </tr>\n",
       "    <tr>\n",
       "      <th>3</th>\n",
       "      <td>9028.json</td>\n",
       "      <td>half-true</td>\n",
       "      <td>The economic turnaround started at the end of ...</td>\n",
       "      <td>economy,jobs</td>\n",
       "      <td>charlie-crist</td>\n",
       "      <td>NaN</td>\n",
       "      <td>Florida</td>\n",
       "      <td>democrat</td>\n",
       "      <td>15.0</td>\n",
       "      <td>9.0</td>\n",
       "      <td>20.0</td>\n",
       "      <td>19.0</td>\n",
       "      <td>2.0</td>\n",
       "      <td>an interview on CNN</td>\n",
       "      <td>The economic turnaround started at the end of ...</td>\n",
       "      <td>मेरो कार्यकालको अन्त्यमा आर्थिक परिवर्तन सुरु भयो</td>\n",
       "      <td>towards the end of my tenure, the economic tra...</td>\n",
       "    </tr>\n",
       "    <tr>\n",
       "      <th>4</th>\n",
       "      <td>12465.json</td>\n",
       "      <td>true</td>\n",
       "      <td>The Chicago Bears have had more starting quart...</td>\n",
       "      <td>education</td>\n",
       "      <td>robin-vos</td>\n",
       "      <td>Wisconsin Assembly speaker</td>\n",
       "      <td>Wisconsin</td>\n",
       "      <td>republican</td>\n",
       "      <td>0.0</td>\n",
       "      <td>3.0</td>\n",
       "      <td>2.0</td>\n",
       "      <td>5.0</td>\n",
       "      <td>1.0</td>\n",
       "      <td>a an online opinion-piece</td>\n",
       "      <td>The Chicago Bears have had more starting quart...</td>\n",
       "      <td>शिकागो बियर्सले विगत दुई दशकहरूमा बर्खास्त गरि...</td>\n",
       "      <td>the chicago bears have had more starting quart...</td>\n",
       "    </tr>\n",
       "  </tbody>\n",
       "</table>\n",
       "</div>"
      ],
      "text/plain": [
       "           id        label                                          statement  \\\n",
       "0  10540.json    half-true  When did the decline of coal start? It started...   \n",
       "1    324.json  mostly-true  Hillary Clinton agrees with John McCain \"by vo...   \n",
       "2   1123.json        false  Health care reform legislation is likely to ma...   \n",
       "3   9028.json    half-true  The economic turnaround started at the end of ...   \n",
       "4  12465.json         true  The Chicago Bears have had more starting quart...   \n",
       "\n",
       "                             subjects         speaker  \\\n",
       "0  energy,history,job-accomplishments  scott-surovell   \n",
       "1                      foreign-policy    barack-obama   \n",
       "2                         health-care    blog-posting   \n",
       "3                        economy,jobs   charlie-crist   \n",
       "4                           education       robin-vos   \n",
       "\n",
       "            speaker_job_title state_info party_affilation  count_1  count_2  \\\n",
       "0              State delegate   Virginia         democrat      0.0      0.0   \n",
       "1                   President   Illinois         democrat     70.0     71.0   \n",
       "2                         NaN        NaN             none      7.0     19.0   \n",
       "3                         NaN    Florida         democrat     15.0      9.0   \n",
       "4  Wisconsin Assembly speaker  Wisconsin       republican      0.0      3.0   \n",
       "\n",
       "   count_3  count_4  count_5                    context  \\\n",
       "0      1.0      1.0      0.0            a floor speech.   \n",
       "1    160.0    163.0      9.0                     Denver   \n",
       "2      3.0      5.0     44.0             a news release   \n",
       "3     20.0     19.0      2.0        an interview on CNN   \n",
       "4      2.0      5.0      1.0  a an online opinion-piece   \n",
       "\n",
       "                        statement_removedpunctuation  \\\n",
       "0  When did the decline of coal start It started ...   \n",
       "1  Hillary Clinton agrees with John McCain by vot...   \n",
       "2  Health care reform legislation is likely to ma...   \n",
       "3  The economic turnaround started at the end of ...   \n",
       "4  The Chicago Bears have had more starting quart...   \n",
       "\n",
       "                                  nepali_translation  \\\n",
       "0  कोइलाको पतन कहिले सुरु भयो यो प्राकृतिक ग्यास ...   \n",
       "1  हिलारी क्लिन्टनले जर्ज बुशलाई इरानमा शंकाको फा...   \n",
       "2  स्वास्थ्य हेरचाह सुधार कानूनले नि: शुल्क लिंग ...   \n",
       "3  मेरो कार्यकालको अन्त्यमा आर्थिक परिवर्तन सुरु भयो   \n",
       "4  शिकागो बियर्सले विगत दुई दशकहरूमा बर्खास्त गरि...   \n",
       "\n",
       "                                 english_translation  \n",
       "0  when did the decline of coal begin? it began w...  \n",
       "1  hillary clinton agreed with john mccain by vot...  \n",
       "2  health care reform legislation is likely to ma...  \n",
       "3  towards the end of my tenure, the economic tra...  \n",
       "4  the chicago bears have had more starting quart...  "
      ]
     },
     "execution_count": 5,
     "metadata": {},
     "output_type": "execute_result"
    }
   ],
   "source": [
    "df.head()"
   ]
  },
  {
   "cell_type": "code",
   "execution_count": 6,
   "id": "fcc99b82",
   "metadata": {
    "execution": {
     "iopub.execute_input": "2023-05-25T10:08:28.863121Z",
     "iopub.status.busy": "2023-05-25T10:08:28.862678Z",
     "iopub.status.idle": "2023-05-25T10:08:28.868136Z",
     "shell.execute_reply": "2023-05-25T10:08:28.867110Z"
    },
    "papermill": {
     "duration": 0.015792,
     "end_time": "2023-05-25T10:08:28.870650",
     "exception": false,
     "start_time": "2023-05-25T10:08:28.854858",
     "status": "completed"
    },
    "tags": []
   },
   "outputs": [],
   "source": [
    "import string\n",
    "def removepunctuation(sentence):\n",
    "   new_text = sentence.replace(\"—\", \" \") # \"—\" in the text was not equivalent to \"-\" so we replcaed \"—\" with a space\n",
    "   print \n",
    "  #iterate over every single character to see if it is a punctuation or not, and then concatenate them using \"join\"\n",
    "   punctuationfree=\"\".join([i for i in new_text if i not in string.punctuation])\n",
    "   return punctuationfree"
   ]
  },
  {
   "cell_type": "code",
   "execution_count": 7,
   "id": "f4687835",
   "metadata": {
    "execution": {
     "iopub.execute_input": "2023-05-25T10:08:28.885681Z",
     "iopub.status.busy": "2023-05-25T10:08:28.885083Z",
     "iopub.status.idle": "2023-05-25T10:08:29.023455Z",
     "shell.execute_reply": "2023-05-25T10:08:29.022099Z"
    },
    "papermill": {
     "duration": 0.149109,
     "end_time": "2023-05-25T10:08:29.026336",
     "exception": false,
     "start_time": "2023-05-25T10:08:28.877227",
     "status": "completed"
    },
    "tags": []
   },
   "outputs": [],
   "source": [
    "df[\"statement_removedpunctuation\"] = df['english_translation'].apply(lambda x : removepunctuation(x))"
   ]
  },
  {
   "cell_type": "code",
   "execution_count": 8,
   "id": "3243a9cf",
   "metadata": {
    "execution": {
     "iopub.execute_input": "2023-05-25T10:08:29.041810Z",
     "iopub.status.busy": "2023-05-25T10:08:29.041435Z",
     "iopub.status.idle": "2023-05-25T10:08:29.063070Z",
     "shell.execute_reply": "2023-05-25T10:08:29.061798Z"
    },
    "papermill": {
     "duration": 0.031886,
     "end_time": "2023-05-25T10:08:29.065078",
     "exception": false,
     "start_time": "2023-05-25T10:08:29.033192",
     "status": "completed"
    },
    "tags": []
   },
   "outputs": [
    {
     "data": {
      "text/html": [
       "<div>\n",
       "<style scoped>\n",
       "    .dataframe tbody tr th:only-of-type {\n",
       "        vertical-align: middle;\n",
       "    }\n",
       "\n",
       "    .dataframe tbody tr th {\n",
       "        vertical-align: top;\n",
       "    }\n",
       "\n",
       "    .dataframe thead th {\n",
       "        text-align: right;\n",
       "    }\n",
       "</style>\n",
       "<table border=\"1\" class=\"dataframe\">\n",
       "  <thead>\n",
       "    <tr style=\"text-align: right;\">\n",
       "      <th></th>\n",
       "      <th>id</th>\n",
       "      <th>label</th>\n",
       "      <th>statement</th>\n",
       "      <th>subjects</th>\n",
       "      <th>speaker</th>\n",
       "      <th>speaker_job_title</th>\n",
       "      <th>state_info</th>\n",
       "      <th>party_affilation</th>\n",
       "      <th>count_1</th>\n",
       "      <th>count_2</th>\n",
       "      <th>count_3</th>\n",
       "      <th>count_4</th>\n",
       "      <th>count_5</th>\n",
       "      <th>context</th>\n",
       "      <th>statement_removedpunctuation</th>\n",
       "      <th>nepali_translation</th>\n",
       "      <th>english_translation</th>\n",
       "    </tr>\n",
       "  </thead>\n",
       "  <tbody>\n",
       "    <tr>\n",
       "      <th>0</th>\n",
       "      <td>10540.json</td>\n",
       "      <td>half-true</td>\n",
       "      <td>When did the decline of coal start? It started...</td>\n",
       "      <td>energy,history,job-accomplishments</td>\n",
       "      <td>scott-surovell</td>\n",
       "      <td>State delegate</td>\n",
       "      <td>Virginia</td>\n",
       "      <td>democrat</td>\n",
       "      <td>0.0</td>\n",
       "      <td>0.0</td>\n",
       "      <td>1.0</td>\n",
       "      <td>1.0</td>\n",
       "      <td>0.0</td>\n",
       "      <td>a floor speech.</td>\n",
       "      <td>when did the decline of coal begin it began wi...</td>\n",
       "      <td>कोइलाको पतन कहिले सुरु भयो यो प्राकृतिक ग्यास ...</td>\n",
       "      <td>when did the decline of coal begin? it began w...</td>\n",
       "    </tr>\n",
       "    <tr>\n",
       "      <th>1</th>\n",
       "      <td>324.json</td>\n",
       "      <td>mostly-true</td>\n",
       "      <td>Hillary Clinton agrees with John McCain \"by vo...</td>\n",
       "      <td>foreign-policy</td>\n",
       "      <td>barack-obama</td>\n",
       "      <td>President</td>\n",
       "      <td>Illinois</td>\n",
       "      <td>democrat</td>\n",
       "      <td>70.0</td>\n",
       "      <td>71.0</td>\n",
       "      <td>160.0</td>\n",
       "      <td>163.0</td>\n",
       "      <td>9.0</td>\n",
       "      <td>Denver</td>\n",
       "      <td>hillary clinton agreed with john mccain by vot...</td>\n",
       "      <td>हिलारी क्लिन्टनले जर्ज बुशलाई इरानमा शंकाको फा...</td>\n",
       "      <td>hillary clinton agreed with john mccain by vot...</td>\n",
       "    </tr>\n",
       "    <tr>\n",
       "      <th>2</th>\n",
       "      <td>1123.json</td>\n",
       "      <td>false</td>\n",
       "      <td>Health care reform legislation is likely to ma...</td>\n",
       "      <td>health-care</td>\n",
       "      <td>blog-posting</td>\n",
       "      <td>NaN</td>\n",
       "      <td>NaN</td>\n",
       "      <td>none</td>\n",
       "      <td>7.0</td>\n",
       "      <td>19.0</td>\n",
       "      <td>3.0</td>\n",
       "      <td>5.0</td>\n",
       "      <td>44.0</td>\n",
       "      <td>a news release</td>\n",
       "      <td>health care reform legislation is likely to ma...</td>\n",
       "      <td>स्वास्थ्य हेरचाह सुधार कानूनले नि: शुल्क लिंग ...</td>\n",
       "      <td>health care reform legislation is likely to ma...</td>\n",
       "    </tr>\n",
       "    <tr>\n",
       "      <th>3</th>\n",
       "      <td>9028.json</td>\n",
       "      <td>half-true</td>\n",
       "      <td>The economic turnaround started at the end of ...</td>\n",
       "      <td>economy,jobs</td>\n",
       "      <td>charlie-crist</td>\n",
       "      <td>NaN</td>\n",
       "      <td>Florida</td>\n",
       "      <td>democrat</td>\n",
       "      <td>15.0</td>\n",
       "      <td>9.0</td>\n",
       "      <td>20.0</td>\n",
       "      <td>19.0</td>\n",
       "      <td>2.0</td>\n",
       "      <td>an interview on CNN</td>\n",
       "      <td>towards the end of my tenure the economic tran...</td>\n",
       "      <td>मेरो कार्यकालको अन्त्यमा आर्थिक परिवर्तन सुरु भयो</td>\n",
       "      <td>towards the end of my tenure, the economic tra...</td>\n",
       "    </tr>\n",
       "    <tr>\n",
       "      <th>4</th>\n",
       "      <td>12465.json</td>\n",
       "      <td>true</td>\n",
       "      <td>The Chicago Bears have had more starting quart...</td>\n",
       "      <td>education</td>\n",
       "      <td>robin-vos</td>\n",
       "      <td>Wisconsin Assembly speaker</td>\n",
       "      <td>Wisconsin</td>\n",
       "      <td>republican</td>\n",
       "      <td>0.0</td>\n",
       "      <td>3.0</td>\n",
       "      <td>2.0</td>\n",
       "      <td>5.0</td>\n",
       "      <td>1.0</td>\n",
       "      <td>a an online opinion-piece</td>\n",
       "      <td>the chicago bears have had more starting quart...</td>\n",
       "      <td>शिकागो बियर्सले विगत दुई दशकहरूमा बर्खास्त गरि...</td>\n",
       "      <td>the chicago bears have had more starting quart...</td>\n",
       "    </tr>\n",
       "  </tbody>\n",
       "</table>\n",
       "</div>"
      ],
      "text/plain": [
       "           id        label                                          statement  \\\n",
       "0  10540.json    half-true  When did the decline of coal start? It started...   \n",
       "1    324.json  mostly-true  Hillary Clinton agrees with John McCain \"by vo...   \n",
       "2   1123.json        false  Health care reform legislation is likely to ma...   \n",
       "3   9028.json    half-true  The economic turnaround started at the end of ...   \n",
       "4  12465.json         true  The Chicago Bears have had more starting quart...   \n",
       "\n",
       "                             subjects         speaker  \\\n",
       "0  energy,history,job-accomplishments  scott-surovell   \n",
       "1                      foreign-policy    barack-obama   \n",
       "2                         health-care    blog-posting   \n",
       "3                        economy,jobs   charlie-crist   \n",
       "4                           education       robin-vos   \n",
       "\n",
       "            speaker_job_title state_info party_affilation  count_1  count_2  \\\n",
       "0              State delegate   Virginia         democrat      0.0      0.0   \n",
       "1                   President   Illinois         democrat     70.0     71.0   \n",
       "2                         NaN        NaN             none      7.0     19.0   \n",
       "3                         NaN    Florida         democrat     15.0      9.0   \n",
       "4  Wisconsin Assembly speaker  Wisconsin       republican      0.0      3.0   \n",
       "\n",
       "   count_3  count_4  count_5                    context  \\\n",
       "0      1.0      1.0      0.0            a floor speech.   \n",
       "1    160.0    163.0      9.0                     Denver   \n",
       "2      3.0      5.0     44.0             a news release   \n",
       "3     20.0     19.0      2.0        an interview on CNN   \n",
       "4      2.0      5.0      1.0  a an online opinion-piece   \n",
       "\n",
       "                        statement_removedpunctuation  \\\n",
       "0  when did the decline of coal begin it began wi...   \n",
       "1  hillary clinton agreed with john mccain by vot...   \n",
       "2  health care reform legislation is likely to ma...   \n",
       "3  towards the end of my tenure the economic tran...   \n",
       "4  the chicago bears have had more starting quart...   \n",
       "\n",
       "                                  nepali_translation  \\\n",
       "0  कोइलाको पतन कहिले सुरु भयो यो प्राकृतिक ग्यास ...   \n",
       "1  हिलारी क्लिन्टनले जर्ज बुशलाई इरानमा शंकाको फा...   \n",
       "2  स्वास्थ्य हेरचाह सुधार कानूनले नि: शुल्क लिंग ...   \n",
       "3  मेरो कार्यकालको अन्त्यमा आर्थिक परिवर्तन सुरु भयो   \n",
       "4  शिकागो बियर्सले विगत दुई दशकहरूमा बर्खास्त गरि...   \n",
       "\n",
       "                                 english_translation  \n",
       "0  when did the decline of coal begin? it began w...  \n",
       "1  hillary clinton agreed with john mccain by vot...  \n",
       "2  health care reform legislation is likely to ma...  \n",
       "3  towards the end of my tenure, the economic tra...  \n",
       "4  the chicago bears have had more starting quart...  "
      ]
     },
     "execution_count": 8,
     "metadata": {},
     "output_type": "execute_result"
    }
   ],
   "source": [
    "df.head()"
   ]
  },
  {
   "cell_type": "code",
   "execution_count": 9,
   "id": "a569e222",
   "metadata": {
    "execution": {
     "iopub.execute_input": "2023-05-25T10:08:29.080565Z",
     "iopub.status.busy": "2023-05-25T10:08:29.080218Z",
     "iopub.status.idle": "2023-05-25T10:08:30.343145Z",
     "shell.execute_reply": "2023-05-25T10:08:30.341551Z"
    },
    "papermill": {
     "duration": 1.273753,
     "end_time": "2023-05-25T10:08:30.345816",
     "exception": false,
     "start_time": "2023-05-25T10:08:29.072063",
     "status": "completed"
    },
    "tags": []
   },
   "outputs": [],
   "source": [
    "df[\"english_translation_tokenized\"] = df[\"statement_removedpunctuation\"].apply(word_tokenize)"
   ]
  },
  {
   "cell_type": "code",
   "execution_count": 10,
   "id": "70eae58c",
   "metadata": {
    "execution": {
     "iopub.execute_input": "2023-05-25T10:08:30.361438Z",
     "iopub.status.busy": "2023-05-25T10:08:30.361116Z",
     "iopub.status.idle": "2023-05-25T10:08:30.369665Z",
     "shell.execute_reply": "2023-05-25T10:08:30.368227Z"
    },
    "papermill": {
     "duration": 0.019209,
     "end_time": "2023-05-25T10:08:30.372364",
     "exception": false,
     "start_time": "2023-05-25T10:08:30.353155",
     "status": "completed"
    },
    "tags": []
   },
   "outputs": [
    {
     "data": {
      "text/plain": [
       "['however',\n",
       " 'it',\n",
       " 'took',\n",
       " 'one',\n",
       " 'hundred',\n",
       " 'and',\n",
       " 'ninetyfive',\n",
       " 'million',\n",
       " 'in',\n",
       " 'oregon',\n",
       " 'lottery',\n",
       " 'funds',\n",
       " 'for',\n",
       " 'the',\n",
       " 'port',\n",
       " 'of',\n",
       " 'newport',\n",
       " 'to',\n",
       " 'finally',\n",
       " 'land',\n",
       " 'the',\n",
       " 'new',\n",
       " 'noaa',\n",
       " 'marine',\n",
       " 'operations',\n",
       " 'center',\n",
       " 'in',\n",
       " 'the',\n",
       " 'pacific']"
      ]
     },
     "execution_count": 10,
     "metadata": {},
     "output_type": "execute_result"
    }
   ],
   "source": [
    "df[\"english_translation_tokenized\"].iloc[7]"
   ]
  },
  {
   "cell_type": "code",
   "execution_count": 11,
   "id": "e1fc9a73",
   "metadata": {
    "execution": {
     "iopub.execute_input": "2023-05-25T10:08:30.389164Z",
     "iopub.status.busy": "2023-05-25T10:08:30.388760Z",
     "iopub.status.idle": "2023-05-25T10:08:30.396939Z",
     "shell.execute_reply": "2023-05-25T10:08:30.395841Z"
    },
    "papermill": {
     "duration": 0.019407,
     "end_time": "2023-05-25T10:08:30.399145",
     "exception": false,
     "start_time": "2023-05-25T10:08:30.379738",
     "status": "completed"
    },
    "tags": []
   },
   "outputs": [],
   "source": [
    "stop_words = stopwords.words('english')"
   ]
  },
  {
   "cell_type": "code",
   "execution_count": 12,
   "id": "4cbc5487",
   "metadata": {
    "execution": {
     "iopub.execute_input": "2023-05-25T10:08:30.414624Z",
     "iopub.status.busy": "2023-05-25T10:08:30.414293Z",
     "iopub.status.idle": "2023-05-25T10:08:30.420765Z",
     "shell.execute_reply": "2023-05-25T10:08:30.419649Z"
    },
    "papermill": {
     "duration": 0.016967,
     "end_time": "2023-05-25T10:08:30.423338",
     "exception": false,
     "start_time": "2023-05-25T10:08:30.406371",
     "status": "completed"
    },
    "tags": []
   },
   "outputs": [],
   "source": [
    "def stopwordremoval(words):\n",
    "    preprocessed_tokens = []\n",
    "    for i in words:\n",
    "        # Remove stopwords and empty strings while keeping words separated by space\n",
    "        post_removal = [word for word in i.split() if word.lower() not in stop_words]\n",
    "        filtered_string = \" \".join(post_removal).strip()\n",
    "        if filtered_string:\n",
    "            preprocessed_tokens.append(filtered_string)\n",
    "    # Combine the preprocessed tokens into a single string\n",
    "    combined_string = \" \".join(preprocessed_tokens)\n",
    "    return combined_string"
   ]
  },
  {
   "cell_type": "code",
   "execution_count": 13,
   "id": "48714e62",
   "metadata": {
    "execution": {
     "iopub.execute_input": "2023-05-25T10:08:30.439803Z",
     "iopub.status.busy": "2023-05-25T10:08:30.439432Z",
     "iopub.status.idle": "2023-05-25T10:08:30.449030Z",
     "shell.execute_reply": "2023-05-25T10:08:30.447276Z"
    },
    "papermill": {
     "duration": 0.02156,
     "end_time": "2023-05-25T10:08:30.452317",
     "exception": false,
     "start_time": "2023-05-25T10:08:30.430757",
     "status": "completed"
    },
    "tags": []
   },
   "outputs": [
    {
     "data": {
      "text/plain": [
       "'however took one hundred ninetyfive million oregon lottery funds port newport finally land new noaa marine operations center pacific'"
      ]
     },
     "execution_count": 13,
     "metadata": {},
     "output_type": "execute_result"
    }
   ],
   "source": [
    "stopwordremoval(['however',\n",
    " 'it',\n",
    " 'took',\n",
    " 'one',\n",
    " 'hundred',\n",
    " 'and',\n",
    " 'ninetyfive',\n",
    " 'million',\n",
    " 'in',\n",
    " 'oregon',\n",
    " 'lottery',\n",
    " 'funds',\n",
    " 'for',\n",
    " 'the',\n",
    " 'port',\n",
    " 'of',\n",
    " 'newport',\n",
    " 'to',\n",
    " 'finally',\n",
    " 'land',\n",
    " 'the',\n",
    " 'new',\n",
    " 'noaa',\n",
    " 'marine',\n",
    " 'operations',\n",
    " 'center',\n",
    " 'in',\n",
    " 'the',\n",
    " 'pacific'])"
   ]
  },
  {
   "cell_type": "code",
   "execution_count": 14,
   "id": "7a3ece5a",
   "metadata": {
    "execution": {
     "iopub.execute_input": "2023-05-25T10:08:30.469035Z",
     "iopub.status.busy": "2023-05-25T10:08:30.468610Z",
     "iopub.status.idle": "2023-05-25T10:08:30.892235Z",
     "shell.execute_reply": "2023-05-25T10:08:30.891259Z"
    },
    "papermill": {
     "duration": 0.434353,
     "end_time": "2023-05-25T10:08:30.894392",
     "exception": false,
     "start_time": "2023-05-25T10:08:30.460039",
     "status": "completed"
    },
    "tags": []
   },
   "outputs": [],
   "source": [
    "df[\"english_translation_stopwords\"] = df[\"english_translation_tokenized\"].apply(stopwordremoval)"
   ]
  },
  {
   "cell_type": "code",
   "execution_count": 15,
   "id": "18cfa4f2",
   "metadata": {
    "execution": {
     "iopub.execute_input": "2023-05-25T10:08:30.910081Z",
     "iopub.status.busy": "2023-05-25T10:08:30.909696Z",
     "iopub.status.idle": "2023-05-25T10:08:30.932036Z",
     "shell.execute_reply": "2023-05-25T10:08:30.930681Z"
    },
    "papermill": {
     "duration": 0.032862,
     "end_time": "2023-05-25T10:08:30.934238",
     "exception": false,
     "start_time": "2023-05-25T10:08:30.901376",
     "status": "completed"
    },
    "tags": []
   },
   "outputs": [
    {
     "data": {
      "text/html": [
       "<div>\n",
       "<style scoped>\n",
       "    .dataframe tbody tr th:only-of-type {\n",
       "        vertical-align: middle;\n",
       "    }\n",
       "\n",
       "    .dataframe tbody tr th {\n",
       "        vertical-align: top;\n",
       "    }\n",
       "\n",
       "    .dataframe thead th {\n",
       "        text-align: right;\n",
       "    }\n",
       "</style>\n",
       "<table border=\"1\" class=\"dataframe\">\n",
       "  <thead>\n",
       "    <tr style=\"text-align: right;\">\n",
       "      <th></th>\n",
       "      <th>id</th>\n",
       "      <th>label</th>\n",
       "      <th>statement</th>\n",
       "      <th>subjects</th>\n",
       "      <th>speaker</th>\n",
       "      <th>speaker_job_title</th>\n",
       "      <th>state_info</th>\n",
       "      <th>party_affilation</th>\n",
       "      <th>count_1</th>\n",
       "      <th>count_2</th>\n",
       "      <th>count_3</th>\n",
       "      <th>count_4</th>\n",
       "      <th>count_5</th>\n",
       "      <th>context</th>\n",
       "      <th>statement_removedpunctuation</th>\n",
       "      <th>nepali_translation</th>\n",
       "      <th>english_translation</th>\n",
       "      <th>english_translation_tokenized</th>\n",
       "      <th>english_translation_stopwords</th>\n",
       "    </tr>\n",
       "  </thead>\n",
       "  <tbody>\n",
       "    <tr>\n",
       "      <th>0</th>\n",
       "      <td>10540.json</td>\n",
       "      <td>half-true</td>\n",
       "      <td>When did the decline of coal start? It started...</td>\n",
       "      <td>energy,history,job-accomplishments</td>\n",
       "      <td>scott-surovell</td>\n",
       "      <td>State delegate</td>\n",
       "      <td>Virginia</td>\n",
       "      <td>democrat</td>\n",
       "      <td>0.0</td>\n",
       "      <td>0.0</td>\n",
       "      <td>1.0</td>\n",
       "      <td>1.0</td>\n",
       "      <td>0.0</td>\n",
       "      <td>a floor speech.</td>\n",
       "      <td>when did the decline of coal begin it began wi...</td>\n",
       "      <td>कोइलाको पतन कहिले सुरु भयो यो प्राकृतिक ग्यास ...</td>\n",
       "      <td>when did the decline of coal begin? it began w...</td>\n",
       "      <td>[when, did, the, decline, of, coal, begin, it,...</td>\n",
       "      <td>decline coal begin began natural gas layoff be...</td>\n",
       "    </tr>\n",
       "    <tr>\n",
       "      <th>1</th>\n",
       "      <td>324.json</td>\n",
       "      <td>mostly-true</td>\n",
       "      <td>Hillary Clinton agrees with John McCain \"by vo...</td>\n",
       "      <td>foreign-policy</td>\n",
       "      <td>barack-obama</td>\n",
       "      <td>President</td>\n",
       "      <td>Illinois</td>\n",
       "      <td>democrat</td>\n",
       "      <td>70.0</td>\n",
       "      <td>71.0</td>\n",
       "      <td>160.0</td>\n",
       "      <td>163.0</td>\n",
       "      <td>9.0</td>\n",
       "      <td>Denver</td>\n",
       "      <td>hillary clinton agreed with john mccain by vot...</td>\n",
       "      <td>हिलारी क्लिन्टनले जर्ज बुशलाई इरानमा शंकाको फा...</td>\n",
       "      <td>hillary clinton agreed with john mccain by vot...</td>\n",
       "      <td>[hillary, clinton, agreed, with, john, mccain,...</td>\n",
       "      <td>hillary clinton agreed john mccain voting give...</td>\n",
       "    </tr>\n",
       "    <tr>\n",
       "      <th>2</th>\n",
       "      <td>1123.json</td>\n",
       "      <td>false</td>\n",
       "      <td>Health care reform legislation is likely to ma...</td>\n",
       "      <td>health-care</td>\n",
       "      <td>blog-posting</td>\n",
       "      <td>NaN</td>\n",
       "      <td>NaN</td>\n",
       "      <td>none</td>\n",
       "      <td>7.0</td>\n",
       "      <td>19.0</td>\n",
       "      <td>3.0</td>\n",
       "      <td>5.0</td>\n",
       "      <td>44.0</td>\n",
       "      <td>a news release</td>\n",
       "      <td>health care reform legislation is likely to ma...</td>\n",
       "      <td>स्वास्थ्य हेरचाह सुधार कानूनले नि: शुल्क लिंग ...</td>\n",
       "      <td>health care reform legislation is likely to ma...</td>\n",
       "      <td>[health, care, reform, legislation, is, likely...</td>\n",
       "      <td>health care reform legislation likely mandate ...</td>\n",
       "    </tr>\n",
       "    <tr>\n",
       "      <th>3</th>\n",
       "      <td>9028.json</td>\n",
       "      <td>half-true</td>\n",
       "      <td>The economic turnaround started at the end of ...</td>\n",
       "      <td>economy,jobs</td>\n",
       "      <td>charlie-crist</td>\n",
       "      <td>NaN</td>\n",
       "      <td>Florida</td>\n",
       "      <td>democrat</td>\n",
       "      <td>15.0</td>\n",
       "      <td>9.0</td>\n",
       "      <td>20.0</td>\n",
       "      <td>19.0</td>\n",
       "      <td>2.0</td>\n",
       "      <td>an interview on CNN</td>\n",
       "      <td>towards the end of my tenure the economic tran...</td>\n",
       "      <td>मेरो कार्यकालको अन्त्यमा आर्थिक परिवर्तन सुरु भयो</td>\n",
       "      <td>towards the end of my tenure, the economic tra...</td>\n",
       "      <td>[towards, the, end, of, my, tenure, the, econo...</td>\n",
       "      <td>towards end tenure economic transformation began</td>\n",
       "    </tr>\n",
       "    <tr>\n",
       "      <th>4</th>\n",
       "      <td>12465.json</td>\n",
       "      <td>true</td>\n",
       "      <td>The Chicago Bears have had more starting quart...</td>\n",
       "      <td>education</td>\n",
       "      <td>robin-vos</td>\n",
       "      <td>Wisconsin Assembly speaker</td>\n",
       "      <td>Wisconsin</td>\n",
       "      <td>republican</td>\n",
       "      <td>0.0</td>\n",
       "      <td>3.0</td>\n",
       "      <td>2.0</td>\n",
       "      <td>5.0</td>\n",
       "      <td>1.0</td>\n",
       "      <td>a an online opinion-piece</td>\n",
       "      <td>the chicago bears have had more starting quart...</td>\n",
       "      <td>शिकागो बियर्सले विगत दुई दशकहरूमा बर्खास्त गरि...</td>\n",
       "      <td>the chicago bears have had more starting quart...</td>\n",
       "      <td>[the, chicago, bears, have, had, more, startin...</td>\n",
       "      <td>chicago bears starting quarterbacks past ten y...</td>\n",
       "    </tr>\n",
       "  </tbody>\n",
       "</table>\n",
       "</div>"
      ],
      "text/plain": [
       "           id        label                                          statement  \\\n",
       "0  10540.json    half-true  When did the decline of coal start? It started...   \n",
       "1    324.json  mostly-true  Hillary Clinton agrees with John McCain \"by vo...   \n",
       "2   1123.json        false  Health care reform legislation is likely to ma...   \n",
       "3   9028.json    half-true  The economic turnaround started at the end of ...   \n",
       "4  12465.json         true  The Chicago Bears have had more starting quart...   \n",
       "\n",
       "                             subjects         speaker  \\\n",
       "0  energy,history,job-accomplishments  scott-surovell   \n",
       "1                      foreign-policy    barack-obama   \n",
       "2                         health-care    blog-posting   \n",
       "3                        economy,jobs   charlie-crist   \n",
       "4                           education       robin-vos   \n",
       "\n",
       "            speaker_job_title state_info party_affilation  count_1  count_2  \\\n",
       "0              State delegate   Virginia         democrat      0.0      0.0   \n",
       "1                   President   Illinois         democrat     70.0     71.0   \n",
       "2                         NaN        NaN             none      7.0     19.0   \n",
       "3                         NaN    Florida         democrat     15.0      9.0   \n",
       "4  Wisconsin Assembly speaker  Wisconsin       republican      0.0      3.0   \n",
       "\n",
       "   count_3  count_4  count_5                    context  \\\n",
       "0      1.0      1.0      0.0            a floor speech.   \n",
       "1    160.0    163.0      9.0                     Denver   \n",
       "2      3.0      5.0     44.0             a news release   \n",
       "3     20.0     19.0      2.0        an interview on CNN   \n",
       "4      2.0      5.0      1.0  a an online opinion-piece   \n",
       "\n",
       "                        statement_removedpunctuation  \\\n",
       "0  when did the decline of coal begin it began wi...   \n",
       "1  hillary clinton agreed with john mccain by vot...   \n",
       "2  health care reform legislation is likely to ma...   \n",
       "3  towards the end of my tenure the economic tran...   \n",
       "4  the chicago bears have had more starting quart...   \n",
       "\n",
       "                                  nepali_translation  \\\n",
       "0  कोइलाको पतन कहिले सुरु भयो यो प्राकृतिक ग्यास ...   \n",
       "1  हिलारी क्लिन्टनले जर्ज बुशलाई इरानमा शंकाको फा...   \n",
       "2  स्वास्थ्य हेरचाह सुधार कानूनले नि: शुल्क लिंग ...   \n",
       "3  मेरो कार्यकालको अन्त्यमा आर्थिक परिवर्तन सुरु भयो   \n",
       "4  शिकागो बियर्सले विगत दुई दशकहरूमा बर्खास्त गरि...   \n",
       "\n",
       "                                 english_translation  \\\n",
       "0  when did the decline of coal begin? it began w...   \n",
       "1  hillary clinton agreed with john mccain by vot...   \n",
       "2  health care reform legislation is likely to ma...   \n",
       "3  towards the end of my tenure, the economic tra...   \n",
       "4  the chicago bears have had more starting quart...   \n",
       "\n",
       "                       english_translation_tokenized  \\\n",
       "0  [when, did, the, decline, of, coal, begin, it,...   \n",
       "1  [hillary, clinton, agreed, with, john, mccain,...   \n",
       "2  [health, care, reform, legislation, is, likely...   \n",
       "3  [towards, the, end, of, my, tenure, the, econo...   \n",
       "4  [the, chicago, bears, have, had, more, startin...   \n",
       "\n",
       "                       english_translation_stopwords  \n",
       "0  decline coal begin began natural gas layoff be...  \n",
       "1  hillary clinton agreed john mccain voting give...  \n",
       "2  health care reform legislation likely mandate ...  \n",
       "3   towards end tenure economic transformation began  \n",
       "4  chicago bears starting quarterbacks past ten y...  "
      ]
     },
     "execution_count": 15,
     "metadata": {},
     "output_type": "execute_result"
    }
   ],
   "source": [
    "df.head()"
   ]
  },
  {
   "cell_type": "code",
   "execution_count": 16,
   "id": "94eeda17",
   "metadata": {
    "execution": {
     "iopub.execute_input": "2023-05-25T10:08:30.950584Z",
     "iopub.status.busy": "2023-05-25T10:08:30.950238Z",
     "iopub.status.idle": "2023-05-25T10:08:30.956875Z",
     "shell.execute_reply": "2023-05-25T10:08:30.955338Z"
    },
    "papermill": {
     "duration": 0.017974,
     "end_time": "2023-05-25T10:08:30.959708",
     "exception": false,
     "start_time": "2023-05-25T10:08:30.941734",
     "status": "completed"
    },
    "tags": []
   },
   "outputs": [
    {
     "data": {
      "text/plain": [
       "'over the past year more than twenty percent of americans have changed their minds about the war in afghanistan concluding that we shouldnt be there'"
      ]
     },
     "execution_count": 16,
     "metadata": {},
     "output_type": "execute_result"
    }
   ],
   "source": [
    "df[\"statement_removedpunctuation\"].iloc[200]"
   ]
  },
  {
   "cell_type": "code",
   "execution_count": 17,
   "id": "309bc46e",
   "metadata": {
    "execution": {
     "iopub.execute_input": "2023-05-25T10:08:30.976178Z",
     "iopub.status.busy": "2023-05-25T10:08:30.975750Z",
     "iopub.status.idle": "2023-05-25T10:08:30.983523Z",
     "shell.execute_reply": "2023-05-25T10:08:30.982546Z"
    },
    "papermill": {
     "duration": 0.018906,
     "end_time": "2023-05-25T10:08:30.986095",
     "exception": false,
     "start_time": "2023-05-25T10:08:30.967189",
     "status": "completed"
    },
    "tags": []
   },
   "outputs": [
    {
     "data": {
      "text/plain": [
       "'past year twenty percent americans changed minds war afghanistan concluding shouldnt'"
      ]
     },
     "execution_count": 17,
     "metadata": {},
     "output_type": "execute_result"
    }
   ],
   "source": [
    "df[\"english_translation_stopwords\"].iloc[200]"
   ]
  },
  {
   "cell_type": "code",
   "execution_count": 18,
   "id": "c2efb625",
   "metadata": {
    "execution": {
     "iopub.execute_input": "2023-05-25T10:08:31.003803Z",
     "iopub.status.busy": "2023-05-25T10:08:31.003408Z",
     "iopub.status.idle": "2023-05-25T10:08:45.259258Z",
     "shell.execute_reply": "2023-05-25T10:08:45.258264Z"
    },
    "papermill": {
     "duration": 14.267389,
     "end_time": "2023-05-25T10:08:45.261876",
     "exception": false,
     "start_time": "2023-05-25T10:08:30.994487",
     "status": "completed"
    },
    "tags": []
   },
   "outputs": [
    {
     "name": "stderr",
     "output_type": "stream",
     "text": [
      "/opt/conda/lib/python3.10/site-packages/tensorflow_io/python/ops/__init__.py:98: UserWarning: unable to load libtensorflow_io_plugins.so: unable to open file: libtensorflow_io_plugins.so, from paths: ['/opt/conda/lib/python3.10/site-packages/tensorflow_io/python/ops/libtensorflow_io_plugins.so']\n",
      "caused by: ['/opt/conda/lib/python3.10/site-packages/tensorflow_io/python/ops/libtensorflow_io_plugins.so: undefined symbol: _ZN3tsl6StatusC1EN10tensorflow5error4CodeESt17basic_string_viewIcSt11char_traitsIcEENS_14SourceLocationE']\n",
      "  warnings.warn(f\"unable to load libtensorflow_io_plugins.so: {e}\")\n",
      "/opt/conda/lib/python3.10/site-packages/tensorflow_io/python/ops/__init__.py:104: UserWarning: file system plugins are not loaded: unable to open file: libtensorflow_io.so, from paths: ['/opt/conda/lib/python3.10/site-packages/tensorflow_io/python/ops/libtensorflow_io.so']\n",
      "caused by: ['/opt/conda/lib/python3.10/site-packages/tensorflow_io/python/ops/libtensorflow_io.so: undefined symbol: _ZTVN10tensorflow13GcsFileSystemE']\n",
      "  warnings.warn(f\"file system plugins are not loaded: {e}\")\n"
     ]
    }
   ],
   "source": [
    "import spacy"
   ]
  },
  {
   "cell_type": "code",
   "execution_count": 19,
   "id": "d380be2f",
   "metadata": {
    "execution": {
     "iopub.execute_input": "2023-05-25T10:08:45.279193Z",
     "iopub.status.busy": "2023-05-25T10:08:45.278475Z",
     "iopub.status.idle": "2023-05-25T10:08:46.132030Z",
     "shell.execute_reply": "2023-05-25T10:08:46.131011Z"
    },
    "papermill": {
     "duration": 0.865239,
     "end_time": "2023-05-25T10:08:46.134748",
     "exception": false,
     "start_time": "2023-05-25T10:08:45.269509",
     "status": "completed"
    },
    "tags": []
   },
   "outputs": [],
   "source": [
    "nlp = spacy.load(\"en_core_web_sm\")\n"
   ]
  },
  {
   "cell_type": "code",
   "execution_count": 20,
   "id": "7b4d67b2",
   "metadata": {
    "execution": {
     "iopub.execute_input": "2023-05-25T10:08:46.152747Z",
     "iopub.status.busy": "2023-05-25T10:08:46.152317Z",
     "iopub.status.idle": "2023-05-25T10:08:46.158274Z",
     "shell.execute_reply": "2023-05-25T10:08:46.157210Z"
    },
    "papermill": {
     "duration": 0.017092,
     "end_time": "2023-05-25T10:08:46.160716",
     "exception": false,
     "start_time": "2023-05-25T10:08:46.143624",
     "status": "completed"
    },
    "tags": []
   },
   "outputs": [],
   "source": [
    "def lemmetization(text):\n",
    "    doc = nlp(text)\n",
    "    lemmetized = []\n",
    "    for token in doc:\n",
    "        lemmetized.append(token.lemma_)\n",
    "    return \" \".join(lemmetized)\n"
   ]
  },
  {
   "cell_type": "code",
   "execution_count": 21,
   "id": "3795c14d",
   "metadata": {
    "execution": {
     "iopub.execute_input": "2023-05-25T10:08:46.177701Z",
     "iopub.status.busy": "2023-05-25T10:08:46.177286Z",
     "iopub.status.idle": "2023-05-25T10:09:43.089625Z",
     "shell.execute_reply": "2023-05-25T10:09:43.088365Z"
    },
    "papermill": {
     "duration": 56.923487,
     "end_time": "2023-05-25T10:09:43.092044",
     "exception": false,
     "start_time": "2023-05-25T10:08:46.168557",
     "status": "completed"
    },
    "tags": []
   },
   "outputs": [],
   "source": [
    "df[\"preprocessed_english\"] = df[\"english_translation_stopwords\"].apply(lemmetization)"
   ]
  },
  {
   "cell_type": "code",
   "execution_count": 22,
   "id": "800f7694",
   "metadata": {
    "execution": {
     "iopub.execute_input": "2023-05-25T10:09:43.108736Z",
     "iopub.status.busy": "2023-05-25T10:09:43.108357Z",
     "iopub.status.idle": "2023-05-25T10:09:43.129001Z",
     "shell.execute_reply": "2023-05-25T10:09:43.128133Z"
    },
    "papermill": {
     "duration": 0.031064,
     "end_time": "2023-05-25T10:09:43.130967",
     "exception": false,
     "start_time": "2023-05-25T10:09:43.099903",
     "status": "completed"
    },
    "tags": []
   },
   "outputs": [
    {
     "data": {
      "text/html": [
       "<div>\n",
       "<style scoped>\n",
       "    .dataframe tbody tr th:only-of-type {\n",
       "        vertical-align: middle;\n",
       "    }\n",
       "\n",
       "    .dataframe tbody tr th {\n",
       "        vertical-align: top;\n",
       "    }\n",
       "\n",
       "    .dataframe thead th {\n",
       "        text-align: right;\n",
       "    }\n",
       "</style>\n",
       "<table border=\"1\" class=\"dataframe\">\n",
       "  <thead>\n",
       "    <tr style=\"text-align: right;\">\n",
       "      <th></th>\n",
       "      <th>id</th>\n",
       "      <th>label</th>\n",
       "      <th>statement</th>\n",
       "      <th>subjects</th>\n",
       "      <th>speaker</th>\n",
       "      <th>speaker_job_title</th>\n",
       "      <th>state_info</th>\n",
       "      <th>party_affilation</th>\n",
       "      <th>count_1</th>\n",
       "      <th>count_2</th>\n",
       "      <th>count_3</th>\n",
       "      <th>count_4</th>\n",
       "      <th>count_5</th>\n",
       "      <th>context</th>\n",
       "      <th>statement_removedpunctuation</th>\n",
       "      <th>nepali_translation</th>\n",
       "      <th>english_translation</th>\n",
       "      <th>english_translation_tokenized</th>\n",
       "      <th>english_translation_stopwords</th>\n",
       "      <th>preprocessed_english</th>\n",
       "    </tr>\n",
       "  </thead>\n",
       "  <tbody>\n",
       "    <tr>\n",
       "      <th>0</th>\n",
       "      <td>10540.json</td>\n",
       "      <td>half-true</td>\n",
       "      <td>When did the decline of coal start? It started...</td>\n",
       "      <td>energy,history,job-accomplishments</td>\n",
       "      <td>scott-surovell</td>\n",
       "      <td>State delegate</td>\n",
       "      <td>Virginia</td>\n",
       "      <td>democrat</td>\n",
       "      <td>0.0</td>\n",
       "      <td>0.0</td>\n",
       "      <td>1.0</td>\n",
       "      <td>1.0</td>\n",
       "      <td>0.0</td>\n",
       "      <td>a floor speech.</td>\n",
       "      <td>when did the decline of coal begin it began wi...</td>\n",
       "      <td>कोइलाको पतन कहिले सुरु भयो यो प्राकृतिक ग्यास ...</td>\n",
       "      <td>when did the decline of coal begin? it began w...</td>\n",
       "      <td>[when, did, the, decline, of, coal, begin, it,...</td>\n",
       "      <td>decline coal begin began natural gas layoff be...</td>\n",
       "      <td>decline coal begin begin natural gas layoff be...</td>\n",
       "    </tr>\n",
       "    <tr>\n",
       "      <th>1</th>\n",
       "      <td>324.json</td>\n",
       "      <td>mostly-true</td>\n",
       "      <td>Hillary Clinton agrees with John McCain \"by vo...</td>\n",
       "      <td>foreign-policy</td>\n",
       "      <td>barack-obama</td>\n",
       "      <td>President</td>\n",
       "      <td>Illinois</td>\n",
       "      <td>democrat</td>\n",
       "      <td>70.0</td>\n",
       "      <td>71.0</td>\n",
       "      <td>160.0</td>\n",
       "      <td>163.0</td>\n",
       "      <td>9.0</td>\n",
       "      <td>Denver</td>\n",
       "      <td>hillary clinton agreed with john mccain by vot...</td>\n",
       "      <td>हिलारी क्लिन्टनले जर्ज बुशलाई इरानमा शंकाको फा...</td>\n",
       "      <td>hillary clinton agreed with john mccain by vot...</td>\n",
       "      <td>[hillary, clinton, agreed, with, john, mccain,...</td>\n",
       "      <td>hillary clinton agreed john mccain voting give...</td>\n",
       "      <td>hillary clinton agree john mccain voting give ...</td>\n",
       "    </tr>\n",
       "    <tr>\n",
       "      <th>2</th>\n",
       "      <td>1123.json</td>\n",
       "      <td>false</td>\n",
       "      <td>Health care reform legislation is likely to ma...</td>\n",
       "      <td>health-care</td>\n",
       "      <td>blog-posting</td>\n",
       "      <td>NaN</td>\n",
       "      <td>NaN</td>\n",
       "      <td>none</td>\n",
       "      <td>7.0</td>\n",
       "      <td>19.0</td>\n",
       "      <td>3.0</td>\n",
       "      <td>5.0</td>\n",
       "      <td>44.0</td>\n",
       "      <td>a news release</td>\n",
       "      <td>health care reform legislation is likely to ma...</td>\n",
       "      <td>स्वास्थ्य हेरचाह सुधार कानूनले नि: शुल्क लिंग ...</td>\n",
       "      <td>health care reform legislation is likely to ma...</td>\n",
       "      <td>[health, care, reform, legislation, is, likely...</td>\n",
       "      <td>health care reform legislation likely mandate ...</td>\n",
       "      <td>health care reform legislation likely mandate ...</td>\n",
       "    </tr>\n",
       "    <tr>\n",
       "      <th>3</th>\n",
       "      <td>9028.json</td>\n",
       "      <td>half-true</td>\n",
       "      <td>The economic turnaround started at the end of ...</td>\n",
       "      <td>economy,jobs</td>\n",
       "      <td>charlie-crist</td>\n",
       "      <td>NaN</td>\n",
       "      <td>Florida</td>\n",
       "      <td>democrat</td>\n",
       "      <td>15.0</td>\n",
       "      <td>9.0</td>\n",
       "      <td>20.0</td>\n",
       "      <td>19.0</td>\n",
       "      <td>2.0</td>\n",
       "      <td>an interview on CNN</td>\n",
       "      <td>towards the end of my tenure the economic tran...</td>\n",
       "      <td>मेरो कार्यकालको अन्त्यमा आर्थिक परिवर्तन सुरु भयो</td>\n",
       "      <td>towards the end of my tenure, the economic tra...</td>\n",
       "      <td>[towards, the, end, of, my, tenure, the, econo...</td>\n",
       "      <td>towards end tenure economic transformation began</td>\n",
       "      <td>towards end tenure economic transformation begin</td>\n",
       "    </tr>\n",
       "    <tr>\n",
       "      <th>4</th>\n",
       "      <td>12465.json</td>\n",
       "      <td>true</td>\n",
       "      <td>The Chicago Bears have had more starting quart...</td>\n",
       "      <td>education</td>\n",
       "      <td>robin-vos</td>\n",
       "      <td>Wisconsin Assembly speaker</td>\n",
       "      <td>Wisconsin</td>\n",
       "      <td>republican</td>\n",
       "      <td>0.0</td>\n",
       "      <td>3.0</td>\n",
       "      <td>2.0</td>\n",
       "      <td>5.0</td>\n",
       "      <td>1.0</td>\n",
       "      <td>a an online opinion-piece</td>\n",
       "      <td>the chicago bears have had more starting quart...</td>\n",
       "      <td>शिकागो बियर्सले विगत दुई दशकहरूमा बर्खास्त गरि...</td>\n",
       "      <td>the chicago bears have had more starting quart...</td>\n",
       "      <td>[the, chicago, bears, have, had, more, startin...</td>\n",
       "      <td>chicago bears starting quarterbacks past ten y...</td>\n",
       "      <td>chicago bear start quarterback past ten year t...</td>\n",
       "    </tr>\n",
       "  </tbody>\n",
       "</table>\n",
       "</div>"
      ],
      "text/plain": [
       "           id        label                                          statement  \\\n",
       "0  10540.json    half-true  When did the decline of coal start? It started...   \n",
       "1    324.json  mostly-true  Hillary Clinton agrees with John McCain \"by vo...   \n",
       "2   1123.json        false  Health care reform legislation is likely to ma...   \n",
       "3   9028.json    half-true  The economic turnaround started at the end of ...   \n",
       "4  12465.json         true  The Chicago Bears have had more starting quart...   \n",
       "\n",
       "                             subjects         speaker  \\\n",
       "0  energy,history,job-accomplishments  scott-surovell   \n",
       "1                      foreign-policy    barack-obama   \n",
       "2                         health-care    blog-posting   \n",
       "3                        economy,jobs   charlie-crist   \n",
       "4                           education       robin-vos   \n",
       "\n",
       "            speaker_job_title state_info party_affilation  count_1  count_2  \\\n",
       "0              State delegate   Virginia         democrat      0.0      0.0   \n",
       "1                   President   Illinois         democrat     70.0     71.0   \n",
       "2                         NaN        NaN             none      7.0     19.0   \n",
       "3                         NaN    Florida         democrat     15.0      9.0   \n",
       "4  Wisconsin Assembly speaker  Wisconsin       republican      0.0      3.0   \n",
       "\n",
       "   count_3  count_4  count_5                    context  \\\n",
       "0      1.0      1.0      0.0            a floor speech.   \n",
       "1    160.0    163.0      9.0                     Denver   \n",
       "2      3.0      5.0     44.0             a news release   \n",
       "3     20.0     19.0      2.0        an interview on CNN   \n",
       "4      2.0      5.0      1.0  a an online opinion-piece   \n",
       "\n",
       "                        statement_removedpunctuation  \\\n",
       "0  when did the decline of coal begin it began wi...   \n",
       "1  hillary clinton agreed with john mccain by vot...   \n",
       "2  health care reform legislation is likely to ma...   \n",
       "3  towards the end of my tenure the economic tran...   \n",
       "4  the chicago bears have had more starting quart...   \n",
       "\n",
       "                                  nepali_translation  \\\n",
       "0  कोइलाको पतन कहिले सुरु भयो यो प्राकृतिक ग्यास ...   \n",
       "1  हिलारी क्लिन्टनले जर्ज बुशलाई इरानमा शंकाको फा...   \n",
       "2  स्वास्थ्य हेरचाह सुधार कानूनले नि: शुल्क लिंग ...   \n",
       "3  मेरो कार्यकालको अन्त्यमा आर्थिक परिवर्तन सुरु भयो   \n",
       "4  शिकागो बियर्सले विगत दुई दशकहरूमा बर्खास्त गरि...   \n",
       "\n",
       "                                 english_translation  \\\n",
       "0  when did the decline of coal begin? it began w...   \n",
       "1  hillary clinton agreed with john mccain by vot...   \n",
       "2  health care reform legislation is likely to ma...   \n",
       "3  towards the end of my tenure, the economic tra...   \n",
       "4  the chicago bears have had more starting quart...   \n",
       "\n",
       "                       english_translation_tokenized  \\\n",
       "0  [when, did, the, decline, of, coal, begin, it,...   \n",
       "1  [hillary, clinton, agreed, with, john, mccain,...   \n",
       "2  [health, care, reform, legislation, is, likely...   \n",
       "3  [towards, the, end, of, my, tenure, the, econo...   \n",
       "4  [the, chicago, bears, have, had, more, startin...   \n",
       "\n",
       "                       english_translation_stopwords  \\\n",
       "0  decline coal begin began natural gas layoff be...   \n",
       "1  hillary clinton agreed john mccain voting give...   \n",
       "2  health care reform legislation likely mandate ...   \n",
       "3   towards end tenure economic transformation began   \n",
       "4  chicago bears starting quarterbacks past ten y...   \n",
       "\n",
       "                                preprocessed_english  \n",
       "0  decline coal begin begin natural gas layoff be...  \n",
       "1  hillary clinton agree john mccain voting give ...  \n",
       "2  health care reform legislation likely mandate ...  \n",
       "3   towards end tenure economic transformation begin  \n",
       "4  chicago bear start quarterback past ten year t...  "
      ]
     },
     "execution_count": 22,
     "metadata": {},
     "output_type": "execute_result"
    }
   ],
   "source": [
    "df.head()"
   ]
  },
  {
   "cell_type": "code",
   "execution_count": 23,
   "id": "7553d1b5",
   "metadata": {
    "execution": {
     "iopub.execute_input": "2023-05-25T10:09:43.148767Z",
     "iopub.status.busy": "2023-05-25T10:09:43.147980Z",
     "iopub.status.idle": "2023-05-25T10:09:43.153655Z",
     "shell.execute_reply": "2023-05-25T10:09:43.152621Z"
    },
    "papermill": {
     "duration": 0.017238,
     "end_time": "2023-05-25T10:09:43.156121",
     "exception": false,
     "start_time": "2023-05-25T10:09:43.138883",
     "status": "completed"
    },
    "tags": []
   },
   "outputs": [
    {
     "data": {
      "text/plain": [
       "'decline coal begin begin natural gas layoff begin administration president george w bush'"
      ]
     },
     "execution_count": 23,
     "metadata": {},
     "output_type": "execute_result"
    }
   ],
   "source": [
    "df[\"preprocessed_english\"].iloc[0]"
   ]
  },
  {
   "cell_type": "code",
   "execution_count": 24,
   "id": "aca2403b",
   "metadata": {
    "execution": {
     "iopub.execute_input": "2023-05-25T10:09:43.175195Z",
     "iopub.status.busy": "2023-05-25T10:09:43.174226Z",
     "iopub.status.idle": "2023-05-25T10:09:43.178485Z",
     "shell.execute_reply": "2023-05-25T10:09:43.177849Z"
    },
    "papermill": {
     "duration": 0.016255,
     "end_time": "2023-05-25T10:09:43.180818",
     "exception": false,
     "start_time": "2023-05-25T10:09:43.164563",
     "status": "completed"
    },
    "tags": []
   },
   "outputs": [],
   "source": [
    "from sklearn.feature_extraction.text import TfidfVectorizer\n",
    "vectorizer = TfidfVectorizer(lowercase = False)\n"
   ]
  },
  {
   "cell_type": "code",
   "execution_count": 25,
   "id": "7231077c",
   "metadata": {
    "execution": {
     "iopub.execute_input": "2023-05-25T10:09:43.199024Z",
     "iopub.status.busy": "2023-05-25T10:09:43.198609Z",
     "iopub.status.idle": "2023-05-25T10:09:43.338167Z",
     "shell.execute_reply": "2023-05-25T10:09:43.336608Z"
    },
    "papermill": {
     "duration": 0.15133,
     "end_time": "2023-05-25T10:09:43.340546",
     "exception": false,
     "start_time": "2023-05-25T10:09:43.189216",
     "status": "completed"
    },
    "tags": []
   },
   "outputs": [],
   "source": [
    "\n",
    "X = vectorizer.fit_transform(df[\"preprocessed_english\"])\n",
    "# vectorizer.get_feature_names_out()\n"
   ]
  },
  {
   "cell_type": "code",
   "execution_count": 26,
   "id": "d8fcfd2a",
   "metadata": {
    "execution": {
     "iopub.execute_input": "2023-05-25T10:09:43.359490Z",
     "iopub.status.busy": "2023-05-25T10:09:43.359150Z",
     "iopub.status.idle": "2023-05-25T10:09:43.538563Z",
     "shell.execute_reply": "2023-05-25T10:09:43.537191Z"
    },
    "papermill": {
     "duration": 0.192418,
     "end_time": "2023-05-25T10:09:43.541870",
     "exception": false,
     "start_time": "2023-05-25T10:09:43.349452",
     "status": "completed"
    },
    "tags": []
   },
   "outputs": [
    {
     "name": "stdout",
     "output_type": "stream",
     "text": [
      "[[0. 0. 0. ... 0. 0. 0.]\n",
      " [0. 0. 0. ... 0. 0. 0.]\n",
      " [0. 0. 0. ... 0. 0. 0.]\n",
      " ...\n",
      " [0. 0. 0. ... 0. 0. 0.]\n",
      " [0. 0. 0. ... 0. 0. 0.]\n",
      " [0. 0. 0. ... 0. 0. 0.]]\n"
     ]
    }
   ],
   "source": [
    "print(X.toarray())"
   ]
  },
  {
   "cell_type": "code",
   "execution_count": null,
   "id": "a6361aac",
   "metadata": {
    "papermill": {
     "duration": 0.007716,
     "end_time": "2023-05-25T10:09:43.558060",
     "exception": false,
     "start_time": "2023-05-25T10:09:43.550344",
     "status": "completed"
    },
    "tags": []
   },
   "outputs": [],
   "source": []
  }
 ],
 "metadata": {
  "kernelspec": {
   "display_name": "Python 3",
   "language": "python",
   "name": "python3"
  },
  "language_info": {
   "codemirror_mode": {
    "name": "ipython",
    "version": 3
   },
   "file_extension": ".py",
   "mimetype": "text/x-python",
   "name": "python",
   "nbconvert_exporter": "python",
   "pygments_lexer": "ipython3",
   "version": "3.10.10"
  },
  "papermill": {
   "default_parameters": {},
   "duration": 90.479777,
   "end_time": "2023-05-25T10:09:46.949063",
   "environment_variables": {},
   "exception": null,
   "input_path": "__notebook__.ipynb",
   "output_path": "__notebook__.ipynb",
   "parameters": {},
   "start_time": "2023-05-25T10:08:16.469286",
   "version": "2.4.0"
  }
 },
 "nbformat": 4,
 "nbformat_minor": 5
}

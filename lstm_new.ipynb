{
 "cells": [
  {
   "cell_type": "code",
   "execution_count": 1,
   "id": "ee3567ea",
   "metadata": {
    "execution": {
     "iopub.execute_input": "2023-06-05T09:36:12.851106Z",
     "iopub.status.busy": "2023-06-05T09:36:12.850658Z",
     "iopub.status.idle": "2023-06-05T09:36:16.358239Z",
     "shell.execute_reply": "2023-06-05T09:36:16.357103Z"
    },
    "papermill": {
     "duration": 3.526714,
     "end_time": "2023-06-05T09:36:16.360547",
     "exception": false,
     "start_time": "2023-06-05T09:36:12.833833",
     "status": "completed"
    },
    "tags": []
   },
   "outputs": [
    {
     "name": "stdout",
     "output_type": "stream",
     "text": [
      "[nltk_data] Downloading package punkt to /usr/share/nltk_data...\n",
      "[nltk_data]   Package punkt is already up-to-date!\n",
      "[nltk_data] Downloading package stopwords to /usr/share/nltk_data...\n",
      "[nltk_data]   Package stopwords is already up-to-date!\n"
     ]
    },
    {
     "data": {
      "text/plain": [
       "True"
      ]
     },
     "execution_count": 1,
     "metadata": {},
     "output_type": "execute_result"
    }
   ],
   "source": [
    "import nltk\n",
    "import pandas as pd\n",
    "import numpy as np\n",
    "# The NLTK data package includes a pre-trained Punkt tokenizer for English.\n",
    "# punkt had to be manually downloaded using the command below\n",
    "# same with stopwords\n",
    "nltk.download('punkt')\n",
    "from nltk.tokenize import word_tokenize\n",
    "from nltk.corpus import stopwords\n",
    "nltk.download('stopwords')"
   ]
  },
  {
   "cell_type": "code",
   "execution_count": 2,
   "id": "7dcda9df",
   "metadata": {
    "execution": {
     "iopub.execute_input": "2023-06-05T09:36:16.394317Z",
     "iopub.status.busy": "2023-06-05T09:36:16.393970Z",
     "iopub.status.idle": "2023-06-05T09:36:33.236216Z",
     "shell.execute_reply": "2023-06-05T09:36:33.235072Z"
    },
    "papermill": {
     "duration": 16.861744,
     "end_time": "2023-06-05T09:36:33.238808",
     "exception": false,
     "start_time": "2023-06-05T09:36:16.377064",
     "status": "completed"
    },
    "tags": []
   },
   "outputs": [
    {
     "name": "stderr",
     "output_type": "stream",
     "text": [
      "/opt/conda/lib/python3.10/site-packages/tensorflow_io/python/ops/__init__.py:98: UserWarning: unable to load libtensorflow_io_plugins.so: unable to open file: libtensorflow_io_plugins.so, from paths: ['/opt/conda/lib/python3.10/site-packages/tensorflow_io/python/ops/libtensorflow_io_plugins.so']\n",
      "caused by: ['/opt/conda/lib/python3.10/site-packages/tensorflow_io/python/ops/libtensorflow_io_plugins.so: undefined symbol: _ZN3tsl6StatusC1EN10tensorflow5error4CodeESt17basic_string_viewIcSt11char_traitsIcEENS_14SourceLocationE']\n",
      "  warnings.warn(f\"unable to load libtensorflow_io_plugins.so: {e}\")\n",
      "/opt/conda/lib/python3.10/site-packages/tensorflow_io/python/ops/__init__.py:104: UserWarning: file system plugins are not loaded: unable to open file: libtensorflow_io.so, from paths: ['/opt/conda/lib/python3.10/site-packages/tensorflow_io/python/ops/libtensorflow_io.so']\n",
      "caused by: ['/opt/conda/lib/python3.10/site-packages/tensorflow_io/python/ops/libtensorflow_io.so: undefined symbol: _ZTVN10tensorflow13GcsFileSystemE']\n",
      "  warnings.warn(f\"file system plugins are not loaded: {e}\")\n"
     ]
    }
   ],
   "source": [
    "import matplotlib.pyplot as plt\n",
    "import seaborn as sns\n",
    "\n",
    "from sklearn.model_selection import train_test_split\n",
    "\n",
    "from sklearn.feature_extraction.text import TfidfVectorizer\n",
    "from sklearn.model_selection import train_test_split\n",
    "from sklearn.metrics import classification_report,confusion_matrix\n",
    "from sklearn.metrics import accuracy_score\n",
    "from tensorflow.keras import Model\n",
    "from tensorflow.keras.models import Sequential\n",
    "from tensorflow.keras.layers import Dense, Dropout, LSTM, Embedding, Bidirectional, Input, Concatenate, TimeDistributed\n",
    "from tensorflow.keras.utils import plot_model"
   ]
  },
  {
   "cell_type": "code",
   "execution_count": 3,
   "id": "4e0eea12",
   "metadata": {
    "execution": {
     "iopub.execute_input": "2023-06-05T09:36:33.270780Z",
     "iopub.status.busy": "2023-06-05T09:36:33.269235Z",
     "iopub.status.idle": "2023-06-05T09:36:33.277310Z",
     "shell.execute_reply": "2023-06-05T09:36:33.276407Z"
    },
    "papermill": {
     "duration": 0.02547,
     "end_time": "2023-06-05T09:36:33.279540",
     "exception": false,
     "start_time": "2023-06-05T09:36:33.254070",
     "status": "completed"
    },
    "tags": []
   },
   "outputs": [],
   "source": [
    "from tensorflow.keras.layers import Embedding\n",
    "from tensorflow.keras.preprocessing.sequence import pad_sequences\n",
    "from tensorflow.keras.models import Sequential\n",
    "from tensorflow.keras.preprocessing.text import one_hot\n",
    "from tensorflow.keras.layers import LSTM, Dense, Dropout, BatchNormalization\n",
    "from sklearn.preprocessing import LabelEncoder, OneHotEncoder\n",
    "import tensorflow as tf\n",
    "tf.config.run_functions_eagerly(True)"
   ]
  },
  {
   "cell_type": "code",
   "execution_count": 4,
   "id": "0f9e08ce",
   "metadata": {
    "execution": {
     "iopub.execute_input": "2023-06-05T09:36:33.310479Z",
     "iopub.status.busy": "2023-06-05T09:36:33.310147Z",
     "iopub.status.idle": "2023-06-05T09:36:33.641497Z",
     "shell.execute_reply": "2023-06-05T09:36:33.640537Z"
    },
    "papermill": {
     "duration": 0.349794,
     "end_time": "2023-06-05T09:36:33.643978",
     "exception": false,
     "start_time": "2023-06-05T09:36:33.294184",
     "status": "completed"
    },
    "tags": []
   },
   "outputs": [],
   "source": [
    "train = pd.read_csv('/kaggle/input/translated-data-english/translated_data_english.tsv', sep='\\t')\n",
    "validation = pd.read_csv('/kaggle/input/translated-data-english-validation/translated_data_english_validation.tsv', sep='\\t')\n",
    "df_test = pd.read_csv('/kaggle/input/translated-data-english-test/translated_data_english_test.tsv', sep='\\t')"
   ]
  },
  {
   "cell_type": "code",
   "execution_count": 5,
   "id": "e7c8bc92",
   "metadata": {
    "execution": {
     "iopub.execute_input": "2023-06-05T09:36:33.677778Z",
     "iopub.status.busy": "2023-06-05T09:36:33.676105Z",
     "iopub.status.idle": "2023-06-05T09:36:33.682598Z",
     "shell.execute_reply": "2023-06-05T09:36:33.681643Z"
    },
    "papermill": {
     "duration": 0.025019,
     "end_time": "2023-06-05T09:36:33.684827",
     "exception": false,
     "start_time": "2023-06-05T09:36:33.659808",
     "status": "completed"
    },
    "tags": []
   },
   "outputs": [],
   "source": [
    "original_df = pd.DataFrame()"
   ]
  },
  {
   "cell_type": "code",
   "execution_count": 6,
   "id": "e73d78ca",
   "metadata": {
    "execution": {
     "iopub.execute_input": "2023-06-05T09:36:33.717569Z",
     "iopub.status.busy": "2023-06-05T09:36:33.716410Z",
     "iopub.status.idle": "2023-06-05T09:36:33.736019Z",
     "shell.execute_reply": "2023-06-05T09:36:33.734810Z"
    },
    "papermill": {
     "duration": 0.039224,
     "end_time": "2023-06-05T09:36:33.739325",
     "exception": false,
     "start_time": "2023-06-05T09:36:33.700101",
     "status": "completed"
    },
    "tags": []
   },
   "outputs": [
    {
     "name": "stderr",
     "output_type": "stream",
     "text": [
      "/tmp/ipykernel_24/2974941267.py:1: FutureWarning: The frame.append method is deprecated and will be removed from pandas in a future version. Use pandas.concat instead.\n",
      "  original_df = original_df.append(train, ignore_index=True)\n",
      "/tmp/ipykernel_24/2974941267.py:2: FutureWarning: The frame.append method is deprecated and will be removed from pandas in a future version. Use pandas.concat instead.\n",
      "  original_df = original_df.append(df_test, ignore_index=True)\n",
      "/tmp/ipykernel_24/2974941267.py:3: FutureWarning: The frame.append method is deprecated and will be removed from pandas in a future version. Use pandas.concat instead.\n",
      "  original_df = original_df.append(validation, ignore_index=True)\n"
     ]
    }
   ],
   "source": [
    "original_df = original_df.append(train, ignore_index=True)\n",
    "original_df = original_df.append(df_test, ignore_index=True)\n",
    "original_df = original_df.append(validation, ignore_index=True)"
   ]
  },
  {
   "cell_type": "code",
   "execution_count": 7,
   "id": "538c545b",
   "metadata": {
    "execution": {
     "iopub.execute_input": "2023-06-05T09:36:33.771596Z",
     "iopub.status.busy": "2023-06-05T09:36:33.771241Z",
     "iopub.status.idle": "2023-06-05T09:36:33.804652Z",
     "shell.execute_reply": "2023-06-05T09:36:33.803493Z"
    },
    "papermill": {
     "duration": 0.05239,
     "end_time": "2023-06-05T09:36:33.807119",
     "exception": false,
     "start_time": "2023-06-05T09:36:33.754729",
     "status": "completed"
    },
    "tags": []
   },
   "outputs": [
    {
     "data": {
      "text/html": [
       "<div>\n",
       "<style scoped>\n",
       "    .dataframe tbody tr th:only-of-type {\n",
       "        vertical-align: middle;\n",
       "    }\n",
       "\n",
       "    .dataframe tbody tr th {\n",
       "        vertical-align: top;\n",
       "    }\n",
       "\n",
       "    .dataframe thead th {\n",
       "        text-align: right;\n",
       "    }\n",
       "</style>\n",
       "<table border=\"1\" class=\"dataframe\">\n",
       "  <thead>\n",
       "    <tr style=\"text-align: right;\">\n",
       "      <th></th>\n",
       "      <th>id</th>\n",
       "      <th>label</th>\n",
       "      <th>statement</th>\n",
       "      <th>subjects</th>\n",
       "      <th>speaker</th>\n",
       "      <th>speaker_job_title</th>\n",
       "      <th>state_info</th>\n",
       "      <th>party_affilation</th>\n",
       "      <th>count_1</th>\n",
       "      <th>count_2</th>\n",
       "      <th>count_3</th>\n",
       "      <th>count_4</th>\n",
       "      <th>count_5</th>\n",
       "      <th>context</th>\n",
       "      <th>statement_removedpunctuation</th>\n",
       "      <th>nepali_translation</th>\n",
       "      <th>english_translation</th>\n",
       "    </tr>\n",
       "  </thead>\n",
       "  <tbody>\n",
       "    <tr>\n",
       "      <th>0</th>\n",
       "      <td>10540.json</td>\n",
       "      <td>half-true</td>\n",
       "      <td>When did the decline of coal start? It started...</td>\n",
       "      <td>energy,history,job-accomplishments</td>\n",
       "      <td>scott-surovell</td>\n",
       "      <td>State delegate</td>\n",
       "      <td>Virginia</td>\n",
       "      <td>democrat</td>\n",
       "      <td>0.0</td>\n",
       "      <td>0.0</td>\n",
       "      <td>1.0</td>\n",
       "      <td>1.0</td>\n",
       "      <td>0.0</td>\n",
       "      <td>a floor speech.</td>\n",
       "      <td>When did the decline of coal start It started ...</td>\n",
       "      <td>कोइलाको पतन कहिले सुरु भयो यो प्राकृतिक ग्यास ...</td>\n",
       "      <td>When did the decline of coal begin? It began w...</td>\n",
       "    </tr>\n",
       "    <tr>\n",
       "      <th>1</th>\n",
       "      <td>324.json</td>\n",
       "      <td>mostly-true</td>\n",
       "      <td>Hillary Clinton agrees with John McCain \"by vo...</td>\n",
       "      <td>foreign-policy</td>\n",
       "      <td>barack-obama</td>\n",
       "      <td>President</td>\n",
       "      <td>Illinois</td>\n",
       "      <td>democrat</td>\n",
       "      <td>70.0</td>\n",
       "      <td>71.0</td>\n",
       "      <td>160.0</td>\n",
       "      <td>163.0</td>\n",
       "      <td>9.0</td>\n",
       "      <td>Denver</td>\n",
       "      <td>Hillary Clinton agrees with John McCain by vot...</td>\n",
       "      <td>हिलारी क्लिन्टनले जर्ज बुशलाई इरानमा शंकाको फा...</td>\n",
       "      <td>Hillary Clinton agreed with John McCain by vot...</td>\n",
       "    </tr>\n",
       "    <tr>\n",
       "      <th>2</th>\n",
       "      <td>1123.json</td>\n",
       "      <td>false</td>\n",
       "      <td>Health care reform legislation is likely to ma...</td>\n",
       "      <td>health-care</td>\n",
       "      <td>blog-posting</td>\n",
       "      <td>NaN</td>\n",
       "      <td>NaN</td>\n",
       "      <td>none</td>\n",
       "      <td>7.0</td>\n",
       "      <td>19.0</td>\n",
       "      <td>3.0</td>\n",
       "      <td>5.0</td>\n",
       "      <td>44.0</td>\n",
       "      <td>a news release</td>\n",
       "      <td>Health care reform legislation is likely to ma...</td>\n",
       "      <td>स्वास्थ्य हेरचाह सुधार कानूनले नि: शुल्क लिंग ...</td>\n",
       "      <td>Health care reform legislation is likely to ma...</td>\n",
       "    </tr>\n",
       "    <tr>\n",
       "      <th>3</th>\n",
       "      <td>9028.json</td>\n",
       "      <td>half-true</td>\n",
       "      <td>The economic turnaround started at the end of ...</td>\n",
       "      <td>economy,jobs</td>\n",
       "      <td>charlie-crist</td>\n",
       "      <td>NaN</td>\n",
       "      <td>Florida</td>\n",
       "      <td>democrat</td>\n",
       "      <td>15.0</td>\n",
       "      <td>9.0</td>\n",
       "      <td>20.0</td>\n",
       "      <td>19.0</td>\n",
       "      <td>2.0</td>\n",
       "      <td>an interview on CNN</td>\n",
       "      <td>The economic turnaround started at the end of ...</td>\n",
       "      <td>मेरो कार्यकालको अन्त्यमा आर्थिक परिवर्तन सुरु भयो</td>\n",
       "      <td>Towards the end of my tenure, the economic tra...</td>\n",
       "    </tr>\n",
       "    <tr>\n",
       "      <th>4</th>\n",
       "      <td>12465.json</td>\n",
       "      <td>true</td>\n",
       "      <td>The Chicago Bears have had more starting quart...</td>\n",
       "      <td>education</td>\n",
       "      <td>robin-vos</td>\n",
       "      <td>Wisconsin Assembly speaker</td>\n",
       "      <td>Wisconsin</td>\n",
       "      <td>republican</td>\n",
       "      <td>0.0</td>\n",
       "      <td>3.0</td>\n",
       "      <td>2.0</td>\n",
       "      <td>5.0</td>\n",
       "      <td>1.0</td>\n",
       "      <td>a an online opinion-piece</td>\n",
       "      <td>The Chicago Bears have had more starting quart...</td>\n",
       "      <td>शिकागो बियर्सले विगत दुई दशकहरूमा बर्खास्त गरि...</td>\n",
       "      <td>The Chicago Bears have had more starting quart...</td>\n",
       "    </tr>\n",
       "  </tbody>\n",
       "</table>\n",
       "</div>"
      ],
      "text/plain": [
       "           id        label                                          statement  \\\n",
       "0  10540.json    half-true  When did the decline of coal start? It started...   \n",
       "1    324.json  mostly-true  Hillary Clinton agrees with John McCain \"by vo...   \n",
       "2   1123.json        false  Health care reform legislation is likely to ma...   \n",
       "3   9028.json    half-true  The economic turnaround started at the end of ...   \n",
       "4  12465.json         true  The Chicago Bears have had more starting quart...   \n",
       "\n",
       "                             subjects         speaker  \\\n",
       "0  energy,history,job-accomplishments  scott-surovell   \n",
       "1                      foreign-policy    barack-obama   \n",
       "2                         health-care    blog-posting   \n",
       "3                        economy,jobs   charlie-crist   \n",
       "4                           education       robin-vos   \n",
       "\n",
       "            speaker_job_title state_info party_affilation  count_1  count_2  \\\n",
       "0              State delegate   Virginia         democrat      0.0      0.0   \n",
       "1                   President   Illinois         democrat     70.0     71.0   \n",
       "2                         NaN        NaN             none      7.0     19.0   \n",
       "3                         NaN    Florida         democrat     15.0      9.0   \n",
       "4  Wisconsin Assembly speaker  Wisconsin       republican      0.0      3.0   \n",
       "\n",
       "   count_3  count_4  count_5                    context  \\\n",
       "0      1.0      1.0      0.0            a floor speech.   \n",
       "1    160.0    163.0      9.0                     Denver   \n",
       "2      3.0      5.0     44.0             a news release   \n",
       "3     20.0     19.0      2.0        an interview on CNN   \n",
       "4      2.0      5.0      1.0  a an online opinion-piece   \n",
       "\n",
       "                        statement_removedpunctuation  \\\n",
       "0  When did the decline of coal start It started ...   \n",
       "1  Hillary Clinton agrees with John McCain by vot...   \n",
       "2  Health care reform legislation is likely to ma...   \n",
       "3  The economic turnaround started at the end of ...   \n",
       "4  The Chicago Bears have had more starting quart...   \n",
       "\n",
       "                                  nepali_translation  \\\n",
       "0  कोइलाको पतन कहिले सुरु भयो यो प्राकृतिक ग्यास ...   \n",
       "1  हिलारी क्लिन्टनले जर्ज बुशलाई इरानमा शंकाको फा...   \n",
       "2  स्वास्थ्य हेरचाह सुधार कानूनले नि: शुल्क लिंग ...   \n",
       "3  मेरो कार्यकालको अन्त्यमा आर्थिक परिवर्तन सुरु भयो   \n",
       "4  शिकागो बियर्सले विगत दुई दशकहरूमा बर्खास्त गरि...   \n",
       "\n",
       "                                 english_translation  \n",
       "0  When did the decline of coal begin? It began w...  \n",
       "1  Hillary Clinton agreed with John McCain by vot...  \n",
       "2  Health care reform legislation is likely to ma...  \n",
       "3  Towards the end of my tenure, the economic tra...  \n",
       "4  The Chicago Bears have had more starting quart...  "
      ]
     },
     "execution_count": 7,
     "metadata": {},
     "output_type": "execute_result"
    }
   ],
   "source": [
    "original_df.head()"
   ]
  },
  {
   "cell_type": "code",
   "execution_count": 8,
   "id": "96295569",
   "metadata": {
    "execution": {
     "iopub.execute_input": "2023-06-05T09:36:33.843033Z",
     "iopub.status.busy": "2023-06-05T09:36:33.842709Z",
     "iopub.status.idle": "2023-06-05T09:36:33.849001Z",
     "shell.execute_reply": "2023-06-05T09:36:33.848021Z"
    },
    "papermill": {
     "duration": 0.02606,
     "end_time": "2023-06-05T09:36:33.851092",
     "exception": false,
     "start_time": "2023-06-05T09:36:33.825032",
     "status": "completed"
    },
    "tags": []
   },
   "outputs": [
    {
     "data": {
      "text/plain": [
       "(12782, 17)"
      ]
     },
     "execution_count": 8,
     "metadata": {},
     "output_type": "execute_result"
    }
   ],
   "source": [
    "original_df.shape"
   ]
  },
  {
   "cell_type": "code",
   "execution_count": 9,
   "id": "a818b781",
   "metadata": {
    "execution": {
     "iopub.execute_input": "2023-06-05T09:36:33.884053Z",
     "iopub.status.busy": "2023-06-05T09:36:33.883261Z",
     "iopub.status.idle": "2023-06-05T09:36:33.895798Z",
     "shell.execute_reply": "2023-06-05T09:36:33.894945Z"
    },
    "papermill": {
     "duration": 0.030873,
     "end_time": "2023-06-05T09:36:33.897890",
     "exception": false,
     "start_time": "2023-06-05T09:36:33.867017",
     "status": "completed"
    },
    "tags": []
   },
   "outputs": [],
   "source": [
    "original_df['english_translation'] = original_df['english_translation'].str.lower()"
   ]
  },
  {
   "cell_type": "code",
   "execution_count": 10,
   "id": "e568a7ef",
   "metadata": {
    "execution": {
     "iopub.execute_input": "2023-06-05T09:36:33.929707Z",
     "iopub.status.busy": "2023-06-05T09:36:33.928851Z",
     "iopub.status.idle": "2023-06-05T09:36:33.934568Z",
     "shell.execute_reply": "2023-06-05T09:36:33.933773Z"
    },
    "papermill": {
     "duration": 0.0236,
     "end_time": "2023-06-05T09:36:33.936702",
     "exception": false,
     "start_time": "2023-06-05T09:36:33.913102",
     "status": "completed"
    },
    "tags": []
   },
   "outputs": [],
   "source": [
    "import string\n",
    "def removepunctuation(sentence):\n",
    "   new_text = sentence.replace(\"—\", \" \") # \"—\" in the text was not equivalent to \"-\" so we replcaed \"—\" with a space\n",
    "   print \n",
    "  #iterate over every single character to see if it is a punctuation or not, and then concatenate them using \"join\"\n",
    "   punctuationfree=\"\".join([i for i in new_text if i not in string.punctuation])\n",
    "   return punctuationfree"
   ]
  },
  {
   "cell_type": "code",
   "execution_count": 11,
   "id": "2a488007",
   "metadata": {
    "execution": {
     "iopub.execute_input": "2023-06-05T09:36:33.967957Z",
     "iopub.status.busy": "2023-06-05T09:36:33.967170Z",
     "iopub.status.idle": "2023-06-05T09:36:34.183283Z",
     "shell.execute_reply": "2023-06-05T09:36:34.182325Z"
    },
    "papermill": {
     "duration": 0.233816,
     "end_time": "2023-06-05T09:36:34.185566",
     "exception": false,
     "start_time": "2023-06-05T09:36:33.951750",
     "status": "completed"
    },
    "tags": []
   },
   "outputs": [],
   "source": [
    "original_df[\"statement_removedpunctuation\"] = original_df['english_translation'].apply(lambda x : removepunctuation(x))"
   ]
  },
  {
   "cell_type": "code",
   "execution_count": 12,
   "id": "ce948d41",
   "metadata": {
    "execution": {
     "iopub.execute_input": "2023-06-05T09:36:34.217157Z",
     "iopub.status.busy": "2023-06-05T09:36:34.216449Z",
     "iopub.status.idle": "2023-06-05T09:36:34.239368Z",
     "shell.execute_reply": "2023-06-05T09:36:34.238108Z"
    },
    "papermill": {
     "duration": 0.042159,
     "end_time": "2023-06-05T09:36:34.242712",
     "exception": false,
     "start_time": "2023-06-05T09:36:34.200553",
     "status": "completed"
    },
    "tags": []
   },
   "outputs": [
    {
     "data": {
      "text/html": [
       "<div>\n",
       "<style scoped>\n",
       "    .dataframe tbody tr th:only-of-type {\n",
       "        vertical-align: middle;\n",
       "    }\n",
       "\n",
       "    .dataframe tbody tr th {\n",
       "        vertical-align: top;\n",
       "    }\n",
       "\n",
       "    .dataframe thead th {\n",
       "        text-align: right;\n",
       "    }\n",
       "</style>\n",
       "<table border=\"1\" class=\"dataframe\">\n",
       "  <thead>\n",
       "    <tr style=\"text-align: right;\">\n",
       "      <th></th>\n",
       "      <th>id</th>\n",
       "      <th>label</th>\n",
       "      <th>statement</th>\n",
       "      <th>subjects</th>\n",
       "      <th>speaker</th>\n",
       "      <th>speaker_job_title</th>\n",
       "      <th>state_info</th>\n",
       "      <th>party_affilation</th>\n",
       "      <th>count_1</th>\n",
       "      <th>count_2</th>\n",
       "      <th>count_3</th>\n",
       "      <th>count_4</th>\n",
       "      <th>count_5</th>\n",
       "      <th>context</th>\n",
       "      <th>statement_removedpunctuation</th>\n",
       "      <th>nepali_translation</th>\n",
       "      <th>english_translation</th>\n",
       "    </tr>\n",
       "  </thead>\n",
       "  <tbody>\n",
       "    <tr>\n",
       "      <th>0</th>\n",
       "      <td>10540.json</td>\n",
       "      <td>half-true</td>\n",
       "      <td>When did the decline of coal start? It started...</td>\n",
       "      <td>energy,history,job-accomplishments</td>\n",
       "      <td>scott-surovell</td>\n",
       "      <td>State delegate</td>\n",
       "      <td>Virginia</td>\n",
       "      <td>democrat</td>\n",
       "      <td>0.0</td>\n",
       "      <td>0.0</td>\n",
       "      <td>1.0</td>\n",
       "      <td>1.0</td>\n",
       "      <td>0.0</td>\n",
       "      <td>a floor speech.</td>\n",
       "      <td>when did the decline of coal begin it began wi...</td>\n",
       "      <td>कोइलाको पतन कहिले सुरु भयो यो प्राकृतिक ग्यास ...</td>\n",
       "      <td>when did the decline of coal begin? it began w...</td>\n",
       "    </tr>\n",
       "    <tr>\n",
       "      <th>1</th>\n",
       "      <td>324.json</td>\n",
       "      <td>mostly-true</td>\n",
       "      <td>Hillary Clinton agrees with John McCain \"by vo...</td>\n",
       "      <td>foreign-policy</td>\n",
       "      <td>barack-obama</td>\n",
       "      <td>President</td>\n",
       "      <td>Illinois</td>\n",
       "      <td>democrat</td>\n",
       "      <td>70.0</td>\n",
       "      <td>71.0</td>\n",
       "      <td>160.0</td>\n",
       "      <td>163.0</td>\n",
       "      <td>9.0</td>\n",
       "      <td>Denver</td>\n",
       "      <td>hillary clinton agreed with john mccain by vot...</td>\n",
       "      <td>हिलारी क्लिन्टनले जर्ज बुशलाई इरानमा शंकाको फा...</td>\n",
       "      <td>hillary clinton agreed with john mccain by vot...</td>\n",
       "    </tr>\n",
       "    <tr>\n",
       "      <th>2</th>\n",
       "      <td>1123.json</td>\n",
       "      <td>false</td>\n",
       "      <td>Health care reform legislation is likely to ma...</td>\n",
       "      <td>health-care</td>\n",
       "      <td>blog-posting</td>\n",
       "      <td>NaN</td>\n",
       "      <td>NaN</td>\n",
       "      <td>none</td>\n",
       "      <td>7.0</td>\n",
       "      <td>19.0</td>\n",
       "      <td>3.0</td>\n",
       "      <td>5.0</td>\n",
       "      <td>44.0</td>\n",
       "      <td>a news release</td>\n",
       "      <td>health care reform legislation is likely to ma...</td>\n",
       "      <td>स्वास्थ्य हेरचाह सुधार कानूनले नि: शुल्क लिंग ...</td>\n",
       "      <td>health care reform legislation is likely to ma...</td>\n",
       "    </tr>\n",
       "    <tr>\n",
       "      <th>3</th>\n",
       "      <td>9028.json</td>\n",
       "      <td>half-true</td>\n",
       "      <td>The economic turnaround started at the end of ...</td>\n",
       "      <td>economy,jobs</td>\n",
       "      <td>charlie-crist</td>\n",
       "      <td>NaN</td>\n",
       "      <td>Florida</td>\n",
       "      <td>democrat</td>\n",
       "      <td>15.0</td>\n",
       "      <td>9.0</td>\n",
       "      <td>20.0</td>\n",
       "      <td>19.0</td>\n",
       "      <td>2.0</td>\n",
       "      <td>an interview on CNN</td>\n",
       "      <td>towards the end of my tenure the economic tran...</td>\n",
       "      <td>मेरो कार्यकालको अन्त्यमा आर्थिक परिवर्तन सुरु भयो</td>\n",
       "      <td>towards the end of my tenure, the economic tra...</td>\n",
       "    </tr>\n",
       "    <tr>\n",
       "      <th>4</th>\n",
       "      <td>12465.json</td>\n",
       "      <td>true</td>\n",
       "      <td>The Chicago Bears have had more starting quart...</td>\n",
       "      <td>education</td>\n",
       "      <td>robin-vos</td>\n",
       "      <td>Wisconsin Assembly speaker</td>\n",
       "      <td>Wisconsin</td>\n",
       "      <td>republican</td>\n",
       "      <td>0.0</td>\n",
       "      <td>3.0</td>\n",
       "      <td>2.0</td>\n",
       "      <td>5.0</td>\n",
       "      <td>1.0</td>\n",
       "      <td>a an online opinion-piece</td>\n",
       "      <td>the chicago bears have had more starting quart...</td>\n",
       "      <td>शिकागो बियर्सले विगत दुई दशकहरूमा बर्खास्त गरि...</td>\n",
       "      <td>the chicago bears have had more starting quart...</td>\n",
       "    </tr>\n",
       "  </tbody>\n",
       "</table>\n",
       "</div>"
      ],
      "text/plain": [
       "           id        label                                          statement  \\\n",
       "0  10540.json    half-true  When did the decline of coal start? It started...   \n",
       "1    324.json  mostly-true  Hillary Clinton agrees with John McCain \"by vo...   \n",
       "2   1123.json        false  Health care reform legislation is likely to ma...   \n",
       "3   9028.json    half-true  The economic turnaround started at the end of ...   \n",
       "4  12465.json         true  The Chicago Bears have had more starting quart...   \n",
       "\n",
       "                             subjects         speaker  \\\n",
       "0  energy,history,job-accomplishments  scott-surovell   \n",
       "1                      foreign-policy    barack-obama   \n",
       "2                         health-care    blog-posting   \n",
       "3                        economy,jobs   charlie-crist   \n",
       "4                           education       robin-vos   \n",
       "\n",
       "            speaker_job_title state_info party_affilation  count_1  count_2  \\\n",
       "0              State delegate   Virginia         democrat      0.0      0.0   \n",
       "1                   President   Illinois         democrat     70.0     71.0   \n",
       "2                         NaN        NaN             none      7.0     19.0   \n",
       "3                         NaN    Florida         democrat     15.0      9.0   \n",
       "4  Wisconsin Assembly speaker  Wisconsin       republican      0.0      3.0   \n",
       "\n",
       "   count_3  count_4  count_5                    context  \\\n",
       "0      1.0      1.0      0.0            a floor speech.   \n",
       "1    160.0    163.0      9.0                     Denver   \n",
       "2      3.0      5.0     44.0             a news release   \n",
       "3     20.0     19.0      2.0        an interview on CNN   \n",
       "4      2.0      5.0      1.0  a an online opinion-piece   \n",
       "\n",
       "                        statement_removedpunctuation  \\\n",
       "0  when did the decline of coal begin it began wi...   \n",
       "1  hillary clinton agreed with john mccain by vot...   \n",
       "2  health care reform legislation is likely to ma...   \n",
       "3  towards the end of my tenure the economic tran...   \n",
       "4  the chicago bears have had more starting quart...   \n",
       "\n",
       "                                  nepali_translation  \\\n",
       "0  कोइलाको पतन कहिले सुरु भयो यो प्राकृतिक ग्यास ...   \n",
       "1  हिलारी क्लिन्टनले जर्ज बुशलाई इरानमा शंकाको फा...   \n",
       "2  स्वास्थ्य हेरचाह सुधार कानूनले नि: शुल्क लिंग ...   \n",
       "3  मेरो कार्यकालको अन्त्यमा आर्थिक परिवर्तन सुरु भयो   \n",
       "4  शिकागो बियर्सले विगत दुई दशकहरूमा बर्खास्त गरि...   \n",
       "\n",
       "                                 english_translation  \n",
       "0  when did the decline of coal begin? it began w...  \n",
       "1  hillary clinton agreed with john mccain by vot...  \n",
       "2  health care reform legislation is likely to ma...  \n",
       "3  towards the end of my tenure, the economic tra...  \n",
       "4  the chicago bears have had more starting quart...  "
      ]
     },
     "execution_count": 12,
     "metadata": {},
     "output_type": "execute_result"
    }
   ],
   "source": [
    "original_df.head()"
   ]
  },
  {
   "cell_type": "markdown",
   "id": "bbbea8b0",
   "metadata": {
    "papermill": {
     "duration": 0.015504,
     "end_time": "2023-06-05T09:36:34.275790",
     "exception": false,
     "start_time": "2023-06-05T09:36:34.260286",
     "status": "completed"
    },
    "tags": []
   },
   "source": [
    "statement_removed punctuation contains the 'statement' column, with lowercased characters and removed punctuation "
   ]
  },
  {
   "cell_type": "code",
   "execution_count": 13,
   "id": "ba47a89a",
   "metadata": {
    "execution": {
     "iopub.execute_input": "2023-06-05T09:36:34.307926Z",
     "iopub.status.busy": "2023-06-05T09:36:34.307109Z",
     "iopub.status.idle": "2023-06-05T09:36:37.171415Z",
     "shell.execute_reply": "2023-06-05T09:36:37.170381Z"
    },
    "papermill": {
     "duration": 2.882633,
     "end_time": "2023-06-05T09:36:37.173688",
     "exception": false,
     "start_time": "2023-06-05T09:36:34.291055",
     "status": "completed"
    },
    "tags": []
   },
   "outputs": [],
   "source": [
    "original_df[\"english_translation_tokenized\"] = original_df[\"statement_removedpunctuation\"].apply(word_tokenize)"
   ]
  },
  {
   "cell_type": "code",
   "execution_count": 14,
   "id": "7ea3a762",
   "metadata": {
    "execution": {
     "iopub.execute_input": "2023-06-05T09:36:37.205497Z",
     "iopub.status.busy": "2023-06-05T09:36:37.205195Z",
     "iopub.status.idle": "2023-06-05T09:36:37.231222Z",
     "shell.execute_reply": "2023-06-05T09:36:37.229986Z"
    },
    "papermill": {
     "duration": 0.045335,
     "end_time": "2023-06-05T09:36:37.234133",
     "exception": false,
     "start_time": "2023-06-05T09:36:37.188798",
     "status": "completed"
    },
    "tags": []
   },
   "outputs": [
    {
     "data": {
      "text/html": [
       "<div>\n",
       "<style scoped>\n",
       "    .dataframe tbody tr th:only-of-type {\n",
       "        vertical-align: middle;\n",
       "    }\n",
       "\n",
       "    .dataframe tbody tr th {\n",
       "        vertical-align: top;\n",
       "    }\n",
       "\n",
       "    .dataframe thead th {\n",
       "        text-align: right;\n",
       "    }\n",
       "</style>\n",
       "<table border=\"1\" class=\"dataframe\">\n",
       "  <thead>\n",
       "    <tr style=\"text-align: right;\">\n",
       "      <th></th>\n",
       "      <th>id</th>\n",
       "      <th>label</th>\n",
       "      <th>statement</th>\n",
       "      <th>subjects</th>\n",
       "      <th>speaker</th>\n",
       "      <th>speaker_job_title</th>\n",
       "      <th>state_info</th>\n",
       "      <th>party_affilation</th>\n",
       "      <th>count_1</th>\n",
       "      <th>count_2</th>\n",
       "      <th>count_3</th>\n",
       "      <th>count_4</th>\n",
       "      <th>count_5</th>\n",
       "      <th>context</th>\n",
       "      <th>statement_removedpunctuation</th>\n",
       "      <th>nepali_translation</th>\n",
       "      <th>english_translation</th>\n",
       "      <th>english_translation_tokenized</th>\n",
       "    </tr>\n",
       "  </thead>\n",
       "  <tbody>\n",
       "    <tr>\n",
       "      <th>0</th>\n",
       "      <td>10540.json</td>\n",
       "      <td>half-true</td>\n",
       "      <td>When did the decline of coal start? It started...</td>\n",
       "      <td>energy,history,job-accomplishments</td>\n",
       "      <td>scott-surovell</td>\n",
       "      <td>State delegate</td>\n",
       "      <td>Virginia</td>\n",
       "      <td>democrat</td>\n",
       "      <td>0.0</td>\n",
       "      <td>0.0</td>\n",
       "      <td>1.0</td>\n",
       "      <td>1.0</td>\n",
       "      <td>0.0</td>\n",
       "      <td>a floor speech.</td>\n",
       "      <td>when did the decline of coal begin it began wi...</td>\n",
       "      <td>कोइलाको पतन कहिले सुरु भयो यो प्राकृतिक ग्यास ...</td>\n",
       "      <td>when did the decline of coal begin? it began w...</td>\n",
       "      <td>[when, did, the, decline, of, coal, begin, it,...</td>\n",
       "    </tr>\n",
       "    <tr>\n",
       "      <th>1</th>\n",
       "      <td>324.json</td>\n",
       "      <td>mostly-true</td>\n",
       "      <td>Hillary Clinton agrees with John McCain \"by vo...</td>\n",
       "      <td>foreign-policy</td>\n",
       "      <td>barack-obama</td>\n",
       "      <td>President</td>\n",
       "      <td>Illinois</td>\n",
       "      <td>democrat</td>\n",
       "      <td>70.0</td>\n",
       "      <td>71.0</td>\n",
       "      <td>160.0</td>\n",
       "      <td>163.0</td>\n",
       "      <td>9.0</td>\n",
       "      <td>Denver</td>\n",
       "      <td>hillary clinton agreed with john mccain by vot...</td>\n",
       "      <td>हिलारी क्लिन्टनले जर्ज बुशलाई इरानमा शंकाको फा...</td>\n",
       "      <td>hillary clinton agreed with john mccain by vot...</td>\n",
       "      <td>[hillary, clinton, agreed, with, john, mccain,...</td>\n",
       "    </tr>\n",
       "    <tr>\n",
       "      <th>2</th>\n",
       "      <td>1123.json</td>\n",
       "      <td>false</td>\n",
       "      <td>Health care reform legislation is likely to ma...</td>\n",
       "      <td>health-care</td>\n",
       "      <td>blog-posting</td>\n",
       "      <td>NaN</td>\n",
       "      <td>NaN</td>\n",
       "      <td>none</td>\n",
       "      <td>7.0</td>\n",
       "      <td>19.0</td>\n",
       "      <td>3.0</td>\n",
       "      <td>5.0</td>\n",
       "      <td>44.0</td>\n",
       "      <td>a news release</td>\n",
       "      <td>health care reform legislation is likely to ma...</td>\n",
       "      <td>स्वास्थ्य हेरचाह सुधार कानूनले नि: शुल्क लिंग ...</td>\n",
       "      <td>health care reform legislation is likely to ma...</td>\n",
       "      <td>[health, care, reform, legislation, is, likely...</td>\n",
       "    </tr>\n",
       "    <tr>\n",
       "      <th>3</th>\n",
       "      <td>9028.json</td>\n",
       "      <td>half-true</td>\n",
       "      <td>The economic turnaround started at the end of ...</td>\n",
       "      <td>economy,jobs</td>\n",
       "      <td>charlie-crist</td>\n",
       "      <td>NaN</td>\n",
       "      <td>Florida</td>\n",
       "      <td>democrat</td>\n",
       "      <td>15.0</td>\n",
       "      <td>9.0</td>\n",
       "      <td>20.0</td>\n",
       "      <td>19.0</td>\n",
       "      <td>2.0</td>\n",
       "      <td>an interview on CNN</td>\n",
       "      <td>towards the end of my tenure the economic tran...</td>\n",
       "      <td>मेरो कार्यकालको अन्त्यमा आर्थिक परिवर्तन सुरु भयो</td>\n",
       "      <td>towards the end of my tenure, the economic tra...</td>\n",
       "      <td>[towards, the, end, of, my, tenure, the, econo...</td>\n",
       "    </tr>\n",
       "    <tr>\n",
       "      <th>4</th>\n",
       "      <td>12465.json</td>\n",
       "      <td>true</td>\n",
       "      <td>The Chicago Bears have had more starting quart...</td>\n",
       "      <td>education</td>\n",
       "      <td>robin-vos</td>\n",
       "      <td>Wisconsin Assembly speaker</td>\n",
       "      <td>Wisconsin</td>\n",
       "      <td>republican</td>\n",
       "      <td>0.0</td>\n",
       "      <td>3.0</td>\n",
       "      <td>2.0</td>\n",
       "      <td>5.0</td>\n",
       "      <td>1.0</td>\n",
       "      <td>a an online opinion-piece</td>\n",
       "      <td>the chicago bears have had more starting quart...</td>\n",
       "      <td>शिकागो बियर्सले विगत दुई दशकहरूमा बर्खास्त गरि...</td>\n",
       "      <td>the chicago bears have had more starting quart...</td>\n",
       "      <td>[the, chicago, bears, have, had, more, startin...</td>\n",
       "    </tr>\n",
       "  </tbody>\n",
       "</table>\n",
       "</div>"
      ],
      "text/plain": [
       "           id        label                                          statement  \\\n",
       "0  10540.json    half-true  When did the decline of coal start? It started...   \n",
       "1    324.json  mostly-true  Hillary Clinton agrees with John McCain \"by vo...   \n",
       "2   1123.json        false  Health care reform legislation is likely to ma...   \n",
       "3   9028.json    half-true  The economic turnaround started at the end of ...   \n",
       "4  12465.json         true  The Chicago Bears have had more starting quart...   \n",
       "\n",
       "                             subjects         speaker  \\\n",
       "0  energy,history,job-accomplishments  scott-surovell   \n",
       "1                      foreign-policy    barack-obama   \n",
       "2                         health-care    blog-posting   \n",
       "3                        economy,jobs   charlie-crist   \n",
       "4                           education       robin-vos   \n",
       "\n",
       "            speaker_job_title state_info party_affilation  count_1  count_2  \\\n",
       "0              State delegate   Virginia         democrat      0.0      0.0   \n",
       "1                   President   Illinois         democrat     70.0     71.0   \n",
       "2                         NaN        NaN             none      7.0     19.0   \n",
       "3                         NaN    Florida         democrat     15.0      9.0   \n",
       "4  Wisconsin Assembly speaker  Wisconsin       republican      0.0      3.0   \n",
       "\n",
       "   count_3  count_4  count_5                    context  \\\n",
       "0      1.0      1.0      0.0            a floor speech.   \n",
       "1    160.0    163.0      9.0                     Denver   \n",
       "2      3.0      5.0     44.0             a news release   \n",
       "3     20.0     19.0      2.0        an interview on CNN   \n",
       "4      2.0      5.0      1.0  a an online opinion-piece   \n",
       "\n",
       "                        statement_removedpunctuation  \\\n",
       "0  when did the decline of coal begin it began wi...   \n",
       "1  hillary clinton agreed with john mccain by vot...   \n",
       "2  health care reform legislation is likely to ma...   \n",
       "3  towards the end of my tenure the economic tran...   \n",
       "4  the chicago bears have had more starting quart...   \n",
       "\n",
       "                                  nepali_translation  \\\n",
       "0  कोइलाको पतन कहिले सुरु भयो यो प्राकृतिक ग्यास ...   \n",
       "1  हिलारी क्लिन्टनले जर्ज बुशलाई इरानमा शंकाको फा...   \n",
       "2  स्वास्थ्य हेरचाह सुधार कानूनले नि: शुल्क लिंग ...   \n",
       "3  मेरो कार्यकालको अन्त्यमा आर्थिक परिवर्तन सुरु भयो   \n",
       "4  शिकागो बियर्सले विगत दुई दशकहरूमा बर्खास्त गरि...   \n",
       "\n",
       "                                 english_translation  \\\n",
       "0  when did the decline of coal begin? it began w...   \n",
       "1  hillary clinton agreed with john mccain by vot...   \n",
       "2  health care reform legislation is likely to ma...   \n",
       "3  towards the end of my tenure, the economic tra...   \n",
       "4  the chicago bears have had more starting quart...   \n",
       "\n",
       "                       english_translation_tokenized  \n",
       "0  [when, did, the, decline, of, coal, begin, it,...  \n",
       "1  [hillary, clinton, agreed, with, john, mccain,...  \n",
       "2  [health, care, reform, legislation, is, likely...  \n",
       "3  [towards, the, end, of, my, tenure, the, econo...  \n",
       "4  [the, chicago, bears, have, had, more, startin...  "
      ]
     },
     "execution_count": 14,
     "metadata": {},
     "output_type": "execute_result"
    }
   ],
   "source": [
    "original_df.head()"
   ]
  },
  {
   "cell_type": "markdown",
   "id": "538f00f6",
   "metadata": {
    "papermill": {
     "duration": 0.015932,
     "end_time": "2023-06-05T09:36:37.267444",
     "exception": false,
     "start_time": "2023-06-05T09:36:37.251512",
     "status": "completed"
    },
    "tags": []
   },
   "source": [
    "a new column, english_translation_tokenized, is created and it contains the tokens generated from the sentence."
   ]
  },
  {
   "cell_type": "code",
   "execution_count": 15,
   "id": "74d334e2",
   "metadata": {
    "execution": {
     "iopub.execute_input": "2023-06-05T09:36:37.302023Z",
     "iopub.status.busy": "2023-06-05T09:36:37.301232Z",
     "iopub.status.idle": "2023-06-05T09:36:37.308642Z",
     "shell.execute_reply": "2023-06-05T09:36:37.307797Z"
    },
    "papermill": {
     "duration": 0.026935,
     "end_time": "2023-06-05T09:36:37.311012",
     "exception": false,
     "start_time": "2023-06-05T09:36:37.284077",
     "status": "completed"
    },
    "tags": []
   },
   "outputs": [],
   "source": [
    "stop_words = stopwords.words('english')"
   ]
  },
  {
   "cell_type": "markdown",
   "id": "44639173",
   "metadata": {
    "papermill": {
     "duration": 0.016825,
     "end_time": "2023-06-05T09:36:37.343901",
     "exception": false,
     "start_time": "2023-06-05T09:36:37.327076",
     "status": "completed"
    },
    "tags": []
   },
   "source": [
    "generate a list of stop words for stopword removal"
   ]
  },
  {
   "cell_type": "code",
   "execution_count": 16,
   "id": "2104a0f6",
   "metadata": {
    "execution": {
     "iopub.execute_input": "2023-06-05T09:36:37.377103Z",
     "iopub.status.busy": "2023-06-05T09:36:37.376278Z",
     "iopub.status.idle": "2023-06-05T09:36:37.382693Z",
     "shell.execute_reply": "2023-06-05T09:36:37.381830Z"
    },
    "papermill": {
     "duration": 0.025464,
     "end_time": "2023-06-05T09:36:37.384870",
     "exception": false,
     "start_time": "2023-06-05T09:36:37.359406",
     "status": "completed"
    },
    "tags": []
   },
   "outputs": [],
   "source": [
    "def stopwordremoval(words):\n",
    "    preprocessed_tokens = []\n",
    "    for i in words:\n",
    "        # Remove stopwords and empty strings while keeping words separated by space\n",
    "        post_removal = [word for word in i.split() if word.lower() not in stop_words]\n",
    "        filtered_string = \" \".join(post_removal).strip()\n",
    "        if filtered_string:\n",
    "            preprocessed_tokens.append(filtered_string)\n",
    "    # Combine the preprocessed tokens into a single string\n",
    "    combined_string = \" \".join(preprocessed_tokens)\n",
    "    return combined_string"
   ]
  },
  {
   "cell_type": "code",
   "execution_count": 17,
   "id": "a3fb1b3c",
   "metadata": {
    "execution": {
     "iopub.execute_input": "2023-06-05T09:36:37.417613Z",
     "iopub.status.busy": "2023-06-05T09:36:37.416829Z",
     "iopub.status.idle": "2023-06-05T09:36:38.112888Z",
     "shell.execute_reply": "2023-06-05T09:36:38.111929Z"
    },
    "papermill": {
     "duration": 0.714965,
     "end_time": "2023-06-05T09:36:38.115375",
     "exception": false,
     "start_time": "2023-06-05T09:36:37.400410",
     "status": "completed"
    },
    "tags": []
   },
   "outputs": [],
   "source": [
    "original_df[\"english_translation_stopwords\"] = original_df[\"english_translation_tokenized\"].apply(stopwordremoval)"
   ]
  },
  {
   "cell_type": "code",
   "execution_count": 18,
   "id": "c1b4bea7",
   "metadata": {
    "execution": {
     "iopub.execute_input": "2023-06-05T09:36:38.151097Z",
     "iopub.status.busy": "2023-06-05T09:36:38.150752Z",
     "iopub.status.idle": "2023-06-05T09:36:47.626116Z",
     "shell.execute_reply": "2023-06-05T09:36:47.625125Z"
    },
    "papermill": {
     "duration": 9.495946,
     "end_time": "2023-06-05T09:36:47.628836",
     "exception": false,
     "start_time": "2023-06-05T09:36:38.132890",
     "status": "completed"
    },
    "tags": []
   },
   "outputs": [],
   "source": [
    "import spacy"
   ]
  },
  {
   "cell_type": "code",
   "execution_count": 19,
   "id": "3bb6751e",
   "metadata": {
    "execution": {
     "iopub.execute_input": "2023-06-05T09:36:47.662573Z",
     "iopub.status.busy": "2023-06-05T09:36:47.661925Z",
     "iopub.status.idle": "2023-06-05T09:36:49.023528Z",
     "shell.execute_reply": "2023-06-05T09:36:49.022518Z"
    },
    "papermill": {
     "duration": 1.38124,
     "end_time": "2023-06-05T09:36:49.026384",
     "exception": false,
     "start_time": "2023-06-05T09:36:47.645144",
     "status": "completed"
    },
    "tags": []
   },
   "outputs": [],
   "source": [
    "nlp = spacy.load(\"en_core_web_sm\")"
   ]
  },
  {
   "cell_type": "code",
   "execution_count": 20,
   "id": "1196caca",
   "metadata": {
    "execution": {
     "iopub.execute_input": "2023-06-05T09:36:49.072174Z",
     "iopub.status.busy": "2023-06-05T09:36:49.071533Z",
     "iopub.status.idle": "2023-06-05T09:36:49.076913Z",
     "shell.execute_reply": "2023-06-05T09:36:49.076017Z"
    },
    "papermill": {
     "duration": 0.033961,
     "end_time": "2023-06-05T09:36:49.082423",
     "exception": false,
     "start_time": "2023-06-05T09:36:49.048462",
     "status": "completed"
    },
    "tags": []
   },
   "outputs": [],
   "source": [
    "def lemmetization(text):\n",
    "    doc = nlp(text)\n",
    "    lemmetized = []\n",
    "    for token in doc:\n",
    "        lemmetized.append(token.lemma_)\n",
    "    return \" \".join(lemmetized)\n"
   ]
  },
  {
   "cell_type": "code",
   "execution_count": 21,
   "id": "af62b304",
   "metadata": {
    "execution": {
     "iopub.execute_input": "2023-06-05T09:36:49.126724Z",
     "iopub.status.busy": "2023-06-05T09:36:49.126345Z",
     "iopub.status.idle": "2023-06-05T09:38:25.292692Z",
     "shell.execute_reply": "2023-06-05T09:38:25.291658Z"
    },
    "papermill": {
     "duration": 96.192074,
     "end_time": "2023-06-05T09:38:25.296036",
     "exception": false,
     "start_time": "2023-06-05T09:36:49.103962",
     "status": "completed"
    },
    "tags": []
   },
   "outputs": [],
   "source": [
    "original_df[\"preprocessed_english\"] = original_df[\"english_translation_stopwords\"].apply(lemmetization)"
   ]
  },
  {
   "cell_type": "code",
   "execution_count": 22,
   "id": "764db570",
   "metadata": {
    "execution": {
     "iopub.execute_input": "2023-06-05T09:38:25.342771Z",
     "iopub.status.busy": "2023-06-05T09:38:25.342356Z",
     "iopub.status.idle": "2023-06-05T09:38:25.375315Z",
     "shell.execute_reply": "2023-06-05T09:38:25.374449Z"
    },
    "papermill": {
     "duration": 0.058445,
     "end_time": "2023-06-05T09:38:25.377755",
     "exception": false,
     "start_time": "2023-06-05T09:38:25.319310",
     "status": "completed"
    },
    "tags": []
   },
   "outputs": [
    {
     "data": {
      "text/plain": [
       "half-true      2626\n",
       "false          2504\n",
       "mostly-true    2453\n",
       "barely-true    2101\n",
       "true           2051\n",
       "pants-fire     1047\n",
       "Name: label, dtype: int64"
      ]
     },
     "execution_count": 22,
     "metadata": {},
     "output_type": "execute_result"
    }
   ],
   "source": [
    "original_df['label'].value_counts()"
   ]
  },
  {
   "cell_type": "code",
   "execution_count": 23,
   "id": "5efd789d",
   "metadata": {
    "execution": {
     "iopub.execute_input": "2023-06-05T09:38:25.470356Z",
     "iopub.status.busy": "2023-06-05T09:38:25.469586Z",
     "iopub.status.idle": "2023-06-05T09:38:25.919596Z",
     "shell.execute_reply": "2023-06-05T09:38:25.918683Z"
    },
    "papermill": {
     "duration": 0.488467,
     "end_time": "2023-06-05T09:38:25.922511",
     "exception": false,
     "start_time": "2023-06-05T09:38:25.434044",
     "status": "completed"
    },
    "tags": []
   },
   "outputs": [],
   "source": [
    "original_df.replace(to_replace=[\"true\", \"mostly-true\"],\n",
    "           value=\"true\", inplace=True)\n",
    "original_df.replace(to_replace=[\"false\", \"pants-fire\"],\n",
    "           value=\"false\", inplace=True)\n",
    "original_df.replace(to_replace=[\"half-true\", \"barely-true\"],\n",
    "           value=\"vague\", inplace=True)"
   ]
  },
  {
   "cell_type": "code",
   "execution_count": 24,
   "id": "f9658fb0",
   "metadata": {
    "execution": {
     "iopub.execute_input": "2023-06-05T09:38:25.968730Z",
     "iopub.status.busy": "2023-06-05T09:38:25.967911Z",
     "iopub.status.idle": "2023-06-05T09:38:25.980868Z",
     "shell.execute_reply": "2023-06-05T09:38:25.979903Z"
    },
    "papermill": {
     "duration": 0.03825,
     "end_time": "2023-06-05T09:38:25.983379",
     "exception": false,
     "start_time": "2023-06-05T09:38:25.945129",
     "status": "completed"
    },
    "tags": []
   },
   "outputs": [
    {
     "data": {
      "text/plain": [
       "label\n",
       "vague    4727\n",
       "true     4504\n",
       "false    3551\n",
       "dtype: int64"
      ]
     },
     "execution_count": 24,
     "metadata": {},
     "output_type": "execute_result"
    }
   ],
   "source": [
    "original_df.value_counts('label')"
   ]
  },
  {
   "cell_type": "markdown",
   "id": "2126f72f",
   "metadata": {
    "papermill": {
     "duration": 0.019621,
     "end_time": "2023-06-05T09:38:26.025423",
     "exception": false,
     "start_time": "2023-06-05T09:38:26.005802",
     "status": "completed"
    },
    "tags": []
   },
   "source": [
    "Now we can see that the labels have been updated"
   ]
  },
  {
   "cell_type": "code",
   "execution_count": 25,
   "id": "6fff7ac7",
   "metadata": {
    "execution": {
     "iopub.execute_input": "2023-06-05T09:38:26.058836Z",
     "iopub.status.busy": "2023-06-05T09:38:26.058517Z",
     "iopub.status.idle": "2023-06-05T09:38:26.087526Z",
     "shell.execute_reply": "2023-06-05T09:38:26.086669Z"
    },
    "papermill": {
     "duration": 0.048672,
     "end_time": "2023-06-05T09:38:26.089930",
     "exception": false,
     "start_time": "2023-06-05T09:38:26.041258",
     "status": "completed"
    },
    "tags": []
   },
   "outputs": [
    {
     "data": {
      "text/html": [
       "<div>\n",
       "<style scoped>\n",
       "    .dataframe tbody tr th:only-of-type {\n",
       "        vertical-align: middle;\n",
       "    }\n",
       "\n",
       "    .dataframe tbody tr th {\n",
       "        vertical-align: top;\n",
       "    }\n",
       "\n",
       "    .dataframe thead th {\n",
       "        text-align: right;\n",
       "    }\n",
       "</style>\n",
       "<table border=\"1\" class=\"dataframe\">\n",
       "  <thead>\n",
       "    <tr style=\"text-align: right;\">\n",
       "      <th></th>\n",
       "      <th>id</th>\n",
       "      <th>label</th>\n",
       "      <th>statement</th>\n",
       "      <th>subjects</th>\n",
       "      <th>speaker</th>\n",
       "      <th>speaker_job_title</th>\n",
       "      <th>state_info</th>\n",
       "      <th>party_affilation</th>\n",
       "      <th>count_1</th>\n",
       "      <th>count_2</th>\n",
       "      <th>count_3</th>\n",
       "      <th>count_4</th>\n",
       "      <th>count_5</th>\n",
       "      <th>context</th>\n",
       "      <th>statement_removedpunctuation</th>\n",
       "      <th>nepali_translation</th>\n",
       "      <th>english_translation</th>\n",
       "      <th>english_translation_tokenized</th>\n",
       "      <th>english_translation_stopwords</th>\n",
       "      <th>preprocessed_english</th>\n",
       "    </tr>\n",
       "  </thead>\n",
       "  <tbody>\n",
       "    <tr>\n",
       "      <th>0</th>\n",
       "      <td>10540.json</td>\n",
       "      <td>vague</td>\n",
       "      <td>When did the decline of coal start? It started...</td>\n",
       "      <td>energy,history,job-accomplishments</td>\n",
       "      <td>scott-surovell</td>\n",
       "      <td>State delegate</td>\n",
       "      <td>Virginia</td>\n",
       "      <td>democrat</td>\n",
       "      <td>0.0</td>\n",
       "      <td>0.0</td>\n",
       "      <td>1.0</td>\n",
       "      <td>1.0</td>\n",
       "      <td>0.0</td>\n",
       "      <td>a floor speech.</td>\n",
       "      <td>when did the decline of coal begin it began wi...</td>\n",
       "      <td>कोइलाको पतन कहिले सुरु भयो यो प्राकृतिक ग्यास ...</td>\n",
       "      <td>when did the decline of coal begin? it began w...</td>\n",
       "      <td>[when, did, the, decline, of, coal, begin, it,...</td>\n",
       "      <td>decline coal begin began natural gas layoff be...</td>\n",
       "      <td>decline coal begin begin natural gas layoff be...</td>\n",
       "    </tr>\n",
       "    <tr>\n",
       "      <th>1</th>\n",
       "      <td>324.json</td>\n",
       "      <td>true</td>\n",
       "      <td>Hillary Clinton agrees with John McCain \"by vo...</td>\n",
       "      <td>foreign-policy</td>\n",
       "      <td>barack-obama</td>\n",
       "      <td>President</td>\n",
       "      <td>Illinois</td>\n",
       "      <td>democrat</td>\n",
       "      <td>70.0</td>\n",
       "      <td>71.0</td>\n",
       "      <td>160.0</td>\n",
       "      <td>163.0</td>\n",
       "      <td>9.0</td>\n",
       "      <td>Denver</td>\n",
       "      <td>hillary clinton agreed with john mccain by vot...</td>\n",
       "      <td>हिलारी क्लिन्टनले जर्ज बुशलाई इरानमा शंकाको फा...</td>\n",
       "      <td>hillary clinton agreed with john mccain by vot...</td>\n",
       "      <td>[hillary, clinton, agreed, with, john, mccain,...</td>\n",
       "      <td>hillary clinton agreed john mccain voting give...</td>\n",
       "      <td>hillary clinton agree john mccain voting give ...</td>\n",
       "    </tr>\n",
       "    <tr>\n",
       "      <th>2</th>\n",
       "      <td>1123.json</td>\n",
       "      <td>false</td>\n",
       "      <td>Health care reform legislation is likely to ma...</td>\n",
       "      <td>health-care</td>\n",
       "      <td>blog-posting</td>\n",
       "      <td>NaN</td>\n",
       "      <td>NaN</td>\n",
       "      <td>none</td>\n",
       "      <td>7.0</td>\n",
       "      <td>19.0</td>\n",
       "      <td>3.0</td>\n",
       "      <td>5.0</td>\n",
       "      <td>44.0</td>\n",
       "      <td>a news release</td>\n",
       "      <td>health care reform legislation is likely to ma...</td>\n",
       "      <td>स्वास्थ्य हेरचाह सुधार कानूनले नि: शुल्क लिंग ...</td>\n",
       "      <td>health care reform legislation is likely to ma...</td>\n",
       "      <td>[health, care, reform, legislation, is, likely...</td>\n",
       "      <td>health care reform legislation likely mandate ...</td>\n",
       "      <td>health care reform legislation likely mandate ...</td>\n",
       "    </tr>\n",
       "    <tr>\n",
       "      <th>3</th>\n",
       "      <td>9028.json</td>\n",
       "      <td>vague</td>\n",
       "      <td>The economic turnaround started at the end of ...</td>\n",
       "      <td>economy,jobs</td>\n",
       "      <td>charlie-crist</td>\n",
       "      <td>NaN</td>\n",
       "      <td>Florida</td>\n",
       "      <td>democrat</td>\n",
       "      <td>15.0</td>\n",
       "      <td>9.0</td>\n",
       "      <td>20.0</td>\n",
       "      <td>19.0</td>\n",
       "      <td>2.0</td>\n",
       "      <td>an interview on CNN</td>\n",
       "      <td>towards the end of my tenure the economic tran...</td>\n",
       "      <td>मेरो कार्यकालको अन्त्यमा आर्थिक परिवर्तन सुरु भयो</td>\n",
       "      <td>towards the end of my tenure, the economic tra...</td>\n",
       "      <td>[towards, the, end, of, my, tenure, the, econo...</td>\n",
       "      <td>towards end tenure economic transformation began</td>\n",
       "      <td>towards end tenure economic transformation begin</td>\n",
       "    </tr>\n",
       "    <tr>\n",
       "      <th>4</th>\n",
       "      <td>12465.json</td>\n",
       "      <td>true</td>\n",
       "      <td>The Chicago Bears have had more starting quart...</td>\n",
       "      <td>education</td>\n",
       "      <td>robin-vos</td>\n",
       "      <td>Wisconsin Assembly speaker</td>\n",
       "      <td>Wisconsin</td>\n",
       "      <td>republican</td>\n",
       "      <td>0.0</td>\n",
       "      <td>3.0</td>\n",
       "      <td>2.0</td>\n",
       "      <td>5.0</td>\n",
       "      <td>1.0</td>\n",
       "      <td>a an online opinion-piece</td>\n",
       "      <td>the chicago bears have had more starting quart...</td>\n",
       "      <td>शिकागो बियर्सले विगत दुई दशकहरूमा बर्खास्त गरि...</td>\n",
       "      <td>the chicago bears have had more starting quart...</td>\n",
       "      <td>[the, chicago, bears, have, had, more, startin...</td>\n",
       "      <td>chicago bears starting quarterbacks past ten y...</td>\n",
       "      <td>chicago bear start quarterback past ten year t...</td>\n",
       "    </tr>\n",
       "  </tbody>\n",
       "</table>\n",
       "</div>"
      ],
      "text/plain": [
       "           id  label                                          statement  \\\n",
       "0  10540.json  vague  When did the decline of coal start? It started...   \n",
       "1    324.json   true  Hillary Clinton agrees with John McCain \"by vo...   \n",
       "2   1123.json  false  Health care reform legislation is likely to ma...   \n",
       "3   9028.json  vague  The economic turnaround started at the end of ...   \n",
       "4  12465.json   true  The Chicago Bears have had more starting quart...   \n",
       "\n",
       "                             subjects         speaker  \\\n",
       "0  energy,history,job-accomplishments  scott-surovell   \n",
       "1                      foreign-policy    barack-obama   \n",
       "2                         health-care    blog-posting   \n",
       "3                        economy,jobs   charlie-crist   \n",
       "4                           education       robin-vos   \n",
       "\n",
       "            speaker_job_title state_info party_affilation  count_1  count_2  \\\n",
       "0              State delegate   Virginia         democrat      0.0      0.0   \n",
       "1                   President   Illinois         democrat     70.0     71.0   \n",
       "2                         NaN        NaN             none      7.0     19.0   \n",
       "3                         NaN    Florida         democrat     15.0      9.0   \n",
       "4  Wisconsin Assembly speaker  Wisconsin       republican      0.0      3.0   \n",
       "\n",
       "   count_3  count_4  count_5                    context  \\\n",
       "0      1.0      1.0      0.0            a floor speech.   \n",
       "1    160.0    163.0      9.0                     Denver   \n",
       "2      3.0      5.0     44.0             a news release   \n",
       "3     20.0     19.0      2.0        an interview on CNN   \n",
       "4      2.0      5.0      1.0  a an online opinion-piece   \n",
       "\n",
       "                        statement_removedpunctuation  \\\n",
       "0  when did the decline of coal begin it began wi...   \n",
       "1  hillary clinton agreed with john mccain by vot...   \n",
       "2  health care reform legislation is likely to ma...   \n",
       "3  towards the end of my tenure the economic tran...   \n",
       "4  the chicago bears have had more starting quart...   \n",
       "\n",
       "                                  nepali_translation  \\\n",
       "0  कोइलाको पतन कहिले सुरु भयो यो प्राकृतिक ग्यास ...   \n",
       "1  हिलारी क्लिन्टनले जर्ज बुशलाई इरानमा शंकाको फा...   \n",
       "2  स्वास्थ्य हेरचाह सुधार कानूनले नि: शुल्क लिंग ...   \n",
       "3  मेरो कार्यकालको अन्त्यमा आर्थिक परिवर्तन सुरु भयो   \n",
       "4  शिकागो बियर्सले विगत दुई दशकहरूमा बर्खास्त गरि...   \n",
       "\n",
       "                                 english_translation  \\\n",
       "0  when did the decline of coal begin? it began w...   \n",
       "1  hillary clinton agreed with john mccain by vot...   \n",
       "2  health care reform legislation is likely to ma...   \n",
       "3  towards the end of my tenure, the economic tra...   \n",
       "4  the chicago bears have had more starting quart...   \n",
       "\n",
       "                       english_translation_tokenized  \\\n",
       "0  [when, did, the, decline, of, coal, begin, it,...   \n",
       "1  [hillary, clinton, agreed, with, john, mccain,...   \n",
       "2  [health, care, reform, legislation, is, likely...   \n",
       "3  [towards, the, end, of, my, tenure, the, econo...   \n",
       "4  [the, chicago, bears, have, had, more, startin...   \n",
       "\n",
       "                       english_translation_stopwords  \\\n",
       "0  decline coal begin began natural gas layoff be...   \n",
       "1  hillary clinton agreed john mccain voting give...   \n",
       "2  health care reform legislation likely mandate ...   \n",
       "3   towards end tenure economic transformation began   \n",
       "4  chicago bears starting quarterbacks past ten y...   \n",
       "\n",
       "                                preprocessed_english  \n",
       "0  decline coal begin begin natural gas layoff be...  \n",
       "1  hillary clinton agree john mccain voting give ...  \n",
       "2  health care reform legislation likely mandate ...  \n",
       "3   towards end tenure economic transformation begin  \n",
       "4  chicago bear start quarterback past ten year t...  "
      ]
     },
     "execution_count": 25,
     "metadata": {},
     "output_type": "execute_result"
    }
   ],
   "source": [
    "original_df.head()"
   ]
  },
  {
   "cell_type": "markdown",
   "id": "eacb01bf",
   "metadata": {
    "papermill": {
     "duration": 0.016324,
     "end_time": "2023-06-05T09:38:26.124435",
     "exception": false,
     "start_time": "2023-06-05T09:38:26.108111",
     "status": "completed"
    },
    "tags": []
   },
   "source": [
    "And there are now 3 values for 'label' instead of 6"
   ]
  },
  {
   "cell_type": "code",
   "execution_count": 26,
   "id": "959736f6",
   "metadata": {
    "execution": {
     "iopub.execute_input": "2023-06-05T09:38:26.160623Z",
     "iopub.status.busy": "2023-06-05T09:38:26.159760Z",
     "iopub.status.idle": "2023-06-05T09:38:26.174079Z",
     "shell.execute_reply": "2023-06-05T09:38:26.173083Z"
    },
    "papermill": {
     "duration": 0.034154,
     "end_time": "2023-06-05T09:38:26.176061",
     "exception": false,
     "start_time": "2023-06-05T09:38:26.141907",
     "status": "completed"
    },
    "tags": []
   },
   "outputs": [],
   "source": [
    "wordcounts = original_df['preprocessed_english'].apply(lambda x: len(x))"
   ]
  },
  {
   "cell_type": "code",
   "execution_count": 27,
   "id": "03fe8e73",
   "metadata": {
    "execution": {
     "iopub.execute_input": "2023-06-05T09:38:26.209796Z",
     "iopub.status.busy": "2023-06-05T09:38:26.209466Z",
     "iopub.status.idle": "2023-06-05T09:38:26.216448Z",
     "shell.execute_reply": "2023-06-05T09:38:26.215473Z"
    },
    "papermill": {
     "duration": 0.026247,
     "end_time": "2023-06-05T09:38:26.218552",
     "exception": false,
     "start_time": "2023-06-05T09:38:26.192305",
     "status": "completed"
    },
    "tags": []
   },
   "outputs": [
    {
     "data": {
      "text/plain": [
       "'decline coal begin begin natural gas layoff begin administration president george w bush'"
      ]
     },
     "execution_count": 27,
     "metadata": {},
     "output_type": "execute_result"
    }
   ],
   "source": [
    "original_df['preprocessed_english'][0]"
   ]
  },
  {
   "cell_type": "code",
   "execution_count": 28,
   "id": "ba1717b0",
   "metadata": {
    "execution": {
     "iopub.execute_input": "2023-06-05T09:38:26.253935Z",
     "iopub.status.busy": "2023-06-05T09:38:26.253574Z",
     "iopub.status.idle": "2023-06-05T09:38:26.262783Z",
     "shell.execute_reply": "2023-06-05T09:38:26.261725Z"
    },
    "papermill": {
     "duration": 0.029487,
     "end_time": "2023-06-05T09:38:26.264895",
     "exception": false,
     "start_time": "2023-06-05T09:38:26.235408",
     "status": "completed"
    },
    "tags": []
   },
   "outputs": [
    {
     "data": {
      "text/plain": [
       "0         88\n",
       "1         76\n",
       "2         78\n",
       "3         48\n",
       "4         89\n",
       "        ... \n",
       "12777     51\n",
       "12778     46\n",
       "12779     50\n",
       "12780    135\n",
       "12781     87\n",
       "Name: preprocessed_english, Length: 12782, dtype: int64"
      ]
     },
     "execution_count": 28,
     "metadata": {},
     "output_type": "execute_result"
    }
   ],
   "source": [
    "wordcounts"
   ]
  },
  {
   "cell_type": "code",
   "execution_count": 29,
   "id": "955b6866",
   "metadata": {
    "execution": {
     "iopub.execute_input": "2023-06-05T09:38:26.300133Z",
     "iopub.status.busy": "2023-06-05T09:38:26.299813Z",
     "iopub.status.idle": "2023-06-05T09:38:26.307948Z",
     "shell.execute_reply": "2023-06-05T09:38:26.306943Z"
    },
    "papermill": {
     "duration": 0.02836,
     "end_time": "2023-06-05T09:38:26.310187",
     "exception": false,
     "start_time": "2023-06-05T09:38:26.281827",
     "status": "completed"
    },
    "tags": []
   },
   "outputs": [
    {
     "data": {
      "text/plain": [
       "array(['vague', 'true', 'false'], dtype=object)"
      ]
     },
     "execution_count": 29,
     "metadata": {},
     "output_type": "execute_result"
    }
   ],
   "source": [
    "original_df['label'].unique()"
   ]
  },
  {
   "cell_type": "code",
   "execution_count": 30,
   "id": "cf5b238b",
   "metadata": {
    "execution": {
     "iopub.execute_input": "2023-06-05T09:38:26.343635Z",
     "iopub.status.busy": "2023-06-05T09:38:26.343358Z",
     "iopub.status.idle": "2023-06-05T09:38:26.348082Z",
     "shell.execute_reply": "2023-06-05T09:38:26.347148Z"
    },
    "papermill": {
     "duration": 0.024038,
     "end_time": "2023-06-05T09:38:26.350368",
     "exception": false,
     "start_time": "2023-06-05T09:38:26.326330",
     "status": "completed"
    },
    "tags": []
   },
   "outputs": [],
   "source": [
    "corpus = original_df['preprocessed_english'].copy()"
   ]
  },
  {
   "cell_type": "code",
   "execution_count": 31,
   "id": "54487739",
   "metadata": {
    "execution": {
     "iopub.execute_input": "2023-06-05T09:38:26.384270Z",
     "iopub.status.busy": "2023-06-05T09:38:26.384015Z",
     "iopub.status.idle": "2023-06-05T09:38:26.389460Z",
     "shell.execute_reply": "2023-06-05T09:38:26.388603Z"
    },
    "papermill": {
     "duration": 0.024951,
     "end_time": "2023-06-05T09:38:26.391936",
     "exception": false,
     "start_time": "2023-06-05T09:38:26.366985",
     "status": "completed"
    },
    "tags": []
   },
   "outputs": [],
   "source": [
    "label = original_df['label'].copy()"
   ]
  },
  {
   "cell_type": "code",
   "execution_count": 32,
   "id": "50b6fdc8",
   "metadata": {
    "execution": {
     "iopub.execute_input": "2023-06-05T09:38:26.426344Z",
     "iopub.status.busy": "2023-06-05T09:38:26.426076Z",
     "iopub.status.idle": "2023-06-05T09:38:26.430046Z",
     "shell.execute_reply": "2023-06-05T09:38:26.429002Z"
    },
    "papermill": {
     "duration": 0.023796,
     "end_time": "2023-06-05T09:38:26.432381",
     "exception": false,
     "start_time": "2023-06-05T09:38:26.408585",
     "status": "completed"
    },
    "tags": []
   },
   "outputs": [],
   "source": [
    "voc_size = 5000"
   ]
  },
  {
   "cell_type": "markdown",
   "id": "a7bf90c7",
   "metadata": {
    "papermill": {
     "duration": 0.016394,
     "end_time": "2023-06-05T09:38:26.464779",
     "exception": false,
     "start_time": "2023-06-05T09:38:26.448385",
     "status": "completed"
    },
    "tags": []
   },
   "source": [
    "Create one hot representation of the corpus"
   ]
  },
  {
   "cell_type": "code",
   "execution_count": 33,
   "id": "a444b2c3",
   "metadata": {
    "execution": {
     "iopub.execute_input": "2023-06-05T09:38:26.499652Z",
     "iopub.status.busy": "2023-06-05T09:38:26.499356Z",
     "iopub.status.idle": "2023-06-05T09:38:26.714550Z",
     "shell.execute_reply": "2023-06-05T09:38:26.713584Z"
    },
    "papermill": {
     "duration": 0.235558,
     "end_time": "2023-06-05T09:38:26.717117",
     "exception": false,
     "start_time": "2023-06-05T09:38:26.481559",
     "status": "completed"
    },
    "tags": []
   },
   "outputs": [],
   "source": [
    "onehot_repr=[one_hot(words,voc_size)for words in corpus] "
   ]
  },
  {
   "cell_type": "code",
   "execution_count": 34,
   "id": "96ca919f",
   "metadata": {
    "execution": {
     "iopub.execute_input": "2023-06-05T09:38:26.753109Z",
     "iopub.status.busy": "2023-06-05T09:38:26.752313Z",
     "iopub.status.idle": "2023-06-05T09:38:26.814793Z",
     "shell.execute_reply": "2023-06-05T09:38:26.813196Z"
    },
    "papermill": {
     "duration": 0.082753,
     "end_time": "2023-06-05T09:38:26.817078",
     "exception": false,
     "start_time": "2023-06-05T09:38:26.734325",
     "status": "completed"
    },
    "tags": []
   },
   "outputs": [
    {
     "name": "stdout",
     "output_type": "stream",
     "text": [
      "[[   0    0    0 ... 2934 3314 1977]\n",
      " [   0    0    0 ... 1090 1698  506]\n",
      " [   0    0    0 ... 1941 1487  430]\n",
      " ...\n",
      " [   0    0    0 ... 4541 1304 3486]\n",
      " [   0    0    0 ... 1304 1666 1031]\n",
      " [   0    0    0 ... 3173 1715 4628]]\n"
     ]
    }
   ],
   "source": [
    "sent_length=40\n",
    "embedded_docs=pad_sequences(onehot_repr,padding='pre',maxlen=sent_length)\n",
    "print(embedded_docs)"
   ]
  },
  {
   "cell_type": "code",
   "execution_count": 35,
   "id": "73e3613a",
   "metadata": {
    "execution": {
     "iopub.execute_input": "2023-06-05T09:38:26.853355Z",
     "iopub.status.busy": "2023-06-05T09:38:26.853064Z",
     "iopub.status.idle": "2023-06-05T09:38:26.859277Z",
     "shell.execute_reply": "2023-06-05T09:38:26.858357Z"
    },
    "papermill": {
     "duration": 0.026399,
     "end_time": "2023-06-05T09:38:26.861541",
     "exception": false,
     "start_time": "2023-06-05T09:38:26.835142",
     "status": "completed"
    },
    "tags": []
   },
   "outputs": [],
   "source": [
    "X_final=np.array(embedded_docs)\n",
    "y_final=np.array(label)"
   ]
  },
  {
   "cell_type": "code",
   "execution_count": 36,
   "id": "2bbe5073",
   "metadata": {
    "execution": {
     "iopub.execute_input": "2023-06-05T09:38:26.895772Z",
     "iopub.status.busy": "2023-06-05T09:38:26.895473Z",
     "iopub.status.idle": "2023-06-05T09:38:26.911466Z",
     "shell.execute_reply": "2023-06-05T09:38:26.910592Z"
    },
    "papermill": {
     "duration": 0.035662,
     "end_time": "2023-06-05T09:38:26.913525",
     "exception": false,
     "start_time": "2023-06-05T09:38:26.877863",
     "status": "completed"
    },
    "tags": []
   },
   "outputs": [],
   "source": [
    "# Initialize LabelEncoder\n",
    "label_encoder = LabelEncoder()\n",
    "ohe = OneHotEncoder()\n",
    "# Fit and transform the target variable\n",
    "# y_training = label_encoder.fit_transform(y_train)\n",
    "y_training = ohe.fit_transform(y_final.reshape(-1,1)).todense()"
   ]
  },
  {
   "cell_type": "code",
   "execution_count": 37,
   "id": "a2ea0b06",
   "metadata": {
    "execution": {
     "iopub.execute_input": "2023-06-05T09:38:26.947989Z",
     "iopub.status.busy": "2023-06-05T09:38:26.947252Z",
     "iopub.status.idle": "2023-06-05T09:38:26.953986Z",
     "shell.execute_reply": "2023-06-05T09:38:26.953108Z"
    },
    "papermill": {
     "duration": 0.02615,
     "end_time": "2023-06-05T09:38:26.955887",
     "exception": false,
     "start_time": "2023-06-05T09:38:26.929737",
     "status": "completed"
    },
    "tags": []
   },
   "outputs": [],
   "source": [
    "X_train, X_test, y_train, y_test = train_test_split(X_final, y_training, test_size=0.33)"
   ]
  },
  {
   "cell_type": "code",
   "execution_count": 38,
   "id": "4aafdbb0",
   "metadata": {
    "execution": {
     "iopub.execute_input": "2023-06-05T09:38:26.990928Z",
     "iopub.status.busy": "2023-06-05T09:38:26.990071Z",
     "iopub.status.idle": "2023-06-05T09:38:26.996381Z",
     "shell.execute_reply": "2023-06-05T09:38:26.995457Z"
    },
    "papermill": {
     "duration": 0.025079,
     "end_time": "2023-06-05T09:38:26.998280",
     "exception": false,
     "start_time": "2023-06-05T09:38:26.973201",
     "status": "completed"
    },
    "tags": []
   },
   "outputs": [
    {
     "data": {
      "text/plain": [
       "(8563, 40)"
      ]
     },
     "execution_count": 38,
     "metadata": {},
     "output_type": "execute_result"
    }
   ],
   "source": [
    "X_train.shape"
   ]
  },
  {
   "cell_type": "code",
   "execution_count": 39,
   "id": "d98f7f74",
   "metadata": {
    "execution": {
     "iopub.execute_input": "2023-06-05T09:38:27.033531Z",
     "iopub.status.busy": "2023-06-05T09:38:27.032770Z",
     "iopub.status.idle": "2023-06-05T09:38:27.039054Z",
     "shell.execute_reply": "2023-06-05T09:38:27.038051Z"
    },
    "papermill": {
     "duration": 0.026205,
     "end_time": "2023-06-05T09:38:27.041254",
     "exception": false,
     "start_time": "2023-06-05T09:38:27.015049",
     "status": "completed"
    },
    "tags": []
   },
   "outputs": [
    {
     "data": {
      "text/plain": [
       "(8563, 3)"
      ]
     },
     "execution_count": 39,
     "metadata": {},
     "output_type": "execute_result"
    }
   ],
   "source": [
    "y_train.shape"
   ]
  },
  {
   "cell_type": "code",
   "execution_count": 40,
   "id": "017c3ec3",
   "metadata": {
    "execution": {
     "iopub.execute_input": "2023-06-05T09:38:27.076538Z",
     "iopub.status.busy": "2023-06-05T09:38:27.075781Z",
     "iopub.status.idle": "2023-06-05T09:38:38.873528Z",
     "shell.execute_reply": "2023-06-05T09:38:38.872539Z"
    },
    "papermill": {
     "duration": 11.823628,
     "end_time": "2023-06-05T09:38:38.881780",
     "exception": false,
     "start_time": "2023-06-05T09:38:27.058152",
     "status": "completed"
    },
    "tags": []
   },
   "outputs": [
    {
     "name": "stdout",
     "output_type": "stream",
     "text": [
      "Model: \"sequential\"\n",
      "_________________________________________________________________\n",
      " Layer (type)                Output Shape              Param #   \n",
      "=================================================================\n",
      " embedding (Embedding)       (None, 40, 40)            200000    \n",
      "                                                                 \n",
      " lstm (LSTM)                 (None, 4)                 720       \n",
      "                                                                 \n",
      " batch_normalization (BatchN  (None, 4)                16        \n",
      " ormalization)                                                   \n",
      "                                                                 \n",
      " dropout (Dropout)           (None, 4)                 0         \n",
      "                                                                 \n",
      " dense (Dense)               (None, 3)                 15        \n",
      "                                                                 \n",
      "=================================================================\n",
      "Total params: 200,751\n",
      "Trainable params: 200,743\n",
      "Non-trainable params: 8\n",
      "_________________________________________________________________\n",
      "None\n"
     ]
    }
   ],
   "source": [
    "## Creating model\n",
    "embedding_vector_features=40\n",
    "model=Sequential()\n",
    "model.add(Embedding(voc_size,embedding_vector_features,input_length=sent_length))\n",
    "model.add(LSTM(4))\n",
    "# model.add(Dropout(0.3))\n",
    "#model.add(Dense(50))\n",
    "model.add(BatchNormalization())\n",
    "model.add(Dropout(0.5))\n",
    "# model.add(Dense(100))\n",
    "model.add(Dense(3,activation='softmax'))\n",
    "model.compile(loss='categorical_crossentropy',optimizer='adam',metrics=['accuracy'])\n",
    "print(model.summary())"
   ]
  },
  {
   "cell_type": "code",
   "execution_count": 41,
   "id": "e2b4f5f8",
   "metadata": {
    "execution": {
     "iopub.execute_input": "2023-06-05T09:38:38.919934Z",
     "iopub.status.busy": "2023-06-05T09:38:38.919609Z",
     "iopub.status.idle": "2023-06-05T09:42:01.011641Z",
     "shell.execute_reply": "2023-06-05T09:42:01.010493Z"
    },
    "papermill": {
     "duration": 202.114376,
     "end_time": "2023-06-05T09:42:01.014505",
     "exception": false,
     "start_time": "2023-06-05T09:38:38.900129",
     "status": "completed"
    },
    "tags": []
   },
   "outputs": [
    {
     "name": "stdout",
     "output_type": "stream",
     "text": [
      "Epoch 1/10\n"
     ]
    },
    {
     "name": "stderr",
     "output_type": "stream",
     "text": [
      "/opt/conda/lib/python3.10/site-packages/tensorflow/python/data/ops/structured_function.py:254: UserWarning: Even though the `tf.config.experimental_run_functions_eagerly` option is set, this option does not apply to tf.data functions. To force eager execution of tf.data functions, please use `tf.data.experimental.enable_debug_mode()`.\n",
      "  warnings.warn(\n"
     ]
    },
    {
     "name": "stdout",
     "output_type": "stream",
     "text": [
      "215/215 [==============================] - 23s 76ms/step - loss: 1.1867 - accuracy: 0.3723 - val_loss: 1.0990 - val_accuracy: 0.3608\n",
      "Epoch 2/10\n",
      "215/215 [==============================] - 16s 73ms/step - loss: 1.0367 - accuracy: 0.4658 - val_loss: 1.0933 - val_accuracy: 0.3689\n",
      "Epoch 3/10\n",
      "215/215 [==============================] - 17s 77ms/step - loss: 0.9841 - accuracy: 0.5041 - val_loss: 1.1664 - val_accuracy: 0.3631\n",
      "Epoch 4/10\n",
      "215/215 [==============================] - 16s 76ms/step - loss: 0.9429 - accuracy: 0.5377 - val_loss: 1.3035 - val_accuracy: 0.3678\n",
      "Epoch 5/10\n",
      "215/215 [==============================] - 17s 78ms/step - loss: 0.8959 - accuracy: 0.5803 - val_loss: 1.6441 - val_accuracy: 0.3619\n",
      "Epoch 6/10\n",
      "215/215 [==============================] - 16s 75ms/step - loss: 0.8479 - accuracy: 0.6082 - val_loss: 1.7703 - val_accuracy: 0.3602\n",
      "Epoch 7/10\n",
      "215/215 [==============================] - 16s 76ms/step - loss: 0.8205 - accuracy: 0.6199 - val_loss: 1.3527 - val_accuracy: 0.3789\n",
      "Epoch 8/10\n",
      "215/215 [==============================] - 16s 76ms/step - loss: 0.7899 - accuracy: 0.6385 - val_loss: 1.5605 - val_accuracy: 0.3643\n",
      "Epoch 9/10\n",
      "215/215 [==============================] - 17s 78ms/step - loss: 0.7469 - accuracy: 0.6578 - val_loss: 1.5667 - val_accuracy: 0.3479\n",
      "Epoch 10/10\n",
      "215/215 [==============================] - 16s 73ms/step - loss: 0.7178 - accuracy: 0.6774 - val_loss: 1.5292 - val_accuracy: 0.3643\n"
     ]
    }
   ],
   "source": [
    "history = model.fit(X_train,y_train,epochs=10, validation_split=0.2)"
   ]
  },
  {
   "cell_type": "code",
   "execution_count": 42,
   "id": "c433b941",
   "metadata": {
    "execution": {
     "iopub.execute_input": "2023-06-05T09:42:01.423094Z",
     "iopub.status.busy": "2023-06-05T09:42:01.422705Z",
     "iopub.status.idle": "2023-06-05T09:42:06.599669Z",
     "shell.execute_reply": "2023-06-05T09:42:06.598583Z"
    },
    "papermill": {
     "duration": 5.389294,
     "end_time": "2023-06-05T09:42:06.601938",
     "exception": false,
     "start_time": "2023-06-05T09:42:01.212644",
     "status": "completed"
    },
    "tags": []
   },
   "outputs": [
    {
     "name": "stdout",
     "output_type": "stream",
     "text": [
      "132/132 [==============================] - 3s 23ms/step - loss: 1.4594 - accuracy: 0.3788\n"
     ]
    },
    {
     "data": {
      "text/plain": [
       "[1.45944082736969, 0.37876275181770325]"
      ]
     },
     "execution_count": 42,
     "metadata": {},
     "output_type": "execute_result"
    }
   ],
   "source": [
    "model.evaluate(X_test, y_test)"
   ]
  },
  {
   "cell_type": "code",
   "execution_count": 43,
   "id": "740dcc37",
   "metadata": {
    "execution": {
     "iopub.execute_input": "2023-06-05T09:42:07.043726Z",
     "iopub.status.busy": "2023-06-05T09:42:07.043348Z",
     "iopub.status.idle": "2023-06-05T09:42:07.052594Z",
     "shell.execute_reply": "2023-06-05T09:42:07.051690Z"
    },
    "papermill": {
     "duration": 0.205285,
     "end_time": "2023-06-05T09:42:07.054813",
     "exception": false,
     "start_time": "2023-06-05T09:42:06.849528",
     "status": "completed"
    },
    "tags": []
   },
   "outputs": [
    {
     "data": {
      "text/plain": [
       "\"\\nvocab_size = 5000\\n\\nmodel = Sequential()\\nmodel.add(Embedding(vocab_size, 128, input_length=X_train.shape[1]))  # Embedding layer\\n# model.add(Dropout(rate=0.4))\\nmodel.add(LSTM(units=4))\\n# model.add(Dropout(rate=0.4))\\nmodel.add(Dense(units=50,  activation='relu'))\\n# model.add(Dropout(rate=0.5))\\nmodel.add(Dense(units=3, activation='sigmoid'))\\n\\nmodel.summary()\\n\\n\\nadam=tf.keras.optimizers.Adam(learning_rate=0.0001)\\n\\nmodel.compile(optimizer=adam, loss='sparse_categorical_crossentropy', metrics = ['accuracy'])\\n\\nhistory = model.fit(\\n    X_train, \\n    y_train, \\n    validation_data=[X_valid, y_valid],\\n    batch_size=16,\\n    epochs = 5\\n)\\n\\n\""
      ]
     },
     "execution_count": 43,
     "metadata": {},
     "output_type": "execute_result"
    }
   ],
   "source": [
    "'''\n",
    "vocab_size = 5000\n",
    "\n",
    "model = Sequential()\n",
    "model.add(Embedding(vocab_size, 128, input_length=X_train.shape[1]))  # Embedding layer\n",
    "# model.add(Dropout(rate=0.4))\n",
    "model.add(LSTM(units=4))\n",
    "# model.add(Dropout(rate=0.4))\n",
    "model.add(Dense(units=50,  activation='relu'))\n",
    "# model.add(Dropout(rate=0.5))\n",
    "model.add(Dense(units=3, activation='sigmoid'))\n",
    "\n",
    "model.summary()\n",
    "\n",
    "\n",
    "adam=tf.keras.optimizers.Adam(learning_rate=0.0001)\n",
    "\n",
    "model.compile(optimizer=adam, loss='sparse_categorical_crossentropy', metrics = ['accuracy'])\n",
    "\n",
    "history = model.fit(\n",
    "    X_train, \n",
    "    y_train, \n",
    "    validation_data=[X_valid, y_valid],\n",
    "    batch_size=16,\n",
    "    epochs = 5\n",
    ")\n",
    "\n",
    "'''"
   ]
  },
  {
   "cell_type": "code",
   "execution_count": 44,
   "id": "5de25d25",
   "metadata": {
    "execution": {
     "iopub.execute_input": "2023-06-05T09:42:07.444639Z",
     "iopub.status.busy": "2023-06-05T09:42:07.443705Z",
     "iopub.status.idle": "2023-06-05T09:42:07.451304Z",
     "shell.execute_reply": "2023-06-05T09:42:07.450228Z"
    },
    "papermill": {
     "duration": 0.202798,
     "end_time": "2023-06-05T09:42:07.453460",
     "exception": false,
     "start_time": "2023-06-05T09:42:07.250662",
     "status": "completed"
    },
    "tags": []
   },
   "outputs": [],
   "source": [
    "def plot_history(history):\n",
    "    # summarize history for accuracy\n",
    "    plt.plot(history.history['accuracy'])\n",
    "    plt.plot(history.history['val_accuracy'])\n",
    "    plt.title('model accuracy')\n",
    "    plt.ylabel('accuracy')\n",
    "    plt.xlabel('epoch')\n",
    "    plt.legend(['train', 'validation'], loc='upper left')\n",
    "    plt.show()\n",
    "    # summarize history for loss\n",
    "    plt.plot(history.history['loss'])\n",
    "    plt.plot(history.history['val_loss'])\n",
    "    plt.title('model loss')\n",
    "    plt.ylabel('loss')\n",
    "    plt.xlabel('epoch')\n",
    "    plt.legend(['train', 'validation'], loc='upper left')\n",
    "    plt.show()"
   ]
  },
  {
   "cell_type": "code",
   "execution_count": 45,
   "id": "c94235d9",
   "metadata": {
    "execution": {
     "iopub.execute_input": "2023-06-05T09:42:07.845712Z",
     "iopub.status.busy": "2023-06-05T09:42:07.845312Z",
     "iopub.status.idle": "2023-06-05T09:42:08.494891Z",
     "shell.execute_reply": "2023-06-05T09:42:08.493946Z"
    },
    "papermill": {
     "duration": 0.852093,
     "end_time": "2023-06-05T09:42:08.496884",
     "exception": false,
     "start_time": "2023-06-05T09:42:07.644791",
     "status": "completed"
    },
    "tags": []
   },
   "outputs": [
    {
     "data": {
      "image/png": "[encoded data removed]",
      "text/plain": [
       "<Figure size 640x480 with 1 Axes>"
      ]
     },
     "metadata": {},
     "output_type": "display_data"
    },
    {
     "data": {
      "image/png": "[encoded data removed]",
      "text/plain": [
       "<Figure size 640x480 with 1 Axes>"
      ]
     },
     "metadata": {},
     "output_type": "display_data"
    }
   ],
   "source": [
    "plot_history(history)"
   ]
  },
  {
   "cell_type": "code",
   "execution_count": 46,
   "id": "ea3278b3",
   "metadata": {
    "execution": {
     "iopub.execute_input": "2023-06-05T09:42:08.903591Z",
     "iopub.status.busy": "2023-06-05T09:42:08.903214Z",
     "iopub.status.idle": "2023-06-05T09:42:08.910362Z",
     "shell.execute_reply": "2023-06-05T09:42:08.909365Z"
    },
    "papermill": {
     "duration": 0.215092,
     "end_time": "2023-06-05T09:42:08.912775",
     "exception": false,
     "start_time": "2023-06-05T09:42:08.697683",
     "status": "completed"
    },
    "tags": []
   },
   "outputs": [
    {
     "data": {
      "text/plain": [
       "array([[   0,    0,    0, ..., 1269, 2240, 2926],\n",
       "       [   0,    0,    0, ..., 2326, 4704, 2759],\n",
       "       [   0,    0,    0, ..., 1382, 1531, 4837],\n",
       "       ...,\n",
       "       [   0,    0,    0, ..., 4070, 4186,  374],\n",
       "       [   0,    0,    0, ...,    0,    0,  158],\n",
       "       [   0,    0,    0, ...,  679, 2007,  129]], dtype=int32)"
      ]
     },
     "execution_count": 46,
     "metadata": {},
     "output_type": "execute_result"
    }
   ],
   "source": [
    "X_test"
   ]
  },
  {
   "cell_type": "code",
   "execution_count": 47,
   "id": "663053ac",
   "metadata": {
    "execution": {
     "iopub.execute_input": "2023-06-05T09:42:09.313068Z",
     "iopub.status.busy": "2023-06-05T09:42:09.312397Z",
     "iopub.status.idle": "2023-06-05T09:42:09.319600Z",
     "shell.execute_reply": "2023-06-05T09:42:09.318566Z"
    },
    "papermill": {
     "duration": 0.202809,
     "end_time": "2023-06-05T09:42:09.321926",
     "exception": false,
     "start_time": "2023-06-05T09:42:09.119117",
     "status": "completed"
    },
    "tags": []
   },
   "outputs": [
    {
     "data": {
      "text/plain": [
       "matrix([[1., 0., 0.],\n",
       "        [0., 1., 0.],\n",
       "        [0., 0., 1.],\n",
       "        ...,\n",
       "        [0., 0., 1.],\n",
       "        [0., 0., 1.],\n",
       "        [0., 1., 0.]])"
      ]
     },
     "execution_count": 47,
     "metadata": {},
     "output_type": "execute_result"
    }
   ],
   "source": [
    "y_test"
   ]
  },
  {
   "cell_type": "code",
   "execution_count": 48,
   "id": "b4ffd699",
   "metadata": {
    "execution": {
     "iopub.execute_input": "2023-06-05T09:42:09.725240Z",
     "iopub.status.busy": "2023-06-05T09:42:09.723269Z",
     "iopub.status.idle": "2023-06-05T09:42:09.730630Z",
     "shell.execute_reply": "2023-06-05T09:42:09.729624Z"
    },
    "papermill": {
     "duration": 0.20316,
     "end_time": "2023-06-05T09:42:09.732940",
     "exception": false,
     "start_time": "2023-06-05T09:42:09.529780",
     "status": "completed"
    },
    "tags": []
   },
   "outputs": [
    {
     "data": {
      "text/plain": [
       "\"score, acc = model.evaluate(X_test, y_test)\\nprint('Test score:', score)\\nprint('Test accuracy:', acc)\""
      ]
     },
     "execution_count": 48,
     "metadata": {},
     "output_type": "execute_result"
    }
   ],
   "source": [
    "'''score, acc = model.evaluate(X_test, y_test)\n",
    "print('Test score:', score)\n",
    "print('Test accuracy:', acc)'''"
   ]
  },
  {
   "cell_type": "code",
   "execution_count": 49,
   "id": "75fd8add",
   "metadata": {
    "execution": {
     "iopub.execute_input": "2023-06-05T09:42:10.134412Z",
     "iopub.status.busy": "2023-06-05T09:42:10.134033Z",
     "iopub.status.idle": "2023-06-05T09:42:10.138411Z",
     "shell.execute_reply": "2023-06-05T09:42:10.137426Z"
    },
    "papermill": {
     "duration": 0.210317,
     "end_time": "2023-06-05T09:42:10.140727",
     "exception": false,
     "start_time": "2023-06-05T09:42:09.930410",
     "status": "completed"
    },
    "tags": []
   },
   "outputs": [],
   "source": [
    "# print(classification_report(y_true=np.asarray(ytest), y_pred=np.argmax(model.predict(X_test))))"
   ]
  },
  {
   "cell_type": "code",
   "execution_count": 50,
   "id": "2dfdb199",
   "metadata": {
    "execution": {
     "iopub.execute_input": "2023-06-05T09:42:10.548296Z",
     "iopub.status.busy": "2023-06-05T09:42:10.547923Z",
     "iopub.status.idle": "2023-06-05T09:42:10.553894Z",
     "shell.execute_reply": "2023-06-05T09:42:10.553033Z"
    },
    "papermill": {
     "duration": 0.219435,
     "end_time": "2023-06-05T09:42:10.555866",
     "exception": false,
     "start_time": "2023-06-05T09:42:10.336431",
     "status": "completed"
    },
    "tags": []
   },
   "outputs": [
    {
     "data": {
      "text/plain": [
       "\"cm = confusion_matrix(test, predd)\\nplt.figure(figsize=[8, 6])\\nsns.heatmap(cm, annot=True, fmt='d')\\nplt.show()\""
      ]
     },
     "execution_count": 50,
     "metadata": {},
     "output_type": "execute_result"
    }
   ],
   "source": [
    "'''cm = confusion_matrix(test, predd)\n",
    "plt.figure(figsize=[8, 6])\n",
    "sns.heatmap(cm, annot=True, fmt='d')\n",
    "plt.show()'''"
   ]
  },
  {
   "cell_type": "code",
   "execution_count": null,
   "id": "1a27784f",
   "metadata": {
    "papermill": {
     "duration": 0.237889,
     "end_time": "2023-06-05T09:42:10.984167",
     "exception": false,
     "start_time": "2023-06-05T09:42:10.746278",
     "status": "completed"
    },
    "tags": []
   },
   "outputs": [],
   "source": []
  }
 ],
 "metadata": {
  "kernelspec": {
   "display_name": "Python 3",
   "language": "python",
   "name": "python3"
  },
  "language_info": {
   "codemirror_mode": {
    "name": "ipython",
    "version": 3
   },
   "file_extension": ".py",
   "mimetype": "text/x-python",
   "name": "python",
   "nbconvert_exporter": "python",
   "pygments_lexer": "ipython3",
   "version": "3.10.10"
  },
  "papermill": {
   "default_parameters": {},
   "duration": 377.075963,
   "end_time": "2023-06-05T09:42:14.876869",
   "environment_variables": {},
   "exception": null,
   "input_path": "__notebook__.ipynb",
   "output_path": "__notebook__.ipynb",
   "parameters": {},
   "start_time": "2023-06-05T09:35:57.800906",
   "version": "2.4.0"
  }
 },
 "nbformat": 4,
 "nbformat_minor": 5
}

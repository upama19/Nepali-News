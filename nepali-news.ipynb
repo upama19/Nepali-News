{
 "cells": [
  {
   "cell_type": "code",
   "execution_count": 1,
   "id": "b450e8ee",
   "metadata": {
    "_cell_guid": "b1076dfc-b9ad-4769-8c92-a6c4dae69d19",
    "_uuid": "8f2839f25d086af736a60e9eeb907d3b93b6e0e5",
    "execution": {
     "iopub.execute_input": "2023-05-18T06:03:46.701566Z",
     "iopub.status.busy": "2023-05-18T06:03:46.700348Z",
     "iopub.status.idle": "2023-05-18T06:03:46.722344Z",
     "shell.execute_reply": "2023-05-18T06:03:46.721355Z"
    },
    "papermill": {
     "duration": 0.036938,
     "end_time": "2023-05-18T06:03:46.724745",
     "exception": false,
     "start_time": "2023-05-18T06:03:46.687807",
     "status": "completed"
    },
    "tags": []
   },
   "outputs": [
    {
     "name": "stdout",
     "output_type": "stream",
     "text": [
      "/kaggle/input/liar-fake-news-dataset/test.tsv\n",
      "/kaggle/input/liar-fake-news-dataset/README\n",
      "/kaggle/input/liar-fake-news-dataset/train.tsv\n",
      "/kaggle/input/liar-fake-news-dataset/valid.tsv\n"
     ]
    }
   ],
   "source": [
    "# This Python 3 environment comes with many helpful analytics libraries installed\n",
    "# It is defined by the kaggle/python Docker image: https://github.com/kaggle/docker-python\n",
    "# For example, here's several helpful packages to load\n",
    "\n",
    "import numpy as np # linear algebra\n",
    "import pandas as pd # data processing, CSV file I/O (e.g. pd.read_csv)\n",
    "\n",
    "# Input data files are available in the read-only \"../input/\" directory\n",
    "# For example, running this (by clicking run or pressing Shift+Enter) will list all files under the input directory\n",
    "\n",
    "import os\n",
    "for dirname, _, filenames in os.walk('/kaggle/input'):\n",
    "    for filename in filenames:\n",
    "        print(os.path.join(dirname, filename))\n",
    "\n",
    "# You can write up to 20GB to the current directory (/kaggle/working/) that gets preserved as output when you create a version using \"Save & Run All\" \n",
    "# You can also write temporary files to /kaggle/temp/, but they won't be saved outside of the current session"
   ]
  },
  {
   "cell_type": "code",
   "execution_count": 2,
   "id": "a495aca2",
   "metadata": {
    "execution": {
     "iopub.execute_input": "2023-05-18T06:03:46.747007Z",
     "iopub.status.busy": "2023-05-18T06:03:46.746528Z",
     "iopub.status.idle": "2023-05-18T06:03:55.354376Z",
     "shell.execute_reply": "2023-05-18T06:03:55.353518Z"
    },
    "papermill": {
     "duration": 8.621769,
     "end_time": "2023-05-18T06:03:55.356941",
     "exception": false,
     "start_time": "2023-05-18T06:03:46.735172",
     "status": "completed"
    },
    "tags": []
   },
   "outputs": [
    {
     "name": "stderr",
     "output_type": "stream",
     "text": [
      "/opt/conda/lib/python3.10/site-packages/scipy/__init__.py:146: UserWarning: A NumPy version >=1.16.5 and <1.23.0 is required for this version of SciPy (detected version 1.23.5\n",
      "  warnings.warn(f\"A NumPy version >={np_minversion} and <{np_maxversion}\"\n"
     ]
    }
   ],
   "source": [
    "import tensorflow as tf\n",
    "import os\n",
    "import matplotlib.pyplot as plt \n"
   ]
  },
  {
   "cell_type": "code",
   "execution_count": 3,
   "id": "42ad2468",
   "metadata": {
    "execution": {
     "iopub.execute_input": "2023-05-18T06:03:55.380718Z",
     "iopub.status.busy": "2023-05-18T06:03:55.379275Z",
     "iopub.status.idle": "2023-05-18T06:03:55.384558Z",
     "shell.execute_reply": "2023-05-18T06:03:55.383819Z"
    },
    "papermill": {
     "duration": 0.019032,
     "end_time": "2023-05-18T06:03:55.386688",
     "exception": false,
     "start_time": "2023-05-18T06:03:55.367656",
     "status": "completed"
    },
    "tags": []
   },
   "outputs": [],
   "source": [
    "BASE_PATH = ''"
   ]
  },
  {
   "cell_type": "code",
   "execution_count": 4,
   "id": "e46afa88",
   "metadata": {
    "execution": {
     "iopub.execute_input": "2023-05-18T06:03:55.410010Z",
     "iopub.status.busy": "2023-05-18T06:03:55.409020Z",
     "iopub.status.idle": "2023-05-18T06:03:55.544598Z",
     "shell.execute_reply": "2023-05-18T06:03:55.543717Z"
    },
    "papermill": {
     "duration": 0.149704,
     "end_time": "2023-05-18T06:03:55.547101",
     "exception": false,
     "start_time": "2023-05-18T06:03:55.397397",
     "status": "completed"
    },
    "tags": []
   },
   "outputs": [],
   "source": [
    "df = pd.read_csv('/kaggle/input/liar-fake-news-dataset/train.tsv', sep='\\t')"
   ]
  },
  {
   "cell_type": "code",
   "execution_count": 5,
   "id": "7f50584a",
   "metadata": {
    "execution": {
     "iopub.execute_input": "2023-05-18T06:03:55.570748Z",
     "iopub.status.busy": "2023-05-18T06:03:55.569718Z",
     "iopub.status.idle": "2023-05-18T06:03:55.608698Z",
     "shell.execute_reply": "2023-05-18T06:03:55.607618Z"
    },
    "papermill": {
     "duration": 0.053239,
     "end_time": "2023-05-18T06:03:55.611094",
     "exception": false,
     "start_time": "2023-05-18T06:03:55.557855",
     "status": "completed"
    },
    "tags": []
   },
   "outputs": [
    {
     "data": {
      "text/html": [
       "<div>\n",
       "<style scoped>\n",
       "    .dataframe tbody tr th:only-of-type {\n",
       "        vertical-align: middle;\n",
       "    }\n",
       "\n",
       "    .dataframe tbody tr th {\n",
       "        vertical-align: top;\n",
       "    }\n",
       "\n",
       "    .dataframe thead th {\n",
       "        text-align: right;\n",
       "    }\n",
       "</style>\n",
       "<table border=\"1\" class=\"dataframe\">\n",
       "  <thead>\n",
       "    <tr style=\"text-align: right;\">\n",
       "      <th></th>\n",
       "      <th>2635.json</th>\n",
       "      <th>false</th>\n",
       "      <th>Says the Annies List political group supports third-trimester abortions on demand.</th>\n",
       "      <th>abortion</th>\n",
       "      <th>dwayne-bohac</th>\n",
       "      <th>State representative</th>\n",
       "      <th>Texas</th>\n",
       "      <th>republican</th>\n",
       "      <th>0</th>\n",
       "      <th>1</th>\n",
       "      <th>0.1</th>\n",
       "      <th>0.2</th>\n",
       "      <th>0.3</th>\n",
       "      <th>a mailer</th>\n",
       "    </tr>\n",
       "  </thead>\n",
       "  <tbody>\n",
       "    <tr>\n",
       "      <th>0</th>\n",
       "      <td>10540.json</td>\n",
       "      <td>half-true</td>\n",
       "      <td>When did the decline of coal start? It started...</td>\n",
       "      <td>energy,history,job-accomplishments</td>\n",
       "      <td>scott-surovell</td>\n",
       "      <td>State delegate</td>\n",
       "      <td>Virginia</td>\n",
       "      <td>democrat</td>\n",
       "      <td>0.0</td>\n",
       "      <td>0.0</td>\n",
       "      <td>1.0</td>\n",
       "      <td>1.0</td>\n",
       "      <td>0.0</td>\n",
       "      <td>a floor speech.</td>\n",
       "    </tr>\n",
       "    <tr>\n",
       "      <th>1</th>\n",
       "      <td>324.json</td>\n",
       "      <td>mostly-true</td>\n",
       "      <td>Hillary Clinton agrees with John McCain \"by vo...</td>\n",
       "      <td>foreign-policy</td>\n",
       "      <td>barack-obama</td>\n",
       "      <td>President</td>\n",
       "      <td>Illinois</td>\n",
       "      <td>democrat</td>\n",
       "      <td>70.0</td>\n",
       "      <td>71.0</td>\n",
       "      <td>160.0</td>\n",
       "      <td>163.0</td>\n",
       "      <td>9.0</td>\n",
       "      <td>Denver</td>\n",
       "    </tr>\n",
       "    <tr>\n",
       "      <th>2</th>\n",
       "      <td>1123.json</td>\n",
       "      <td>false</td>\n",
       "      <td>Health care reform legislation is likely to ma...</td>\n",
       "      <td>health-care</td>\n",
       "      <td>blog-posting</td>\n",
       "      <td>NaN</td>\n",
       "      <td>NaN</td>\n",
       "      <td>none</td>\n",
       "      <td>7.0</td>\n",
       "      <td>19.0</td>\n",
       "      <td>3.0</td>\n",
       "      <td>5.0</td>\n",
       "      <td>44.0</td>\n",
       "      <td>a news release</td>\n",
       "    </tr>\n",
       "    <tr>\n",
       "      <th>3</th>\n",
       "      <td>9028.json</td>\n",
       "      <td>half-true</td>\n",
       "      <td>The economic turnaround started at the end of ...</td>\n",
       "      <td>economy,jobs</td>\n",
       "      <td>charlie-crist</td>\n",
       "      <td>NaN</td>\n",
       "      <td>Florida</td>\n",
       "      <td>democrat</td>\n",
       "      <td>15.0</td>\n",
       "      <td>9.0</td>\n",
       "      <td>20.0</td>\n",
       "      <td>19.0</td>\n",
       "      <td>2.0</td>\n",
       "      <td>an interview on CNN</td>\n",
       "    </tr>\n",
       "    <tr>\n",
       "      <th>4</th>\n",
       "      <td>12465.json</td>\n",
       "      <td>true</td>\n",
       "      <td>The Chicago Bears have had more starting quart...</td>\n",
       "      <td>education</td>\n",
       "      <td>robin-vos</td>\n",
       "      <td>Wisconsin Assembly speaker</td>\n",
       "      <td>Wisconsin</td>\n",
       "      <td>republican</td>\n",
       "      <td>0.0</td>\n",
       "      <td>3.0</td>\n",
       "      <td>2.0</td>\n",
       "      <td>5.0</td>\n",
       "      <td>1.0</td>\n",
       "      <td>a an online opinion-piece</td>\n",
       "    </tr>\n",
       "  </tbody>\n",
       "</table>\n",
       "</div>"
      ],
      "text/plain": [
       "    2635.json        false  \\\n",
       "0  10540.json    half-true   \n",
       "1    324.json  mostly-true   \n",
       "2   1123.json        false   \n",
       "3   9028.json    half-true   \n",
       "4  12465.json         true   \n",
       "\n",
       "  Says the Annies List political group supports third-trimester abortions on demand.  \\\n",
       "0  When did the decline of coal start? It started...                                   \n",
       "1  Hillary Clinton agrees with John McCain \"by vo...                                   \n",
       "2  Health care reform legislation is likely to ma...                                   \n",
       "3  The economic turnaround started at the end of ...                                   \n",
       "4  The Chicago Bears have had more starting quart...                                   \n",
       "\n",
       "                             abortion    dwayne-bohac  \\\n",
       "0  energy,history,job-accomplishments  scott-surovell   \n",
       "1                      foreign-policy    barack-obama   \n",
       "2                         health-care    blog-posting   \n",
       "3                        economy,jobs   charlie-crist   \n",
       "4                           education       robin-vos   \n",
       "\n",
       "         State representative      Texas  republican     0     1    0.1  \\\n",
       "0              State delegate   Virginia    democrat   0.0   0.0    1.0   \n",
       "1                   President   Illinois    democrat  70.0  71.0  160.0   \n",
       "2                         NaN        NaN        none   7.0  19.0    3.0   \n",
       "3                         NaN    Florida    democrat  15.0   9.0   20.0   \n",
       "4  Wisconsin Assembly speaker  Wisconsin  republican   0.0   3.0    2.0   \n",
       "\n",
       "     0.2   0.3                   a mailer  \n",
       "0    1.0   0.0            a floor speech.  \n",
       "1  163.0   9.0                     Denver  \n",
       "2    5.0  44.0             a news release  \n",
       "3   19.0   2.0        an interview on CNN  \n",
       "4    5.0   1.0  a an online opinion-piece  "
      ]
     },
     "execution_count": 5,
     "metadata": {},
     "output_type": "execute_result"
    }
   ],
   "source": [
    "df.head()"
   ]
  },
  {
   "cell_type": "code",
   "execution_count": 6,
   "id": "db4fe9f4",
   "metadata": {
    "execution": {
     "iopub.execute_input": "2023-05-18T06:03:55.634702Z",
     "iopub.status.busy": "2023-05-18T06:03:55.634306Z",
     "iopub.status.idle": "2023-05-18T06:03:55.640691Z",
     "shell.execute_reply": "2023-05-18T06:03:55.639707Z"
    },
    "papermill": {
     "duration": 0.021009,
     "end_time": "2023-05-18T06:03:55.643123",
     "exception": false,
     "start_time": "2023-05-18T06:03:55.622114",
     "status": "completed"
    },
    "tags": []
   },
   "outputs": [
    {
     "data": {
      "text/plain": [
       "(10239, 14)"
      ]
     },
     "execution_count": 6,
     "metadata": {},
     "output_type": "execute_result"
    }
   ],
   "source": [
    "df.shape"
   ]
  },
  {
   "cell_type": "code",
   "execution_count": 7,
   "id": "8350bd20",
   "metadata": {
    "execution": {
     "iopub.execute_input": "2023-05-18T06:03:55.667173Z",
     "iopub.status.busy": "2023-05-18T06:03:55.666773Z",
     "iopub.status.idle": "2023-05-18T06:03:55.672245Z",
     "shell.execute_reply": "2023-05-18T06:03:55.671210Z"
    },
    "papermill": {
     "duration": 0.020504,
     "end_time": "2023-05-18T06:03:55.674714",
     "exception": false,
     "start_time": "2023-05-18T06:03:55.654210",
     "status": "completed"
    },
    "tags": []
   },
   "outputs": [
    {
     "name": "stdout",
     "output_type": "stream",
     "text": [
      "2635.json\n",
      "false\n",
      "Says the Annies List political group supports third-trimester abortions on demand.\n",
      "abortion\n",
      "dwayne-bohac\n",
      "State representative\n",
      "Texas\n",
      "republican\n",
      "0\n",
      "1\n",
      "0.1\n",
      "0.2\n",
      "0.3\n",
      "a mailer\n"
     ]
    }
   ],
   "source": [
    "for col in df.columns:\n",
    "    print(col)"
   ]
  },
  {
   "cell_type": "code",
   "execution_count": 8,
   "id": "fef62d9c",
   "metadata": {
    "execution": {
     "iopub.execute_input": "2023-05-18T06:03:55.699445Z",
     "iopub.status.busy": "2023-05-18T06:03:55.698617Z",
     "iopub.status.idle": "2023-05-18T06:03:55.722639Z",
     "shell.execute_reply": "2023-05-18T06:03:55.721597Z"
    },
    "papermill": {
     "duration": 0.039308,
     "end_time": "2023-05-18T06:03:55.725130",
     "exception": false,
     "start_time": "2023-05-18T06:03:55.685822",
     "status": "completed"
    },
    "tags": []
   },
   "outputs": [
    {
     "data": {
      "text/html": [
       "<div>\n",
       "<style scoped>\n",
       "    .dataframe tbody tr th:only-of-type {\n",
       "        vertical-align: middle;\n",
       "    }\n",
       "\n",
       "    .dataframe tbody tr th {\n",
       "        vertical-align: top;\n",
       "    }\n",
       "\n",
       "    .dataframe thead th {\n",
       "        text-align: right;\n",
       "    }\n",
       "</style>\n",
       "<table border=\"1\" class=\"dataframe\">\n",
       "  <thead>\n",
       "    <tr style=\"text-align: right;\">\n",
       "      <th></th>\n",
       "      <th>id</th>\n",
       "      <th>label</th>\n",
       "      <th>statement</th>\n",
       "      <th>subjects</th>\n",
       "      <th>speaker</th>\n",
       "      <th>speaker_job_title</th>\n",
       "      <th>state_info</th>\n",
       "      <th>party_affilation</th>\n",
       "      <th>count_1</th>\n",
       "      <th>count_2</th>\n",
       "      <th>count_3</th>\n",
       "      <th>count_4</th>\n",
       "      <th>count_5</th>\n",
       "      <th>context</th>\n",
       "    </tr>\n",
       "  </thead>\n",
       "  <tbody>\n",
       "    <tr>\n",
       "      <th>0</th>\n",
       "      <td>10540.json</td>\n",
       "      <td>half-true</td>\n",
       "      <td>When did the decline of coal start? It started...</td>\n",
       "      <td>energy,history,job-accomplishments</td>\n",
       "      <td>scott-surovell</td>\n",
       "      <td>State delegate</td>\n",
       "      <td>Virginia</td>\n",
       "      <td>democrat</td>\n",
       "      <td>0.0</td>\n",
       "      <td>0.0</td>\n",
       "      <td>1.0</td>\n",
       "      <td>1.0</td>\n",
       "      <td>0.0</td>\n",
       "      <td>a floor speech.</td>\n",
       "    </tr>\n",
       "    <tr>\n",
       "      <th>1</th>\n",
       "      <td>324.json</td>\n",
       "      <td>mostly-true</td>\n",
       "      <td>Hillary Clinton agrees with John McCain \"by vo...</td>\n",
       "      <td>foreign-policy</td>\n",
       "      <td>barack-obama</td>\n",
       "      <td>President</td>\n",
       "      <td>Illinois</td>\n",
       "      <td>democrat</td>\n",
       "      <td>70.0</td>\n",
       "      <td>71.0</td>\n",
       "      <td>160.0</td>\n",
       "      <td>163.0</td>\n",
       "      <td>9.0</td>\n",
       "      <td>Denver</td>\n",
       "    </tr>\n",
       "    <tr>\n",
       "      <th>2</th>\n",
       "      <td>1123.json</td>\n",
       "      <td>false</td>\n",
       "      <td>Health care reform legislation is likely to ma...</td>\n",
       "      <td>health-care</td>\n",
       "      <td>blog-posting</td>\n",
       "      <td>NaN</td>\n",
       "      <td>NaN</td>\n",
       "      <td>none</td>\n",
       "      <td>7.0</td>\n",
       "      <td>19.0</td>\n",
       "      <td>3.0</td>\n",
       "      <td>5.0</td>\n",
       "      <td>44.0</td>\n",
       "      <td>a news release</td>\n",
       "    </tr>\n",
       "    <tr>\n",
       "      <th>3</th>\n",
       "      <td>9028.json</td>\n",
       "      <td>half-true</td>\n",
       "      <td>The economic turnaround started at the end of ...</td>\n",
       "      <td>economy,jobs</td>\n",
       "      <td>charlie-crist</td>\n",
       "      <td>NaN</td>\n",
       "      <td>Florida</td>\n",
       "      <td>democrat</td>\n",
       "      <td>15.0</td>\n",
       "      <td>9.0</td>\n",
       "      <td>20.0</td>\n",
       "      <td>19.0</td>\n",
       "      <td>2.0</td>\n",
       "      <td>an interview on CNN</td>\n",
       "    </tr>\n",
       "    <tr>\n",
       "      <th>4</th>\n",
       "      <td>12465.json</td>\n",
       "      <td>true</td>\n",
       "      <td>The Chicago Bears have had more starting quart...</td>\n",
       "      <td>education</td>\n",
       "      <td>robin-vos</td>\n",
       "      <td>Wisconsin Assembly speaker</td>\n",
       "      <td>Wisconsin</td>\n",
       "      <td>republican</td>\n",
       "      <td>0.0</td>\n",
       "      <td>3.0</td>\n",
       "      <td>2.0</td>\n",
       "      <td>5.0</td>\n",
       "      <td>1.0</td>\n",
       "      <td>a an online opinion-piece</td>\n",
       "    </tr>\n",
       "  </tbody>\n",
       "</table>\n",
       "</div>"
      ],
      "text/plain": [
       "           id        label                                          statement  \\\n",
       "0  10540.json    half-true  When did the decline of coal start? It started...   \n",
       "1    324.json  mostly-true  Hillary Clinton agrees with John McCain \"by vo...   \n",
       "2   1123.json        false  Health care reform legislation is likely to ma...   \n",
       "3   9028.json    half-true  The economic turnaround started at the end of ...   \n",
       "4  12465.json         true  The Chicago Bears have had more starting quart...   \n",
       "\n",
       "                             subjects         speaker  \\\n",
       "0  energy,history,job-accomplishments  scott-surovell   \n",
       "1                      foreign-policy    barack-obama   \n",
       "2                         health-care    blog-posting   \n",
       "3                        economy,jobs   charlie-crist   \n",
       "4                           education       robin-vos   \n",
       "\n",
       "            speaker_job_title state_info party_affilation  count_1  count_2  \\\n",
       "0              State delegate   Virginia         democrat      0.0      0.0   \n",
       "1                   President   Illinois         democrat     70.0     71.0   \n",
       "2                         NaN        NaN             none      7.0     19.0   \n",
       "3                         NaN    Florida         democrat     15.0      9.0   \n",
       "4  Wisconsin Assembly speaker  Wisconsin       republican      0.0      3.0   \n",
       "\n",
       "   count_3  count_4  count_5                    context  \n",
       "0      1.0      1.0      0.0            a floor speech.  \n",
       "1    160.0    163.0      9.0                     Denver  \n",
       "2      3.0      5.0     44.0             a news release  \n",
       "3     20.0     19.0      2.0        an interview on CNN  \n",
       "4      2.0      5.0      1.0  a an online opinion-piece  "
      ]
     },
     "execution_count": 8,
     "metadata": {},
     "output_type": "execute_result"
    }
   ],
   "source": [
    "df.columns=['id', 'label', 'statement', 'subjects','speaker', 'speaker_job_title', 'state_info', 'party_affilation',\n",
    "        # Column 9-13: the total credit history count, including the current statement.\n",
    "        'count_1', # barely true counts.\n",
    "        'count_2', # false counts.\n",
    "        'count_3', # half true counts.\n",
    "        'count_4', # mostly true counts.\n",
    "        'count_5', # pants on fire counts.\n",
    "        \n",
    "        'context' # Column 14: the context (venue / location of the speech or statement) \n",
    "           ]\n",
    "df.head()"
   ]
  },
  {
   "cell_type": "code",
   "execution_count": 9,
   "id": "15752810",
   "metadata": {
    "execution": {
     "iopub.execute_input": "2023-05-18T06:03:55.750113Z",
     "iopub.status.busy": "2023-05-18T06:03:55.749370Z",
     "iopub.status.idle": "2023-05-18T06:03:55.764715Z",
     "shell.execute_reply": "2023-05-18T06:03:55.763710Z"
    },
    "papermill": {
     "duration": 0.030509,
     "end_time": "2023-05-18T06:03:55.767082",
     "exception": false,
     "start_time": "2023-05-18T06:03:55.736573",
     "status": "completed"
    },
    "tags": []
   },
   "outputs": [
    {
     "data": {
      "text/plain": [
       "label\n",
       "half-true      2114\n",
       "false          1994\n",
       "mostly-true    1962\n",
       "true           1676\n",
       "barely-true    1654\n",
       "pants-fire      839\n",
       "dtype: int64"
      ]
     },
     "execution_count": 9,
     "metadata": {},
     "output_type": "execute_result"
    }
   ],
   "source": [
    "df.value_counts('label')"
   ]
  },
  {
   "cell_type": "code",
   "execution_count": 10,
   "id": "f60d9bd4",
   "metadata": {
    "execution": {
     "iopub.execute_input": "2023-05-18T06:03:55.792077Z",
     "iopub.status.busy": "2023-05-18T06:03:55.791660Z",
     "iopub.status.idle": "2023-05-18T06:04:10.382738Z",
     "shell.execute_reply": "2023-05-18T06:04:10.381644Z"
    },
    "papermill": {
     "duration": 14.606787,
     "end_time": "2023-05-18T06:04:10.385508",
     "exception": false,
     "start_time": "2023-05-18T06:03:55.778721",
     "status": "completed"
    },
    "tags": []
   },
   "outputs": [
    {
     "name": "stdout",
     "output_type": "stream",
     "text": [
      "Collecting deep-translator\r\n",
      "  Downloading deep_translator-1.10.1-py3-none-any.whl (35 kB)\r\n",
      "Requirement already satisfied: requests<3.0.0,>=2.23.0 in /opt/conda/lib/python3.10/site-packages (from deep-translator) (2.28.2)\r\n",
      "Requirement already satisfied: beautifulsoup4<5.0.0,>=4.9.1 in /opt/conda/lib/python3.10/site-packages (from deep-translator) (4.12.2)\r\n",
      "Requirement already satisfied: soupsieve>1.2 in /opt/conda/lib/python3.10/site-packages (from beautifulsoup4<5.0.0,>=4.9.1->deep-translator) (2.4)\r\n",
      "Requirement already satisfied: charset-normalizer<4,>=2 in /opt/conda/lib/python3.10/site-packages (from requests<3.0.0,>=2.23.0->deep-translator) (2.1.1)\r\n",
      "Requirement already satisfied: idna<4,>=2.5 in /opt/conda/lib/python3.10/site-packages (from requests<3.0.0,>=2.23.0->deep-translator) (3.4)\r\n",
      "Requirement already satisfied: urllib3<1.27,>=1.21.1 in /opt/conda/lib/python3.10/site-packages (from requests<3.0.0,>=2.23.0->deep-translator) (1.26.15)\r\n",
      "Requirement already satisfied: certifi>=2017.4.17 in /opt/conda/lib/python3.10/site-packages (from requests<3.0.0,>=2.23.0->deep-translator) (2022.12.7)\r\n",
      "Installing collected packages: deep-translator\r\n",
      "Successfully installed deep-translator-1.10.1\r\n",
      "\u001b[33mWARNING: Running pip as the 'root' user can result in broken permissions and conflicting behaviour with the system package manager. It is recommended to use a virtual environment instead: https://pip.pypa.io/warnings/venv\u001b[0m\u001b[33m\r\n",
      "\u001b[0m"
     ]
    }
   ],
   "source": [
    "!pip install -U deep-translator"
   ]
  },
  {
   "cell_type": "code",
   "execution_count": 11,
   "id": "f22ed02e",
   "metadata": {
    "execution": {
     "iopub.execute_input": "2023-05-18T06:04:10.412150Z",
     "iopub.status.busy": "2023-05-18T06:04:10.411690Z",
     "iopub.status.idle": "2023-05-18T06:04:10.650985Z",
     "shell.execute_reply": "2023-05-18T06:04:10.650034Z"
    },
    "papermill": {
     "duration": 0.255678,
     "end_time": "2023-05-18T06:04:10.653725",
     "exception": false,
     "start_time": "2023-05-18T06:04:10.398047",
     "status": "completed"
    },
    "tags": []
   },
   "outputs": [],
   "source": [
    "from deep_translator import GoogleTranslator"
   ]
  },
  {
   "cell_type": "code",
   "execution_count": null,
   "id": "6b20cb59",
   "metadata": {
    "papermill": {
     "duration": 0.012303,
     "end_time": "2023-05-18T06:04:10.678420",
     "exception": false,
     "start_time": "2023-05-18T06:04:10.666117",
     "status": "completed"
    },
    "tags": []
   },
   "outputs": [],
   "source": []
  },
  {
   "cell_type": "code",
   "execution_count": 12,
   "id": "cdaca09d",
   "metadata": {
    "execution": {
     "iopub.execute_input": "2023-05-18T06:04:10.705536Z",
     "iopub.status.busy": "2023-05-18T06:04:10.704195Z",
     "iopub.status.idle": "2023-05-18T06:04:10.828951Z",
     "shell.execute_reply": "2023-05-18T06:04:10.827678Z"
    },
    "papermill": {
     "duration": 0.140933,
     "end_time": "2023-05-18T06:04:10.831464",
     "exception": false,
     "start_time": "2023-05-18T06:04:10.690531",
     "status": "completed"
    },
    "tags": []
   },
   "outputs": [
    {
     "data": {
      "text/plain": [
       "'यसलाई जारी राख्नुहोस्, तपाईं अद्भुत हुनुहुन्छ'"
      ]
     },
     "execution_count": 12,
     "metadata": {},
     "output_type": "execute_result"
    }
   ],
   "source": [
    "translated = GoogleTranslator(source='auto', target='ne').translate(\"keep it up, you are awesome\")  # output -> Weiter so, du bist großartig\n",
    "translated"
   ]
  },
  {
   "cell_type": "code",
   "execution_count": 13,
   "id": "cbd2a471",
   "metadata": {
    "execution": {
     "iopub.execute_input": "2023-05-18T06:04:10.858201Z",
     "iopub.status.busy": "2023-05-18T06:04:10.857516Z",
     "iopub.status.idle": "2023-05-18T06:04:10.867089Z",
     "shell.execute_reply": "2023-05-18T06:04:10.866094Z"
    },
    "papermill": {
     "duration": 0.025578,
     "end_time": "2023-05-18T06:04:10.869546",
     "exception": false,
     "start_time": "2023-05-18T06:04:10.843968",
     "status": "completed"
    },
    "tags": []
   },
   "outputs": [
    {
     "data": {
      "text/plain": [
       "'Here in Virginia, we have the opportunity to become the first state on the East Coast to explore for and produce oil and natural gas offshore.'"
      ]
     },
     "execution_count": 13,
     "metadata": {},
     "output_type": "execute_result"
    }
   ],
   "source": [
    "random =  df.sample(20)\n",
    "random['statement'].iloc[0]"
   ]
  },
  {
   "cell_type": "code",
   "execution_count": 14,
   "id": "9f5c88f0",
   "metadata": {
    "execution": {
     "iopub.execute_input": "2023-05-18T06:04:10.897424Z",
     "iopub.status.busy": "2023-05-18T06:04:10.897037Z",
     "iopub.status.idle": "2023-05-18T06:04:11.416383Z",
     "shell.execute_reply": "2023-05-18T06:04:11.415330Z"
    },
    "papermill": {
     "duration": 0.536396,
     "end_time": "2023-05-18T06:04:11.418577",
     "exception": false,
     "start_time": "2023-05-18T06:04:10.882181",
     "status": "completed"
    },
    "tags": []
   },
   "outputs": [
    {
     "data": {
      "text/plain": [
       "'यहाँ भर्जिनियामा, हामीसँग पूर्वी तटमा तेल र प्राकृतिक ग्यास अपतटीय अन्वेषण र उत्पादन गर्ने पहिलो राज्य बन्ने अवसर छ।'"
      ]
     },
     "execution_count": 14,
     "metadata": {},
     "output_type": "execute_result"
    }
   ],
   "source": [
    "translated = GoogleTranslator(source='auto', target='ne').translate(random['statement'].iloc[0])  # output -> Weiter so, du bist großartig\n",
    "translated"
   ]
  },
  {
   "cell_type": "code",
   "execution_count": 15,
   "id": "bf0fbcb9",
   "metadata": {
    "execution": {
     "iopub.execute_input": "2023-05-18T06:04:11.445114Z",
     "iopub.status.busy": "2023-05-18T06:04:11.444736Z",
     "iopub.status.idle": "2023-05-18T06:04:19.475797Z",
     "shell.execute_reply": "2023-05-18T06:04:19.474608Z"
    },
    "papermill": {
     "duration": 8.047406,
     "end_time": "2023-05-18T06:04:19.478556",
     "exception": false,
     "start_time": "2023-05-18T06:04:11.431150",
     "status": "completed"
    },
    "tags": []
   },
   "outputs": [],
   "source": [
    "random['translated_value'] = random['statement'].apply(lambda x: GoogleTranslator(source='auto', target='ne').translate(x))\n"
   ]
  },
  {
   "cell_type": "code",
   "execution_count": 16,
   "id": "759145e0",
   "metadata": {
    "execution": {
     "iopub.execute_input": "2023-05-18T06:04:19.505631Z",
     "iopub.status.busy": "2023-05-18T06:04:19.505262Z",
     "iopub.status.idle": "2023-05-18T06:04:19.513646Z",
     "shell.execute_reply": "2023-05-18T06:04:19.512633Z"
    },
    "papermill": {
     "duration": 0.024391,
     "end_time": "2023-05-18T06:04:19.515801",
     "exception": false,
     "start_time": "2023-05-18T06:04:19.491410",
     "status": "completed"
    },
    "tags": []
   },
   "outputs": [
    {
     "data": {
      "text/plain": [
       "2899     यहाँ भर्जिनियामा, हामीसँग पूर्वी तटमा तेल र प्...\n",
       "2770     उनले कांग्रेसको लागि आफ्नो उम्मेदवारी घोषणा गर...\n",
       "3976     टेक्सास किशोर गर्भावस्थामा तेस्रो स्थानमा छ......\n",
       "9672     राष्ट्रपति बराक ओबामाले आफ्नो आफ्नै (स्वास्थ्य...\n",
       "5580     मार्क वार्नरले ह्यारी रीडलाई लाइन डाउन समर्थन ...\n",
       "4911     ओबामा प्रशासनले जासुसी ऐनलाई पत्रकारहरूलाई चुह...\n",
       "732      IRS सँग स्वास्थ्य सेवालाई अस्वीकार गर्ने वा ढि...\n",
       "3685     मेरी ल्यान्ड्रीउले तपाईंको बन्दुक अधिकार खोस्न...\n",
       "6494     कोरी स्टीवर्ट नोभेम्बर 2006 मा अध्यक्ष बनेदेखि...\n",
       "7685     गर्भावस्थाको आठौंदेखि दशौं हप्तामा सोनोग्राम आ...\n",
       "6702     हाम्रो औसत निजी क्षेत्रका कर्मचारीहरूले आफ्नो ...\n",
       "1821     मार्को रुबियो भन्छन् कि अपराधीहरूले उनीहरूको म...\n",
       "10225    (मेरो कार्यकालको) सबैभन्दा गर्वको उपलब्धि भनेक...\n",
       "2355     जोन म्याककेनले भनेका छन् कि अर्थव्यवस्था \"उनको...\n",
       "7088     अब धेरैजसो अमेरिकीहरू हाम्रा बच्चाहरूको भविष्य...\n",
       "1397     स्वास्थ्य हेरचाह कानूनको कारण, 2017 सम्म, हामी...\n",
       "2029     शर्ली शेरोडले यस बारे फक्समा कसैले एक शब्द बोल...\n",
       "7842     विगत तीन वर्षमा संघीय खर्च २१ प्रतिशतले बढेको ...\n",
       "5936     कांग्रेसमा हुँदा, नाथन डील एक नेता थिए जब यो ह...\n",
       "6762     एनआरएका सदस्यहरू समेत, भर्खरै मतदान गर्दा, सबै...\n",
       "Name: translated_value, dtype: object"
      ]
     },
     "execution_count": 16,
     "metadata": {},
     "output_type": "execute_result"
    }
   ],
   "source": [
    "random['translated_value']"
   ]
  },
  {
   "cell_type": "code",
   "execution_count": 17,
   "id": "21009c17",
   "metadata": {
    "execution": {
     "iopub.execute_input": "2023-05-18T06:04:19.543392Z",
     "iopub.status.busy": "2023-05-18T06:04:19.542533Z",
     "iopub.status.idle": "2023-05-18T06:04:37.027348Z",
     "shell.execute_reply": "2023-05-18T06:04:37.026143Z"
    },
    "papermill": {
     "duration": 17.501939,
     "end_time": "2023-05-18T06:04:37.030296",
     "exception": false,
     "start_time": "2023-05-18T06:04:19.528357",
     "status": "completed"
    },
    "tags": []
   },
   "outputs": [],
   "source": [
    "random['retranslated_value'] = random['translated_value'].apply(lambda x: GoogleTranslator(source='auto', target='en').translate(x))\n"
   ]
  },
  {
   "cell_type": "code",
   "execution_count": 18,
   "id": "19831d19",
   "metadata": {
    "execution": {
     "iopub.execute_input": "2023-05-18T06:04:37.057754Z",
     "iopub.status.busy": "2023-05-18T06:04:37.057152Z",
     "iopub.status.idle": "2023-05-18T06:04:37.064295Z",
     "shell.execute_reply": "2023-05-18T06:04:37.063234Z"
    },
    "papermill": {
     "duration": 0.023406,
     "end_time": "2023-05-18T06:04:37.066482",
     "exception": false,
     "start_time": "2023-05-18T06:04:37.043076",
     "status": "completed"
    },
    "tags": []
   },
   "outputs": [
    {
     "data": {
      "text/plain": [
       "'Here in Virginia, we have the opportunity to be the first state on the East Coast to explore and produce offshore oil and natural gas.'"
      ]
     },
     "execution_count": 18,
     "metadata": {},
     "output_type": "execute_result"
    }
   ],
   "source": [
    "random['retranslated_value'].iloc[0]"
   ]
  },
  {
   "cell_type": "code",
   "execution_count": 19,
   "id": "11dbeb88",
   "metadata": {
    "execution": {
     "iopub.execute_input": "2023-05-18T06:04:37.094643Z",
     "iopub.status.busy": "2023-05-18T06:04:37.094034Z",
     "iopub.status.idle": "2023-05-18T06:04:37.100507Z",
     "shell.execute_reply": "2023-05-18T06:04:37.099573Z"
    },
    "papermill": {
     "duration": 0.02301,
     "end_time": "2023-05-18T06:04:37.102569",
     "exception": false,
     "start_time": "2023-05-18T06:04:37.079559",
     "status": "completed"
    },
    "tags": []
   },
   "outputs": [
    {
     "data": {
      "text/plain": [
       "'Texas ranks third in teen pregnancies... and it is No. 1 in repeat teen pregnancies.'"
      ]
     },
     "execution_count": 19,
     "metadata": {},
     "output_type": "execute_result"
    }
   ],
   "source": [
    "random['statement'].iloc[2]"
   ]
  },
  {
   "cell_type": "code",
   "execution_count": 20,
   "id": "f6b837e7",
   "metadata": {
    "execution": {
     "iopub.execute_input": "2023-05-18T06:04:37.130186Z",
     "iopub.status.busy": "2023-05-18T06:04:37.129510Z",
     "iopub.status.idle": "2023-05-18T06:04:37.136150Z",
     "shell.execute_reply": "2023-05-18T06:04:37.134913Z"
    },
    "papermill": {
     "duration": 0.022843,
     "end_time": "2023-05-18T06:04:37.138218",
     "exception": false,
     "start_time": "2023-05-18T06:04:37.115375",
     "status": "completed"
    },
    "tags": []
   },
   "outputs": [
    {
     "name": "stdout",
     "output_type": "stream",
     "text": [
      "Texas ranks third in teen pregnancies... and it is No. 1 in repeat teen pregnancies. \n",
      " टेक्सास किशोर गर्भावस्थामा तेस्रो स्थानमा छ... र यो दोहोरिने किशोर गर्भावस्थामा नम्बर 1 हो। \n",
      " Texas ranks 3rd in teen pregnancies... and it's No. 1 in repeat teen pregnancies.\n"
     ]
    }
   ],
   "source": [
    "index=2\n",
    "print(random['statement'].iloc[index], \"\\n\", random['translated_value'].iloc[index], \"\\n\",\n",
    "random[\"retranslated_value\"].iloc[index])"
   ]
  },
  {
   "cell_type": "code",
   "execution_count": 21,
   "id": "b912efcc",
   "metadata": {
    "execution": {
     "iopub.execute_input": "2023-05-18T06:04:37.166894Z",
     "iopub.status.busy": "2023-05-18T06:04:37.166243Z",
     "iopub.status.idle": "2023-05-18T06:04:37.172862Z",
     "shell.execute_reply": "2023-05-18T06:04:37.171617Z"
    },
    "papermill": {
     "duration": 0.023639,
     "end_time": "2023-05-18T06:04:37.175065",
     "exception": false,
     "start_time": "2023-05-18T06:04:37.151426",
     "status": "completed"
    },
    "tags": []
   },
   "outputs": [
    {
     "name": "stdout",
     "output_type": "stream",
     "text": [
      "Says President Barack Obama has amended, delayed, or repealed 19 components of his very own (health care) law. \n",
      " राष्ट्रपति बराक ओबामाले आफ्नो आफ्नै (स्वास्थ्य हेरचाह) कानूनको 19 भागहरू परिमार्जन, ढिलाइ वा खारेज गरेको बताउँछन्। \n",
      " President Barack Obama says he has modified, delayed or repealed 19 pieces of his own (health care) law.\n"
     ]
    }
   ],
   "source": [
    "index=3\n",
    "print(random['statement'].iloc[index], \"\\n\", random['translated_value'].iloc[index], \"\\n\",\n",
    "random[\"retranslated_value\"].iloc[index])"
   ]
  },
  {
   "cell_type": "code",
   "execution_count": null,
   "id": "4bf271fe",
   "metadata": {
    "papermill": {
     "duration": 0.012613,
     "end_time": "2023-05-18T06:04:37.200685",
     "exception": false,
     "start_time": "2023-05-18T06:04:37.188072",
     "status": "completed"
    },
    "tags": []
   },
   "outputs": [],
   "source": []
  },
  {
   "cell_type": "code",
   "execution_count": 22,
   "id": "ab11681c",
   "metadata": {
    "execution": {
     "iopub.execute_input": "2023-05-18T06:04:37.228533Z",
     "iopub.status.busy": "2023-05-18T06:04:37.227916Z",
     "iopub.status.idle": "2023-05-18T06:04:37.335542Z",
     "shell.execute_reply": "2023-05-18T06:04:37.334373Z"
    },
    "papermill": {
     "duration": 0.124435,
     "end_time": "2023-05-18T06:04:37.338057",
     "exception": false,
     "start_time": "2023-05-18T06:04:37.213622",
     "status": "completed"
    },
    "tags": []
   },
   "outputs": [
    {
     "data": {
      "text/plain": [
       "'1919 मा थप किफायती'"
      ]
     },
     "execution_count": 22,
     "metadata": {},
     "output_type": "execute_result"
    }
   ],
   "source": [
    "GoogleTranslator(source='auto', target='ne').translate('1919 मा थप किफायती')"
   ]
  },
  {
   "cell_type": "code",
   "execution_count": 23,
   "id": "54bcc3a6",
   "metadata": {
    "execution": {
     "iopub.execute_input": "2023-05-18T06:04:37.366783Z",
     "iopub.status.busy": "2023-05-18T06:04:37.366371Z",
     "iopub.status.idle": "2023-05-18T06:04:50.448812Z",
     "shell.execute_reply": "2023-05-18T06:04:50.447527Z"
    },
    "papermill": {
     "duration": 13.099606,
     "end_time": "2023-05-18T06:04:50.451367",
     "exception": false,
     "start_time": "2023-05-18T06:04:37.351761",
     "status": "completed"
    },
    "tags": []
   },
   "outputs": [
    {
     "name": "stdout",
     "output_type": "stream",
     "text": [
      "Collecting inflect\r\n",
      "  Downloading inflect-6.0.4-py3-none-any.whl (34 kB)\r\n",
      "Requirement already satisfied: pydantic>=1.9.1 in /opt/conda/lib/python3.10/site-packages (from inflect) (1.10.7)\r\n",
      "Requirement already satisfied: typing-extensions>=4.2.0 in /opt/conda/lib/python3.10/site-packages (from pydantic>=1.9.1->inflect) (4.5.0)\r\n",
      "Installing collected packages: inflect\r\n",
      "Successfully installed inflect-6.0.4\r\n",
      "\u001b[33mWARNING: Running pip as the 'root' user can result in broken permissions and conflicting behaviour with the system package manager. It is recommended to use a virtual environment instead: https://pip.pypa.io/warnings/venv\u001b[0m\u001b[33m\r\n",
      "\u001b[0m"
     ]
    }
   ],
   "source": [
    "!pip install inflect\n"
   ]
  },
  {
   "cell_type": "code",
   "execution_count": 24,
   "id": "281eab8c",
   "metadata": {
    "execution": {
     "iopub.execute_input": "2023-05-18T06:04:50.482211Z",
     "iopub.status.busy": "2023-05-18T06:04:50.481370Z",
     "iopub.status.idle": "2023-05-18T06:04:50.823328Z",
     "shell.execute_reply": "2023-05-18T06:04:50.822202Z"
    },
    "papermill": {
     "duration": 0.360056,
     "end_time": "2023-05-18T06:04:50.825655",
     "exception": false,
     "start_time": "2023-05-18T06:04:50.465599",
     "status": "completed"
    },
    "tags": []
   },
   "outputs": [
    {
     "data": {
      "text/plain": [
       "'हामी, संयुक्त राज्य अमेरिकाका विशपहरू - के तपाइँ यसलाई विश्वास गर्न सक्नुहुन्छ - अधिक किफायती, थप व्यापक, अधिक विश्वव्यापी स्वास्थ्य सेवाको लागि एक हजार, नौ सय उन्नाइसमा बाहिर आयो।'"
      ]
     },
     "execution_count": 24,
     "metadata": {},
     "output_type": "execute_result"
    }
   ],
   "source": [
    "from deep_translator import GoogleTranslator\n",
    "import inflect\n",
    "\n",
    "def translate(text, target_lang):\n",
    "    # Convert numbers to text using the inflect library\n",
    "    p = inflect.engine()\n",
    "    words = text.split()\n",
    "    for i, word in enumerate(words):\n",
    "        if word.isnumeric():\n",
    "            words[i] = p.number_to_words(word)\n",
    "    text = ' '.join(words)\n",
    "    \n",
    "    # Translate the text using GoogleTranslator\n",
    "    translated_text = GoogleTranslator(source='auto', target=target_lang).translate(text)\n",
    "    \n",
    "    return translated_text\n",
    "\n",
    "translate(\"We, the bishops of the United States—can you believe it—came out in 1919 for more affordable, more comprehensive, more universal health care\",'ne')\n"
   ]
  },
  {
   "cell_type": "code",
   "execution_count": 25,
   "id": "c8325a49",
   "metadata": {
    "execution": {
     "iopub.execute_input": "2023-05-18T06:04:50.855053Z",
     "iopub.status.busy": "2023-05-18T06:04:50.854638Z",
     "iopub.status.idle": "2023-05-18T06:05:04.312816Z",
     "shell.execute_reply": "2023-05-18T06:05:04.311642Z"
    },
    "papermill": {
     "duration": 13.475997,
     "end_time": "2023-05-18T06:05:04.315643",
     "exception": false,
     "start_time": "2023-05-18T06:04:50.839646",
     "status": "completed"
    },
    "tags": []
   },
   "outputs": [
    {
     "name": "stdout",
     "output_type": "stream",
     "text": [
      "Collecting num2words\r\n",
      "  Downloading num2words-0.5.12-py3-none-any.whl (125 kB)\r\n",
      "\u001b[2K     \u001b[90m━━━━━━━━━━━━━━━━━━━━━━━━━━━━━━━━━━━━━━━\u001b[0m \u001b[32m125.2/125.2 kB\u001b[0m \u001b[31m4.5 MB/s\u001b[0m eta \u001b[36m0:00:00\u001b[0m\r\n",
      "\u001b[?25hRequirement already satisfied: docopt>=0.6.2 in /opt/conda/lib/python3.10/site-packages (from num2words) (0.6.2)\r\n",
      "Installing collected packages: num2words\r\n",
      "Successfully installed num2words-0.5.12\r\n",
      "\u001b[33mWARNING: Running pip as the 'root' user can result in broken permissions and conflicting behaviour with the system package manager. It is recommended to use a virtual environment instead: https://pip.pypa.io/warnings/venv\u001b[0m\u001b[33m\r\n",
      "\u001b[0m"
     ]
    }
   ],
   "source": [
    "!pip install num2words"
   ]
  },
  {
   "cell_type": "code",
   "execution_count": 26,
   "id": "fc4cd803",
   "metadata": {
    "execution": {
     "iopub.execute_input": "2023-05-18T06:05:04.346722Z",
     "iopub.status.busy": "2023-05-18T06:05:04.346308Z",
     "iopub.status.idle": "2023-05-18T06:05:06.772465Z",
     "shell.execute_reply": "2023-05-18T06:05:06.770950Z"
    },
    "papermill": {
     "duration": 2.445189,
     "end_time": "2023-05-18T06:05:06.775412",
     "exception": false,
     "start_time": "2023-05-18T06:05:04.330223",
     "status": "completed"
    },
    "tags": []
   },
   "outputs": [
    {
     "data": {
      "text/plain": [
       "'We, the bishops of the United States—can you believe it—came out in nineteen nineteen for more affordable, more comprehensive, more universal health care.'"
      ]
     },
     "execution_count": 26,
     "metadata": {},
     "output_type": "execute_result"
    }
   ],
   "source": [
    "from deep_translator import GoogleTranslator\n",
    "from num2words import num2words\n",
    "\n",
    "def translate_with_numbers(text, target_lang, reverse=False):\n",
    "    if not reverse:\n",
    "        # Split the sentence into words\n",
    "        words = text.split()\n",
    "\n",
    "        # Convert any numeric words to text using the num2words library\n",
    "        for i, word in enumerate(words):\n",
    "            if word.isnumeric():\n",
    "                words[i] = num2words(int(word), lang='hi')\n",
    "\n",
    "        # Join the words back into a sentence and translate it using GoogleTranslator\n",
    "        modified_text = ' '.join(words)\n",
    "        translated_text = GoogleTranslator(source='auto', target=target_lang).translate(modified_text)\n",
    "\n",
    "        return translated_text\n",
    "    else:\n",
    "        # Translate the text back to the original language\n",
    "        translated_text = GoogleTranslator(source=target_lang, target='en').translate(text)\n",
    "\n",
    "        # Replace any numeric text with their corresponding numerical values\n",
    "        words = translated_text.split()\n",
    "        for i, word in enumerate(words):\n",
    "            try:\n",
    "                numeric_value = int(num2words(word, lang='en'))\n",
    "                words[i] = str(numeric_value)\n",
    "            except ValueError:\n",
    "                pass\n",
    "\n",
    "        # Join the words back into a sentence and return it\n",
    "        modified_text = ' '.join(words)\n",
    "        return modified_text\n",
    "\n",
    "translate_with_numbers('हामी, संयुक्त राज्य अमेरिकाका विशपहरू - के तपाइँ यसलाई विश्वास गर्न सक्नुहुन्छ - अधिक किफायती, थप व्यापक, अधिक विश्वव्यापी स्वास्थ्य सेवाको लागि एक हजार, नौ सय उन्नाइसमा बाहिर आयो।','en')"
   ]
  },
  {
   "cell_type": "code",
   "execution_count": 27,
   "id": "4e4c38e8",
   "metadata": {
    "execution": {
     "iopub.execute_input": "2023-05-18T06:05:06.806327Z",
     "iopub.status.busy": "2023-05-18T06:05:06.805858Z",
     "iopub.status.idle": "2023-05-18T06:05:06.813984Z",
     "shell.execute_reply": "2023-05-18T06:05:06.812824Z"
    },
    "papermill": {
     "duration": 0.026178,
     "end_time": "2023-05-18T06:05:06.816121",
     "exception": false,
     "start_time": "2023-05-18T06:05:06.789943",
     "status": "completed"
    },
    "tags": []
   },
   "outputs": [
    {
     "data": {
      "text/plain": [
       "'We the bishops of the United States—can you believe it—came out in nineteen nineteen for more affordable more comprehensive more universal health care'"
      ]
     },
     "execution_count": 27,
     "metadata": {},
     "output_type": "execute_result"
    }
   ],
   "source": [
    "import string\n",
    "\n",
    "def removepunctuation(sentence):\n",
    "  #iterate over every single character to see if it is a punctuation or not, and then concatenate them using \"join\"\n",
    "   punctuationfree=\"\".join([i for i in sentence if i not in string.punctuation])\n",
    "   return punctuationfree\n",
    "\n",
    "removepunctuation('We, the bishops of the United States—can you believe it—came out in nineteen nineteen for more affordable, more comprehensive, more universal health care.')"
   ]
  },
  {
   "cell_type": "code",
   "execution_count": null,
   "id": "8427a920",
   "metadata": {
    "papermill": {
     "duration": 0.014259,
     "end_time": "2023-05-18T06:05:06.844683",
     "exception": false,
     "start_time": "2023-05-18T06:05:06.830424",
     "status": "completed"
    },
    "tags": []
   },
   "outputs": [],
   "source": []
  },
  {
   "cell_type": "code",
   "execution_count": null,
   "id": "d211893d",
   "metadata": {
    "papermill": {
     "duration": 0.014197,
     "end_time": "2023-05-18T06:05:06.873392",
     "exception": false,
     "start_time": "2023-05-18T06:05:06.859195",
     "status": "completed"
    },
    "tags": []
   },
   "outputs": [],
   "source": []
  },
  {
   "cell_type": "code",
   "execution_count": 28,
   "id": "1bd76dec",
   "metadata": {
    "execution": {
     "iopub.execute_input": "2023-05-18T06:05:06.904730Z",
     "iopub.status.busy": "2023-05-18T06:05:06.903709Z",
     "iopub.status.idle": "2023-05-18T06:05:06.913205Z",
     "shell.execute_reply": "2023-05-18T06:05:06.911955Z"
    },
    "papermill": {
     "duration": 0.027545,
     "end_time": "2023-05-18T06:05:06.915504",
     "exception": false,
     "start_time": "2023-05-18T06:05:06.887959",
     "status": "completed"
    },
    "tags": []
   },
   "outputs": [
    {
     "data": {
      "text/plain": [
       "'We the bishops of the United States can you believe it came out in nineteen nineteen for more affordable more comprehensive more universal health care'"
      ]
     },
     "execution_count": 28,
     "metadata": {},
     "output_type": "execute_result"
    }
   ],
   "source": [
    "import string\n",
    "\n",
    "def removepunctuation(sentence):\n",
    "   new_text = sentence.replace(\"—\", \" \") # \"—\" in the text was not equivalent to \"-\" so we replcaed \"—\" with a space\n",
    "   print \n",
    "  #iterate over every single character to see if it is a punctuation or not, and then concatenate them using \"join\"\n",
    "   punctuationfree=\"\".join([i for i in new_text if i not in string.punctuation])\n",
    "   return punctuationfree\n",
    "\n",
    "removepunctuation('We, the bishops of the United States—can you believe it—came out in nineteen nineteen for more affordable, more comprehensive, more universal health care.')\n"
   ]
  },
  {
   "cell_type": "code",
   "execution_count": null,
   "id": "4211f701",
   "metadata": {
    "papermill": {
     "duration": 0.014118,
     "end_time": "2023-05-18T06:05:06.944132",
     "exception": false,
     "start_time": "2023-05-18T06:05:06.930014",
     "status": "completed"
    },
    "tags": []
   },
   "outputs": [],
   "source": []
  },
  {
   "cell_type": "code",
   "execution_count": null,
   "id": "71916524",
   "metadata": {
    "papermill": {
     "duration": 0.013984,
     "end_time": "2023-05-18T06:05:06.972657",
     "exception": false,
     "start_time": "2023-05-18T06:05:06.958673",
     "status": "completed"
    },
    "tags": []
   },
   "outputs": [],
   "source": []
  }
 ],
 "metadata": {
  "kernelspec": {
   "display_name": "Python 3",
   "language": "python",
   "name": "python3"
  },
  "language_info": {
   "codemirror_mode": {
    "name": "ipython",
    "version": 3
   },
   "file_extension": ".py",
   "mimetype": "text/x-python",
   "name": "python",
   "nbconvert_exporter": "python",
   "pygments_lexer": "ipython3",
   "version": "3.10.10"
  },
  "papermill": {
   "default_parameters": {},
   "duration": 95.67876,
   "end_time": "2023-05-18T06:05:10.564533",
   "environment_variables": {},
   "exception": null,
   "input_path": "__notebook__.ipynb",
   "output_path": "__notebook__.ipynb",
   "parameters": {},
   "start_time": "2023-05-18T06:03:34.885773",
   "version": "2.4.0"
  }
 },
 "nbformat": 4,
 "nbformat_minor": 5
}
